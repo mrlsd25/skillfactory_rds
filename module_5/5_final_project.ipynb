{
 "cells": [
  {
   "cell_type": "markdown",
   "metadata": {},
   "source": [
    "# Проект \"Компьютер говорит Нет\"\n",
    "\n",
    "### В этом соревновании необходимо предсказать допустит ли потенциальный заемщик дефолт.\n",
    "\n",
    "В ходе реализации проекта:\n",
    "- Создадим скоринговую модель предсказания дефолта клиентов банка.\n",
    "- Поучаствуем в хакатоне.\n",
    "- По доброй традиции обогатим своё портфолио!"
   ]
  },
  {
   "cell_type": "markdown",
   "metadata": {},
   "source": [
    "### IMPORT"
   ]
  },
  {
   "cell_type": "code",
   "execution_count": 187,
   "metadata": {
    "_cell_guid": "b1076dfc-b9ad-4769-8c92-a6c4dae69d19",
    "_uuid": "8f2839f25d086af736a60e9eeb907d3b93b6e0e5",
    "execution": {
     "iopub.execute_input": "2021-12-12T17:38:55.463133Z",
     "iopub.status.busy": "2021-12-12T17:38:55.462755Z",
     "iopub.status.idle": "2021-12-12T17:38:55.478903Z",
     "shell.execute_reply": "2021-12-12T17:38:55.477872Z",
     "shell.execute_reply.started": "2021-12-12T17:38:55.463092Z"
    }
   },
   "outputs": [],
   "source": [
    "# This Python 3 environment comes with many helpful analytics libraries installed\n",
    "# It is defined by the kaggle/python Docker image: https://github.com/kaggle/docker-python\n",
    "# For example, here's several helpful packages to load\n",
    "\n",
    "import numpy as np\n",
    "import pandas as pd\n",
    "\n",
    "import seaborn as sns\n",
    "import matplotlib.pyplot as plt\n",
    "\n",
    "from sklearn.neighbors import KNeighborsClassifier as KNN\n",
    "from sklearn.feature_selection import f_classif, mutual_info_classif\n",
    "from sklearn.preprocessing import StandardScaler, OneHotEncoder\n",
    "from sklearn.linear_model import LogisticRegression\n",
    "from sklearn.metrics import confusion_matrix, roc_curve, roc_auc_score, classification_report, f1_score\n",
    "from sklearn.model_selection import train_test_split, GridSearchCV\n",
    "from sklearn import metrics # инструменты для оценки точности модели\n",
    "\n",
    "from imblearn.over_sampling import SMOTE\n",
    "\n",
    "from sklearn import preprocessing\n",
    "\n",
    "import warnings\n",
    "\n",
    "# Input data files are available in the read-only \"../input/\" directory\n",
    "# For example, running this (by clicking run or pressing Shift+Enter) will list all files under the input directory\n",
    "\n",
    "import os\n",
    "for dirname, _, filenames in os.walk('/kaggle/input'):\n",
    "    for filename in filenames:\n",
    "        print(os.path.join(dirname, filename))\n",
    "\n",
    "# You can write up to 20GB to the current directory (/kaggle/working/) that gets preserved as output when you create a version using \"Save & Run All\" \n",
    "# You can also write temporary files to /kaggle/temp/, but they won't be saved outside of the current session"
   ]
  },
  {
   "cell_type": "markdown",
   "metadata": {},
   "source": [
    "### DATA"
   ]
  },
  {
   "cell_type": "code",
   "execution_count": 188,
   "metadata": {
    "execution": {
     "iopub.execute_input": "2021-12-12T17:38:55.481598Z",
     "iopub.status.busy": "2021-12-12T17:38:55.480809Z",
     "iopub.status.idle": "2021-12-12T17:38:55.699785Z",
     "shell.execute_reply": "2021-12-12T17:38:55.698778Z",
     "shell.execute_reply.started": "2021-12-12T17:38:55.481564Z"
    }
   },
   "outputs": [],
   "source": [
    "DATA_DIR = '/kaggle/input/sf-scoring/'\n",
    "df_train = pd.read_csv(DATA_DIR +'/train.csv')\n",
    "df_test = pd.read_csv(DATA_DIR +'/test.csv')\n",
    "sample_submission = pd.read_csv(DATA_DIR+'/sample_submission.csv')"
   ]
  },
  {
   "cell_type": "code",
   "execution_count": 189,
   "metadata": {
    "execution": {
     "iopub.execute_input": "2021-12-12T17:38:55.701455Z",
     "iopub.status.busy": "2021-12-12T17:38:55.701147Z",
     "iopub.status.idle": "2021-12-12T17:38:58.282633Z",
     "shell.execute_reply": "2021-12-12T17:38:58.281644Z",
     "shell.execute_reply.started": "2021-12-12T17:38:55.701423Z"
    }
   },
   "outputs": [],
   "source": [
    "# зафиксируем версию пакетов, чтобы эксперименты были воспроизводимы:\n",
    "!pip freeze > requirements.txt"
   ]
  },
  {
   "cell_type": "markdown",
   "metadata": {},
   "source": [
    "### Функции предобработка"
   ]
  },
  {
   "cell_type": "code",
   "execution_count": 190,
   "metadata": {
    "execution": {
     "iopub.execute_input": "2021-12-12T17:38:58.284820Z",
     "iopub.status.busy": "2021-12-12T17:38:58.284520Z",
     "iopub.status.idle": "2021-12-12T17:38:58.294302Z",
     "shell.execute_reply": "2021-12-12T17:38:58.293276Z",
     "shell.execute_reply.started": "2021-12-12T17:38:58.284780Z"
    }
   },
   "outputs": [],
   "source": [
    "#Функция первичного осмотра данных. Вход: data - исследуемый датасет, brief_descr - краткое название датасета. Выход: void \n",
    "def first_look(data, brief_descr):\n",
    "    print(brief_descr)\n",
    "    print(\"Размерность: {}\".format(data.shape))\n",
    "    n = 5\n",
    "    print(\"Первые {} строк\".format(n))\n",
    "    display(data.head(n))\n",
    "    print(\"Детальная информация: \")\n",
    "    data.info()\n",
    "    #Проверим на пропуски\n",
    "    for col in data.columns:\n",
    "        if data[col].isnull().any():\n",
    "            print(\"\\n Признак {} содержит пропуски.\".format(col))\n",
    "\n",
    "# Определение min и max для числовых значений. На вход подаем имя столбца, на выходе [min,max]\n",
    "def min_max(column):\n",
    "    IQR = data[column].quantile(0.75) - data[column].quantile(0.25)\n",
    "    minimum = data[column].quantile(0.25) - 1.5*IQR\n",
    "    maximum = data[column].quantile(0.75) + 1.5*IQR\n",
    "    return [minimum, maximum]\n"
   ]
  },
  {
   "cell_type": "markdown",
   "metadata": {},
   "source": [
    "## Первичный осмотр и визуализация"
   ]
  },
  {
   "cell_type": "code",
   "execution_count": 191,
   "metadata": {
    "execution": {
     "iopub.execute_input": "2021-12-12T17:38:58.297579Z",
     "iopub.status.busy": "2021-12-12T17:38:58.296616Z",
     "iopub.status.idle": "2021-12-12T17:38:58.331069Z",
     "shell.execute_reply": "2021-12-12T17:38:58.330194Z",
     "shell.execute_reply.started": "2021-12-12T17:38:58.297537Z"
    }
   },
   "outputs": [],
   "source": [
    "#Образец данных на сабмишн\n",
    "first_look(sample_submission,\"Образец данных на сабмишн\")"
   ]
  },
  {
   "cell_type": "code",
   "execution_count": 192,
   "metadata": {
    "execution": {
     "iopub.execute_input": "2021-12-12T17:38:58.332655Z",
     "iopub.status.busy": "2021-12-12T17:38:58.332338Z",
     "iopub.status.idle": "2021-12-12T17:38:58.414757Z",
     "shell.execute_reply": "2021-12-12T17:38:58.413870Z",
     "shell.execute_reply.started": "2021-12-12T17:38:58.332619Z"
    }
   },
   "outputs": [],
   "source": [
    "#Тестовый датасет\n",
    "first_look(df_test,\"Тестовый датасет\")"
   ]
  },
  {
   "cell_type": "code",
   "execution_count": 193,
   "metadata": {
    "execution": {
     "iopub.execute_input": "2021-12-12T17:38:58.416267Z",
     "iopub.status.busy": "2021-12-12T17:38:58.416012Z",
     "iopub.status.idle": "2021-12-12T17:38:58.549454Z",
     "shell.execute_reply": "2021-12-12T17:38:58.548465Z",
     "shell.execute_reply.started": "2021-12-12T17:38:58.416234Z"
    }
   },
   "outputs": [],
   "source": [
    "#Тренировочный датасет\n",
    "first_look(df_train,\"Тестовый датасет\")"
   ]
  },
  {
   "cell_type": "markdown",
   "metadata": {},
   "source": [
    "Признак education содержит пропуски, которые необходимо будет в дальнейшем устранить.\n",
    "\n",
    "Для корректной обработки признаков, сооберем тестовый и тренировочный датасеты в один."
   ]
  },
  {
   "cell_type": "code",
   "execution_count": 194,
   "metadata": {
    "execution": {
     "iopub.execute_input": "2021-12-12T17:38:58.551694Z",
     "iopub.status.busy": "2021-12-12T17:38:58.551325Z",
     "iopub.status.idle": "2021-12-12T17:38:58.605514Z",
     "shell.execute_reply": "2021-12-12T17:38:58.604610Z",
     "shell.execute_reply.started": "2021-12-12T17:38:58.551658Z"
    }
   },
   "outputs": [],
   "source": [
    "# ВАЖНО! дря корректной обработки признаков объединяем трейн и тест в один датасет\n",
    "df_train['sample'] = 1 # помечаем где у нас трейн\n",
    "df_test['sample'] = 0  # помечаем где у нас тест\n",
    "df_test['default'] = 0 # в тесте у нас нет значения Rating, мы его должны предсказать, по этому пока просто заполняем нулями\n",
    "\n",
    "data = df_test.append(df_train, sort=False).reset_index(drop=True) # объединяем"
   ]
  },
  {
   "cell_type": "code",
   "execution_count": 195,
   "metadata": {
    "execution": {
     "iopub.execute_input": "2021-12-12T17:38:58.607115Z",
     "iopub.status.busy": "2021-12-12T17:38:58.606783Z",
     "iopub.status.idle": "2021-12-12T17:38:58.788429Z",
     "shell.execute_reply": "2021-12-12T17:38:58.787443Z",
     "shell.execute_reply.started": "2021-12-12T17:38:58.607070Z"
    }
   },
   "outputs": [],
   "source": [
    "first_look(data,'Объединенный датасет')"
   ]
  },
  {
   "cell_type": "markdown",
   "metadata": {},
   "source": [
    "#### Краткое описание признаков.\n",
    "- client_id - идентификатор клиента\n",
    "- education - уровень образования\n",
    "- sex - пол заемщика\n",
    "- age - возраст заемщика\n",
    "- car - флаг наличия автомобиля\n",
    "- car_type - флаг автомобиля иномарки\n",
    "- decline_app_cnt - количество отказанных прошлых заявок\n",
    "- good_work - флаг наличия “хорошей” работы\n",
    "- bki_request_cnt - количество запросов в БКИ\n",
    "- home_address - категоризатор домашнего адреса\n",
    "- work_address - категоризатор рабочего адреса\n",
    "- income - доход заемщика\n",
    "- foreign_passport - наличие загранпаспорта\n",
    "- sna - связь заемщика с клиентами банка\n",
    "- first_time - давность наличия информации о заемщике\n",
    "- score_bki - скоринговый балл по данным из БКИ\n",
    "- region_rating - рейтинг региона\n",
    "- app_date - дата подачи заявки\n",
    "- default - флаг дефолта по кредиту\n",
    "\n",
    "Взглянем более детально на признаки."
   ]
  },
  {
   "cell_type": "code",
   "execution_count": 196,
   "metadata": {
    "execution": {
     "iopub.execute_input": "2021-12-12T17:38:58.790264Z",
     "iopub.status.busy": "2021-12-12T17:38:58.789906Z",
     "iopub.status.idle": "2021-12-12T17:38:58.873016Z",
     "shell.execute_reply": "2021-12-12T17:38:58.872059Z",
     "shell.execute_reply.started": "2021-12-12T17:38:58.790209Z"
    }
   },
   "outputs": [],
   "source": [
    "data.nunique(dropna=False)"
   ]
  },
  {
   "cell_type": "markdown",
   "metadata": {},
   "source": [
    "Признаки 'car_type', 'foreign_passport', 'car','good_work','sex' являются бинарным.\n",
    "\n",
    "Признаки 'decline_app_cnt','income','age','score_bki', 'bki_request_cnt' относятся к количественным.\n",
    "\n",
    "Категориальные признаки: 'first_time', 'sna', 'work_address', 'home_address', 'region_rating'.\n",
    "\n",
    "Признак 'education' можно отнести к ординальным. В этом признаке присутствует отношение порядка: школа является более низкой ступенью по отношению к университету, а, например, докторская степень к бакалавру."
   ]
  },
  {
   "cell_type": "code",
   "execution_count": 197,
   "metadata": {
    "execution": {
     "iopub.execute_input": "2021-12-12T17:38:58.875059Z",
     "iopub.status.busy": "2021-12-12T17:38:58.874714Z",
     "iopub.status.idle": "2021-12-12T17:38:58.881268Z",
     "shell.execute_reply": "2021-12-12T17:38:58.880380Z",
     "shell.execute_reply.started": "2021-12-12T17:38:58.875014Z"
    }
   },
   "outputs": [],
   "source": [
    "#Количественные переменные\n",
    "num_cols = [ 'decline_app_cnt','income','age','score_bki', 'bki_request_cnt']\n",
    "\n",
    "#Категориальные переменные\n",
    "cat_cols = [ 'first_time', 'sna', 'work_address', 'home_address', 'region_rating']\n",
    "\n",
    "#Бинарные категориальные переменные\n",
    "bin_cols = [ 'car_type', 'foreign_passport', 'car','good_work','sex']#\n",
    "\n",
    "#Ординальные переменные\n",
    "ord_cols = ['education']"
   ]
  },
  {
   "cell_type": "markdown",
   "metadata": {},
   "source": [
    "Взглянем на целевую переменную."
   ]
  },
  {
   "cell_type": "code",
   "execution_count": 198,
   "metadata": {
    "execution": {
     "iopub.execute_input": "2021-12-12T17:38:58.883176Z",
     "iopub.status.busy": "2021-12-12T17:38:58.882825Z",
     "iopub.status.idle": "2021-12-12T17:38:59.079864Z",
     "shell.execute_reply": "2021-12-12T17:38:59.079027Z",
     "shell.execute_reply.started": "2021-12-12T17:38:58.883142Z"
    }
   },
   "outputs": [],
   "source": [
    "data['default'].value_counts(ascending=True).plot(kind='barh')\n",
    "print(\"Баланс классов целевой переменной\")\n",
    "print(data['default'].value_counts()/data['default'].shape[0])"
   ]
  },
  {
   "cell_type": "markdown",
   "metadata": {},
   "source": [
    "Выборка сильно несбалансирована. Соотношение классов примерно 1 к 9 в пользу надежных заемщиков. Дисбаланс классов может стать причиной проблем при обучении модели."
   ]
  },
  {
   "cell_type": "markdown",
   "metadata": {},
   "source": [
    "### Очистка данных"
   ]
  },
  {
   "cell_type": "markdown",
   "metadata": {},
   "source": [
    "Столбцы 'client_id','app_date' не несут полезной нагрузки. Поэтому удаляем их."
   ]
  },
  {
   "cell_type": "code",
   "execution_count": 199,
   "metadata": {
    "execution": {
     "iopub.execute_input": "2021-12-12T17:38:59.081831Z",
     "iopub.status.busy": "2021-12-12T17:38:59.081518Z",
     "iopub.status.idle": "2021-12-12T17:38:59.095661Z",
     "shell.execute_reply": "2021-12-12T17:38:59.094727Z",
     "shell.execute_reply.started": "2021-12-12T17:38:59.081789Z"
    }
   },
   "outputs": [],
   "source": [
    "data.drop(['client_id','app_date'], axis = 1, inplace=True)"
   ]
  },
  {
   "cell_type": "markdown",
   "metadata": {},
   "source": [
    "Переведем значения бинарных столбцов из буквенных в численные значения."
   ]
  },
  {
   "cell_type": "code",
   "execution_count": 200,
   "metadata": {
    "execution": {
     "iopub.execute_input": "2021-12-12T17:38:59.099909Z",
     "iopub.status.busy": "2021-12-12T17:38:59.099333Z",
     "iopub.status.idle": "2021-12-12T17:38:59.287780Z",
     "shell.execute_reply": "2021-12-12T17:38:59.286830Z",
     "shell.execute_reply.started": "2021-12-12T17:38:59.099874Z"
    }
   },
   "outputs": [],
   "source": [
    "le = preprocessing.LabelEncoder()\n",
    "\n",
    "for column in bin_cols:\n",
    "    data[column] = le.fit_transform(data[column])\n",
    "    \n",
    "columns = ['first_time', 'sna', 'work_address', 'home_address', 'region_rating']\n",
    "\n",
    "for column in columns:\n",
    "    data[column] = le.fit_transform(data[column])"
   ]
  },
  {
   "cell_type": "markdown",
   "metadata": {
    "execution": {
     "iopub.execute_input": "2021-12-04T23:46:39.142319Z",
     "iopub.status.busy": "2021-12-04T23:46:39.141953Z",
     "iopub.status.idle": "2021-12-04T23:46:39.149643Z",
     "shell.execute_reply": "2021-12-04T23:46:39.148197Z",
     "shell.execute_reply.started": "2021-12-04T23:46:39.142285Z"
    }
   },
   "source": [
    "### Заполнение пропусков\n",
    "Для того, чтоб заполнить пропуски в переменной education, воспользуемся методом k-ближайших соседей.\n",
    "Признак education можно считать ординальным, так как он отражает ступени образования.\n",
    "- SCH - общая школа\n",
    "- URG - бакалавры\n",
    "- GRD - высшая школа\n",
    "- PGR - аспиратнтура, кандидатская\n",
    "- ACD - академия, докторская\n",
    "- UNK - пропуск данных"
   ]
  },
  {
   "cell_type": "code",
   "execution_count": 201,
   "metadata": {
    "execution": {
     "iopub.execute_input": "2021-12-12T17:38:59.289373Z",
     "iopub.status.busy": "2021-12-12T17:38:59.289148Z",
     "iopub.status.idle": "2021-12-12T17:38:59.369867Z",
     "shell.execute_reply": "2021-12-12T17:38:59.368919Z",
     "shell.execute_reply.started": "2021-12-12T17:38:59.289347Z"
    }
   },
   "outputs": [],
   "source": [
    "#заполняем пропуски значением UNK\n",
    "data['education'].fillna('UNK', inplace=True)\n",
    "\n",
    "#словарь замены значений Education в числовые\n",
    "dict_replace = {\"UGR\": 2, \"SCH\": 1, \"GRD\" : 3, \"PGR\": 4, \"ACD\": 5, \"UNK\": -1}\n",
    "\n",
    "#меняем значения на числовые\n",
    "data['education'] = data['education'].apply(lambda x: dict_replace[x])"
   ]
  },
  {
   "cell_type": "code",
   "execution_count": 202,
   "metadata": {
    "execution": {
     "iopub.execute_input": "2021-12-12T17:38:59.371741Z",
     "iopub.status.busy": "2021-12-12T17:38:59.371456Z",
     "iopub.status.idle": "2021-12-12T17:38:59.401014Z",
     "shell.execute_reply": "2021-12-12T17:38:59.399986Z",
     "shell.execute_reply.started": "2021-12-12T17:38:59.371709Z"
    }
   },
   "outputs": [],
   "source": [
    "#Выделим данные без пропусков для обучения и данные с пропусками для последующего заполнения\n",
    "data_train = data[data.education > -1].copy()\n",
    "data_edu_void = data[data.education == -1].copy()\n",
    "\n",
    "#Выделим обучабщие признаки и таргет. Из предикторов исключим \"education\", как целевой,'sample' как неинформативный, \n",
    "#default - для избежания загрязнения целевой переменной.\n",
    "X1 = data_train.drop(columns=['education','sample','default'])\n",
    "Y1 = data_train['education']"
   ]
  },
  {
   "cell_type": "code",
   "execution_count": 203,
   "metadata": {
    "execution": {
     "iopub.execute_input": "2021-12-12T17:38:59.403021Z",
     "iopub.status.busy": "2021-12-12T17:38:59.402378Z",
     "iopub.status.idle": "2021-12-12T17:39:00.262912Z",
     "shell.execute_reply": "2021-12-12T17:39:00.262245Z",
     "shell.execute_reply.started": "2021-12-12T17:38:59.402981Z"
    }
   },
   "outputs": [],
   "source": [
    "#создадим модель kNN и обучим ее\n",
    "model_knn = KNN(n_neighbors=5)\n",
    "model_knn.fit(X1,Y1)\n",
    "\n",
    "#Заменим пропущенные значение, предсказанными моделью \n",
    "data_edu_void['education'] = model_knn.predict(data_edu_void.drop(columns=['education','default','sample']))\n",
    "\n",
    "#Заменим пропуски (-1) в исходном датасете, на полученные из модели.\n",
    "data['education'].update(data_edu_void['education'])"
   ]
  },
  {
   "cell_type": "code",
   "execution_count": 204,
   "metadata": {
    "execution": {
     "iopub.execute_input": "2021-12-12T17:39:00.265164Z",
     "iopub.status.busy": "2021-12-12T17:39:00.264492Z",
     "iopub.status.idle": "2021-12-12T17:39:00.283193Z",
     "shell.execute_reply": "2021-12-12T17:39:00.282547Z",
     "shell.execute_reply.started": "2021-12-12T17:39:00.265117Z"
    }
   },
   "outputs": [],
   "source": [
    "data.info()"
   ]
  },
  {
   "cell_type": "markdown",
   "metadata": {},
   "source": [
    "Мы получили датасет, заполненный исключительно числовыми значениями. Теперь можно построить наивную модель для получения базовой метрики, на которую в дальнейшем можно будет ориентироваться."
   ]
  },
  {
   "cell_type": "markdown",
   "metadata": {},
   "source": [
    "## НАИВНАЯ МОДЕЛЬ"
   ]
  },
  {
   "cell_type": "code",
   "execution_count": 205,
   "metadata": {
    "execution": {
     "iopub.execute_input": "2021-12-12T17:39:00.285145Z",
     "iopub.status.busy": "2021-12-12T17:39:00.284645Z",
     "iopub.status.idle": "2021-12-12T17:39:00.325332Z",
     "shell.execute_reply": "2021-12-12T17:39:00.324394Z",
     "shell.execute_reply.started": "2021-12-12T17:39:00.285090Z"
    }
   },
   "outputs": [],
   "source": [
    "# Выделим тестовую часть\n",
    "train_data = data.query('sample == 1').drop(['sample'], axis=1)\n",
    "test_data = data.query('sample == 0').drop(['sample', 'default'], axis=1)\n",
    "\n",
    "y = train_data['default'].values  # наш таргет\n",
    "X = train_data.drop(['default'], axis=1)\n",
    "# выделим 20% данных на валидацию (параметр test_size)\n",
    "X_train, X_test, y_train, y_test = train_test_split(X, y, test_size=0.2, random_state=42)"
   ]
  },
  {
   "cell_type": "markdown",
   "metadata": {},
   "source": [
    "Создадим экземпляр модели логистической регрессии без каких-либо параметров, кроме max_iter."
   ]
  },
  {
   "cell_type": "code",
   "execution_count": 206,
   "metadata": {
    "execution": {
     "iopub.execute_input": "2021-12-12T17:39:00.327033Z",
     "iopub.status.busy": "2021-12-12T17:39:00.326760Z",
     "iopub.status.idle": "2021-12-12T17:39:00.660432Z",
     "shell.execute_reply": "2021-12-12T17:39:00.659444Z",
     "shell.execute_reply.started": "2021-12-12T17:39:00.327003Z"
    }
   },
   "outputs": [],
   "source": [
    "logreg_naive = LogisticRegression(max_iter=1000)\n",
    "logreg_naive.fit(X_train, y_train)\n",
    "y_pred = logreg_naive.predict(X_test)"
   ]
  },
  {
   "cell_type": "markdown",
   "metadata": {},
   "source": [
    "Выведем отчет о метриках. Нас будет интересоваться F1 на классе 1."
   ]
  },
  {
   "cell_type": "code",
   "execution_count": 207,
   "metadata": {
    "execution": {
     "iopub.execute_input": "2021-12-12T17:39:00.663167Z",
     "iopub.status.busy": "2021-12-12T17:39:00.662170Z",
     "iopub.status.idle": "2021-12-12T17:39:00.708675Z",
     "shell.execute_reply": "2021-12-12T17:39:00.707795Z",
     "shell.execute_reply.started": "2021-12-12T17:39:00.663112Z"
    }
   },
   "outputs": [],
   "source": [
    "cl_rp = classification_report(y_test, y_pred)\n",
    "print(cl_rp)"
   ]
  },
  {
   "cell_type": "code",
   "execution_count": 208,
   "metadata": {
    "execution": {
     "iopub.execute_input": "2021-12-12T17:39:00.710933Z",
     "iopub.status.busy": "2021-12-12T17:39:00.710288Z",
     "iopub.status.idle": "2021-12-12T17:39:01.009478Z",
     "shell.execute_reply": "2021-12-12T17:39:01.008640Z",
     "shell.execute_reply.started": "2021-12-12T17:39:00.710877Z"
    }
   },
   "outputs": [],
   "source": [
    "#Строим confusion matrix\n",
    "ax = sns.heatmap(confusion_matrix(y_test, y_pred), annot=True, cmap='Blues')\n",
    "ax.set_title('Seaborn Confusion Matrix with labels')\n",
    "ax.set_xlabel('Predicted Values')\n",
    "ax.set_ylabel('Actual Values ')\n",
    "ax.xaxis.set_ticklabels(['False','True'])\n",
    "ax.yaxis.set_ticklabels(['False','True'])\n",
    "plt.show()"
   ]
  },
  {
   "cell_type": "markdown",
   "metadata": {},
   "source": [
    "Из-за сильного дисбаланса классов, а также неподготовленных данных, модель абсолютно бесполезна - она всегда предсказывает, что клиент не является дефолтным."
   ]
  },
  {
   "cell_type": "markdown",
   "metadata": {},
   "source": [
    "## Разведывательный анализ"
   ]
  },
  {
   "cell_type": "markdown",
   "metadata": {},
   "source": [
    "### Визуализация\n",
    "Построим графики распределения количественных переменных."
   ]
  },
  {
   "cell_type": "code",
   "execution_count": 209,
   "metadata": {
    "execution": {
     "iopub.execute_input": "2021-12-12T17:39:01.010987Z",
     "iopub.status.busy": "2021-12-12T17:39:01.010720Z",
     "iopub.status.idle": "2021-12-12T17:39:02.688947Z",
     "shell.execute_reply": "2021-12-12T17:39:02.688268Z",
     "shell.execute_reply.started": "2021-12-12T17:39:01.010937Z"
    }
   },
   "outputs": [],
   "source": [
    "for i in num_cols:\n",
    "    plt.figure()\n",
    "    sns.distplot(data[i].dropna(), kde = False, rug=False)\n",
    "    plt.title(i)\n",
    "    plt.show()"
   ]
  },
  {
   "cell_type": "markdown",
   "metadata": {},
   "source": [
    "Можно увидеть, что большая часть переменных имеет выраженный правый хвост.\n",
    "Прологарифируем количественные значения для того, чтоб сделать распределения более нормальными. Кроме score_bki, который уже и так вполне себе \"колокол\" (похож на нормальное распределение)."
   ]
  },
  {
   "cell_type": "code",
   "execution_count": 210,
   "metadata": {
    "execution": {
     "iopub.execute_input": "2021-12-12T17:39:02.690501Z",
     "iopub.status.busy": "2021-12-12T17:39:02.689937Z",
     "iopub.status.idle": "2021-12-12T17:39:04.977882Z",
     "shell.execute_reply": "2021-12-12T17:39:04.977118Z",
     "shell.execute_reply.started": "2021-12-12T17:39:02.690469Z"
    }
   },
   "outputs": [],
   "source": [
    "#Логирифмируем переменные и строим новые графики\n",
    "for i in num_cols:\n",
    "    if i == 'score_bki': continue\n",
    "        \n",
    "    data[i] = data[i].apply(lambda x: np.log(abs(x)+1))\n",
    "    plt.figure()\n",
    "    sns.distplot(data[i][data[i] > 0], kde = False, rug=False)\n",
    "    plt.title(i)\n",
    "    plt.show()"
   ]
  },
  {
   "cell_type": "markdown",
   "metadata": {},
   "source": [
    "### Матрица корреляций\n",
    "Построим матрицу корреляций между количественными признаками"
   ]
  },
  {
   "cell_type": "code",
   "execution_count": 211,
   "metadata": {
    "execution": {
     "iopub.execute_input": "2021-12-12T17:39:04.979312Z",
     "iopub.status.busy": "2021-12-12T17:39:04.979110Z",
     "iopub.status.idle": "2021-12-12T17:39:05.330427Z",
     "shell.execute_reply": "2021-12-12T17:39:05.329601Z",
     "shell.execute_reply.started": "2021-12-12T17:39:04.979287Z"
    }
   },
   "outputs": [],
   "source": [
    "sns.heatmap(data[num_cols+ord_cols].corr().abs(), vmin=0, vmax=1)"
   ]
  },
  {
   "cell_type": "markdown",
   "metadata": {},
   "source": [
    "Средняя корреляция наблюдается между образованием и уровнем дохода. Но это вполне естественно.\n",
    "\n",
    "В остальном сильных взаимосвязей между непрерывными переменными нет. Удалять ничего не приедтся."
   ]
  },
  {
   "cell_type": "markdown",
   "metadata": {},
   "source": [
    "### Значимость количественных переменных\n",
    "\n",
    "Оценим значимость количественных переменных с помощью f_classif."
   ]
  },
  {
   "cell_type": "code",
   "execution_count": 212,
   "metadata": {
    "execution": {
     "iopub.execute_input": "2021-12-12T17:39:05.331842Z",
     "iopub.status.busy": "2021-12-12T17:39:05.331647Z",
     "iopub.status.idle": "2021-12-12T17:39:05.558308Z",
     "shell.execute_reply": "2021-12-12T17:39:05.557385Z",
     "shell.execute_reply.started": "2021-12-12T17:39:05.331817Z"
    }
   },
   "outputs": [],
   "source": [
    "imp_num = pd.Series(f_classif(data[num_cols+ord_cols], data['default'])[0], index = num_cols + ord_cols)\n",
    "imp_num.sort_values(inplace = True)\n",
    "imp_num.plot(kind = 'barh')\n",
    "display(imp_num)"
   ]
  },
  {
   "cell_type": "markdown",
   "metadata": {},
   "source": [
    "Судя по отчету, возраст и доход оказывают слабое влияние на вероятность дефолта. Можно будет попробовать убрать малозначимые признаки при поиске оптимального набора в финальный датасет."
   ]
  },
  {
   "cell_type": "markdown",
   "metadata": {},
   "source": [
    "### Значимость категориальных переменных"
   ]
  },
  {
   "cell_type": "markdown",
   "metadata": {},
   "source": [
    "Для оценки значимости категориальных и бинарных переменных будем использовать функцию mutual_info_classif из библиотеки sklearn."
   ]
  },
  {
   "cell_type": "code",
   "execution_count": 213,
   "metadata": {
    "execution": {
     "iopub.execute_input": "2021-12-12T17:39:05.560263Z",
     "iopub.status.busy": "2021-12-12T17:39:05.559922Z",
     "iopub.status.idle": "2021-12-12T17:39:05.974877Z",
     "shell.execute_reply": "2021-12-12T17:39:05.974008Z",
     "shell.execute_reply.started": "2021-12-12T17:39:05.560218Z"
    }
   },
   "outputs": [],
   "source": [
    "imp_cat = pd.Series(mutual_info_classif(data[bin_cols + cat_cols], data['default'],\n",
    "                                     discrete_features =True), index = bin_cols + cat_cols)\n",
    "imp_cat.sort_values(inplace = True)\n",
    "imp_cat.plot(kind = 'barh')\n",
    "display(imp_cat)"
   ]
  },
  {
   "cell_type": "markdown",
   "metadata": {},
   "source": [
    "Похоже, что пол, наличие хорошей работы и автомобиля не являются определяющими."
   ]
  },
  {
   "cell_type": "markdown",
   "metadata": {},
   "source": [
    "### Поиск и устранение вылетов\n",
    "\n",
    "Ввиду того, что логистическая регрессия чувствительна к вылетам, необходимо произвести их поиск и устранение.\n",
    "\n",
    "Для начала построим боксплоты."
   ]
  },
  {
   "cell_type": "code",
   "execution_count": 214,
   "metadata": {
    "execution": {
     "iopub.execute_input": "2021-12-12T17:39:05.976901Z",
     "iopub.status.busy": "2021-12-12T17:39:05.976598Z",
     "iopub.status.idle": "2021-12-12T17:39:07.764926Z",
     "shell.execute_reply": "2021-12-12T17:39:07.763975Z",
     "shell.execute_reply.started": "2021-12-12T17:39:05.976857Z"
    }
   },
   "outputs": [],
   "source": [
    "for i in num_cols:\n",
    "    data[[i]].boxplot()\n",
    "    plt.show()"
   ]
  },
  {
   "cell_type": "markdown",
   "metadata": {},
   "source": [
    "Кроме признака age, все остальные содержат аномальные выбросы.\n",
    "\n",
    "Рассмотрим каждый признак отдельно."
   ]
  },
  {
   "cell_type": "markdown",
   "metadata": {},
   "source": [
    "**decline_app_cnt**"
   ]
  },
  {
   "cell_type": "code",
   "execution_count": 215,
   "metadata": {
    "execution": {
     "iopub.execute_input": "2021-12-12T17:39:07.767181Z",
     "iopub.status.busy": "2021-12-12T17:39:07.766555Z",
     "iopub.status.idle": "2021-12-12T17:39:07.779430Z",
     "shell.execute_reply": "2021-12-12T17:39:07.778475Z",
     "shell.execute_reply.started": "2021-12-12T17:39:07.767120Z"
    }
   },
   "outputs": [],
   "source": [
    "data['decline_app_cnt'].value_counts()"
   ]
  },
  {
   "cell_type": "markdown",
   "metadata": {},
   "source": [
    "Признак можно перекодировать в ординальный. 0 = 0; значения больше ноля, но меньше 1 = 1; все остальное 2."
   ]
  },
  {
   "cell_type": "code",
   "execution_count": 216,
   "metadata": {
    "execution": {
     "iopub.execute_input": "2021-12-12T17:39:07.781329Z",
     "iopub.status.busy": "2021-12-12T17:39:07.780770Z",
     "iopub.status.idle": "2021-12-12T17:39:07.874419Z",
     "shell.execute_reply": "2021-12-12T17:39:07.873383Z",
     "shell.execute_reply.started": "2021-12-12T17:39:07.781292Z"
    }
   },
   "outputs": [],
   "source": [
    "data['decline_app_cnt'] = data['decline_app_cnt'].apply(lambda x: 0 if x == 0 else 1 if 0 < x < 1 else 2)\n",
    "num_cols.remove('decline_app_cnt')\n",
    "ord_cols.append('decline_app_cnt')"
   ]
  },
  {
   "cell_type": "markdown",
   "metadata": {},
   "source": [
    "**bki_request_cnt**\n",
    "\n"
   ]
  },
  {
   "cell_type": "code",
   "execution_count": 217,
   "metadata": {
    "execution": {
     "iopub.execute_input": "2021-12-12T17:39:07.876053Z",
     "iopub.status.busy": "2021-12-12T17:39:07.875776Z",
     "iopub.status.idle": "2021-12-12T17:39:07.887180Z",
     "shell.execute_reply": "2021-12-12T17:39:07.886234Z",
     "shell.execute_reply.started": "2021-12-12T17:39:07.876022Z"
    }
   },
   "outputs": [],
   "source": [
    "data['bki_request_cnt'].value_counts()"
   ]
  },
  {
   "cell_type": "markdown",
   "metadata": {},
   "source": [
    "Перекодируем признак в ординальный с разбиением по квартилям 20%, 40%, 60% и 80%."
   ]
  },
  {
   "cell_type": "code",
   "execution_count": 218,
   "metadata": {
    "execution": {
     "iopub.execute_input": "2021-12-12T17:39:07.889060Z",
     "iopub.status.busy": "2021-12-12T17:39:07.888793Z",
     "iopub.status.idle": "2021-12-12T17:39:08.082076Z",
     "shell.execute_reply": "2021-12-12T17:39:08.081210Z",
     "shell.execute_reply.started": "2021-12-12T17:39:07.889029Z"
    }
   },
   "outputs": [],
   "source": [
    "quantiles = []\n",
    "for q in [0.2,0.4,0.6,0.8]:\n",
    "    quantiles.append(data['bki_request_cnt'].quantile(q))\n",
    "    \n",
    "data['bki_request_cnt'] = data['bki_request_cnt'].apply(lambda x: 0 if x <= quantiles[0] else 1 if quantiles[0] < x <= quantiles[1] else \n",
    "                                                       2 if quantiles[1] < x <= quantiles[2] else 3 if quantiles[2] < x <= quantiles[3] else 4)\n",
    "   \n",
    "num_cols.remove('bki_request_cnt')\n",
    "ord_cols.append('bki_request_cnt')"
   ]
  },
  {
   "cell_type": "markdown",
   "metadata": {},
   "source": [
    "**score_bki, income**\n",
    "\n",
    "Заменим вылеты в этих признаках на пограничные значения 1,5 IQR."
   ]
  },
  {
   "cell_type": "code",
   "execution_count": 219,
   "metadata": {
    "execution": {
     "iopub.execute_input": "2021-12-12T17:39:08.083766Z",
     "iopub.status.busy": "2021-12-12T17:39:08.083414Z",
     "iopub.status.idle": "2021-12-12T17:39:08.375720Z",
     "shell.execute_reply": "2021-12-12T17:39:08.374766Z",
     "shell.execute_reply.started": "2021-12-12T17:39:08.083733Z"
    }
   },
   "outputs": [],
   "source": [
    "for col in num_cols:\n",
    "    #Получаем минимальные и максимальные значения 1,5*IQR\n",
    "    minimum,maximum = min_max(col)\n",
    "    \n",
    "    data[col] = data[col].apply(lambda x: minimum if x < minimum else maximum if x > maximum else x)"
   ]
  },
  {
   "cell_type": "markdown",
   "metadata": {},
   "source": [
    "Проверим, что получилось после устранения вылетов."
   ]
  },
  {
   "cell_type": "code",
   "execution_count": 220,
   "metadata": {
    "execution": {
     "iopub.execute_input": "2021-12-12T17:39:08.377479Z",
     "iopub.status.busy": "2021-12-12T17:39:08.377208Z",
     "iopub.status.idle": "2021-12-12T17:39:09.570271Z",
     "shell.execute_reply": "2021-12-12T17:39:09.569435Z",
     "shell.execute_reply.started": "2021-12-12T17:39:08.377439Z"
    }
   },
   "outputs": [],
   "source": [
    "for i in num_cols:\n",
    "    data[[i]].boxplot()\n",
    "    plt.show()"
   ]
  },
  {
   "cell_type": "markdown",
   "metadata": {},
   "source": [
    "## Преобразование переменных"
   ]
  },
  {
   "cell_type": "code",
   "execution_count": 221,
   "metadata": {
    "execution": {
     "iopub.execute_input": "2021-12-12T17:39:09.571872Z",
     "iopub.status.busy": "2021-12-12T17:39:09.571648Z",
     "iopub.status.idle": "2021-12-12T17:39:09.586533Z",
     "shell.execute_reply": "2021-12-12T17:39:09.585924Z",
     "shell.execute_reply.started": "2021-12-12T17:39:09.571846Z"
    }
   },
   "outputs": [],
   "source": [
    "#Стандартизируем числовые переменные\n",
    "Scaler = StandardScaler()\n",
    "Scaler.fit(data[num_cols])\n",
    "data[num_cols] = Scaler.transform(data[num_cols].values)\n"
   ]
  },
  {
   "cell_type": "code",
   "execution_count": 222,
   "metadata": {
    "execution": {
     "iopub.execute_input": "2021-12-12T17:39:09.588222Z",
     "iopub.status.busy": "2021-12-12T17:39:09.587599Z",
     "iopub.status.idle": "2021-12-12T17:39:09.682300Z",
     "shell.execute_reply": "2021-12-12T17:39:09.681490Z",
     "shell.execute_reply.started": "2021-12-12T17:39:09.588191Z"
    }
   },
   "outputs": [],
   "source": [
    "#Преобразуем категориальные переменные с помощью OneHotEncoder\n",
    "X_cat = OneHotEncoder(sparse = False).fit_transform(data[cat_cols])\n",
    "data = pd.concat([data,pd.DataFrame(X_cat)],axis=1)\n",
    "\n",
    "#Удаляем преобразованные категориальные переменные из датасета\n",
    "data.drop(columns=cat_cols, inplace=True)"
   ]
  },
  {
   "cell_type": "markdown",
   "metadata": {},
   "source": [
    "Получили подготовленный датасет."
   ]
  },
  {
   "cell_type": "code",
   "execution_count": 223,
   "metadata": {
    "execution": {
     "iopub.execute_input": "2021-12-12T17:39:09.684168Z",
     "iopub.status.busy": "2021-12-12T17:39:09.683716Z",
     "iopub.status.idle": "2021-12-12T17:39:09.705841Z",
     "shell.execute_reply": "2021-12-12T17:39:09.705010Z",
     "shell.execute_reply.started": "2021-12-12T17:39:09.684137Z"
    }
   },
   "outputs": [],
   "source": [
    "data.info()"
   ]
  },
  {
   "cell_type": "markdown",
   "metadata": {},
   "source": [
    "## Построение моделей\n",
    "\n",
    "Данные обработаны. Теперь необходимо построить модель и поэкспериментировать."
   ]
  },
  {
   "cell_type": "code",
   "execution_count": 224,
   "metadata": {
    "execution": {
     "iopub.execute_input": "2021-12-12T17:39:09.707481Z",
     "iopub.status.busy": "2021-12-12T17:39:09.707266Z",
     "iopub.status.idle": "2021-12-12T17:39:09.711563Z",
     "shell.execute_reply": "2021-12-12T17:39:09.711011Z",
     "shell.execute_reply.started": "2021-12-12T17:39:09.707455Z"
    }
   },
   "outputs": [],
   "source": [
    "#Добавляем фиктивный столбец с единицами\n",
    "data['ones'] =  pd.Series(np.ones(data.shape[0]))"
   ]
  },
  {
   "cell_type": "code",
   "execution_count": 225,
   "metadata": {
    "execution": {
     "iopub.execute_input": "2021-12-12T17:39:09.712773Z",
     "iopub.status.busy": "2021-12-12T17:39:09.712554Z",
     "iopub.status.idle": "2021-12-12T17:39:09.768548Z",
     "shell.execute_reply": "2021-12-12T17:39:09.767893Z",
     "shell.execute_reply.started": "2021-12-12T17:39:09.712745Z"
    }
   },
   "outputs": [],
   "source": [
    "# Теперь выделим тестовую часть\n",
    "train_data = data.query('sample == 1').drop(['sample'], axis=1)\n",
    "test_data = data.query('sample == 0').drop(['sample', 'default'], axis=1)\n",
    "\n",
    "y = train_data['default'].values  # наш таргет\n",
    "X = train_data.drop(['default'], axis=1)"
   ]
  },
  {
   "cell_type": "code",
   "execution_count": 226,
   "metadata": {
    "execution": {
     "iopub.execute_input": "2021-12-12T17:39:09.770819Z",
     "iopub.status.busy": "2021-12-12T17:39:09.770092Z",
     "iopub.status.idle": "2021-12-12T17:39:09.796206Z",
     "shell.execute_reply": "2021-12-12T17:39:09.795012Z",
     "shell.execute_reply.started": "2021-12-12T17:39:09.770767Z"
    }
   },
   "outputs": [],
   "source": [
    "# выделим 20% данных на валидацию (параметр test_size)\n",
    "X_train, X_test, y_train, y_test = train_test_split(X, y, test_size=0.2, random_state=42)"
   ]
  },
  {
   "cell_type": "code",
   "execution_count": 227,
   "metadata": {
    "execution": {
     "iopub.execute_input": "2021-12-12T17:39:09.801198Z",
     "iopub.status.busy": "2021-12-12T17:39:09.800900Z",
     "iopub.status.idle": "2021-12-12T17:39:09.807093Z",
     "shell.execute_reply": "2021-12-12T17:39:09.806485Z",
     "shell.execute_reply.started": "2021-12-12T17:39:09.801163Z"
    }
   },
   "outputs": [],
   "source": [
    "# проверяем\n",
    "X_train.shape, X_test.shape, y_train.shape, y_test.shape"
   ]
  },
  {
   "cell_type": "code",
   "execution_count": 228,
   "metadata": {
    "execution": {
     "iopub.execute_input": "2021-12-12T17:39:09.808914Z",
     "iopub.status.busy": "2021-12-12T17:39:09.808318Z",
     "iopub.status.idle": "2021-12-12T17:39:11.573122Z",
     "shell.execute_reply": "2021-12-12T17:39:11.572126Z",
     "shell.execute_reply.started": "2021-12-12T17:39:09.808876Z"
    }
   },
   "outputs": [],
   "source": [
    "#Строим модель\n",
    "logreg = LogisticRegression(max_iter=1000)\n",
    "logreg.fit(X_train, y_train)\n",
    "y_pred = logreg.predict(X_test)"
   ]
  },
  {
   "cell_type": "code",
   "execution_count": 229,
   "metadata": {
    "execution": {
     "iopub.execute_input": "2021-12-12T17:39:11.575952Z",
     "iopub.status.busy": "2021-12-12T17:39:11.574969Z",
     "iopub.status.idle": "2021-12-12T17:39:11.621389Z",
     "shell.execute_reply": "2021-12-12T17:39:11.620471Z",
     "shell.execute_reply.started": "2021-12-12T17:39:11.575898Z"
    }
   },
   "outputs": [],
   "source": [
    "#Выводим метрики.\n",
    "cl_rp = classification_report(y_test, y_pred)\n",
    "print(cl_rp)\n"
   ]
  },
  {
   "cell_type": "markdown",
   "metadata": {},
   "source": [
    "Показатель F1 для класса 1 стал 0.04 (был 0). Прогресс хоть и небольшой, но есть. Попробуем определить гиперпараметры, для повышения точности."
   ]
  },
  {
   "cell_type": "markdown",
   "metadata": {},
   "source": [
    "### Гиперпараметры."
   ]
  },
  {
   "cell_type": "code",
   "execution_count": 230,
   "metadata": {
    "_kg_hide-input": true,
    "_kg_hide-output": true,
    "execution": {
     "iopub.execute_input": "2021-12-12T17:39:11.624136Z",
     "iopub.status.busy": "2021-12-12T17:39:11.623424Z",
     "iopub.status.idle": "2021-12-12T17:40:24.625807Z",
     "shell.execute_reply": "2021-12-12T17:40:24.625057Z",
     "shell.execute_reply.started": "2021-12-12T17:39:11.624082Z"
    }
   },
   "outputs": [],
   "source": [
    "# запускаем GridSearch на небольшом кол-ве итераций max_iter=50 и с достаточно большой дельтой останова tol1e-3\n",
    "# чтобы получить оптимальные параметры модели в первом приближении\n",
    "model = LogisticRegression()\n",
    "\n",
    "iter_ = 50\n",
    "epsilon_stop = 1e-3\n",
    "\n",
    "param_grid = [\n",
    "    {'penalty': ['l1'], \n",
    "     'solver': ['liblinear', 'lbfgs'], \n",
    "     'class_weight':[None, 'balanced'], \n",
    "     'multi_class': ['auto','ovr'], \n",
    "     'max_iter':[iter_],\n",
    "     'tol':[epsilon_stop]},\n",
    "    {'penalty': ['l2'], \n",
    "     'solver': ['newton-cg', 'lbfgs', 'liblinear', 'sag', 'saga'], \n",
    "     'class_weight':[None, 'balanced'], \n",
    "     'multi_class': ['auto','ovr'], \n",
    "     'max_iter':[iter_],\n",
    "     'tol':[epsilon_stop]},\n",
    "    {'penalty': ['none'], \n",
    "     'solver': ['newton-cg', 'lbfgs', 'sag', 'saga'], \n",
    "     'class_weight':[None, 'balanced'], \n",
    "     'multi_class': ['auto','ovr'], \n",
    "     'max_iter':[iter_],\n",
    "     'tol':[epsilon_stop]},\n",
    "]\n",
    "\n",
    "    \n",
    "## model - модель логистической регрессии\n",
    "gridsearch = GridSearchCV(model, param_grid, scoring='f1', n_jobs=-1, cv=5)\n",
    "gridsearch.fit(X_train, y_train)\n",
    "model = gridsearch.best_estimator_\n"
   ]
  },
  {
   "cell_type": "code",
   "execution_count": 231,
   "metadata": {
    "execution": {
     "iopub.execute_input": "2021-12-12T17:40:24.627731Z",
     "iopub.status.busy": "2021-12-12T17:40:24.627470Z",
     "iopub.status.idle": "2021-12-12T17:40:24.634808Z",
     "shell.execute_reply": "2021-12-12T17:40:24.633985Z",
     "shell.execute_reply.started": "2021-12-12T17:40:24.627695Z"
    }
   },
   "outputs": [],
   "source": [
    "##печатаем параметры\n",
    "best_parameters = model.get_params()\n",
    "for param_name in sorted(best_parameters.keys()):\n",
    "        print('\\t%s: %r' % (param_name, best_parameters[param_name]))"
   ]
  },
  {
   "cell_type": "code",
   "execution_count": 232,
   "metadata": {
    "execution": {
     "iopub.execute_input": "2021-12-12T17:40:24.636636Z",
     "iopub.status.busy": "2021-12-12T17:40:24.636240Z",
     "iopub.status.idle": "2021-12-12T17:40:25.919588Z",
     "shell.execute_reply": "2021-12-12T17:40:25.918681Z",
     "shell.execute_reply.started": "2021-12-12T17:40:24.636590Z"
    }
   },
   "outputs": [],
   "source": [
    "#Обучаем модель с полученными гиперпараметрами.\n",
    "logreg = LogisticRegression(C = 1.0, class_weight = 'balanced', dual = False, fit_intercept = True, intercept_scaling = 1,\n",
    "                            l1_ratio = None, multi_class = 'auto', n_jobs = None, penalty = \"l2\", tol = 0.001, \n",
    "                            max_iter=1000,solver='newton-cg', warm_start = False)\n",
    "logreg.fit(X_train, y_train)\n",
    "y_pred = logreg.predict(X_test)\n",
    "\n",
    "#Выводим метрики\n",
    "cl_rp = classification_report(y_test, y_pred)\n",
    "print(cl_rp)"
   ]
  },
  {
   "cell_type": "markdown",
   "metadata": {},
   "source": [
    "Метрика F1 для класса 1 выросла до 0.34, учитывая дисбаланс классов, не так уж и плохо."
   ]
  },
  {
   "cell_type": "markdown",
   "metadata": {},
   "source": [
    "### Оверсемплинг\n",
    "\n",
    "В датасете наблюдается дисбаланс классов. Попробуем с помощью метода SMOTE синтезировать экземпляры класса 1 для того, чтоб уравнять классы."
   ]
  },
  {
   "cell_type": "code",
   "execution_count": 233,
   "metadata": {
    "execution": {
     "iopub.execute_input": "2021-12-12T17:40:25.922338Z",
     "iopub.status.busy": "2021-12-12T17:40:25.921390Z",
     "iopub.status.idle": "2021-12-12T17:40:28.093871Z",
     "shell.execute_reply": "2021-12-12T17:40:28.093182Z",
     "shell.execute_reply.started": "2021-12-12T17:40:25.922285Z"
    }
   },
   "outputs": [],
   "source": [
    "#Попробуем оверсемплинг на тренировочном наборе\n",
    "sm = SMOTE(random_state=42)\n",
    "X_train_samp, y_train_samp = sm.fit_resample(X_train, y_train)"
   ]
  },
  {
   "cell_type": "code",
   "execution_count": 234,
   "metadata": {
    "execution": {
     "iopub.execute_input": "2021-12-12T17:40:28.095952Z",
     "iopub.status.busy": "2021-12-12T17:40:28.095639Z",
     "iopub.status.idle": "2021-12-12T17:40:28.108614Z",
     "shell.execute_reply": "2021-12-12T17:40:28.105415Z",
     "shell.execute_reply.started": "2021-12-12T17:40:28.095911Z"
    }
   },
   "outputs": [],
   "source": [
    "#Посмотрим на баланс классов после оверсемплинга\n",
    "class_balance = pd.Series(y_train_samp).value_counts()/pd.Series(y_train_samp).shape[0]\n",
    "print(class_balance)"
   ]
  },
  {
   "cell_type": "code",
   "execution_count": 235,
   "metadata": {
    "execution": {
     "iopub.execute_input": "2021-12-12T17:40:28.110419Z",
     "iopub.status.busy": "2021-12-12T17:40:28.110153Z",
     "iopub.status.idle": "2021-12-12T17:40:30.574526Z",
     "shell.execute_reply": "2021-12-12T17:40:30.573528Z",
     "shell.execute_reply.started": "2021-12-12T17:40:28.110376Z"
    }
   },
   "outputs": [],
   "source": [
    "#Обучаем модель на оверсемплированном датасете\n",
    "logreg_samp = LogisticRegression(C = 1.0, class_weight = 'balanced', dual = False, fit_intercept = True, intercept_scaling = 1,\n",
    "                            l1_ratio = None, multi_class = 'auto', n_jobs = None, penalty = \"l2\", tol = 0.001, \n",
    "                            max_iter=1000,solver='newton-cg', warm_start = False)\n",
    "logreg_samp.fit(X_train_samp, y_train_samp)\n",
    "y_pred = logreg_samp.predict(X_test)"
   ]
  },
  {
   "cell_type": "code",
   "execution_count": 236,
   "metadata": {
    "execution": {
     "iopub.execute_input": "2021-12-12T17:40:30.577081Z",
     "iopub.status.busy": "2021-12-12T17:40:30.576333Z",
     "iopub.status.idle": "2021-12-12T17:40:30.629673Z",
     "shell.execute_reply": "2021-12-12T17:40:30.628793Z",
     "shell.execute_reply.started": "2021-12-12T17:40:30.577030Z"
    }
   },
   "outputs": [],
   "source": [
    "print(classification_report(y_test,y_pred))"
   ]
  },
  {
   "cell_type": "markdown",
   "metadata": {},
   "source": [
    "Оверсемплинг ухудшил целевую метрику. Применять его не имеет смысла."
   ]
  },
  {
   "cell_type": "markdown",
   "metadata": {},
   "source": [
    "### Удаление малозначимых признаков\n",
    "\n",
    "Попробуем удалить малозначимые количественные и категориальные признаки из датасета и посмотрим, как это повлияет на целевую метрику.\n",
    "\n",
    "Среди количественных малозначимыми оказались 'age' и 'income', среди категориальных - 'sex', 'car', 'good_work'."
   ]
  },
  {
   "cell_type": "code",
   "execution_count": 237,
   "metadata": {
    "execution": {
     "iopub.execute_input": "2021-12-12T17:40:30.631897Z",
     "iopub.status.busy": "2021-12-12T17:40:30.631327Z",
     "iopub.status.idle": "2021-12-12T17:40:36.924400Z",
     "shell.execute_reply": "2021-12-12T17:40:36.923498Z",
     "shell.execute_reply.started": "2021-12-12T17:40:30.631851Z"
    }
   },
   "outputs": [],
   "source": [
    "#Список признаков на исключение\n",
    "rem_cols = ['age','income','sex','car','good_work']\n",
    "\n",
    "#модель для проверки удаления малозначимых признаков\n",
    "logreg_insign_remove = LogisticRegression(C = 1.0, class_weight = 'balanced', dual = False, fit_intercept = True, intercept_scaling = 1,\n",
    "                            l1_ratio = None, multi_class = 'auto', n_jobs = None, penalty = \"l2\", tol = 0.001, \n",
    "                            max_iter=1000,solver='newton-cg', warm_start = False)\n",
    "\n",
    "#Прогоним модель поочередно исключая каждый из малозначимых признаков + в конце исключим все.\n",
    "for col in rem_cols:\n",
    "    #Удаляем признак\n",
    "    X_insign_rem_train = X_train.drop(columns=[col])\n",
    "    X_insign_rem_test = X_test.drop(columns=[col])\n",
    "    \n",
    "    #Обучаем модель\n",
    "    logreg_insign_remove.fit(X_insign_rem_train,y_train)\n",
    "    y_isnign_pred = logreg_insign_remove.predict(X_insign_rem_test)\n",
    "    \n",
    "    print(\"Удален признак {}. F1-score: {}\".format(col,\n",
    "                                                    round(f1_score(y_test,y_isnign_pred),4)))\n",
    "\n",
    "#Пробуем удалить все признаки сразу.\n",
    "X_insign_rem_train = X_train.drop(columns=rem_cols)\n",
    "X_insign_rem_test = X_test.drop(columns=rem_cols)\n",
    "    \n",
    "#Обучаем модель\n",
    "logreg_insign_remove.fit(X_insign_rem_train,y_train)\n",
    "y_isnign_pred = logreg_insign_remove.predict(X_insign_rem_test)\n",
    "    \n",
    "print(\"Удален признак {}. F1-score: {}\".format(rem_cols,\n",
    "                                                round(f1_score(y_test,y_isnign_pred),4)))"
   ]
  },
  {
   "cell_type": "markdown",
   "metadata": {},
   "source": [
    "Удаление признаков не оказывает положительного эффекта на целевую метрику."
   ]
  },
  {
   "cell_type": "markdown",
   "metadata": {},
   "source": [
    "## Оценка модели\n",
    "\n",
    "Лучшим показателем F1 обладает модель, сохраняющая все признаки для обучения и применяющая гиперпараметры. Ее и будем считать финальной.\n",
    "\n",
    "Итоговый показатель метрики F1 составляет 0.34, что весьма мало, но, вероятно, является близким к пределу ввиду сильной несбалансированности классов в исходном датасете, а также сильной схожести классов (\"смешанности классов\").\n",
    "\n",
    "Также за кадром были опробованы генерация полиномиальных признаков - она не дала прироста метрики; отключение обработки выбросов количественных признаков давало прирост 0,002 к метрике F1, но ввиду того, что мы используем L2-регуляризацию, выбросы в реальных условиях могут оказать отрицательное влияние и снизить качество модели, поэтому их обработку решено было оставить."
   ]
  },
  {
   "cell_type": "markdown",
   "metadata": {},
   "source": [
    "## Отправка результатов"
   ]
  },
  {
   "cell_type": "code",
   "execution_count": 238,
   "metadata": {
    "execution": {
     "iopub.execute_input": "2021-12-12T17:40:36.926767Z",
     "iopub.status.busy": "2021-12-12T17:40:36.926172Z",
     "iopub.status.idle": "2021-12-12T17:40:39.085788Z",
     "shell.execute_reply": "2021-12-12T17:40:39.084989Z",
     "shell.execute_reply.started": "2021-12-12T17:40:36.926721Z"
    }
   },
   "outputs": [],
   "source": [
    "# если качество нас устраивает, обучаем финальную модель на всех обучающи данных\n",
    "logreg_final = LogisticRegression(C = 1.0, class_weight = 'balanced', dual = False, fit_intercept = True, intercept_scaling = 1,\n",
    "                            l1_ratio = None, multi_class = 'auto', n_jobs = None, penalty = \"l2\", tol = 0.001, \n",
    "                            max_iter=1000,solver='newton-cg', warm_start = False)\n",
    "logreg_final.fit(X, y)"
   ]
  },
  {
   "cell_type": "code",
   "execution_count": 239,
   "metadata": {
    "execution": {
     "iopub.execute_input": "2021-12-12T17:40:39.088109Z",
     "iopub.status.busy": "2021-12-12T17:40:39.087536Z",
     "iopub.status.idle": "2021-12-12T17:40:39.101200Z",
     "shell.execute_reply": "2021-12-12T17:40:39.100258Z",
     "shell.execute_reply.started": "2021-12-12T17:40:39.088065Z"
    }
   },
   "outputs": [],
   "source": [
    "predict_submission = logreg_final.predict(test_data)"
   ]
  },
  {
   "cell_type": "code",
   "execution_count": 240,
   "metadata": {
    "execution": {
     "iopub.execute_input": "2021-12-12T17:40:39.103693Z",
     "iopub.status.busy": "2021-12-12T17:40:39.102995Z",
     "iopub.status.idle": "2021-12-12T17:40:39.235949Z",
     "shell.execute_reply": "2021-12-12T17:40:39.235131Z",
     "shell.execute_reply.started": "2021-12-12T17:40:39.103652Z"
    }
   },
   "outputs": [],
   "source": [
    "sample_submission['default'] = predict_submission\n",
    "sample_submission.to_csv('submission.csv', index=False)\n",
    "sample_submission.head(10)"
   ]
  },
  {
   "cell_type": "code",
   "execution_count": 241,
   "metadata": {
    "execution": {
     "iopub.execute_input": "2021-12-12T17:40:39.238179Z",
     "iopub.status.busy": "2021-12-12T17:40:39.237607Z",
     "iopub.status.idle": "2021-12-12T17:40:39.256654Z",
     "shell.execute_reply": "2021-12-12T17:40:39.255779Z",
     "shell.execute_reply.started": "2021-12-12T17:40:39.238137Z"
    }
   },
   "outputs": [],
   "source": [
    "sample_submission.describe()"
   ]
  },
  {
   "cell_type": "code",
   "execution_count": 242,
   "metadata": {
    "execution": {
     "iopub.execute_input": "2021-12-12T17:40:39.258540Z",
     "iopub.status.busy": "2021-12-12T17:40:39.258221Z",
     "iopub.status.idle": "2021-12-12T17:40:40.365141Z",
     "shell.execute_reply": "2021-12-12T17:40:40.364073Z",
     "shell.execute_reply.started": "2021-12-12T17:40:39.258500Z"
    }
   },
   "outputs": [],
   "source": [
    "!kaggle competitions submit -c sf-scoring -f ssubmission.csv -m \"Message\"\n",
    "# !kaggle competitions submit your-competition-name -f submission.csv -m 'My submission message'"
   ]
  }
 ],
 "metadata": {
  "kernelspec": {
   "display_name": "Python 3 (ipykernel)",
   "language": "python",
   "name": "python3"
  },
  "language_info": {
   "codemirror_mode": {
    "name": "ipython",
    "version": 3
   },
   "file_extension": ".py",
   "mimetype": "text/x-python",
   "name": "python",
   "nbconvert_exporter": "python",
   "pygments_lexer": "ipython3",
   "version": "3.9.7"
  }
 },
 "nbformat": 4,
 "nbformat_minor": 4
}

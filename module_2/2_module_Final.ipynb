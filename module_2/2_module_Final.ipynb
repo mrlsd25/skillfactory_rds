{
 "cells": [
  {
   "cell_type": "markdown",
   "id": "681b5339",
   "metadata": {},
   "source": [
    "# Итоговое задание Юнит 2."
   ]
  },
  {
   "cell_type": "markdown",
   "id": "b7b2a62c",
   "metadata": {},
   "source": [
    "### Цели и задачи.\n",
    "Провести разведывательный анализ данных исходного датасета, содержащего сведения об условии жизни учащихся в возрасте от 15 до 22 лет, и составить отчёт по результатам EDA."
   ]
  },
  {
   "cell_type": "markdown",
   "id": "c7e6b86c",
   "metadata": {},
   "source": [
    "# 0. Подготовка\n",
    "\n",
    "Импортируем необходимые библиотеки и загружаем датасет."
   ]
  },
  {
   "cell_type": "code",
   "execution_count": 1,
   "id": "50cf77f5",
   "metadata": {},
   "outputs": [],
   "source": [
    "import pandas as pd\n",
    "import matplotlib.pyplot as plt\n",
    "import numpy as np\n",
    "import seaborn as sns\n",
    "from itertools import combinations\n",
    "from scipy.stats import ttest_ind\n",
    "from sklearn.experimental import enable_iterative_imputer\n",
    "from sklearn.impute import IterativeImputer\n",
    "from statsmodels.sandbox.stats.multicomp import multipletests\n",
    "\n",
    "# Задаем параметры отображения. Чем больше информации на экране, тем лучше.\n",
    "pd.set_option('display.max_rows', 100)\n",
    "pd.set_option('display.max_columns', 100)\n",
    "pd.set_option('display.width', 500)"
   ]
  },
  {
   "cell_type": "code",
   "execution_count": 2,
   "id": "a92f6bf1",
   "metadata": {},
   "outputs": [],
   "source": [
    "students = pd.read_csv(\n",
    "    r'C:\\Users\\lsdes\\YandexDisk\\SkillFactory\\module_2\\!PROJECT\\stud_math.csv')"
   ]
  },
  {
   "cell_type": "markdown",
   "id": "99a691d6",
   "metadata": {},
   "source": [
    "### Общий обзор данных"
   ]
  },
  {
   "cell_type": "code",
   "execution_count": 3,
   "id": "31b8ff8e",
   "metadata": {},
   "outputs": [
    {
     "data": {
      "text/html": [
       "<div>\n",
       "<style scoped>\n",
       "    .dataframe tbody tr th:only-of-type {\n",
       "        vertical-align: middle;\n",
       "    }\n",
       "\n",
       "    .dataframe tbody tr th {\n",
       "        vertical-align: top;\n",
       "    }\n",
       "\n",
       "    .dataframe thead th {\n",
       "        text-align: right;\n",
       "    }\n",
       "</style>\n",
       "<table border=\"1\" class=\"dataframe\">\n",
       "  <thead>\n",
       "    <tr style=\"text-align: right;\">\n",
       "      <th></th>\n",
       "      <th>school</th>\n",
       "      <th>sex</th>\n",
       "      <th>age</th>\n",
       "      <th>address</th>\n",
       "      <th>famsize</th>\n",
       "      <th>Pstatus</th>\n",
       "      <th>Medu</th>\n",
       "      <th>Fedu</th>\n",
       "      <th>Mjob</th>\n",
       "      <th>Fjob</th>\n",
       "      <th>reason</th>\n",
       "      <th>guardian</th>\n",
       "      <th>traveltime</th>\n",
       "      <th>studytime</th>\n",
       "      <th>failures</th>\n",
       "      <th>schoolsup</th>\n",
       "      <th>famsup</th>\n",
       "      <th>paid</th>\n",
       "      <th>activities</th>\n",
       "      <th>nursery</th>\n",
       "      <th>studytime, granular</th>\n",
       "      <th>higher</th>\n",
       "      <th>internet</th>\n",
       "      <th>romantic</th>\n",
       "      <th>famrel</th>\n",
       "      <th>freetime</th>\n",
       "      <th>goout</th>\n",
       "      <th>health</th>\n",
       "      <th>absences</th>\n",
       "      <th>score</th>\n",
       "    </tr>\n",
       "  </thead>\n",
       "  <tbody>\n",
       "    <tr>\n",
       "      <th>0</th>\n",
       "      <td>GP</td>\n",
       "      <td>F</td>\n",
       "      <td>18</td>\n",
       "      <td>U</td>\n",
       "      <td>NaN</td>\n",
       "      <td>A</td>\n",
       "      <td>4.0</td>\n",
       "      <td>4.0</td>\n",
       "      <td>at_home</td>\n",
       "      <td>teacher</td>\n",
       "      <td>course</td>\n",
       "      <td>mother</td>\n",
       "      <td>2.0</td>\n",
       "      <td>2.0</td>\n",
       "      <td>0.0</td>\n",
       "      <td>yes</td>\n",
       "      <td>no</td>\n",
       "      <td>no</td>\n",
       "      <td>no</td>\n",
       "      <td>yes</td>\n",
       "      <td>-6.0</td>\n",
       "      <td>yes</td>\n",
       "      <td>NaN</td>\n",
       "      <td>no</td>\n",
       "      <td>4.0</td>\n",
       "      <td>3.0</td>\n",
       "      <td>4.0</td>\n",
       "      <td>3.0</td>\n",
       "      <td>6.0</td>\n",
       "      <td>30.0</td>\n",
       "    </tr>\n",
       "    <tr>\n",
       "      <th>1</th>\n",
       "      <td>GP</td>\n",
       "      <td>F</td>\n",
       "      <td>17</td>\n",
       "      <td>U</td>\n",
       "      <td>GT3</td>\n",
       "      <td>NaN</td>\n",
       "      <td>1.0</td>\n",
       "      <td>1.0</td>\n",
       "      <td>at_home</td>\n",
       "      <td>other</td>\n",
       "      <td>course</td>\n",
       "      <td>father</td>\n",
       "      <td>1.0</td>\n",
       "      <td>2.0</td>\n",
       "      <td>0.0</td>\n",
       "      <td>no</td>\n",
       "      <td>yes</td>\n",
       "      <td>no</td>\n",
       "      <td>no</td>\n",
       "      <td>no</td>\n",
       "      <td>-6.0</td>\n",
       "      <td>yes</td>\n",
       "      <td>yes</td>\n",
       "      <td>no</td>\n",
       "      <td>5.0</td>\n",
       "      <td>3.0</td>\n",
       "      <td>3.0</td>\n",
       "      <td>3.0</td>\n",
       "      <td>4.0</td>\n",
       "      <td>30.0</td>\n",
       "    </tr>\n",
       "    <tr>\n",
       "      <th>2</th>\n",
       "      <td>GP</td>\n",
       "      <td>F</td>\n",
       "      <td>15</td>\n",
       "      <td>U</td>\n",
       "      <td>LE3</td>\n",
       "      <td>T</td>\n",
       "      <td>1.0</td>\n",
       "      <td>1.0</td>\n",
       "      <td>at_home</td>\n",
       "      <td>other</td>\n",
       "      <td>other</td>\n",
       "      <td>mother</td>\n",
       "      <td>1.0</td>\n",
       "      <td>2.0</td>\n",
       "      <td>3.0</td>\n",
       "      <td>yes</td>\n",
       "      <td>no</td>\n",
       "      <td>NaN</td>\n",
       "      <td>no</td>\n",
       "      <td>yes</td>\n",
       "      <td>-6.0</td>\n",
       "      <td>yes</td>\n",
       "      <td>yes</td>\n",
       "      <td>NaN</td>\n",
       "      <td>4.0</td>\n",
       "      <td>3.0</td>\n",
       "      <td>2.0</td>\n",
       "      <td>3.0</td>\n",
       "      <td>10.0</td>\n",
       "      <td>50.0</td>\n",
       "    </tr>\n",
       "    <tr>\n",
       "      <th>3</th>\n",
       "      <td>GP</td>\n",
       "      <td>F</td>\n",
       "      <td>15</td>\n",
       "      <td>U</td>\n",
       "      <td>GT3</td>\n",
       "      <td>T</td>\n",
       "      <td>4.0</td>\n",
       "      <td>2.0</td>\n",
       "      <td>health</td>\n",
       "      <td>NaN</td>\n",
       "      <td>home</td>\n",
       "      <td>mother</td>\n",
       "      <td>1.0</td>\n",
       "      <td>3.0</td>\n",
       "      <td>0.0</td>\n",
       "      <td>no</td>\n",
       "      <td>yes</td>\n",
       "      <td>yes</td>\n",
       "      <td>yes</td>\n",
       "      <td>yes</td>\n",
       "      <td>-9.0</td>\n",
       "      <td>yes</td>\n",
       "      <td>yes</td>\n",
       "      <td>yes</td>\n",
       "      <td>3.0</td>\n",
       "      <td>2.0</td>\n",
       "      <td>2.0</td>\n",
       "      <td>5.0</td>\n",
       "      <td>2.0</td>\n",
       "      <td>75.0</td>\n",
       "    </tr>\n",
       "    <tr>\n",
       "      <th>4</th>\n",
       "      <td>GP</td>\n",
       "      <td>F</td>\n",
       "      <td>16</td>\n",
       "      <td>U</td>\n",
       "      <td>GT3</td>\n",
       "      <td>T</td>\n",
       "      <td>3.0</td>\n",
       "      <td>3.0</td>\n",
       "      <td>other</td>\n",
       "      <td>other</td>\n",
       "      <td>home</td>\n",
       "      <td>father</td>\n",
       "      <td>1.0</td>\n",
       "      <td>2.0</td>\n",
       "      <td>0.0</td>\n",
       "      <td>no</td>\n",
       "      <td>yes</td>\n",
       "      <td>yes</td>\n",
       "      <td>no</td>\n",
       "      <td>yes</td>\n",
       "      <td>-6.0</td>\n",
       "      <td>yes</td>\n",
       "      <td>no</td>\n",
       "      <td>no</td>\n",
       "      <td>4.0</td>\n",
       "      <td>3.0</td>\n",
       "      <td>2.0</td>\n",
       "      <td>5.0</td>\n",
       "      <td>4.0</td>\n",
       "      <td>50.0</td>\n",
       "    </tr>\n",
       "    <tr>\n",
       "      <th>5</th>\n",
       "      <td>GP</td>\n",
       "      <td>M</td>\n",
       "      <td>16</td>\n",
       "      <td>U</td>\n",
       "      <td>LE3</td>\n",
       "      <td>T</td>\n",
       "      <td>4.0</td>\n",
       "      <td>3.0</td>\n",
       "      <td>services</td>\n",
       "      <td>other</td>\n",
       "      <td>reputation</td>\n",
       "      <td>mother</td>\n",
       "      <td>1.0</td>\n",
       "      <td>2.0</td>\n",
       "      <td>0.0</td>\n",
       "      <td>no</td>\n",
       "      <td>yes</td>\n",
       "      <td>yes</td>\n",
       "      <td>yes</td>\n",
       "      <td>yes</td>\n",
       "      <td>-6.0</td>\n",
       "      <td>yes</td>\n",
       "      <td>yes</td>\n",
       "      <td>no</td>\n",
       "      <td>5.0</td>\n",
       "      <td>4.0</td>\n",
       "      <td>2.0</td>\n",
       "      <td>5.0</td>\n",
       "      <td>10.0</td>\n",
       "      <td>75.0</td>\n",
       "    </tr>\n",
       "    <tr>\n",
       "      <th>6</th>\n",
       "      <td>GP</td>\n",
       "      <td>M</td>\n",
       "      <td>16</td>\n",
       "      <td>NaN</td>\n",
       "      <td>LE3</td>\n",
       "      <td>T</td>\n",
       "      <td>2.0</td>\n",
       "      <td>2.0</td>\n",
       "      <td>other</td>\n",
       "      <td>other</td>\n",
       "      <td>home</td>\n",
       "      <td>mother</td>\n",
       "      <td>1.0</td>\n",
       "      <td>2.0</td>\n",
       "      <td>0.0</td>\n",
       "      <td>no</td>\n",
       "      <td>no</td>\n",
       "      <td>no</td>\n",
       "      <td>no</td>\n",
       "      <td>yes</td>\n",
       "      <td>-6.0</td>\n",
       "      <td>yes</td>\n",
       "      <td>yes</td>\n",
       "      <td>no</td>\n",
       "      <td>4.0</td>\n",
       "      <td>4.0</td>\n",
       "      <td>4.0</td>\n",
       "      <td>3.0</td>\n",
       "      <td>0.0</td>\n",
       "      <td>55.0</td>\n",
       "    </tr>\n",
       "    <tr>\n",
       "      <th>7</th>\n",
       "      <td>GP</td>\n",
       "      <td>F</td>\n",
       "      <td>17</td>\n",
       "      <td>U</td>\n",
       "      <td>GT3</td>\n",
       "      <td>A</td>\n",
       "      <td>4.0</td>\n",
       "      <td>4.0</td>\n",
       "      <td>other</td>\n",
       "      <td>teacher</td>\n",
       "      <td>home</td>\n",
       "      <td>mother</td>\n",
       "      <td>2.0</td>\n",
       "      <td>2.0</td>\n",
       "      <td>0.0</td>\n",
       "      <td>yes</td>\n",
       "      <td>yes</td>\n",
       "      <td>no</td>\n",
       "      <td>no</td>\n",
       "      <td>yes</td>\n",
       "      <td>-6.0</td>\n",
       "      <td>yes</td>\n",
       "      <td>no</td>\n",
       "      <td>no</td>\n",
       "      <td>4.0</td>\n",
       "      <td>1.0</td>\n",
       "      <td>4.0</td>\n",
       "      <td>1.0</td>\n",
       "      <td>6.0</td>\n",
       "      <td>30.0</td>\n",
       "    </tr>\n",
       "    <tr>\n",
       "      <th>8</th>\n",
       "      <td>GP</td>\n",
       "      <td>M</td>\n",
       "      <td>15</td>\n",
       "      <td>U</td>\n",
       "      <td>LE3</td>\n",
       "      <td>A</td>\n",
       "      <td>3.0</td>\n",
       "      <td>2.0</td>\n",
       "      <td>services</td>\n",
       "      <td>other</td>\n",
       "      <td>home</td>\n",
       "      <td>mother</td>\n",
       "      <td>1.0</td>\n",
       "      <td>2.0</td>\n",
       "      <td>0.0</td>\n",
       "      <td>no</td>\n",
       "      <td>yes</td>\n",
       "      <td>yes</td>\n",
       "      <td>no</td>\n",
       "      <td>yes</td>\n",
       "      <td>-6.0</td>\n",
       "      <td>yes</td>\n",
       "      <td>yes</td>\n",
       "      <td>no</td>\n",
       "      <td>NaN</td>\n",
       "      <td>2.0</td>\n",
       "      <td>2.0</td>\n",
       "      <td>1.0</td>\n",
       "      <td>0.0</td>\n",
       "      <td>95.0</td>\n",
       "    </tr>\n",
       "    <tr>\n",
       "      <th>9</th>\n",
       "      <td>GP</td>\n",
       "      <td>M</td>\n",
       "      <td>15</td>\n",
       "      <td>U</td>\n",
       "      <td>NaN</td>\n",
       "      <td>NaN</td>\n",
       "      <td>3.0</td>\n",
       "      <td>4.0</td>\n",
       "      <td>other</td>\n",
       "      <td>other</td>\n",
       "      <td>home</td>\n",
       "      <td>mother</td>\n",
       "      <td>1.0</td>\n",
       "      <td>2.0</td>\n",
       "      <td>0.0</td>\n",
       "      <td>no</td>\n",
       "      <td>yes</td>\n",
       "      <td>yes</td>\n",
       "      <td>yes</td>\n",
       "      <td>yes</td>\n",
       "      <td>-6.0</td>\n",
       "      <td>yes</td>\n",
       "      <td>yes</td>\n",
       "      <td>no</td>\n",
       "      <td>5.0</td>\n",
       "      <td>5.0</td>\n",
       "      <td>1.0</td>\n",
       "      <td>5.0</td>\n",
       "      <td>0.0</td>\n",
       "      <td>75.0</td>\n",
       "    </tr>\n",
       "    <tr>\n",
       "      <th>10</th>\n",
       "      <td>GP</td>\n",
       "      <td>F</td>\n",
       "      <td>15</td>\n",
       "      <td>U</td>\n",
       "      <td>GT3</td>\n",
       "      <td>T</td>\n",
       "      <td>4.0</td>\n",
       "      <td>4.0</td>\n",
       "      <td>teacher</td>\n",
       "      <td>health</td>\n",
       "      <td>reputation</td>\n",
       "      <td>mother</td>\n",
       "      <td>1.0</td>\n",
       "      <td>2.0</td>\n",
       "      <td>0.0</td>\n",
       "      <td>no</td>\n",
       "      <td>yes</td>\n",
       "      <td>yes</td>\n",
       "      <td>no</td>\n",
       "      <td>yes</td>\n",
       "      <td>-6.0</td>\n",
       "      <td>yes</td>\n",
       "      <td>yes</td>\n",
       "      <td>no</td>\n",
       "      <td>3.0</td>\n",
       "      <td>3.0</td>\n",
       "      <td>3.0</td>\n",
       "      <td>2.0</td>\n",
       "      <td>0.0</td>\n",
       "      <td>45.0</td>\n",
       "    </tr>\n",
       "    <tr>\n",
       "      <th>11</th>\n",
       "      <td>GP</td>\n",
       "      <td>F</td>\n",
       "      <td>15</td>\n",
       "      <td>U</td>\n",
       "      <td>GT3</td>\n",
       "      <td>NaN</td>\n",
       "      <td>2.0</td>\n",
       "      <td>40.0</td>\n",
       "      <td>services</td>\n",
       "      <td>other</td>\n",
       "      <td>reputation</td>\n",
       "      <td>father</td>\n",
       "      <td>3.0</td>\n",
       "      <td>3.0</td>\n",
       "      <td>0.0</td>\n",
       "      <td>no</td>\n",
       "      <td>yes</td>\n",
       "      <td>no</td>\n",
       "      <td>yes</td>\n",
       "      <td>yes</td>\n",
       "      <td>-9.0</td>\n",
       "      <td>yes</td>\n",
       "      <td>yes</td>\n",
       "      <td>no</td>\n",
       "      <td>5.0</td>\n",
       "      <td>2.0</td>\n",
       "      <td>2.0</td>\n",
       "      <td>4.0</td>\n",
       "      <td>4.0</td>\n",
       "      <td>60.0</td>\n",
       "    </tr>\n",
       "    <tr>\n",
       "      <th>12</th>\n",
       "      <td>GP</td>\n",
       "      <td>M</td>\n",
       "      <td>15</td>\n",
       "      <td>U</td>\n",
       "      <td>LE3</td>\n",
       "      <td>T</td>\n",
       "      <td>4.0</td>\n",
       "      <td>4.0</td>\n",
       "      <td>health</td>\n",
       "      <td>services</td>\n",
       "      <td>course</td>\n",
       "      <td>father</td>\n",
       "      <td>1.0</td>\n",
       "      <td>1.0</td>\n",
       "      <td>0.0</td>\n",
       "      <td>no</td>\n",
       "      <td>yes</td>\n",
       "      <td>yes</td>\n",
       "      <td>yes</td>\n",
       "      <td>yes</td>\n",
       "      <td>-3.0</td>\n",
       "      <td>yes</td>\n",
       "      <td>NaN</td>\n",
       "      <td>no</td>\n",
       "      <td>NaN</td>\n",
       "      <td>3.0</td>\n",
       "      <td>3.0</td>\n",
       "      <td>5.0</td>\n",
       "      <td>2.0</td>\n",
       "      <td>70.0</td>\n",
       "    </tr>\n",
       "    <tr>\n",
       "      <th>13</th>\n",
       "      <td>GP</td>\n",
       "      <td>M</td>\n",
       "      <td>15</td>\n",
       "      <td>U</td>\n",
       "      <td>GT3</td>\n",
       "      <td>T</td>\n",
       "      <td>4.0</td>\n",
       "      <td>3.0</td>\n",
       "      <td>teacher</td>\n",
       "      <td>other</td>\n",
       "      <td>course</td>\n",
       "      <td>mother</td>\n",
       "      <td>2.0</td>\n",
       "      <td>2.0</td>\n",
       "      <td>0.0</td>\n",
       "      <td>no</td>\n",
       "      <td>yes</td>\n",
       "      <td>yes</td>\n",
       "      <td>no</td>\n",
       "      <td>yes</td>\n",
       "      <td>-6.0</td>\n",
       "      <td>yes</td>\n",
       "      <td>yes</td>\n",
       "      <td>NaN</td>\n",
       "      <td>5.0</td>\n",
       "      <td>4.0</td>\n",
       "      <td>3.0</td>\n",
       "      <td>3.0</td>\n",
       "      <td>2.0</td>\n",
       "      <td>55.0</td>\n",
       "    </tr>\n",
       "    <tr>\n",
       "      <th>14</th>\n",
       "      <td>GP</td>\n",
       "      <td>M</td>\n",
       "      <td>15</td>\n",
       "      <td>U</td>\n",
       "      <td>GT3</td>\n",
       "      <td>A</td>\n",
       "      <td>2.0</td>\n",
       "      <td>2.0</td>\n",
       "      <td>other</td>\n",
       "      <td>other</td>\n",
       "      <td>home</td>\n",
       "      <td>other</td>\n",
       "      <td>1.0</td>\n",
       "      <td>3.0</td>\n",
       "      <td>0.0</td>\n",
       "      <td>no</td>\n",
       "      <td>yes</td>\n",
       "      <td>no</td>\n",
       "      <td>no</td>\n",
       "      <td>yes</td>\n",
       "      <td>-9.0</td>\n",
       "      <td>yes</td>\n",
       "      <td>yes</td>\n",
       "      <td>yes</td>\n",
       "      <td>4.0</td>\n",
       "      <td>5.0</td>\n",
       "      <td>2.0</td>\n",
       "      <td>3.0</td>\n",
       "      <td>0.0</td>\n",
       "      <td>80.0</td>\n",
       "    </tr>\n",
       "    <tr>\n",
       "      <th>15</th>\n",
       "      <td>GP</td>\n",
       "      <td>F</td>\n",
       "      <td>16</td>\n",
       "      <td>U</td>\n",
       "      <td>GT3</td>\n",
       "      <td>NaN</td>\n",
       "      <td>4.0</td>\n",
       "      <td>4.0</td>\n",
       "      <td>health</td>\n",
       "      <td>other</td>\n",
       "      <td>home</td>\n",
       "      <td>mother</td>\n",
       "      <td>1.0</td>\n",
       "      <td>1.0</td>\n",
       "      <td>0.0</td>\n",
       "      <td>no</td>\n",
       "      <td>yes</td>\n",
       "      <td>no</td>\n",
       "      <td>no</td>\n",
       "      <td>yes</td>\n",
       "      <td>-3.0</td>\n",
       "      <td>yes</td>\n",
       "      <td>yes</td>\n",
       "      <td>no</td>\n",
       "      <td>4.0</td>\n",
       "      <td>4.0</td>\n",
       "      <td>4.0</td>\n",
       "      <td>2.0</td>\n",
       "      <td>4.0</td>\n",
       "      <td>70.0</td>\n",
       "    </tr>\n",
       "    <tr>\n",
       "      <th>16</th>\n",
       "      <td>GP</td>\n",
       "      <td>F</td>\n",
       "      <td>16</td>\n",
       "      <td>U</td>\n",
       "      <td>GT3</td>\n",
       "      <td>T</td>\n",
       "      <td>4.0</td>\n",
       "      <td>4.0</td>\n",
       "      <td>services</td>\n",
       "      <td>services</td>\n",
       "      <td>reputation</td>\n",
       "      <td>mother</td>\n",
       "      <td>1.0</td>\n",
       "      <td>3.0</td>\n",
       "      <td>0.0</td>\n",
       "      <td>no</td>\n",
       "      <td>yes</td>\n",
       "      <td>yes</td>\n",
       "      <td>yes</td>\n",
       "      <td>yes</td>\n",
       "      <td>-9.0</td>\n",
       "      <td>yes</td>\n",
       "      <td>yes</td>\n",
       "      <td>no</td>\n",
       "      <td>3.0</td>\n",
       "      <td>2.0</td>\n",
       "      <td>3.0</td>\n",
       "      <td>2.0</td>\n",
       "      <td>6.0</td>\n",
       "      <td>70.0</td>\n",
       "    </tr>\n",
       "    <tr>\n",
       "      <th>17</th>\n",
       "      <td>GP</td>\n",
       "      <td>F</td>\n",
       "      <td>16</td>\n",
       "      <td>U</td>\n",
       "      <td>GT3</td>\n",
       "      <td>T</td>\n",
       "      <td>3.0</td>\n",
       "      <td>3.0</td>\n",
       "      <td>other</td>\n",
       "      <td>NaN</td>\n",
       "      <td>reputation</td>\n",
       "      <td>mother</td>\n",
       "      <td>3.0</td>\n",
       "      <td>NaN</td>\n",
       "      <td>0.0</td>\n",
       "      <td>yes</td>\n",
       "      <td>NaN</td>\n",
       "      <td>no</td>\n",
       "      <td>yes</td>\n",
       "      <td>yes</td>\n",
       "      <td>NaN</td>\n",
       "      <td>yes</td>\n",
       "      <td>no</td>\n",
       "      <td>no</td>\n",
       "      <td>5.0</td>\n",
       "      <td>3.0</td>\n",
       "      <td>2.0</td>\n",
       "      <td>4.0</td>\n",
       "      <td>4.0</td>\n",
       "      <td>50.0</td>\n",
       "    </tr>\n",
       "    <tr>\n",
       "      <th>18</th>\n",
       "      <td>GP</td>\n",
       "      <td>M</td>\n",
       "      <td>17</td>\n",
       "      <td>U</td>\n",
       "      <td>GT3</td>\n",
       "      <td>T</td>\n",
       "      <td>3.0</td>\n",
       "      <td>2.0</td>\n",
       "      <td>services</td>\n",
       "      <td>services</td>\n",
       "      <td>course</td>\n",
       "      <td>mother</td>\n",
       "      <td>1.0</td>\n",
       "      <td>1.0</td>\n",
       "      <td>3.0</td>\n",
       "      <td>no</td>\n",
       "      <td>yes</td>\n",
       "      <td>NaN</td>\n",
       "      <td>yes</td>\n",
       "      <td>yes</td>\n",
       "      <td>-3.0</td>\n",
       "      <td>yes</td>\n",
       "      <td>yes</td>\n",
       "      <td>no</td>\n",
       "      <td>5.0</td>\n",
       "      <td>5.0</td>\n",
       "      <td>5.0</td>\n",
       "      <td>5.0</td>\n",
       "      <td>16.0</td>\n",
       "      <td>25.0</td>\n",
       "    </tr>\n",
       "    <tr>\n",
       "      <th>19</th>\n",
       "      <td>GP</td>\n",
       "      <td>M</td>\n",
       "      <td>16</td>\n",
       "      <td>U</td>\n",
       "      <td>LE3</td>\n",
       "      <td>T</td>\n",
       "      <td>4.0</td>\n",
       "      <td>3.0</td>\n",
       "      <td>health</td>\n",
       "      <td>other</td>\n",
       "      <td>home</td>\n",
       "      <td>father</td>\n",
       "      <td>1.0</td>\n",
       "      <td>1.0</td>\n",
       "      <td>0.0</td>\n",
       "      <td>no</td>\n",
       "      <td>no</td>\n",
       "      <td>NaN</td>\n",
       "      <td>yes</td>\n",
       "      <td>yes</td>\n",
       "      <td>-3.0</td>\n",
       "      <td>yes</td>\n",
       "      <td>yes</td>\n",
       "      <td>no</td>\n",
       "      <td>3.0</td>\n",
       "      <td>1.0</td>\n",
       "      <td>3.0</td>\n",
       "      <td>5.0</td>\n",
       "      <td>4.0</td>\n",
       "      <td>50.0</td>\n",
       "    </tr>\n",
       "  </tbody>\n",
       "</table>\n",
       "</div>"
      ],
      "text/plain": [
       "   school sex  age address famsize Pstatus  Medu  Fedu      Mjob      Fjob      reason guardian  traveltime  studytime  failures schoolsup famsup paid activities nursery  studytime, granular higher internet romantic  famrel  freetime  goout  health  absences  score\n",
       "0      GP   F   18       U     NaN       A   4.0   4.0   at_home   teacher      course   mother         2.0        2.0       0.0       yes     no   no         no     yes                 -6.0    yes      NaN       no     4.0       3.0    4.0     3.0       6.0   30.0\n",
       "1      GP   F   17       U     GT3     NaN   1.0   1.0   at_home     other      course   father         1.0        2.0       0.0        no    yes   no         no      no                 -6.0    yes      yes       no     5.0       3.0    3.0     3.0       4.0   30.0\n",
       "2      GP   F   15       U     LE3       T   1.0   1.0   at_home     other       other   mother         1.0        2.0       3.0       yes     no  NaN         no     yes                 -6.0    yes      yes      NaN     4.0       3.0    2.0     3.0      10.0   50.0\n",
       "3      GP   F   15       U     GT3       T   4.0   2.0    health       NaN        home   mother         1.0        3.0       0.0        no    yes  yes        yes     yes                 -9.0    yes      yes      yes     3.0       2.0    2.0     5.0       2.0   75.0\n",
       "4      GP   F   16       U     GT3       T   3.0   3.0     other     other        home   father         1.0        2.0       0.0        no    yes  yes         no     yes                 -6.0    yes       no       no     4.0       3.0    2.0     5.0       4.0   50.0\n",
       "5      GP   M   16       U     LE3       T   4.0   3.0  services     other  reputation   mother         1.0        2.0       0.0        no    yes  yes        yes     yes                 -6.0    yes      yes       no     5.0       4.0    2.0     5.0      10.0   75.0\n",
       "6      GP   M   16     NaN     LE3       T   2.0   2.0     other     other        home   mother         1.0        2.0       0.0        no     no   no         no     yes                 -6.0    yes      yes       no     4.0       4.0    4.0     3.0       0.0   55.0\n",
       "7      GP   F   17       U     GT3       A   4.0   4.0     other   teacher        home   mother         2.0        2.0       0.0       yes    yes   no         no     yes                 -6.0    yes       no       no     4.0       1.0    4.0     1.0       6.0   30.0\n",
       "8      GP   M   15       U     LE3       A   3.0   2.0  services     other        home   mother         1.0        2.0       0.0        no    yes  yes         no     yes                 -6.0    yes      yes       no     NaN       2.0    2.0     1.0       0.0   95.0\n",
       "9      GP   M   15       U     NaN     NaN   3.0   4.0     other     other        home   mother         1.0        2.0       0.0        no    yes  yes        yes     yes                 -6.0    yes      yes       no     5.0       5.0    1.0     5.0       0.0   75.0\n",
       "10     GP   F   15       U     GT3       T   4.0   4.0   teacher    health  reputation   mother         1.0        2.0       0.0        no    yes  yes         no     yes                 -6.0    yes      yes       no     3.0       3.0    3.0     2.0       0.0   45.0\n",
       "11     GP   F   15       U     GT3     NaN   2.0  40.0  services     other  reputation   father         3.0        3.0       0.0        no    yes   no        yes     yes                 -9.0    yes      yes       no     5.0       2.0    2.0     4.0       4.0   60.0\n",
       "12     GP   M   15       U     LE3       T   4.0   4.0    health  services      course   father         1.0        1.0       0.0        no    yes  yes        yes     yes                 -3.0    yes      NaN       no     NaN       3.0    3.0     5.0       2.0   70.0\n",
       "13     GP   M   15       U     GT3       T   4.0   3.0   teacher     other      course   mother         2.0        2.0       0.0        no    yes  yes         no     yes                 -6.0    yes      yes      NaN     5.0       4.0    3.0     3.0       2.0   55.0\n",
       "14     GP   M   15       U     GT3       A   2.0   2.0     other     other        home    other         1.0        3.0       0.0        no    yes   no         no     yes                 -9.0    yes      yes      yes     4.0       5.0    2.0     3.0       0.0   80.0\n",
       "15     GP   F   16       U     GT3     NaN   4.0   4.0    health     other        home   mother         1.0        1.0       0.0        no    yes   no         no     yes                 -3.0    yes      yes       no     4.0       4.0    4.0     2.0       4.0   70.0\n",
       "16     GP   F   16       U     GT3       T   4.0   4.0  services  services  reputation   mother         1.0        3.0       0.0        no    yes  yes        yes     yes                 -9.0    yes      yes       no     3.0       2.0    3.0     2.0       6.0   70.0\n",
       "17     GP   F   16       U     GT3       T   3.0   3.0     other       NaN  reputation   mother         3.0        NaN       0.0       yes    NaN   no        yes     yes                  NaN    yes       no       no     5.0       3.0    2.0     4.0       4.0   50.0\n",
       "18     GP   M   17       U     GT3       T   3.0   2.0  services  services      course   mother         1.0        1.0       3.0        no    yes  NaN        yes     yes                 -3.0    yes      yes       no     5.0       5.0    5.0     5.0      16.0   25.0\n",
       "19     GP   M   16       U     LE3       T   4.0   3.0    health     other        home   father         1.0        1.0       0.0        no     no  NaN        yes     yes                 -3.0    yes      yes       no     3.0       1.0    3.0     5.0       4.0   50.0"
      ]
     },
     "metadata": {},
     "output_type": "display_data"
    }
   ],
   "source": [
    "display(students.head(20))"
   ]
  },
  {
   "cell_type": "code",
   "execution_count": 4,
   "id": "e6af6df8",
   "metadata": {
    "scrolled": true
   },
   "outputs": [
    {
     "name": "stdout",
     "output_type": "stream",
     "text": [
      "<class 'pandas.core.frame.DataFrame'>\n",
      "RangeIndex: 395 entries, 0 to 394\n",
      "Data columns (total 30 columns):\n",
      " #   Column               Non-Null Count  Dtype  \n",
      "---  ------               --------------  -----  \n",
      " 0   school               395 non-null    object \n",
      " 1   sex                  395 non-null    object \n",
      " 2   age                  395 non-null    int64  \n",
      " 3   address              378 non-null    object \n",
      " 4   famsize              368 non-null    object \n",
      " 5   Pstatus              350 non-null    object \n",
      " 6   Medu                 392 non-null    float64\n",
      " 7   Fedu                 371 non-null    float64\n",
      " 8   Mjob                 376 non-null    object \n",
      " 9   Fjob                 359 non-null    object \n",
      " 10  reason               378 non-null    object \n",
      " 11  guardian             364 non-null    object \n",
      " 12  traveltime           367 non-null    float64\n",
      " 13  studytime            388 non-null    float64\n",
      " 14  failures             373 non-null    float64\n",
      " 15  schoolsup            386 non-null    object \n",
      " 16  famsup               356 non-null    object \n",
      " 17  paid                 355 non-null    object \n",
      " 18  activities           381 non-null    object \n",
      " 19  nursery              379 non-null    object \n",
      " 20  studytime, granular  388 non-null    float64\n",
      " 21  higher               375 non-null    object \n",
      " 22  internet             361 non-null    object \n",
      " 23  romantic             364 non-null    object \n",
      " 24  famrel               368 non-null    float64\n",
      " 25  freetime             384 non-null    float64\n",
      " 26  goout                387 non-null    float64\n",
      " 27  health               380 non-null    float64\n",
      " 28  absences             383 non-null    float64\n",
      " 29  score                389 non-null    float64\n",
      "dtypes: float64(12), int64(1), object(17)\n",
      "memory usage: 92.7+ KB\n"
     ]
    },
    {
     "data": {
      "text/plain": [
       "None"
      ]
     },
     "metadata": {},
     "output_type": "display_data"
    }
   ],
   "source": [
    "display(students.info())"
   ]
  },
  {
   "cell_type": "markdown",
   "id": "9d4f951b",
   "metadata": {},
   "source": [
    "Правим название столбца 20. Остальные столбцы имеют приемлемые имена."
   ]
  },
  {
   "cell_type": "code",
   "execution_count": 5,
   "id": "7ccf3b07",
   "metadata": {},
   "outputs": [],
   "source": [
    "columns = list(students.columns)\n",
    "columns[20] = 'studytime_granular'\n",
    "students.columns = columns"
   ]
  },
  {
   "cell_type": "markdown",
   "id": "4f4a7f31",
   "metadata": {},
   "source": [
    "# 1. Первичная обработка данных"
   ]
  },
  {
   "cell_type": "markdown",
   "id": "f9715a0a",
   "metadata": {},
   "source": [
    "### Вспомогательные функции"
   ]
  },
  {
   "cell_type": "code",
   "execution_count": 6,
   "id": "6a10d56f",
   "metadata": {},
   "outputs": [],
   "source": [
    "# Вывод первичной общей информации\n",
    "def common_info(column):\n",
    "    display(students[column].value_counts())\n",
    "    display(students.loc[:, [column]].info())\n",
    "\n",
    "\n",
    "# Определение min и max для числовых значений. На вход подаем имя столбца, на выходе [min,max]\n",
    "def min_max(column):\n",
    "    IQR = students[column].quantile(0.75) - students[column].quantile(0.25)\n",
    "    minimum = students[column].quantile(0.25) - 1.5*IQR\n",
    "    maximum = students[column].quantile(0.75) + 1.5*IQR\n",
    "    return [minimum, maximum]\n",
    "\n",
    "# Вывод информации о числовом столбце. На вход название столбца\n",
    "\n",
    "\n",
    "def numeric_col_info(column):\n",
    "    fig, axes = plt.subplots(1, 2)\n",
    "    axes[0].hist(students[column])\n",
    "    axes[0].set_title(column)\n",
    "    # axes[1].boxplot(students[column])\n",
    "    # axes[1].set_title(column)\n",
    "    sns.boxplot(y=students[column])\n",
    "    print(\"Определение выбросов по межквартильному методу:\")\n",
    "    min_col, max_col = min_max(column)\n",
    "    print(\"Для столбца {} min-значение: {} , max-значение: {}\".format(column, min_col, max_col))\n",
    "\n",
    "# Отсечение выбросов для pd.Series по межквартильному методу.\n",
    "# Аргументы: имя столбцаm, min_out =True отсечение по параметру минимума,\n",
    "# max_out = True отсечение по параметру максимума.\n",
    "\n",
    "\n",
    "def remove_outliers(column, min_out=False, max_out=False):\n",
    "    min_col, max_col = min_max(column)\n",
    "    global students\n",
    "    # Если min_out == True, отсекаем по параметру минимума для межквартильного метода.\n",
    "    if min_out:\n",
    "        students = students.loc[students[column] > min_col]\n",
    "    if max_out:\n",
    "        students = students.loc[students[column] < max_col]\n",
    "\n",
    "# Вывод боксплотов по номинативному столбцу. На вход - имя столбца.\n",
    "\n",
    "\n",
    "def get_boxplot(column):\n",
    "    fig, ax = plt.subplots(figsize=(14, 4))\n",
    "    sns.boxplot(x=column, y='score',\n",
    "                data=students.loc[students.loc[:, 'address'].isin(\n",
    "                    students.loc[:, 'address'].value_counts().index[:10])],\n",
    "                ax=ax)\n",
    "    plt.xticks(rotation=45)\n",
    "    ax.set_title('Boxplot for ' + column)\n",
    "    plt.show()\n",
    "\n",
    "# Тест Стьюдента для номинативных столбцов. На вход - название столбца\n",
    "\n",
    "\n",
    "def get_stat_dif(column):\n",
    "    # p - список значений p, для всех пар\n",
    "    pvals = []\n",
    "\n",
    "    cols = list(students.loc[:, column].value_counts().index[:])\n",
    "    # Удаляем значение noinfo, так как мы не значем истинного значения\n",
    "    if 'noinfo' in cols:\n",
    "        cols.remove('noinfo')\n",
    "\n",
    "    combinations_all = list(combinations(cols, 2))\n",
    "    for comb in combinations_all:\n",
    "        # Подсчитываем значения pval для всех комбинаций\n",
    "        pvals.append(ttest_ind(students.loc[students.loc[:, column] == comb[0], 'score'],\n",
    "                               students.loc[students.loc[:, column] == comb[1], 'score']).pvalue)\n",
    "\n",
    "    # Используем метод Бенджамини — Хохберга для FDR-контроля означает,\n",
    "    if True in multipletests(pvals, alpha=0.05, method='fdr_bh', is_sorted=False)[0]:\n",
    "        print(\"Найдены статистически значимые различия для столбца \" + column)"
   ]
  },
  {
   "cell_type": "markdown",
   "id": "21e89c01",
   "metadata": {},
   "source": [
    "Рассмотрим в отдельности каждый столбец."
   ]
  },
  {
   "cell_type": "markdown",
   "id": "b6c05f02",
   "metadata": {},
   "source": [
    "### Столбец **school**"
   ]
  },
  {
   "cell_type": "code",
   "execution_count": 7,
   "id": "a7a5dba0",
   "metadata": {},
   "outputs": [
    {
     "data": {
      "text/plain": [
       "GP    349\n",
       "MS     46\n",
       "Name: school, dtype: int64"
      ]
     },
     "metadata": {},
     "output_type": "display_data"
    },
    {
     "name": "stdout",
     "output_type": "stream",
     "text": [
      "<class 'pandas.core.frame.DataFrame'>\n",
      "RangeIndex: 395 entries, 0 to 394\n",
      "Data columns (total 1 columns):\n",
      " #   Column  Non-Null Count  Dtype \n",
      "---  ------  --------------  ----- \n",
      " 0   school  395 non-null    object\n",
      "dtypes: object(1)\n",
      "memory usage: 3.2+ KB\n"
     ]
    },
    {
     "data": {
      "text/plain": [
       "None"
      ]
     },
     "metadata": {},
     "output_type": "display_data"
    }
   ],
   "source": [
    "common_info('school')"
   ]
  },
  {
   "cell_type": "markdown",
   "id": "25ae06d5",
   "metadata": {},
   "source": [
    "В выборке присутствуют данные только по двум школам. Пустых значений нет. Среди значений всего два возможных вараинта.\n",
    "На данном этапе рассмотрение столбца закончено."
   ]
  },
  {
   "cell_type": "markdown",
   "id": "e4125b77",
   "metadata": {},
   "source": [
    "### Столбец **sex**"
   ]
  },
  {
   "cell_type": "code",
   "execution_count": 8,
   "id": "3e9e1516",
   "metadata": {},
   "outputs": [
    {
     "data": {
      "text/plain": [
       "F    208\n",
       "M    187\n",
       "Name: sex, dtype: int64"
      ]
     },
     "metadata": {},
     "output_type": "display_data"
    },
    {
     "name": "stdout",
     "output_type": "stream",
     "text": [
      "<class 'pandas.core.frame.DataFrame'>\n",
      "RangeIndex: 395 entries, 0 to 394\n",
      "Data columns (total 1 columns):\n",
      " #   Column  Non-Null Count  Dtype \n",
      "---  ------  --------------  ----- \n",
      " 0   sex     395 non-null    object\n",
      "dtypes: object(1)\n",
      "memory usage: 3.2+ KB\n"
     ]
    },
    {
     "data": {
      "text/plain": [
       "None"
      ]
     },
     "metadata": {},
     "output_type": "display_data"
    }
   ],
   "source": [
    "common_info('sex')"
   ]
  },
  {
   "cell_type": "markdown",
   "id": "c6e88086",
   "metadata": {},
   "source": [
    "Данные по полам в выборке внесены корректно. Только 2 пола, пропусков нет.\n",
    "На данном этапе рассмотрение столбца закончено."
   ]
  },
  {
   "cell_type": "markdown",
   "id": "fb2627ae",
   "metadata": {},
   "source": [
    "### Столбец **age**"
   ]
  },
  {
   "cell_type": "code",
   "execution_count": 9,
   "id": "7a0a1ddf",
   "metadata": {},
   "outputs": [
    {
     "data": {
      "text/plain": [
       "16    104\n",
       "17     98\n",
       "15     82\n",
       "18     82\n",
       "19     24\n",
       "20      3\n",
       "21      1\n",
       "22      1\n",
       "Name: age, dtype: int64"
      ]
     },
     "metadata": {},
     "output_type": "display_data"
    },
    {
     "name": "stdout",
     "output_type": "stream",
     "text": [
      "<class 'pandas.core.frame.DataFrame'>\n",
      "RangeIndex: 395 entries, 0 to 394\n",
      "Data columns (total 1 columns):\n",
      " #   Column  Non-Null Count  Dtype\n",
      "---  ------  --------------  -----\n",
      " 0   age     395 non-null    int64\n",
      "dtypes: int64(1)\n",
      "memory usage: 3.2 KB\n"
     ]
    },
    {
     "data": {
      "text/plain": [
       "None"
      ]
     },
     "metadata": {},
     "output_type": "display_data"
    }
   ],
   "source": [
    "common_info('age')"
   ]
  },
  {
   "cell_type": "markdown",
   "id": "a9e95758",
   "metadata": {},
   "source": [
    "Данные по возрасту внесены корректно. Пропусков нет, нечисловых значений нет. На данном этапе рассмотрение столбца закончено."
   ]
  },
  {
   "cell_type": "markdown",
   "id": "21c04be2",
   "metadata": {},
   "source": [
    "### Столбец **address**"
   ]
  },
  {
   "cell_type": "code",
   "execution_count": 10,
   "id": "fb0016c9",
   "metadata": {},
   "outputs": [
    {
     "data": {
      "text/plain": [
       "U    295\n",
       "R     83\n",
       "Name: address, dtype: int64"
      ]
     },
     "metadata": {},
     "output_type": "display_data"
    },
    {
     "name": "stdout",
     "output_type": "stream",
     "text": [
      "<class 'pandas.core.frame.DataFrame'>\n",
      "RangeIndex: 395 entries, 0 to 394\n",
      "Data columns (total 1 columns):\n",
      " #   Column   Non-Null Count  Dtype \n",
      "---  ------   --------------  ----- \n",
      " 0   address  378 non-null    object\n",
      "dtypes: object(1)\n",
      "memory usage: 3.2+ KB\n"
     ]
    },
    {
     "data": {
      "text/plain": [
       "None"
      ]
     },
     "metadata": {},
     "output_type": "display_data"
    }
   ],
   "source": [
    "common_info('address')"
   ]
  },
  {
   "cell_type": "markdown",
   "id": "dc45855a",
   "metadata": {},
   "source": [
    "Данные по адресу имеют пропуски. Некорректных значений нет. Среди значений всего два возможных вараинта. На данном этапе рассмотрение столбца закончено."
   ]
  },
  {
   "cell_type": "markdown",
   "id": "8e134499",
   "metadata": {},
   "source": [
    "### Столбец **famsize**"
   ]
  },
  {
   "cell_type": "code",
   "execution_count": 11,
   "id": "d579531d",
   "metadata": {},
   "outputs": [
    {
     "data": {
      "text/plain": [
       "GT3    261\n",
       "LE3    107\n",
       "Name: famsize, dtype: int64"
      ]
     },
     "metadata": {},
     "output_type": "display_data"
    },
    {
     "name": "stdout",
     "output_type": "stream",
     "text": [
      "<class 'pandas.core.frame.DataFrame'>\n",
      "RangeIndex: 395 entries, 0 to 394\n",
      "Data columns (total 1 columns):\n",
      " #   Column   Non-Null Count  Dtype \n",
      "---  ------   --------------  ----- \n",
      " 0   famsize  368 non-null    object\n",
      "dtypes: object(1)\n",
      "memory usage: 3.2+ KB\n"
     ]
    },
    {
     "data": {
      "text/plain": [
       "None"
      ]
     },
     "metadata": {},
     "output_type": "display_data"
    }
   ],
   "source": [
    "common_info('famsize')"
   ]
  },
  {
   "cell_type": "markdown",
   "id": "67d0cf09",
   "metadata": {},
   "source": [
    "Некорректных значений в столбце нет. Среди значений всего два возможных вараинта. На данном этапе рассмотрение столбца закончено."
   ]
  },
  {
   "cell_type": "markdown",
   "id": "ba74c5f1",
   "metadata": {},
   "source": [
    "### Столбец **Pstatus**"
   ]
  },
  {
   "cell_type": "code",
   "execution_count": 12,
   "id": "0b3f6b17",
   "metadata": {},
   "outputs": [
    {
     "data": {
      "text/plain": [
       "T    314\n",
       "A     36\n",
       "Name: Pstatus, dtype: int64"
      ]
     },
     "metadata": {},
     "output_type": "display_data"
    },
    {
     "name": "stdout",
     "output_type": "stream",
     "text": [
      "<class 'pandas.core.frame.DataFrame'>\n",
      "RangeIndex: 395 entries, 0 to 394\n",
      "Data columns (total 1 columns):\n",
      " #   Column   Non-Null Count  Dtype \n",
      "---  ------   --------------  ----- \n",
      " 0   Pstatus  350 non-null    object\n",
      "dtypes: object(1)\n",
      "memory usage: 3.2+ KB\n"
     ]
    },
    {
     "data": {
      "text/plain": [
       "None"
      ]
     },
     "metadata": {},
     "output_type": "display_data"
    }
   ],
   "source": [
    "common_info('Pstatus')"
   ]
  },
  {
   "cell_type": "markdown",
   "id": "e325f46c",
   "metadata": {},
   "source": [
    "Некорректных значений в столбце нет. Среди значений всего два возможных вараинта. На данном этапе рассмотрение столбца закончено."
   ]
  },
  {
   "cell_type": "markdown",
   "id": "2c9f7899",
   "metadata": {},
   "source": [
    "### Столбец **Medu** "
   ]
  },
  {
   "cell_type": "code",
   "execution_count": 13,
   "id": "dd18ac9a",
   "metadata": {},
   "outputs": [
    {
     "data": {
      "text/plain": [
       "4.0    131\n",
       "2.0    102\n",
       "3.0     97\n",
       "1.0     59\n",
       "0.0      3\n",
       "Name: Medu, dtype: int64"
      ]
     },
     "metadata": {},
     "output_type": "display_data"
    },
    {
     "name": "stdout",
     "output_type": "stream",
     "text": [
      "<class 'pandas.core.frame.DataFrame'>\n",
      "RangeIndex: 395 entries, 0 to 394\n",
      "Data columns (total 1 columns):\n",
      " #   Column  Non-Null Count  Dtype  \n",
      "---  ------  --------------  -----  \n",
      " 0   Medu    392 non-null    float64\n",
      "dtypes: float64(1)\n",
      "memory usage: 3.2 KB\n"
     ]
    },
    {
     "data": {
      "text/plain": [
       "None"
      ]
     },
     "metadata": {},
     "output_type": "display_data"
    }
   ],
   "source": [
    "common_info('Medu')"
   ]
  },
  {
   "cell_type": "code",
   "execution_count": 14,
   "id": "7d7b1628",
   "metadata": {},
   "outputs": [
    {
     "data": {
      "text/plain": [
       "3.0"
      ]
     },
     "execution_count": 14,
     "metadata": {},
     "output_type": "execute_result"
    },
    {
     "data": {
      "image/png": "[encoded data removed]",
      "text/plain": [
       "<Figure size 432x288 with 1 Axes>"
      ]
     },
     "metadata": {
      "needs_background": "light"
     },
     "output_type": "display_data"
    }
   ],
   "source": [
    "students.Medu.hist()\n",
    "students.Medu.median()"
   ]
  },
  {
   "cell_type": "markdown",
   "id": "abe20bba",
   "metadata": {},
   "source": [
    "Судя по графику и по медиане (3.0), большинство матерей имеет средне-специальное или высшее образование.\n",
    "Некорректных значений в столбце нет. На данном этапе рассмотрение столбца закончено."
   ]
  },
  {
   "cell_type": "markdown",
   "id": "6093e75d",
   "metadata": {},
   "source": [
    "### Столбец **Fedu** "
   ]
  },
  {
   "cell_type": "code",
   "execution_count": 15,
   "id": "6f98cd6e",
   "metadata": {},
   "outputs": [
    {
     "data": {
      "text/plain": [
       "2.0     106\n",
       "3.0      96\n",
       "4.0      88\n",
       "1.0      78\n",
       "0.0       2\n",
       "40.0      1\n",
       "Name: Fedu, dtype: int64"
      ]
     },
     "metadata": {},
     "output_type": "display_data"
    },
    {
     "name": "stdout",
     "output_type": "stream",
     "text": [
      "<class 'pandas.core.frame.DataFrame'>\n",
      "RangeIndex: 395 entries, 0 to 394\n",
      "Data columns (total 1 columns):\n",
      " #   Column  Non-Null Count  Dtype  \n",
      "---  ------  --------------  -----  \n",
      " 0   Fedu    371 non-null    float64\n",
      "dtypes: float64(1)\n",
      "memory usage: 3.2 KB\n"
     ]
    },
    {
     "data": {
      "text/plain": [
       "None"
      ]
     },
     "metadata": {},
     "output_type": "display_data"
    }
   ],
   "source": [
    "common_info('Fedu')"
   ]
  },
  {
   "cell_type": "markdown",
   "id": "036ab759",
   "metadata": {},
   "source": [
    "В столбце присутствует одно некорректное значение. Сделаем допущение, что имела место опечатка. Исправим вручную."
   ]
  },
  {
   "cell_type": "code",
   "execution_count": 16,
   "id": "9ef720f7",
   "metadata": {},
   "outputs": [],
   "source": [
    "students.loc[students['Fedu'] == 40, 'Fedu'] = 4.0"
   ]
  },
  {
   "cell_type": "code",
   "execution_count": 17,
   "id": "5fe3abe5",
   "metadata": {},
   "outputs": [
    {
     "data": {
      "text/plain": [
       "2.0"
      ]
     },
     "execution_count": 17,
     "metadata": {},
     "output_type": "execute_result"
    },
    {
     "data": {
      "image/png": "[encoded data removed]",
      "text/plain": [
       "<Figure size 432x288 with 1 Axes>"
      ]
     },
     "metadata": {
      "needs_background": "light"
     },
     "output_type": "display_data"
    }
   ],
   "source": [
    "students.Fedu.hist()\n",
    "students.Fedu.median()"
   ]
  },
  {
   "cell_type": "markdown",
   "id": "56e911c8",
   "metadata": {},
   "source": [
    "Судя по графику и по медиане (2.0), образование отцов в большинстве хуже, чем у матерей.\n",
    "Некорректные значения исправлены. На данном этапе рассмотрение столбца закончено."
   ]
  },
  {
   "cell_type": "markdown",
   "id": "2f4bdb4b",
   "metadata": {},
   "source": [
    "### Столбец **Mjob** "
   ]
  },
  {
   "cell_type": "code",
   "execution_count": 18,
   "id": "ba5932f2",
   "metadata": {},
   "outputs": [
    {
     "data": {
      "text/plain": [
       "other       133\n",
       "services     98\n",
       "at_home      58\n",
       "teacher      55\n",
       "health       32\n",
       "Name: Mjob, dtype: int64"
      ]
     },
     "metadata": {},
     "output_type": "display_data"
    },
    {
     "name": "stdout",
     "output_type": "stream",
     "text": [
      "<class 'pandas.core.frame.DataFrame'>\n",
      "RangeIndex: 395 entries, 0 to 394\n",
      "Data columns (total 1 columns):\n",
      " #   Column  Non-Null Count  Dtype \n",
      "---  ------  --------------  ----- \n",
      " 0   Mjob    376 non-null    object\n",
      "dtypes: object(1)\n",
      "memory usage: 3.2+ KB\n"
     ]
    },
    {
     "data": {
      "text/plain": [
       "None"
      ]
     },
     "metadata": {},
     "output_type": "display_data"
    }
   ],
   "source": [
    "common_info('Mjob')"
   ]
  },
  {
   "cell_type": "markdown",
   "id": "a54af280",
   "metadata": {},
   "source": [
    "Некорректных значений в столбце нет. Среди значений пять вариантов. На данном этапе рассмотрение столбца закончено."
   ]
  },
  {
   "cell_type": "markdown",
   "id": "32ae9336",
   "metadata": {},
   "source": [
    "### Столбец **Fjob** "
   ]
  },
  {
   "cell_type": "code",
   "execution_count": 19,
   "id": "e4fc122e",
   "metadata": {},
   "outputs": [
    {
     "data": {
      "text/plain": [
       "other       197\n",
       "services    102\n",
       "teacher      29\n",
       "at_home      16\n",
       "health       15\n",
       "Name: Fjob, dtype: int64"
      ]
     },
     "metadata": {},
     "output_type": "display_data"
    },
    {
     "name": "stdout",
     "output_type": "stream",
     "text": [
      "<class 'pandas.core.frame.DataFrame'>\n",
      "RangeIndex: 395 entries, 0 to 394\n",
      "Data columns (total 1 columns):\n",
      " #   Column  Non-Null Count  Dtype \n",
      "---  ------  --------------  ----- \n",
      " 0   Fjob    359 non-null    object\n",
      "dtypes: object(1)\n",
      "memory usage: 3.2+ KB\n"
     ]
    },
    {
     "data": {
      "text/plain": [
       "None"
      ]
     },
     "metadata": {},
     "output_type": "display_data"
    }
   ],
   "source": [
    "common_info('Fjob')"
   ]
  },
  {
   "cell_type": "markdown",
   "id": "ed67edbe",
   "metadata": {},
   "source": [
    "Некорректных значений в столбце нет. Среди значений пять вариантов. На данном этапе рассмотрение столбца закончено."
   ]
  },
  {
   "cell_type": "markdown",
   "id": "37703ae2",
   "metadata": {},
   "source": [
    "### Столбец **reason** "
   ]
  },
  {
   "cell_type": "code",
   "execution_count": 20,
   "id": "ade27060",
   "metadata": {},
   "outputs": [
    {
     "data": {
      "text/plain": [
       "course        137\n",
       "home          104\n",
       "reputation    103\n",
       "other          34\n",
       "Name: reason, dtype: int64"
      ]
     },
     "metadata": {},
     "output_type": "display_data"
    },
    {
     "name": "stdout",
     "output_type": "stream",
     "text": [
      "<class 'pandas.core.frame.DataFrame'>\n",
      "RangeIndex: 395 entries, 0 to 394\n",
      "Data columns (total 1 columns):\n",
      " #   Column  Non-Null Count  Dtype \n",
      "---  ------  --------------  ----- \n",
      " 0   reason  378 non-null    object\n",
      "dtypes: object(1)\n",
      "memory usage: 3.2+ KB\n"
     ]
    },
    {
     "data": {
      "text/plain": [
       "None"
      ]
     },
     "metadata": {},
     "output_type": "display_data"
    }
   ],
   "source": [
    "common_info('reason')"
   ]
  },
  {
   "cell_type": "markdown",
   "id": "3f26b340",
   "metadata": {},
   "source": [
    "Некорректных значений в столбце нет. Среди значений четыре возможных вараинта. На данном этапе рассмотрение столбца закончено."
   ]
  },
  {
   "cell_type": "markdown",
   "id": "c11f02d3",
   "metadata": {},
   "source": [
    "### Столбец **guardian** "
   ]
  },
  {
   "cell_type": "code",
   "execution_count": 21,
   "id": "fe89912f",
   "metadata": {},
   "outputs": [
    {
     "data": {
      "text/plain": [
       "mother    250\n",
       "father     86\n",
       "other      28\n",
       "Name: guardian, dtype: int64"
      ]
     },
     "metadata": {},
     "output_type": "display_data"
    },
    {
     "name": "stdout",
     "output_type": "stream",
     "text": [
      "<class 'pandas.core.frame.DataFrame'>\n",
      "RangeIndex: 395 entries, 0 to 394\n",
      "Data columns (total 1 columns):\n",
      " #   Column    Non-Null Count  Dtype \n",
      "---  ------    --------------  ----- \n",
      " 0   guardian  364 non-null    object\n",
      "dtypes: object(1)\n",
      "memory usage: 3.2+ KB\n"
     ]
    },
    {
     "data": {
      "text/plain": [
       "None"
      ]
     },
     "metadata": {},
     "output_type": "display_data"
    }
   ],
   "source": [
    "common_info('guardian')"
   ]
  },
  {
   "cell_type": "markdown",
   "id": "37910392",
   "metadata": {},
   "source": [
    "Некорректных значений в столбце нет. Среди значений три два возможных вараинта. На данном этапе рассмотрение столбца закончено."
   ]
  },
  {
   "cell_type": "markdown",
   "id": "0f8fc111",
   "metadata": {},
   "source": [
    "### Столбец **traveltime**"
   ]
  },
  {
   "cell_type": "code",
   "execution_count": 22,
   "id": "b319cea6",
   "metadata": {},
   "outputs": [
    {
     "data": {
      "text/plain": [
       "1.0    242\n",
       "2.0     96\n",
       "3.0     22\n",
       "4.0      7\n",
       "Name: traveltime, dtype: int64"
      ]
     },
     "metadata": {},
     "output_type": "display_data"
    },
    {
     "name": "stdout",
     "output_type": "stream",
     "text": [
      "<class 'pandas.core.frame.DataFrame'>\n",
      "RangeIndex: 395 entries, 0 to 394\n",
      "Data columns (total 1 columns):\n",
      " #   Column      Non-Null Count  Dtype  \n",
      "---  ------      --------------  -----  \n",
      " 0   traveltime  367 non-null    float64\n",
      "dtypes: float64(1)\n",
      "memory usage: 3.2 KB\n"
     ]
    },
    {
     "data": {
      "text/plain": [
       "None"
      ]
     },
     "metadata": {},
     "output_type": "display_data"
    }
   ],
   "source": [
    "common_info('traveltime')"
   ]
  },
  {
   "cell_type": "code",
   "execution_count": 23,
   "id": "05694b67",
   "metadata": {},
   "outputs": [
    {
     "data": {
      "text/plain": [
       "1.0"
      ]
     },
     "execution_count": 23,
     "metadata": {},
     "output_type": "execute_result"
    },
    {
     "data": {
      "image/png": "[encoded data removed]",
      "text/plain": [
       "<Figure size 432x288 with 1 Axes>"
      ]
     },
     "metadata": {
      "needs_background": "light"
     },
     "output_type": "display_data"
    }
   ],
   "source": [
    "students.traveltime.hist()\n",
    "students.traveltime.median()"
   ]
  },
  {
   "cell_type": "markdown",
   "id": "cd5db4aa",
   "metadata": {},
   "source": [
    "Большинство учеников живет в непосредственной близости от школы, о чем свидетельствует распределение данных на графике и медиана. Занчение 1 - подразумеывает, что ученик тратит менее 15 минут на дорогу.\n",
    "\n",
    "Некорректных значений в столбце нет. На данном этапе рассмотрение столбца закончено."
   ]
  },
  {
   "cell_type": "markdown",
   "id": "1d24fc60",
   "metadata": {},
   "source": [
    "### Столбец **studytime** "
   ]
  },
  {
   "cell_type": "code",
   "execution_count": 24,
   "id": "05d05a48",
   "metadata": {},
   "outputs": [
    {
     "data": {
      "text/plain": [
       "2.0    194\n",
       "1.0    103\n",
       "3.0     64\n",
       "4.0     27\n",
       "Name: studytime, dtype: int64"
      ]
     },
     "metadata": {},
     "output_type": "display_data"
    },
    {
     "name": "stdout",
     "output_type": "stream",
     "text": [
      "<class 'pandas.core.frame.DataFrame'>\n",
      "RangeIndex: 395 entries, 0 to 394\n",
      "Data columns (total 1 columns):\n",
      " #   Column     Non-Null Count  Dtype  \n",
      "---  ------     --------------  -----  \n",
      " 0   studytime  388 non-null    float64\n",
      "dtypes: float64(1)\n",
      "memory usage: 3.2 KB\n"
     ]
    },
    {
     "data": {
      "text/plain": [
       "None"
      ]
     },
     "metadata": {},
     "output_type": "display_data"
    }
   ],
   "source": [
    "common_info('studytime')"
   ]
  },
  {
   "cell_type": "code",
   "execution_count": 25,
   "id": "8b380aa6",
   "metadata": {},
   "outputs": [
    {
     "data": {
      "text/plain": [
       "2.0"
      ]
     },
     "execution_count": 25,
     "metadata": {},
     "output_type": "execute_result"
    },
    {
     "data": {
      "image/png": "[encoded data removed]",
      "text/plain": [
       "<Figure size 432x288 with 1 Axes>"
      ]
     },
     "metadata": {
      "needs_background": "light"
     },
     "output_type": "display_data"
    }
   ],
   "source": [
    "students.studytime.hist()\n",
    "students.studytime.median()"
   ]
  },
  {
   "cell_type": "markdown",
   "id": "ab1264f2",
   "metadata": {},
   "source": [
    "БОльшая часть учеников тратит от 2 до 5 часов на учебу вне школы.\n",
    "Некорректных значений в столбце нет. На данном этапе рассмотрение столбца закончено."
   ]
  },
  {
   "cell_type": "markdown",
   "id": "da1af61a",
   "metadata": {},
   "source": [
    "### Столбец **failures**  "
   ]
  },
  {
   "cell_type": "code",
   "execution_count": 26,
   "id": "5f813673",
   "metadata": {},
   "outputs": [
    {
     "data": {
      "text/plain": [
       "0.0    293\n",
       "1.0     49\n",
       "2.0     16\n",
       "3.0     15\n",
       "Name: failures, dtype: int64"
      ]
     },
     "metadata": {},
     "output_type": "display_data"
    },
    {
     "name": "stdout",
     "output_type": "stream",
     "text": [
      "<class 'pandas.core.frame.DataFrame'>\n",
      "RangeIndex: 395 entries, 0 to 394\n",
      "Data columns (total 1 columns):\n",
      " #   Column    Non-Null Count  Dtype  \n",
      "---  ------    --------------  -----  \n",
      " 0   failures  373 non-null    float64\n",
      "dtypes: float64(1)\n",
      "memory usage: 3.2 KB\n"
     ]
    },
    {
     "data": {
      "text/plain": [
       "None"
      ]
     },
     "metadata": {},
     "output_type": "display_data"
    }
   ],
   "source": [
    "common_info('failures')"
   ]
  },
  {
   "cell_type": "markdown",
   "id": "d04baeb8",
   "metadata": {},
   "source": [
    "Подавляющее число учеников не сталкивались с внеучебными неудачами.\n",
    "\n",
    "Некорректных значений в столбце нет."
   ]
  },
  {
   "cell_type": "markdown",
   "id": "59a049e6",
   "metadata": {},
   "source": [
    "### Столбец **schoolsup**  "
   ]
  },
  {
   "cell_type": "code",
   "execution_count": 27,
   "id": "a79c9729",
   "metadata": {},
   "outputs": [
    {
     "data": {
      "text/plain": [
       "no     335\n",
       "yes     51\n",
       "Name: schoolsup, dtype: int64"
      ]
     },
     "metadata": {},
     "output_type": "display_data"
    },
    {
     "name": "stdout",
     "output_type": "stream",
     "text": [
      "<class 'pandas.core.frame.DataFrame'>\n",
      "RangeIndex: 395 entries, 0 to 394\n",
      "Data columns (total 1 columns):\n",
      " #   Column     Non-Null Count  Dtype \n",
      "---  ------     --------------  ----- \n",
      " 0   schoolsup  386 non-null    object\n",
      "dtypes: object(1)\n",
      "memory usage: 3.2+ KB\n"
     ]
    },
    {
     "data": {
      "text/plain": [
       "None"
      ]
     },
     "metadata": {},
     "output_type": "display_data"
    }
   ],
   "source": [
    "common_info('schoolsup')"
   ]
  },
  {
   "cell_type": "markdown",
   "id": "262cedd1",
   "metadata": {},
   "source": [
    "Некорректных значений в столбце нет. Среди значений всего два возможных вараинта."
   ]
  },
  {
   "cell_type": "markdown",
   "id": "66516cd8",
   "metadata": {},
   "source": [
    "### Столбец **famsup**  "
   ]
  },
  {
   "cell_type": "code",
   "execution_count": 28,
   "id": "cfbb295a",
   "metadata": {},
   "outputs": [
    {
     "data": {
      "text/plain": [
       "yes    219\n",
       "no     137\n",
       "Name: famsup, dtype: int64"
      ]
     },
     "metadata": {},
     "output_type": "display_data"
    },
    {
     "name": "stdout",
     "output_type": "stream",
     "text": [
      "<class 'pandas.core.frame.DataFrame'>\n",
      "RangeIndex: 395 entries, 0 to 394\n",
      "Data columns (total 1 columns):\n",
      " #   Column  Non-Null Count  Dtype \n",
      "---  ------  --------------  ----- \n",
      " 0   famsup  356 non-null    object\n",
      "dtypes: object(1)\n",
      "memory usage: 3.2+ KB\n"
     ]
    },
    {
     "data": {
      "text/plain": [
       "None"
      ]
     },
     "metadata": {},
     "output_type": "display_data"
    }
   ],
   "source": [
    "common_info('famsup')"
   ]
  },
  {
   "cell_type": "markdown",
   "id": "162a6b42",
   "metadata": {},
   "source": [
    "Некорректных значений в столбце нет. Среди значений всего два возможных вараинта."
   ]
  },
  {
   "cell_type": "markdown",
   "id": "bf26a72a",
   "metadata": {},
   "source": [
    "### Столбец **paid**  "
   ]
  },
  {
   "cell_type": "code",
   "execution_count": 29,
   "id": "6f13c9f0",
   "metadata": {},
   "outputs": [
    {
     "data": {
      "text/plain": [
       "no     200\n",
       "yes    155\n",
       "Name: paid, dtype: int64"
      ]
     },
     "metadata": {},
     "output_type": "display_data"
    },
    {
     "name": "stdout",
     "output_type": "stream",
     "text": [
      "<class 'pandas.core.frame.DataFrame'>\n",
      "RangeIndex: 395 entries, 0 to 394\n",
      "Data columns (total 1 columns):\n",
      " #   Column  Non-Null Count  Dtype \n",
      "---  ------  --------------  ----- \n",
      " 0   paid    355 non-null    object\n",
      "dtypes: object(1)\n",
      "memory usage: 3.2+ KB\n"
     ]
    },
    {
     "data": {
      "text/plain": [
       "None"
      ]
     },
     "metadata": {},
     "output_type": "display_data"
    }
   ],
   "source": [
    "common_info('paid')"
   ]
  },
  {
   "cell_type": "markdown",
   "id": "0372e97f",
   "metadata": {},
   "source": [
    "Некорректных значений в столбце нет. Среди значений всего два возможных вараинта."
   ]
  },
  {
   "cell_type": "markdown",
   "id": "ca60469d",
   "metadata": {},
   "source": [
    "### Столбец **activities**  "
   ]
  },
  {
   "cell_type": "code",
   "execution_count": 30,
   "id": "38505cb8",
   "metadata": {},
   "outputs": [
    {
     "data": {
      "text/plain": [
       "yes    195\n",
       "no     186\n",
       "Name: activities, dtype: int64"
      ]
     },
     "metadata": {},
     "output_type": "display_data"
    },
    {
     "name": "stdout",
     "output_type": "stream",
     "text": [
      "<class 'pandas.core.frame.DataFrame'>\n",
      "RangeIndex: 395 entries, 0 to 394\n",
      "Data columns (total 1 columns):\n",
      " #   Column      Non-Null Count  Dtype \n",
      "---  ------      --------------  ----- \n",
      " 0   activities  381 non-null    object\n",
      "dtypes: object(1)\n",
      "memory usage: 3.2+ KB\n"
     ]
    },
    {
     "data": {
      "text/plain": [
       "None"
      ]
     },
     "metadata": {},
     "output_type": "display_data"
    }
   ],
   "source": [
    "common_info('activities')"
   ]
  },
  {
   "cell_type": "markdown",
   "id": "b6f2ca39",
   "metadata": {},
   "source": [
    "Некорректных значений в столбце нет. Среди значений всего два возможных вараинта."
   ]
  },
  {
   "cell_type": "markdown",
   "id": "5e43929b",
   "metadata": {},
   "source": [
    "### Столбец **nursery**\n"
   ]
  },
  {
   "cell_type": "code",
   "execution_count": 31,
   "id": "10f09bb3",
   "metadata": {},
   "outputs": [
    {
     "data": {
      "text/plain": [
       "yes    300\n",
       "no      79\n",
       "Name: nursery, dtype: int64"
      ]
     },
     "metadata": {},
     "output_type": "display_data"
    },
    {
     "name": "stdout",
     "output_type": "stream",
     "text": [
      "<class 'pandas.core.frame.DataFrame'>\n",
      "RangeIndex: 395 entries, 0 to 394\n",
      "Data columns (total 1 columns):\n",
      " #   Column   Non-Null Count  Dtype \n",
      "---  ------   --------------  ----- \n",
      " 0   nursery  379 non-null    object\n",
      "dtypes: object(1)\n",
      "memory usage: 3.2+ KB\n"
     ]
    },
    {
     "data": {
      "text/plain": [
       "None"
      ]
     },
     "metadata": {},
     "output_type": "display_data"
    }
   ],
   "source": [
    "common_info('nursery')"
   ]
  },
  {
   "cell_type": "markdown",
   "id": "a51f2be4",
   "metadata": {},
   "source": [
    "Некорректных значений в столбце нет. Среди значений всего два возможных вараинта."
   ]
  },
  {
   "cell_type": "markdown",
   "id": "8d59bbb3",
   "metadata": {},
   "source": [
    "### Столбец **studytime_granular** "
   ]
  },
  {
   "cell_type": "code",
   "execution_count": 32,
   "id": "0c2e79df",
   "metadata": {
    "scrolled": true
   },
   "outputs": [
    {
     "data": {
      "text/plain": [
       "-6.0     194\n",
       "-3.0     103\n",
       "-9.0      64\n",
       "-12.0     27\n",
       "Name: studytime_granular, dtype: int64"
      ]
     },
     "metadata": {},
     "output_type": "display_data"
    },
    {
     "name": "stdout",
     "output_type": "stream",
     "text": [
      "<class 'pandas.core.frame.DataFrame'>\n",
      "RangeIndex: 395 entries, 0 to 394\n",
      "Data columns (total 1 columns):\n",
      " #   Column              Non-Null Count  Dtype  \n",
      "---  ------              --------------  -----  \n",
      " 0   studytime_granular  388 non-null    float64\n",
      "dtypes: float64(1)\n",
      "memory usage: 3.2 KB\n"
     ]
    },
    {
     "data": {
      "text/plain": [
       "None"
      ]
     },
     "metadata": {},
     "output_type": "display_data"
    }
   ],
   "source": [
    "common_info('studytime_granular')"
   ]
  },
  {
   "cell_type": "markdown",
   "id": "415698d1",
   "metadata": {},
   "source": [
    "Вероятно, данный столбец означает время, затрачиваемое на учебу в школе. Время измеряется в часах, но представлено с отрицательными значениеями. Заменим отрицательные значения на положительные."
   ]
  },
  {
   "cell_type": "code",
   "execution_count": 33,
   "id": "1b710ecf",
   "metadata": {},
   "outputs": [],
   "source": [
    "students.studytime_granular = students.studytime_granular.apply(lambda x: -1*x)"
   ]
  },
  {
   "cell_type": "code",
   "execution_count": 34,
   "id": "50704b4e",
   "metadata": {},
   "outputs": [
    {
     "data": {
      "text/plain": [
       "6.0"
      ]
     },
     "execution_count": 34,
     "metadata": {},
     "output_type": "execute_result"
    },
    {
     "data": {
      "image/png": "[encoded data removed]",
      "text/plain": [
       "<Figure size 432x288 with 1 Axes>"
      ]
     },
     "metadata": {
      "needs_background": "light"
     },
     "output_type": "display_data"
    }
   ],
   "source": [
    "students.studytime_granular.hist(bins=20)\n",
    "students.studytime_granular.median()"
   ]
  },
  {
   "cell_type": "markdown",
   "id": "585f5253",
   "metadata": {},
   "source": [
    "Неописанный в задании параметр. Пока не ясно, его значение."
   ]
  },
  {
   "cell_type": "markdown",
   "id": "6319395f",
   "metadata": {},
   "source": [
    "### Столбец **higher** "
   ]
  },
  {
   "cell_type": "code",
   "execution_count": 35,
   "id": "e975895b",
   "metadata": {},
   "outputs": [
    {
     "data": {
      "text/plain": [
       "yes    356\n",
       "no      19\n",
       "Name: higher, dtype: int64"
      ]
     },
     "metadata": {},
     "output_type": "display_data"
    },
    {
     "name": "stdout",
     "output_type": "stream",
     "text": [
      "<class 'pandas.core.frame.DataFrame'>\n",
      "RangeIndex: 395 entries, 0 to 394\n",
      "Data columns (total 1 columns):\n",
      " #   Column  Non-Null Count  Dtype \n",
      "---  ------  --------------  ----- \n",
      " 0   higher  375 non-null    object\n",
      "dtypes: object(1)\n",
      "memory usage: 3.2+ KB\n"
     ]
    },
    {
     "data": {
      "text/plain": [
       "None"
      ]
     },
     "metadata": {},
     "output_type": "display_data"
    }
   ],
   "source": [
    "common_info('higher')"
   ]
  },
  {
   "cell_type": "markdown",
   "id": "067f999f",
   "metadata": {},
   "source": [
    "Подавляющее большинство детей хотят получить высшее образование. Среди значений всего два возможных вараинта."
   ]
  },
  {
   "cell_type": "markdown",
   "id": "ed257423",
   "metadata": {},
   "source": [
    "### Столбец **internet** "
   ]
  },
  {
   "cell_type": "code",
   "execution_count": 36,
   "id": "7c77daca",
   "metadata": {},
   "outputs": [
    {
     "data": {
      "text/plain": [
       "yes    305\n",
       "no      56\n",
       "Name: internet, dtype: int64"
      ]
     },
     "metadata": {},
     "output_type": "display_data"
    },
    {
     "name": "stdout",
     "output_type": "stream",
     "text": [
      "<class 'pandas.core.frame.DataFrame'>\n",
      "RangeIndex: 395 entries, 0 to 394\n",
      "Data columns (total 1 columns):\n",
      " #   Column    Non-Null Count  Dtype \n",
      "---  ------    --------------  ----- \n",
      " 0   internet  361 non-null    object\n",
      "dtypes: object(1)\n",
      "memory usage: 3.2+ KB\n"
     ]
    },
    {
     "data": {
      "text/plain": [
       "None"
      ]
     },
     "metadata": {},
     "output_type": "display_data"
    }
   ],
   "source": [
    "common_info('internet')"
   ]
  },
  {
   "cell_type": "markdown",
   "id": "1579b1c2",
   "metadata": {},
   "source": [
    "Некорректных значений в столбце нет. Среди значений всего два возможных вараинта."
   ]
  },
  {
   "cell_type": "markdown",
   "id": "516698ab",
   "metadata": {},
   "source": [
    "### Столбец **romantic** "
   ]
  },
  {
   "cell_type": "code",
   "execution_count": 37,
   "id": "372d89c8",
   "metadata": {},
   "outputs": [
    {
     "data": {
      "text/plain": [
       "no     240\n",
       "yes    124\n",
       "Name: romantic, dtype: int64"
      ]
     },
     "metadata": {},
     "output_type": "display_data"
    },
    {
     "name": "stdout",
     "output_type": "stream",
     "text": [
      "<class 'pandas.core.frame.DataFrame'>\n",
      "RangeIndex: 395 entries, 0 to 394\n",
      "Data columns (total 1 columns):\n",
      " #   Column    Non-Null Count  Dtype \n",
      "---  ------    --------------  ----- \n",
      " 0   romantic  364 non-null    object\n",
      "dtypes: object(1)\n",
      "memory usage: 3.2+ KB\n"
     ]
    },
    {
     "data": {
      "text/plain": [
       "None"
      ]
     },
     "metadata": {},
     "output_type": "display_data"
    }
   ],
   "source": [
    "common_info('romantic')"
   ]
  },
  {
   "cell_type": "markdown",
   "id": "c22265ac",
   "metadata": {},
   "source": [
    "Некорректных значений в столбце нет. Среди значений всего два возможных вараинта."
   ]
  },
  {
   "cell_type": "markdown",
   "id": "579fd1a8",
   "metadata": {},
   "source": [
    "### Столбец **famrel** "
   ]
  },
  {
   "cell_type": "code",
   "execution_count": 38,
   "id": "76568344",
   "metadata": {},
   "outputs": [
    {
     "data": {
      "text/plain": [
       " 4.0    182\n",
       " 5.0     99\n",
       " 3.0     62\n",
       " 2.0     17\n",
       " 1.0      7\n",
       "-1.0      1\n",
       "Name: famrel, dtype: int64"
      ]
     },
     "metadata": {},
     "output_type": "display_data"
    },
    {
     "name": "stdout",
     "output_type": "stream",
     "text": [
      "<class 'pandas.core.frame.DataFrame'>\n",
      "RangeIndex: 395 entries, 0 to 394\n",
      "Data columns (total 1 columns):\n",
      " #   Column  Non-Null Count  Dtype  \n",
      "---  ------  --------------  -----  \n",
      " 0   famrel  368 non-null    float64\n",
      "dtypes: float64(1)\n",
      "memory usage: 3.2 KB\n"
     ]
    },
    {
     "data": {
      "text/plain": [
       "None"
      ]
     },
     "metadata": {},
     "output_type": "display_data"
    }
   ],
   "source": [
    "common_info('famrel')"
   ]
  },
  {
   "cell_type": "markdown",
   "id": "04c34713",
   "metadata": {},
   "source": [
    "Присутствует одно некорректное значение оценки. -1 - не ясно, это ошибочно поставленный минус, отсутствие оценки или показатель, что отношения в семье \"пробили дно\". Заменим данное значение на NaN."
   ]
  },
  {
   "cell_type": "code",
   "execution_count": 39,
   "id": "c2079ae6",
   "metadata": {},
   "outputs": [],
   "source": [
    "students.loc[students['famrel'] == -1.0, 'famrel'] = np.nan"
   ]
  },
  {
   "cell_type": "markdown",
   "id": "d4f18304",
   "metadata": {},
   "source": [
    "Некорректных значений в столбце нет."
   ]
  },
  {
   "cell_type": "markdown",
   "id": "db165289",
   "metadata": {},
   "source": [
    "### Столбец **freetime** "
   ]
  },
  {
   "cell_type": "code",
   "execution_count": 40,
   "id": "3ab7fbcd",
   "metadata": {},
   "outputs": [
    {
     "data": {
      "text/plain": [
       "3.0    153\n",
       "4.0    112\n",
       "2.0     63\n",
       "5.0     38\n",
       "1.0     18\n",
       "Name: freetime, dtype: int64"
      ]
     },
     "metadata": {},
     "output_type": "display_data"
    },
    {
     "name": "stdout",
     "output_type": "stream",
     "text": [
      "<class 'pandas.core.frame.DataFrame'>\n",
      "RangeIndex: 395 entries, 0 to 394\n",
      "Data columns (total 1 columns):\n",
      " #   Column    Non-Null Count  Dtype  \n",
      "---  ------    --------------  -----  \n",
      " 0   freetime  384 non-null    float64\n",
      "dtypes: float64(1)\n",
      "memory usage: 3.2 KB\n"
     ]
    },
    {
     "data": {
      "text/plain": [
       "None"
      ]
     },
     "metadata": {},
     "output_type": "display_data"
    }
   ],
   "source": [
    "common_info('freetime')"
   ]
  },
  {
   "cell_type": "code",
   "execution_count": 41,
   "id": "649f05ed",
   "metadata": {
    "scrolled": true
   },
   "outputs": [
    {
     "data": {
      "text/plain": [
       "3.0"
      ]
     },
     "execution_count": 41,
     "metadata": {},
     "output_type": "execute_result"
    },
    {
     "data": {
      "image/png": "[encoded data removed]",
      "text/plain": [
       "<Figure size 432x288 with 1 Axes>"
      ]
     },
     "metadata": {
      "needs_background": "light"
     },
     "output_type": "display_data"
    }
   ],
   "source": [
    "students.freetime.hist(bins=20)\n",
    "students.freetime.median()"
   ]
  },
  {
   "cell_type": "markdown",
   "id": "a0c28ae7",
   "metadata": {},
   "source": [
    "Распределение похоже на нормальное. В целом у детей достаточное количество свободного времени.\n",
    "\n",
    "Некорректных значений в столбце нет."
   ]
  },
  {
   "cell_type": "markdown",
   "id": "04a03cdc",
   "metadata": {},
   "source": [
    "### Столбец **goout** "
   ]
  },
  {
   "cell_type": "code",
   "execution_count": 42,
   "id": "9eaae9a4",
   "metadata": {},
   "outputs": [
    {
     "data": {
      "text/plain": [
       "3.0    127\n",
       "2.0    101\n",
       "4.0     84\n",
       "5.0     52\n",
       "1.0     23\n",
       "Name: goout, dtype: int64"
      ]
     },
     "metadata": {},
     "output_type": "display_data"
    },
    {
     "name": "stdout",
     "output_type": "stream",
     "text": [
      "<class 'pandas.core.frame.DataFrame'>\n",
      "RangeIndex: 395 entries, 0 to 394\n",
      "Data columns (total 1 columns):\n",
      " #   Column  Non-Null Count  Dtype  \n",
      "---  ------  --------------  -----  \n",
      " 0   goout   387 non-null    float64\n",
      "dtypes: float64(1)\n",
      "memory usage: 3.2 KB\n"
     ]
    },
    {
     "data": {
      "text/plain": [
       "None"
      ]
     },
     "metadata": {},
     "output_type": "display_data"
    }
   ],
   "source": [
    "common_info('goout')"
   ]
  },
  {
   "cell_type": "code",
   "execution_count": 43,
   "id": "aa02cb5c",
   "metadata": {},
   "outputs": [
    {
     "data": {
      "text/plain": [
       "3.0"
      ]
     },
     "execution_count": 43,
     "metadata": {},
     "output_type": "execute_result"
    },
    {
     "data": {
      "image/png": "[encoded data removed]",
      "text/plain": [
       "<Figure size 432x288 with 1 Axes>"
      ]
     },
     "metadata": {
      "needs_background": "light"
     },
     "output_type": "display_data"
    }
   ],
   "source": [
    "students.goout.hist()\n",
    "students.goout.median()"
   ]
  },
  {
   "cell_type": "markdown",
   "id": "2fe8d3aa",
   "metadata": {},
   "source": [
    "Столбец схож со значением freetime, скорее всего, данные кореллируют. Такое же нормальное распределение.\n",
    "\n",
    "Некорректных значений в столбце нет."
   ]
  },
  {
   "cell_type": "markdown",
   "id": "ca68613a",
   "metadata": {},
   "source": [
    "### Столбец **health** "
   ]
  },
  {
   "cell_type": "code",
   "execution_count": 44,
   "id": "23cadabd",
   "metadata": {},
   "outputs": [
    {
     "data": {
      "text/plain": [
       "5.0    138\n",
       "3.0     89\n",
       "4.0     63\n",
       "1.0     47\n",
       "2.0     43\n",
       "Name: health, dtype: int64"
      ]
     },
     "metadata": {},
     "output_type": "display_data"
    },
    {
     "name": "stdout",
     "output_type": "stream",
     "text": [
      "<class 'pandas.core.frame.DataFrame'>\n",
      "RangeIndex: 395 entries, 0 to 394\n",
      "Data columns (total 1 columns):\n",
      " #   Column  Non-Null Count  Dtype  \n",
      "---  ------  --------------  -----  \n",
      " 0   health  380 non-null    float64\n",
      "dtypes: float64(1)\n",
      "memory usage: 3.2 KB\n"
     ]
    },
    {
     "data": {
      "text/plain": [
       "None"
      ]
     },
     "metadata": {},
     "output_type": "display_data"
    }
   ],
   "source": [
    "common_info('health')"
   ]
  },
  {
   "cell_type": "code",
   "execution_count": 45,
   "id": "f1170627",
   "metadata": {},
   "outputs": [
    {
     "data": {
      "text/plain": [
       "4.0"
      ]
     },
     "execution_count": 45,
     "metadata": {},
     "output_type": "execute_result"
    },
    {
     "data": {
      "image/png": "[encoded data removed]",
      "text/plain": [
       "<Figure size 432x288 with 1 Axes>"
      ]
     },
     "metadata": {
      "needs_background": "light"
     },
     "output_type": "display_data"
    }
   ],
   "source": [
    "students.health.hist()\n",
    "students.health.median()"
   ]
  },
  {
   "cell_type": "markdown",
   "id": "aca56d1d",
   "metadata": {},
   "source": [
    "Некорректных значений в столбце нет."
   ]
  },
  {
   "cell_type": "markdown",
   "id": "16944857",
   "metadata": {},
   "source": [
    "### Столбец **absences** "
   ]
  },
  {
   "cell_type": "code",
   "execution_count": 46,
   "id": "7ba63681",
   "metadata": {},
   "outputs": [
    {
     "data": {
      "text/plain": [
       "0.0      111\n",
       "2.0       60\n",
       "4.0       53\n",
       "6.0       31\n",
       "8.0       21\n",
       "10.0      17\n",
       "14.0      12\n",
       "12.0      12\n",
       "3.0        8\n",
       "16.0       7\n",
       "7.0        6\n",
       "18.0       5\n",
       "5.0        5\n",
       "20.0       4\n",
       "9.0        3\n",
       "22.0       3\n",
       "1.0        3\n",
       "13.0       2\n",
       "15.0       2\n",
       "11.0       2\n",
       "40.0       1\n",
       "38.0       1\n",
       "56.0       1\n",
       "23.0       1\n",
       "24.0       1\n",
       "25.0       1\n",
       "385.0      1\n",
       "17.0       1\n",
       "75.0       1\n",
       "21.0       1\n",
       "212.0      1\n",
       "28.0       1\n",
       "19.0       1\n",
       "26.0       1\n",
       "30.0       1\n",
       "54.0       1\n",
       "Name: absences, dtype: int64"
      ]
     },
     "metadata": {},
     "output_type": "display_data"
    },
    {
     "name": "stdout",
     "output_type": "stream",
     "text": [
      "<class 'pandas.core.frame.DataFrame'>\n",
      "RangeIndex: 395 entries, 0 to 394\n",
      "Data columns (total 1 columns):\n",
      " #   Column    Non-Null Count  Dtype  \n",
      "---  ------    --------------  -----  \n",
      " 0   absences  383 non-null    float64\n",
      "dtypes: float64(1)\n",
      "memory usage: 3.2 KB\n"
     ]
    },
    {
     "data": {
      "text/plain": [
       "None"
      ]
     },
     "metadata": {},
     "output_type": "display_data"
    }
   ],
   "source": [
    "common_info('absences')"
   ]
  },
  {
   "cell_type": "code",
   "execution_count": 47,
   "id": "c403797c",
   "metadata": {},
   "outputs": [
    {
     "data": {
      "text/plain": [
       "4.0"
      ]
     },
     "execution_count": 47,
     "metadata": {},
     "output_type": "execute_result"
    },
    {
     "data": {
      "image/png": "[encoded data removed]",
      "text/plain": [
       "<Figure size 432x288 with 1 Axes>"
      ]
     },
     "metadata": {
      "needs_background": "light"
     },
     "output_type": "display_data"
    }
   ],
   "source": [
    "students.absences.hist()\n",
    "students.absences.median()"
   ]
  },
  {
   "cell_type": "markdown",
   "id": "032c5413",
   "metadata": {},
   "source": [
    "Присутствуют выбросы. В следующем разделе будет рассмотрен вопрос отсчечения."
   ]
  },
  {
   "cell_type": "markdown",
   "id": "5ef02e83",
   "metadata": {},
   "source": [
    "### Столбец **score** "
   ]
  },
  {
   "cell_type": "code",
   "execution_count": 48,
   "id": "570083ad",
   "metadata": {},
   "outputs": [
    {
     "data": {
      "text/plain": [
       "50.0     54\n",
       "55.0     46\n",
       "0.0      37\n",
       "75.0     33\n",
       "65.0     31\n",
       "60.0     31\n",
       "40.0     31\n",
       "45.0     27\n",
       "70.0     27\n",
       "80.0     16\n",
       "30.0     15\n",
       "90.0     12\n",
       "35.0      9\n",
       "25.0      7\n",
       "85.0      6\n",
       "95.0      5\n",
       "20.0      1\n",
       "100.0     1\n",
       "Name: score, dtype: int64"
      ]
     },
     "metadata": {},
     "output_type": "display_data"
    },
    {
     "name": "stdout",
     "output_type": "stream",
     "text": [
      "<class 'pandas.core.frame.DataFrame'>\n",
      "RangeIndex: 395 entries, 0 to 394\n",
      "Data columns (total 1 columns):\n",
      " #   Column  Non-Null Count  Dtype  \n",
      "---  ------  --------------  -----  \n",
      " 0   score   389 non-null    float64\n",
      "dtypes: float64(1)\n",
      "memory usage: 3.2 KB\n"
     ]
    },
    {
     "data": {
      "text/plain": [
       "None"
      ]
     },
     "metadata": {},
     "output_type": "display_data"
    }
   ],
   "source": [
    "common_info('score')"
   ]
  },
  {
   "cell_type": "markdown",
   "id": "2d0cf155",
   "metadata": {},
   "source": [
    "В целевом показателе присутствуют пропуски. Строки с пропусками удаляем."
   ]
  },
  {
   "cell_type": "code",
   "execution_count": 49,
   "id": "2d3f3267",
   "metadata": {},
   "outputs": [],
   "source": [
    "students = students[~(np.isnan(students.score))]"
   ]
  },
  {
   "cell_type": "code",
   "execution_count": 50,
   "id": "fe033909",
   "metadata": {
    "scrolled": true
   },
   "outputs": [
    {
     "data": {
      "text/plain": [
       "55.0"
      ]
     },
     "execution_count": 50,
     "metadata": {},
     "output_type": "execute_result"
    },
    {
     "data": {
      "image/png": "[encoded data removed]",
      "text/plain": [
       "<Figure size 432x288 with 1 Axes>"
      ]
     },
     "metadata": {
      "needs_background": "light"
     },
     "output_type": "display_data"
    }
   ],
   "source": [
    "students.score.hist()\n",
    "students.score.median()"
   ]
  },
  {
   "cell_type": "markdown",
   "id": "42168442",
   "metadata": {},
   "source": [
    "Гистограмма выглядит так, как будто присутствуют выбросы. В следующем разделе вопрос выбросов будет рассмотрен подробнее."
   ]
  },
  {
   "cell_type": "markdown",
   "id": "dd42d4c6",
   "metadata": {},
   "source": [
    "# 2. Анализ распределения признаков числовых переменных."
   ]
  },
  {
   "cell_type": "markdown",
   "id": "2d5fcece",
   "metadata": {},
   "source": [
    "### Столбец **age** "
   ]
  },
  {
   "cell_type": "code",
   "execution_count": 51,
   "id": "744e35f8",
   "metadata": {},
   "outputs": [
    {
     "name": "stdout",
     "output_type": "stream",
     "text": [
      "Определение выбросов по межквартильному методу:\n",
      "Для столбца age min-значение: 13.0 , max-значение: 21.0\n"
     ]
    },
    {
     "data": {
      "image/png": "[encoded data removed]",
      "text/plain": [
       "<Figure size 432x288 with 2 Axes>"
      ]
     },
     "metadata": {
      "needs_background": "light"
     },
     "output_type": "display_data"
    }
   ],
   "source": [
    "numeric_col_info('age')"
   ]
  },
  {
   "cell_type": "markdown",
   "id": "089467c9",
   "metadata": {},
   "source": [
    "Присутствуют выбросы. Однако, в условии задания оговорены возрастные рамки выборки, поэтому устранять данный выброс смысла не имеет."
   ]
  },
  {
   "cell_type": "markdown",
   "id": "657c8d27",
   "metadata": {},
   "source": [
    "### Столбец **Medu**"
   ]
  },
  {
   "cell_type": "code",
   "execution_count": 52,
   "id": "20861c25",
   "metadata": {},
   "outputs": [
    {
     "name": "stdout",
     "output_type": "stream",
     "text": [
      "Определение выбросов по межквартильному методу:\n",
      "Для столбца Medu min-значение: -1.0 , max-значение: 7.0\n"
     ]
    },
    {
     "data": {
      "image/png": "[encoded data removed]",
      "text/plain": [
       "<Figure size 432x288 with 2 Axes>"
      ]
     },
     "metadata": {
      "needs_background": "light"
     },
     "output_type": "display_data"
    }
   ],
   "source": [
    "numeric_col_info('Medu')"
   ]
  },
  {
   "cell_type": "markdown",
   "id": "b8109957",
   "metadata": {},
   "source": [
    "Выбросы отсутствуют."
   ]
  },
  {
   "cell_type": "markdown",
   "id": "7990babf",
   "metadata": {},
   "source": [
    "### Столбец **Fedu**"
   ]
  },
  {
   "cell_type": "code",
   "execution_count": 53,
   "id": "6646c94e",
   "metadata": {},
   "outputs": [
    {
     "name": "stdout",
     "output_type": "stream",
     "text": [
      "Определение выбросов по межквартильному методу:\n",
      "Для столбца Fedu min-значение: 0.5 , max-значение: 4.5\n"
     ]
    },
    {
     "data": {
      "image/png": "[encoded data removed]",
      "text/plain": [
       "<Figure size 432x288 with 2 Axes>"
      ]
     },
     "metadata": {
      "needs_background": "light"
     },
     "output_type": "display_data"
    }
   ],
   "source": [
    "numeric_col_info('Fedu')"
   ]
  },
  {
   "cell_type": "markdown",
   "id": "9fb640dd",
   "metadata": {},
   "source": [
    "Присутствуют выборсы. Удаляем строки, содержащие выборсы."
   ]
  },
  {
   "cell_type": "code",
   "execution_count": 54,
   "id": "287495fe",
   "metadata": {},
   "outputs": [],
   "source": [
    "remove_outliers('Fedu', min_out=True, max_out=True)"
   ]
  },
  {
   "cell_type": "markdown",
   "id": "1aa0db8c",
   "metadata": {},
   "source": [
    "### Столбец **traveltime**"
   ]
  },
  {
   "cell_type": "code",
   "execution_count": 55,
   "id": "898a644e",
   "metadata": {
    "scrolled": true
   },
   "outputs": [
    {
     "name": "stdout",
     "output_type": "stream",
     "text": [
      "Определение выбросов по межквартильному методу:\n",
      "Для столбца traveltime min-значение: -0.5 , max-значение: 3.5\n"
     ]
    },
    {
     "data": {
      "image/png": "[encoded data removed]",
      "text/plain": [
       "<Figure size 432x288 with 2 Axes>"
      ]
     },
     "metadata": {
      "needs_background": "light"
     },
     "output_type": "display_data"
    }
   ],
   "source": [
    "numeric_col_info('traveltime')"
   ]
  },
  {
   "cell_type": "markdown",
   "id": "4a3c5789",
   "metadata": {},
   "source": [
    "Присутствуют выбросы. Удаляем их с помощью межквартильного метода."
   ]
  },
  {
   "cell_type": "code",
   "execution_count": 56,
   "id": "3513cafe",
   "metadata": {},
   "outputs": [],
   "source": [
    "remove_outliers('traveltime', min_out=True, max_out=True)"
   ]
  },
  {
   "cell_type": "markdown",
   "id": "70704254",
   "metadata": {},
   "source": [
    "### Столбец **studytime**"
   ]
  },
  {
   "cell_type": "code",
   "execution_count": 57,
   "id": "670bbd38",
   "metadata": {},
   "outputs": [
    {
     "name": "stdout",
     "output_type": "stream",
     "text": [
      "Определение выбросов по межквартильному методу:\n",
      "Для столбца studytime min-значение: -0.5 , max-значение: 3.5\n"
     ]
    },
    {
     "data": {
      "image/png": "[encoded data removed]",
      "text/plain": [
       "<Figure size 432x288 with 2 Axes>"
      ]
     },
     "metadata": {
      "needs_background": "light"
     },
     "output_type": "display_data"
    }
   ],
   "source": [
    "numeric_col_info('studytime')"
   ]
  },
  {
   "cell_type": "markdown",
   "id": "25fbec0b",
   "metadata": {},
   "source": [
    "Присутствуют выбросы. Удаляем их с помощью межквартильного метода."
   ]
  },
  {
   "cell_type": "code",
   "execution_count": 58,
   "id": "136a379d",
   "metadata": {},
   "outputs": [],
   "source": [
    "remove_outliers('studytime', min_out=True, max_out=True)"
   ]
  },
  {
   "cell_type": "markdown",
   "id": "cde10b9e",
   "metadata": {},
   "source": [
    "### Столбец **failures**"
   ]
  },
  {
   "cell_type": "code",
   "execution_count": 59,
   "id": "896784cb",
   "metadata": {},
   "outputs": [
    {
     "data": {
      "text/plain": [
       "<AxesSubplot:>"
      ]
     },
     "execution_count": 59,
     "metadata": {},
     "output_type": "execute_result"
    },
    {
     "data": {
      "image/png": "[encoded data removed]",
      "text/plain": [
       "<Figure size 432x288 with 1 Axes>"
      ]
     },
     "metadata": {
      "needs_background": "light"
     },
     "output_type": "display_data"
    }
   ],
   "source": [
    "students.failures.hist()"
   ]
  },
  {
   "cell_type": "markdown",
   "id": "3a7fc791",
   "metadata": {},
   "source": [
    "При такой распределении выбросами являются любые значения, отличные от 0. Однако, данный признак может быть важен и влиять на целевой показатель."
   ]
  },
  {
   "cell_type": "markdown",
   "id": "f770e30e",
   "metadata": {},
   "source": [
    "### Столбец **studytime_granular**"
   ]
  },
  {
   "cell_type": "code",
   "execution_count": 60,
   "id": "aa2df2f6",
   "metadata": {},
   "outputs": [
    {
     "name": "stdout",
     "output_type": "stream",
     "text": [
      "Определение выбросов по межквартильному методу:\n",
      "Для столбца studytime_granular min-значение: -1.5 , max-значение: 10.5\n"
     ]
    },
    {
     "data": {
      "image/png": "[encoded data removed]",
      "text/plain": [
       "<Figure size 432x288 with 2 Axes>"
      ]
     },
     "metadata": {
      "needs_background": "light"
     },
     "output_type": "display_data"
    }
   ],
   "source": [
    "numeric_col_info('studytime_granular')"
   ]
  },
  {
   "cell_type": "markdown",
   "id": "7611018b",
   "metadata": {},
   "source": [
    "Присутствуют выбросы. Удаляем их с помощью межквартильного метода."
   ]
  },
  {
   "cell_type": "code",
   "execution_count": 61,
   "id": "d412226f",
   "metadata": {},
   "outputs": [],
   "source": [
    "remove_outliers('studytime_granular', min_out=True, max_out=True)"
   ]
  },
  {
   "cell_type": "code",
   "execution_count": 62,
   "id": "b8b324a2",
   "metadata": {},
   "outputs": [
    {
     "name": "stdout",
     "output_type": "stream",
     "text": [
      "Определение выбросов по межквартильному методу:\n",
      "Для столбца studytime_granular min-значение: -1.5 , max-значение: 10.5\n"
     ]
    },
    {
     "data": {
      "image/png": "[encoded data removed]",
      "text/plain": [
       "<Figure size 432x288 with 2 Axes>"
      ]
     },
     "metadata": {
      "needs_background": "light"
     },
     "output_type": "display_data"
    }
   ],
   "source": [
    "numeric_col_info('studytime_granular')"
   ]
  },
  {
   "cell_type": "markdown",
   "id": "62e39fc0",
   "metadata": {},
   "source": [
    "Выбросов устранены."
   ]
  },
  {
   "cell_type": "markdown",
   "id": "305f0715",
   "metadata": {},
   "source": [
    "### Столбец **famrel**"
   ]
  },
  {
   "cell_type": "code",
   "execution_count": 63,
   "id": "3da5df78",
   "metadata": {},
   "outputs": [
    {
     "name": "stdout",
     "output_type": "stream",
     "text": [
      "Определение выбросов по межквартильному методу:\n",
      "Для столбца famrel min-значение: 2.5 , max-значение: 6.5\n"
     ]
    },
    {
     "data": {
      "image/png": "[encoded data removed]",
      "text/plain": [
       "<Figure size 432x288 with 2 Axes>"
      ]
     },
     "metadata": {
      "needs_background": "light"
     },
     "output_type": "display_data"
    }
   ],
   "source": [
    "numeric_col_info('famrel')"
   ]
  },
  {
   "cell_type": "markdown",
   "id": "27fe0fb2",
   "metadata": {},
   "source": [
    "Присутствуют выбросы. Отношения в семье могут выступать важным индикатором и влиять на целевой результат. На мой взгляд, не стоит устранять выбросы в данном столбце."
   ]
  },
  {
   "cell_type": "markdown",
   "id": "5ca8769a",
   "metadata": {},
   "source": [
    "### Столбец **freetime**"
   ]
  },
  {
   "cell_type": "markdown",
   "id": "ea0b4b87",
   "metadata": {},
   "source": [
    "В предыдущем разделе было высказано предположение о корелляции данных свободного времени и времени, проведенного с друзьями. Проверим эту теорию."
   ]
  },
  {
   "cell_type": "code",
   "execution_count": 64,
   "id": "46a041a9",
   "metadata": {},
   "outputs": [
    {
     "data": {
      "text/html": [
       "<div>\n",
       "<style scoped>\n",
       "    .dataframe tbody tr th:only-of-type {\n",
       "        vertical-align: middle;\n",
       "    }\n",
       "\n",
       "    .dataframe tbody tr th {\n",
       "        vertical-align: top;\n",
       "    }\n",
       "\n",
       "    .dataframe thead th {\n",
       "        text-align: right;\n",
       "    }\n",
       "</style>\n",
       "<table border=\"1\" class=\"dataframe\">\n",
       "  <thead>\n",
       "    <tr style=\"text-align: right;\">\n",
       "      <th></th>\n",
       "      <th>freetime</th>\n",
       "      <th>goout</th>\n",
       "    </tr>\n",
       "  </thead>\n",
       "  <tbody>\n",
       "    <tr>\n",
       "      <th>freetime</th>\n",
       "      <td>1.000000</td>\n",
       "      <td>0.231155</td>\n",
       "    </tr>\n",
       "    <tr>\n",
       "      <th>goout</th>\n",
       "      <td>0.231155</td>\n",
       "      <td>1.000000</td>\n",
       "    </tr>\n",
       "  </tbody>\n",
       "</table>\n",
       "</div>"
      ],
      "text/plain": [
       "          freetime     goout\n",
       "freetime  1.000000  0.231155\n",
       "goout     0.231155  1.000000"
      ]
     },
     "execution_count": 64,
     "metadata": {},
     "output_type": "execute_result"
    }
   ],
   "source": [
    "students.loc[:, ['freetime', 'goout']].corr()"
   ]
  },
  {
   "cell_type": "markdown",
   "id": "fc0b9d4a",
   "metadata": {},
   "source": [
    "Судя по коэффициентам корелляции, взаимосвязь двух параметров отсутствует."
   ]
  },
  {
   "cell_type": "code",
   "execution_count": 65,
   "id": "118f7837",
   "metadata": {},
   "outputs": [
    {
     "name": "stdout",
     "output_type": "stream",
     "text": [
      "Определение выбросов по межквартильному методу:\n",
      "Для столбца freetime min-значение: 1.5 , max-значение: 5.5\n"
     ]
    },
    {
     "data": {
      "image/png": "[encoded data removed]",
      "text/plain": [
       "<Figure size 432x288 with 2 Axes>"
      ]
     },
     "metadata": {
      "needs_background": "light"
     },
     "output_type": "display_data"
    }
   ],
   "source": [
    "numeric_col_info('freetime')"
   ]
  },
  {
   "cell_type": "markdown",
   "id": "4be4555b",
   "metadata": {},
   "source": [
    "Присутствуют выбросы. Удаляем их с помощью межквартильного метода."
   ]
  },
  {
   "cell_type": "code",
   "execution_count": 66,
   "id": "51adf9ae",
   "metadata": {},
   "outputs": [
    {
     "name": "stdout",
     "output_type": "stream",
     "text": [
      "Определение выбросов по межквартильному методу:\n",
      "Для столбца freetime min-значение: 1.5 , max-значение: 5.5\n"
     ]
    },
    {
     "data": {
      "image/png": "[encoded data removed]",
      "text/plain": [
       "<Figure size 432x288 with 2 Axes>"
      ]
     },
     "metadata": {
      "needs_background": "light"
     },
     "output_type": "display_data"
    }
   ],
   "source": [
    "remove_outliers('freetime', min_out=True, max_out=True)\n",
    "numeric_col_info('freetime')"
   ]
  },
  {
   "cell_type": "markdown",
   "id": "7584036e",
   "metadata": {},
   "source": [
    "### Столбец **goout**"
   ]
  },
  {
   "cell_type": "code",
   "execution_count": 67,
   "id": "4c1a7743",
   "metadata": {
    "scrolled": true
   },
   "outputs": [
    {
     "name": "stdout",
     "output_type": "stream",
     "text": [
      "Определение выбросов по межквартильному методу:\n",
      "Для столбца goout min-значение: -1.0 , max-значение: 7.0\n"
     ]
    },
    {
     "data": {
      "image/png": "[encoded data removed]",
      "text/plain": [
       "<Figure size 432x288 with 2 Axes>"
      ]
     },
     "metadata": {
      "needs_background": "light"
     },
     "output_type": "display_data"
    }
   ],
   "source": [
    "numeric_col_info('goout')"
   ]
  },
  {
   "cell_type": "markdown",
   "id": "70e532d7",
   "metadata": {},
   "source": [
    "Выбросы отсутствуют."
   ]
  },
  {
   "cell_type": "markdown",
   "id": "265f90b2",
   "metadata": {},
   "source": [
    "### Столбец **health**"
   ]
  },
  {
   "cell_type": "code",
   "execution_count": 68,
   "id": "2e2ca5b2",
   "metadata": {},
   "outputs": [
    {
     "name": "stdout",
     "output_type": "stream",
     "text": [
      "Определение выбросов по межквартильному методу:\n",
      "Для столбца health min-значение: -2.5 , max-значение: 9.5\n"
     ]
    },
    {
     "data": {
      "image/png": "[encoded data removed]",
      "text/plain": [
       "<Figure size 432x288 with 2 Axes>"
      ]
     },
     "metadata": {
      "needs_background": "light"
     },
     "output_type": "display_data"
    }
   ],
   "source": [
    "numeric_col_info('health')"
   ]
  },
  {
   "cell_type": "markdown",
   "id": "fcc19407",
   "metadata": {},
   "source": [
    "Выбросов нет."
   ]
  },
  {
   "cell_type": "markdown",
   "id": "d33ed568",
   "metadata": {},
   "source": [
    "### Столбец **absences**"
   ]
  },
  {
   "cell_type": "code",
   "execution_count": 69,
   "id": "fa55d919",
   "metadata": {},
   "outputs": [
    {
     "name": "stdout",
     "output_type": "stream",
     "text": [
      "Определение выбросов по межквартильному методу:\n",
      "Для столбца absences min-значение: -12.0 , max-значение: 20.0\n"
     ]
    },
    {
     "data": {
      "image/png": "[encoded data removed]",
      "text/plain": [
       "<Figure size 432x288 with 2 Axes>"
      ]
     },
     "metadata": {
      "needs_background": "light"
     },
     "output_type": "display_data"
    }
   ],
   "source": [
    "numeric_col_info('absences')"
   ]
  },
  {
   "cell_type": "markdown",
   "id": "7fc7fa78",
   "metadata": {},
   "source": [
    "Присутствуют выбросы. Удаляем их с помощью межквартильного метода."
   ]
  },
  {
   "cell_type": "code",
   "execution_count": 70,
   "id": "eb07afc9",
   "metadata": {},
   "outputs": [
    {
     "name": "stdout",
     "output_type": "stream",
     "text": [
      "Определение выбросов по межквартильному методу:\n",
      "Для столбца absences min-значение: -10.125 , max-значение: 16.875\n"
     ]
    },
    {
     "data": {
      "image/png": "[encoded data removed]",
      "text/plain": [
       "<Figure size 432x288 with 2 Axes>"
      ]
     },
     "metadata": {
      "needs_background": "light"
     },
     "output_type": "display_data"
    }
   ],
   "source": [
    "remove_outliers('absences', min_out=True, max_out=True)\n",
    "numeric_col_info('absences')"
   ]
  },
  {
   "cell_type": "markdown",
   "id": "917f840b",
   "metadata": {},
   "source": [
    "Даже после одной процедуры устранения выбросов, с точки зрения межквартильного метода, выбросы остались. Но если еще сильнее усечь выборку, возможна потеря большой части данных."
   ]
  },
  {
   "cell_type": "markdown",
   "id": "09e9a69e",
   "metadata": {},
   "source": [
    "### Столбец **score**"
   ]
  },
  {
   "cell_type": "code",
   "execution_count": 71,
   "id": "835ac640",
   "metadata": {},
   "outputs": [
    {
     "name": "stdout",
     "output_type": "stream",
     "text": [
      "Определение выбросов по межквартильному методу:\n",
      "Для столбца score min-значение: 2.5 , max-значение: 102.5\n"
     ]
    },
    {
     "data": {
      "image/png": "[encoded data removed]",
      "text/plain": [
       "<Figure size 432x288 with 2 Axes>"
      ]
     },
     "metadata": {
      "needs_background": "light"
     },
     "output_type": "display_data"
    }
   ],
   "source": [
    "numeric_col_info('score')"
   ]
  },
  {
   "cell_type": "markdown",
   "id": "d0e1757b",
   "metadata": {},
   "source": [
    "Присутствуют выбросы. Удаляем их с помощью межквартильного метода."
   ]
  },
  {
   "cell_type": "code",
   "execution_count": 72,
   "id": "fd79e7e2",
   "metadata": {
    "scrolled": true
   },
   "outputs": [
    {
     "name": "stdout",
     "output_type": "stream",
     "text": [
      "Определение выбросов по межквартильному методу:\n",
      "Для столбца score min-значение: 7.5 , max-значение: 107.5\n"
     ]
    },
    {
     "data": {
      "image/png": "[encoded data removed]",
      "text/plain": [
       "<Figure size 432x288 with 2 Axes>"
      ]
     },
     "metadata": {
      "needs_background": "light"
     },
     "output_type": "display_data"
    }
   ],
   "source": [
    "remove_outliers('score', min_out=True, max_out=True)\n",
    "numeric_col_info('score')"
   ]
  },
  {
   "cell_type": "markdown",
   "id": "6da02a86",
   "metadata": {},
   "source": [
    "Выбросы устранены."
   ]
  },
  {
   "cell_type": "markdown",
   "id": "e3a94038",
   "metadata": {},
   "source": [
    "# 3. Корелляционный анализ."
   ]
  },
  {
   "cell_type": "markdown",
   "id": "a20b3fb6",
   "metadata": {},
   "source": [
    "Построим тепловую карту для числовых столбцов, данные в которых есть отношения порядка."
   ]
  },
  {
   "cell_type": "code",
   "execution_count": 73,
   "id": "1b795565",
   "metadata": {},
   "outputs": [
    {
     "data": {
      "text/plain": [
       "<AxesSubplot:>"
      ]
     },
     "execution_count": 73,
     "metadata": {},
     "output_type": "execute_result"
    },
    {
     "data": {
      "image/png": "[encoded data removed]",
      "text/plain": [
       "<Figure size 720x720 with 2 Axes>"
      ]
     },
     "metadata": {
      "needs_background": "light"
     },
     "output_type": "display_data"
    }
   ],
   "source": [
    "stud_numeric_cols = students.loc[:, ['age', 'Fedu', 'Medu', 'traveltime', 'studytime',\n",
    "                                     'failures', 'studytime_granular', 'famrel', 'freetime', 'goout', 'health', 'score']]\n",
    "fig, ax = plt.subplots(figsize=[10, 10])\n",
    "matrix = np.triu(stud_numeric_cols.corr())\n",
    "sns.heatmap(stud_numeric_cols.corr(), annot=True, mask=matrix)"
   ]
  },
  {
   "cell_type": "markdown",
   "id": "90e2c1a4",
   "metadata": {},
   "source": [
    "Исходя из данных, есть две пары параметров, значения которых достаточно сильно скореллированы. "
   ]
  },
  {
   "cell_type": "markdown",
   "id": "97596d96",
   "metadata": {},
   "source": [
    "### 3.1. Fedu и Medu\n",
    "Параметры имеют корелляцию 0.62, таким образом существует связь между уровнем образования супругов, но степень корелляции не достаточна высока (<0.7) для того, чтобы удалить один из столбцов."
   ]
  },
  {
   "cell_type": "markdown",
   "id": "33489c41",
   "metadata": {},
   "source": [
    "## 3.2. studytime и studytime_granular"
   ]
  },
  {
   "cell_type": "markdown",
   "id": "b8126d71",
   "metadata": {},
   "source": [
    "Данные параметры имеют коэффициент корреляции 1, это очень высокое значение, говорящее, что, скорее всего, представленные два параметра являются отображением одной и той же сущности.\n",
    "Удаляем стобцем studytime_granular."
   ]
  },
  {
   "cell_type": "code",
   "execution_count": 74,
   "id": "3ade653e",
   "metadata": {},
   "outputs": [],
   "source": [
    "students.drop('studytime_granular', 1, inplace=True)"
   ]
  },
  {
   "cell_type": "markdown",
   "id": "bc228e0b",
   "metadata": {},
   "source": [
    "### 3.3. Корелляция числовых параметров с целевым параметром."
   ]
  },
  {
   "cell_type": "markdown",
   "id": "7c3878bd",
   "metadata": {},
   "source": [
    "Еще раз взглянем на тепловую карту."
   ]
  },
  {
   "cell_type": "code",
   "execution_count": 75,
   "id": "14767b02",
   "metadata": {},
   "outputs": [
    {
     "data": {
      "text/plain": [
       "<AxesSubplot:>"
      ]
     },
     "execution_count": 75,
     "metadata": {},
     "output_type": "execute_result"
    },
    {
     "data": {
      "image/png": "[encoded data removed]",
      "text/plain": [
       "<Figure size 720x720 with 2 Axes>"
      ]
     },
     "metadata": {
      "needs_background": "light"
     },
     "output_type": "display_data"
    }
   ],
   "source": [
    "stud_numeric_cols = students.loc[:, ['age', 'Fedu', 'Medu', 'traveltime',\n",
    "                                     'studytime', 'failures', 'famrel', 'freetime', 'goout', 'health', 'score']]\n",
    "fig, ax = plt.subplots(figsize=[10, 10])\n",
    "matrix = np.triu(stud_numeric_cols.corr())\n",
    "sns.heatmap(stud_numeric_cols.corr(), annot=True, mask=matrix)"
   ]
  },
  {
   "cell_type": "markdown",
   "id": "790837d5",
   "metadata": {},
   "source": [
    "Пять из десяти параметров имеют коэффициент корелляции в диапазоне 0.01-0.09. Это низкий коэфициент, но ввиду того, что количество параметров не велико, оставляем все."
   ]
  },
  {
   "cell_type": "markdown",
   "id": "f5ecd0cf",
   "metadata": {},
   "source": [
    "# 4. Заполнение пропусков."
   ]
  },
  {
   "cell_type": "markdown",
   "id": "bbf10bb9",
   "metadata": {},
   "source": [
    "Выведем процентное соотношение пропусков и абсолютное значение по столбцам."
   ]
  },
  {
   "cell_type": "code",
   "execution_count": 76,
   "id": "43e97fa5",
   "metadata": {},
   "outputs": [
    {
     "name": "stdout",
     "output_type": "stream",
     "text": [
      "address - 4% - | 9 qty\n",
      "famsize - 6% - | 13 qty\n",
      "Pstatus - 9% - | 21 qty\n",
      "Medu - 1% - | 2 qty\n",
      "Mjob - 4% - | 10 qty\n",
      "Fjob - 8% - | 18 qty\n",
      "reason - 6% - | 13 qty\n",
      "guardian - 10% - | 24 qty\n",
      "failures - 4% - | 9 qty\n",
      "schoolsup - 3% - | 8 qty\n",
      "famsup - 8% - | 19 qty\n",
      "paid - 10% - | 24 qty\n",
      "activities - 5% - | 12 qty\n",
      "nursery - 5% - | 11 qty\n",
      "higher - 5% - | 12 qty\n",
      "internet - 10% - | 23 qty\n",
      "romantic - 7% - | 17 qty\n",
      "famrel - 8% - | 18 qty\n",
      "goout - 2% - | 4 qty\n",
      "health - 3% - | 6 qty\n"
     ]
    }
   ],
   "source": [
    "for col in students.columns:\n",
    "    pct_missing = np.mean(students[col].isnull())\n",
    "    if students[students[col].isnull()].index.size > 0:\n",
    "        print('{} - {}% - | {} qty'.format(col, round(pct_missing*100),\n",
    "              students[students[col].isnull()].index.size))"
   ]
  },
  {
   "cell_type": "markdown",
   "id": "301365c0",
   "metadata": {},
   "source": [
    "В номинативных признаках заменим проупски на значение \"noinfo\"."
   ]
  },
  {
   "cell_type": "code",
   "execution_count": 77,
   "id": "2e000b57",
   "metadata": {},
   "outputs": [],
   "source": [
    "# Получим список номинативных столбцов с пропусками и числовых (заодно)\n",
    "str_columns = []\n",
    "num_columns = []\n",
    "for col in students.columns:\n",
    "    if students[students[col].isnull()].index.size > 0:\n",
    "        if students[col].dtype == 'object':\n",
    "            str_columns.append(col)\n",
    "        else:\n",
    "            num_columns.append(col)\n",
    "\n",
    "empty_val = 'noinfo'\n",
    "# Заменяем в номинативных столбцах пропуски\n",
    "for col in str_columns:\n",
    "    students[col] = students[col].apply(\n",
    "        lambda x: empty_val if pd.isnull(x) else x)"
   ]
  },
  {
   "cell_type": "code",
   "execution_count": 78,
   "id": "394ddb52",
   "metadata": {},
   "outputs": [
    {
     "name": "stdout",
     "output_type": "stream",
     "text": [
      "Medu - 1% - | 2 qty\n",
      "failures - 4% - | 9 qty\n",
      "famrel - 8% - | 18 qty\n",
      "goout - 2% - | 4 qty\n",
      "health - 3% - | 6 qty\n"
     ]
    }
   ],
   "source": [
    "for col in students.columns:\n",
    "    pct_missing = np.mean(students[col].isnull())\n",
    "    if students[students[col].isnull()].index.size > 0:\n",
    "        print('{} - {}% - | {} qty'.format(col, round(pct_missing*100),\n",
    "              students[students[col].isnull()].index.size))"
   ]
  },
  {
   "cell_type": "markdown",
   "id": "0b2af231",
   "metadata": {},
   "source": [
    "Для заполнения пропущенных числовых значений используем класс IterativeImputer от SKlearn, который моделирует каждый параметр с пропущенными значениями в зависимости от других параметров и использует эту оценку для восстановления."
   ]
  },
  {
   "cell_type": "code",
   "execution_count": 79,
   "id": "a705d225",
   "metadata": {},
   "outputs": [
    {
     "name": "stderr",
     "output_type": "stream",
     "text": [
      "<ipython-input-79-9712b6dbe59e>:11: UserWarning: Boolean Series key will be reindexed to match DataFrame index.\n",
      "  example = students.head(50)[students.any(axis='columns')].copy()\n"
     ]
    }
   ],
   "source": [
    "# Получем список столбцов датасета с числовыми значениями\n",
    "num_columns_names = []\n",
    "for col in students.columns:\n",
    "    if students[col].dtype == 'float' or students[col].dtype == 'int':\n",
    "        num_columns_names.append(col)\n",
    "\n",
    "# Сбрасываем индекс для датафрейма students\n",
    "students = students.reset_index(drop=True)\n",
    "\n",
    "# Получаем первые 50 образцов, не содержащих пропусков вообще.\n",
    "example = students.head(50)[students.any(axis='columns')].copy()\n",
    "# Оставляем только числовые столбцы\n",
    "example = example[num_columns_names]\n",
    "\n",
    "imp1 = IterativeImputer(max_iter=10, random_state=0)\n",
    "# Тренируем модель\n",
    "imp1.fit(example)\n",
    "\n",
    "IterativeImputer(random_state=0)\n",
    "\n",
    "# Получаем матрицу с заполненными значениями\n",
    "tst = abs(np.round(imp1.transform(students[num_columns_names]), 0))\n",
    "filled_vals = pd.DataFrame(tst, columns=num_columns_names)\n",
    "students[num_columns_names] = filled_vals[num_columns_names]"
   ]
  },
  {
   "cell_type": "markdown",
   "id": "b676ac2a",
   "metadata": {},
   "source": [
    "Еще раз проверяем на наличие пропусков."
   ]
  },
  {
   "cell_type": "code",
   "execution_count": 80,
   "id": "7c223e4f",
   "metadata": {},
   "outputs": [
    {
     "name": "stdout",
     "output_type": "stream",
     "text": [
      "<class 'pandas.core.frame.DataFrame'>\n",
      "RangeIndex: 236 entries, 0 to 235\n",
      "Data columns (total 29 columns):\n",
      " #   Column      Non-Null Count  Dtype  \n",
      "---  ------      --------------  -----  \n",
      " 0   school      236 non-null    object \n",
      " 1   sex         236 non-null    object \n",
      " 2   age         236 non-null    int64  \n",
      " 3   address     236 non-null    object \n",
      " 4   famsize     236 non-null    object \n",
      " 5   Pstatus     236 non-null    object \n",
      " 6   Medu        236 non-null    float64\n",
      " 7   Fedu        236 non-null    float64\n",
      " 8   Mjob        236 non-null    object \n",
      " 9   Fjob        236 non-null    object \n",
      " 10  reason      236 non-null    object \n",
      " 11  guardian    236 non-null    object \n",
      " 12  traveltime  236 non-null    float64\n",
      " 13  studytime   236 non-null    float64\n",
      " 14  failures    236 non-null    float64\n",
      " 15  schoolsup   236 non-null    object \n",
      " 16  famsup      236 non-null    object \n",
      " 17  paid        236 non-null    object \n",
      " 18  activities  236 non-null    object \n",
      " 19  nursery     236 non-null    object \n",
      " 20  higher      236 non-null    object \n",
      " 21  internet    236 non-null    object \n",
      " 22  romantic    236 non-null    object \n",
      " 23  famrel      236 non-null    float64\n",
      " 24  freetime    236 non-null    float64\n",
      " 25  goout       236 non-null    float64\n",
      " 26  health      236 non-null    float64\n",
      " 27  absences    236 non-null    float64\n",
      " 28  score       236 non-null    float64\n",
      "dtypes: float64(11), int64(1), object(17)\n",
      "memory usage: 53.6+ KB\n"
     ]
    }
   ],
   "source": [
    "students.info()"
   ]
  },
  {
   "cell_type": "markdown",
   "id": "d06ff74f",
   "metadata": {},
   "source": [
    "Пропусков нет, можно переходить к следующему этапу."
   ]
  },
  {
   "cell_type": "markdown",
   "id": "8ada375d",
   "metadata": {},
   "source": [
    "# 5. Анализ номинативных переменных."
   ]
  },
  {
   "cell_type": "markdown",
   "id": "0585f1df",
   "metadata": {},
   "source": [
    "Для анализа построим боксплоты номинативных признаков."
   ]
  },
  {
   "cell_type": "code",
   "execution_count": 81,
   "id": "8907d8ef",
   "metadata": {},
   "outputs": [
    {
     "data": {
      "image/png": "[encoded data removed]",
      "text/plain": [
       "<Figure size 1008x288 with 1 Axes>"
      ]
     },
     "metadata": {
      "needs_background": "light"
     },
     "output_type": "display_data"
    },
    {
     "data": {
      "image/png": "[encoded data removed]",
      "text/plain": [
       "<Figure size 1008x288 with 1 Axes>"
      ]
     },
     "metadata": {
      "needs_background": "light"
     },
     "output_type": "display_data"
    },
    {
     "data": {
      "image/png": "[encoded data removed]",
      "text/plain": [
       "<Figure size 1008x288 with 1 Axes>"
      ]
     },
     "metadata": {
      "needs_background": "light"
     },
     "output_type": "display_data"
    },
    {
     "data": {
      "image/png": "[encoded data removed]",
      "text/plain": [
       "<Figure size 1008x288 with 1 Axes>"
      ]
     },
     "metadata": {
      "needs_background": "light"
     },
     "output_type": "display_data"
    },
    {
     "data": {
      "image/png": "[encoded data removed]",
      "text/plain": [
       "<Figure size 1008x288 with 1 Axes>"
      ]
     },
     "metadata": {
      "needs_background": "light"
     },
     "output_type": "display_data"
    },
    {
     "data": {
      "image/png": "[encoded data removed]",
      "text/plain": [
       "<Figure size 1008x288 with 1 Axes>"
      ]
     },
     "metadata": {
      "needs_background": "light"
     },
     "output_type": "display_data"
    },
    {
     "data": {
      "image/png": "[encoded data removed]",
      "text/plain": [
       "<Figure size 1008x288 with 1 Axes>"
      ]
     },
     "metadata": {
      "needs_background": "light"
     },
     "output_type": "display_data"
    },
    {
     "data": {
      "image/png": "[encoded data removed]",
      "text/plain": [
       "<Figure size 1008x288 with 1 Axes>"
      ]
     },
     "metadata": {
      "needs_background": "light"
     },
     "output_type": "display_data"
    },
    {
     "data": {
      "image/png": "[encoded data removed]",
      "text/plain": [
       "<Figure size 1008x288 with 1 Axes>"
      ]
     },
     "metadata": {
      "needs_background": "light"
     },
     "output_type": "display_data"
    },
    {
     "data": {
      "image/png": "[encoded data removed]",
      "text/plain": [
       "<Figure size 1008x288 with 1 Axes>"
      ]
     },
     "metadata": {
      "needs_background": "light"
     },
     "output_type": "display_data"
    },
    {
     "data": {
      "image/png": "[encoded data removed]",
      "text/plain": [
       "<Figure size 1008x288 with 1 Axes>"
      ]
     },
     "metadata": {
      "needs_background": "light"
     },
     "output_type": "display_data"
    },
    {
     "data": {
      "image/png": "[encoded data removed]",
      "text/plain": [
       "<Figure size 1008x288 with 1 Axes>"
      ]
     },
     "metadata": {
      "needs_background": "light"
     },
     "output_type": "display_data"
    },
    {
     "data": {
      "image/png": "[encoded data removed]",
      "text/plain": [
       "<Figure size 1008x288 with 1 Axes>"
      ]
     },
     "metadata": {
      "needs_background": "light"
     },
     "output_type": "display_data"
    },
    {
     "data": {
      "image/png": "[encoded data removed]",
      "text/plain": [
       "<Figure size 1008x288 with 1 Axes>"
      ]
     },
     "metadata": {
      "needs_background": "light"
     },
     "output_type": "display_data"
    },
    {
     "data": {
      "image/png": "[encoded data removed]",
      "text/plain": [
       "<Figure size 1008x288 with 1 Axes>"
      ]
     },
     "metadata": {
      "needs_background": "light"
     },
     "output_type": "display_data"
    },
    {
     "data": {
      "image/png": "[encoded data removed]",
      "text/plain": [
       "<Figure size 1008x288 with 1 Axes>"
      ]
     },
     "metadata": {
      "needs_background": "light"
     },
     "output_type": "display_data"
    },
    {
     "data": {
      "image/png": "[encoded data removed]",
      "text/plain": [
       "<Figure size 1008x288 with 1 Axes>"
      ]
     },
     "metadata": {
      "needs_background": "light"
     },
     "output_type": "display_data"
    }
   ],
   "source": [
    "# Получем список столбцов датасета с номинативными значениями\n",
    "str_columns_names = []\n",
    "for col in students.columns:\n",
    "    if students[col].dtype == 'object':\n",
    "        str_columns_names.append(col)\n",
    "\n",
    "for col in str_columns_names:\n",
    "    get_boxplot(col)"
   ]
  },
  {
   "cell_type": "markdown",
   "id": "c053be1b",
   "metadata": {},
   "source": [
    "Проанализировав графики, можно сделать выводы:\n",
    "1. Для параметра Pstatus боксполты значений A (родители живут раздельно) и noinfo схожи. Вероятно, пропуски были не случайны, так как дети не желают сообщать о семейных проблемах (MNAR - Missing Not At Random).\n",
    "2. Для параметра romantic боксполты значений no (респондент не в отношениях) и noinfo схожи. Вероятно, пропуски были не случайны (MNAR).\n",
    "3. Вероятно, параметры guardian, famsup, paid, activities, nursey - не будут влиять на итоговую оценку.\n",
    "\n",
    "С помощью теста Стьюдента и метода Бенджамини — Хохберга для FDR-контроля проверим, есть ли статистическая разница в распределении оценок по номинативным признакам."
   ]
  },
  {
   "cell_type": "code",
   "execution_count": 82,
   "id": "42df1df1",
   "metadata": {},
   "outputs": [
    {
     "name": "stdout",
     "output_type": "stream",
     "text": [
      "Найдены статистически значимые различия для столбца sex\n",
      "Найдены статистически значимые различия для столбца address\n",
      "Найдены статистически значимые различия для столбца schoolsup\n"
     ]
    }
   ],
   "source": [
    "for col in str_columns_names:\n",
    "    get_stat_dif(col)"
   ]
  },
  {
   "cell_type": "markdown",
   "id": "31bca6d9",
   "metadata": {},
   "source": [
    "В трех столбцах (sex, address, schoolsup) есть достаточные различия, чтобы включить их итоговый датасет. Также в итоговый датасет будут включены все числовые столбцы. Датасет для модели будет иметь следующий вид:"
   ]
  },
  {
   "cell_type": "code",
   "execution_count": 83,
   "id": "9549fc0d",
   "metadata": {},
   "outputs": [
    {
     "data": {
      "text/html": [
       "<div>\n",
       "<style scoped>\n",
       "    .dataframe tbody tr th:only-of-type {\n",
       "        vertical-align: middle;\n",
       "    }\n",
       "\n",
       "    .dataframe tbody tr th {\n",
       "        vertical-align: top;\n",
       "    }\n",
       "\n",
       "    .dataframe thead th {\n",
       "        text-align: right;\n",
       "    }\n",
       "</style>\n",
       "<table border=\"1\" class=\"dataframe\">\n",
       "  <thead>\n",
       "    <tr style=\"text-align: right;\">\n",
       "      <th></th>\n",
       "      <th>sex</th>\n",
       "      <th>address</th>\n",
       "      <th>schoolsup</th>\n",
       "      <th>Medu</th>\n",
       "      <th>Fedu</th>\n",
       "      <th>traveltime</th>\n",
       "      <th>studytime</th>\n",
       "      <th>failures</th>\n",
       "      <th>famrel</th>\n",
       "      <th>freetime</th>\n",
       "      <th>goout</th>\n",
       "      <th>health</th>\n",
       "      <th>absences</th>\n",
       "      <th>score</th>\n",
       "    </tr>\n",
       "  </thead>\n",
       "  <tbody>\n",
       "    <tr>\n",
       "      <th>0</th>\n",
       "      <td>F</td>\n",
       "      <td>U</td>\n",
       "      <td>yes</td>\n",
       "      <td>4.0</td>\n",
       "      <td>4.0</td>\n",
       "      <td>2.0</td>\n",
       "      <td>2.0</td>\n",
       "      <td>0.0</td>\n",
       "      <td>4.0</td>\n",
       "      <td>3.0</td>\n",
       "      <td>4.0</td>\n",
       "      <td>3.0</td>\n",
       "      <td>6.0</td>\n",
       "      <td>30.0</td>\n",
       "    </tr>\n",
       "    <tr>\n",
       "      <th>1</th>\n",
       "      <td>F</td>\n",
       "      <td>U</td>\n",
       "      <td>no</td>\n",
       "      <td>1.0</td>\n",
       "      <td>1.0</td>\n",
       "      <td>1.0</td>\n",
       "      <td>2.0</td>\n",
       "      <td>0.0</td>\n",
       "      <td>5.0</td>\n",
       "      <td>3.0</td>\n",
       "      <td>3.0</td>\n",
       "      <td>3.0</td>\n",
       "      <td>4.0</td>\n",
       "      <td>30.0</td>\n",
       "    </tr>\n",
       "    <tr>\n",
       "      <th>2</th>\n",
       "      <td>F</td>\n",
       "      <td>U</td>\n",
       "      <td>yes</td>\n",
       "      <td>1.0</td>\n",
       "      <td>1.0</td>\n",
       "      <td>1.0</td>\n",
       "      <td>2.0</td>\n",
       "      <td>3.0</td>\n",
       "      <td>4.0</td>\n",
       "      <td>3.0</td>\n",
       "      <td>2.0</td>\n",
       "      <td>3.0</td>\n",
       "      <td>10.0</td>\n",
       "      <td>50.0</td>\n",
       "    </tr>\n",
       "    <tr>\n",
       "      <th>3</th>\n",
       "      <td>F</td>\n",
       "      <td>U</td>\n",
       "      <td>no</td>\n",
       "      <td>4.0</td>\n",
       "      <td>2.0</td>\n",
       "      <td>1.0</td>\n",
       "      <td>3.0</td>\n",
       "      <td>0.0</td>\n",
       "      <td>3.0</td>\n",
       "      <td>2.0</td>\n",
       "      <td>2.0</td>\n",
       "      <td>5.0</td>\n",
       "      <td>2.0</td>\n",
       "      <td>75.0</td>\n",
       "    </tr>\n",
       "    <tr>\n",
       "      <th>4</th>\n",
       "      <td>F</td>\n",
       "      <td>U</td>\n",
       "      <td>no</td>\n",
       "      <td>3.0</td>\n",
       "      <td>3.0</td>\n",
       "      <td>1.0</td>\n",
       "      <td>2.0</td>\n",
       "      <td>0.0</td>\n",
       "      <td>4.0</td>\n",
       "      <td>3.0</td>\n",
       "      <td>2.0</td>\n",
       "      <td>5.0</td>\n",
       "      <td>4.0</td>\n",
       "      <td>50.0</td>\n",
       "    </tr>\n",
       "    <tr>\n",
       "      <th>...</th>\n",
       "      <td>...</td>\n",
       "      <td>...</td>\n",
       "      <td>...</td>\n",
       "      <td>...</td>\n",
       "      <td>...</td>\n",
       "      <td>...</td>\n",
       "      <td>...</td>\n",
       "      <td>...</td>\n",
       "      <td>...</td>\n",
       "      <td>...</td>\n",
       "      <td>...</td>\n",
       "      <td>...</td>\n",
       "      <td>...</td>\n",
       "      <td>...</td>\n",
       "    </tr>\n",
       "    <tr>\n",
       "      <th>231</th>\n",
       "      <td>F</td>\n",
       "      <td>U</td>\n",
       "      <td>no</td>\n",
       "      <td>3.0</td>\n",
       "      <td>1.0</td>\n",
       "      <td>1.0</td>\n",
       "      <td>2.0</td>\n",
       "      <td>0.0</td>\n",
       "      <td>4.0</td>\n",
       "      <td>3.0</td>\n",
       "      <td>4.0</td>\n",
       "      <td>1.0</td>\n",
       "      <td>0.0</td>\n",
       "      <td>40.0</td>\n",
       "    </tr>\n",
       "    <tr>\n",
       "      <th>232</th>\n",
       "      <td>M</td>\n",
       "      <td>U</td>\n",
       "      <td>no</td>\n",
       "      <td>3.0</td>\n",
       "      <td>1.0</td>\n",
       "      <td>2.0</td>\n",
       "      <td>1.0</td>\n",
       "      <td>0.0</td>\n",
       "      <td>2.0</td>\n",
       "      <td>4.0</td>\n",
       "      <td>5.0</td>\n",
       "      <td>2.0</td>\n",
       "      <td>3.0</td>\n",
       "      <td>80.0</td>\n",
       "    </tr>\n",
       "    <tr>\n",
       "      <th>233</th>\n",
       "      <td>M</td>\n",
       "      <td>R</td>\n",
       "      <td>noinfo</td>\n",
       "      <td>1.0</td>\n",
       "      <td>1.0</td>\n",
       "      <td>1.0</td>\n",
       "      <td>1.0</td>\n",
       "      <td>3.0</td>\n",
       "      <td>5.0</td>\n",
       "      <td>5.0</td>\n",
       "      <td>3.0</td>\n",
       "      <td>3.0</td>\n",
       "      <td>3.0</td>\n",
       "      <td>35.0</td>\n",
       "    </tr>\n",
       "    <tr>\n",
       "      <th>234</th>\n",
       "      <td>M</td>\n",
       "      <td>R</td>\n",
       "      <td>no</td>\n",
       "      <td>3.0</td>\n",
       "      <td>2.0</td>\n",
       "      <td>3.0</td>\n",
       "      <td>1.0</td>\n",
       "      <td>0.0</td>\n",
       "      <td>4.0</td>\n",
       "      <td>4.0</td>\n",
       "      <td>1.0</td>\n",
       "      <td>5.0</td>\n",
       "      <td>0.0</td>\n",
       "      <td>50.0</td>\n",
       "    </tr>\n",
       "    <tr>\n",
       "      <th>235</th>\n",
       "      <td>M</td>\n",
       "      <td>U</td>\n",
       "      <td>noinfo</td>\n",
       "      <td>1.0</td>\n",
       "      <td>1.0</td>\n",
       "      <td>1.0</td>\n",
       "      <td>1.0</td>\n",
       "      <td>0.0</td>\n",
       "      <td>3.0</td>\n",
       "      <td>2.0</td>\n",
       "      <td>3.0</td>\n",
       "      <td>5.0</td>\n",
       "      <td>5.0</td>\n",
       "      <td>45.0</td>\n",
       "    </tr>\n",
       "  </tbody>\n",
       "</table>\n",
       "<p>236 rows × 14 columns</p>\n",
       "</div>"
      ],
      "text/plain": [
       "    sex address schoolsup  Medu  Fedu  traveltime  studytime  failures  famrel  freetime  goout  health  absences  score\n",
       "0     F       U       yes   4.0   4.0         2.0        2.0       0.0     4.0       3.0    4.0     3.0       6.0   30.0\n",
       "1     F       U        no   1.0   1.0         1.0        2.0       0.0     5.0       3.0    3.0     3.0       4.0   30.0\n",
       "2     F       U       yes   1.0   1.0         1.0        2.0       3.0     4.0       3.0    2.0     3.0      10.0   50.0\n",
       "3     F       U        no   4.0   2.0         1.0        3.0       0.0     3.0       2.0    2.0     5.0       2.0   75.0\n",
       "4     F       U        no   3.0   3.0         1.0        2.0       0.0     4.0       3.0    2.0     5.0       4.0   50.0\n",
       "..   ..     ...       ...   ...   ...         ...        ...       ...     ...       ...    ...     ...       ...    ...\n",
       "231   F       U        no   3.0   1.0         1.0        2.0       0.0     4.0       3.0    4.0     1.0       0.0   40.0\n",
       "232   M       U        no   3.0   1.0         2.0        1.0       0.0     2.0       4.0    5.0     2.0       3.0   80.0\n",
       "233   M       R    noinfo   1.0   1.0         1.0        1.0       3.0     5.0       5.0    3.0     3.0       3.0   35.0\n",
       "234   M       R        no   3.0   2.0         3.0        1.0       0.0     4.0       4.0    1.0     5.0       0.0   50.0\n",
       "235   M       U    noinfo   1.0   1.0         1.0        1.0       0.0     3.0       2.0    3.0     5.0       5.0   45.0\n",
       "\n",
       "[236 rows x 14 columns]"
      ]
     },
     "metadata": {},
     "output_type": "display_data"
    }
   ],
   "source": [
    "stud_model = students[['sex', 'address', 'schoolsup'] + num_columns_names]\n",
    "display(stud_model)"
   ]
  },
  {
   "cell_type": "markdown",
   "id": "4bb84bb0",
   "metadata": {},
   "source": [
    "Подсчитаем количество значений noinfo (пропуск) в номинативных столбцах в итоговом датасете."
   ]
  },
  {
   "cell_type": "code",
   "execution_count": 84,
   "id": "e589894a",
   "metadata": {},
   "outputs": [
    {
     "name": "stdout",
     "output_type": "stream",
     "text": [
      "Количество значений \"noinfo\" в sex: 0\n",
      "Количество значений \"noinfo\" в address: 9\n",
      "Количество значений \"noinfo\" в schoolsup: 8\n"
     ]
    }
   ],
   "source": [
    "for col in stud_model.columns:\n",
    "    if stud_model[col].dtype == 'object':\n",
    "        print(\"Количество значений \\\"noinfo\\\" в \" + col + \": \" +\n",
    "              str(stud_model[stud_model[col] == 'noinfo'].index.size))"
   ]
  },
  {
   "cell_type": "markdown",
   "id": "8331e154",
   "metadata": {},
   "source": [
    "# 6. Выводы."
   ]
  },
  {
   "cell_type": "markdown",
   "id": "8ea537d8",
   "metadata": {},
   "source": [
    "В результате проведенного разведывательного анализа можно сделать следующие выводы:\n",
    "1. В итоговом датасете мало пропущенных значений, 9 и 8 для двух номинативных столбцах.\n",
    "2. Выбросы в числовых столбцах устранены.\n",
    "3. Отрицательные коэффициенты корелляции для параметров age, traveltime, failures, freetime, goout в целом понятны. Остается загадкой отрицательная корелляция параметра health - получается, что ухудшение самочувствия положительно сказывается на результате. Либо получение высоких оценок требует значительных умственных ресурсов, что отрицательно сказывается на здоровье.\n",
    "4. Для построения модели предлагается использовать номинативные параметры sex, address, schoolsup и все числовые."
   ]
  },
  {
   "cell_type": "code",
   "execution_count": null,
   "id": "0d2ae6f1",
   "metadata": {},
   "outputs": [],
   "source": []
  }
 ],
 "metadata": {
  "kernelspec": {
   "display_name": "Python 3",
   "language": "python",
   "name": "python3"
  },
  "language_info": {
   "codemirror_mode": {
    "name": "ipython",
    "version": 3
   },
   "file_extension": ".py",
   "mimetype": "text/x-python",
   "name": "python",
   "nbconvert_exporter": "python",
   "pygments_lexer": "ipython3",
   "version": "3.8.8"
  }
 },
 "nbformat": 4,
 "nbformat_minor": 5
}

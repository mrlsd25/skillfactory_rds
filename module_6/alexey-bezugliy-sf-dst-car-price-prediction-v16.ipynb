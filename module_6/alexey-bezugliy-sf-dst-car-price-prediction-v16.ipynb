{
 "cells": [
  {
   "cell_type": "markdown",
   "metadata": {
    "papermill": {
     "duration": 0.082634,
     "end_time": "2022-02-16T11:25:37.602757",
     "exception": false,
     "start_time": "2022-02-16T11:25:37.520123",
     "status": "completed"
    },
    "tags": []
   },
   "source": [
    "<img style=\"-webkit-user-select: none;margin: left;cursor: zoom-in;background-color: hsl(0, 0%, 90%);transition: background-color 300ms;\" src=\"https://alea-auto.ru/news-raw/img/23692.php.jpg\" width=\"640\" height=\"480\">\n",
    "\n",
    "## Прогнозирование стоимости автомобиля по характеристикам\n",
    "\n"
   ]
  },
  {
   "cell_type": "markdown",
   "metadata": {
    "papermill": {
     "duration": 0.081914,
     "end_time": "2022-02-16T11:25:37.766789",
     "exception": false,
     "start_time": "2022-02-16T11:25:37.684875",
     "status": "completed"
    },
    "tags": []
   },
   "source": [
    "Задача: создать модель, предсказывающую стоимость автомобиля по его характеристикам.\n",
    "\n",
    "По условию задачи нам необходимо собрать обучающий датасет самостоятельно. Валидационный датасет предоставлен.\n",
    "\n",
    "Победитель определяется по метрике MAPE(Mean Percentage Absolute Error), чем меньше, тем лучше."
   ]
  },
  {
   "cell_type": "markdown",
   "metadata": {
    "papermill": {
     "duration": 0.082808,
     "end_time": "2022-02-16T11:25:37.931045",
     "exception": false,
     "start_time": "2022-02-16T11:25:37.848237",
     "status": "completed"
    },
    "tags": []
   },
   "source": [
    "# Подготовка"
   ]
  },
  {
   "cell_type": "code",
   "execution_count": 1,
   "metadata": {
    "_cell_guid": "b1076dfc-b9ad-4769-8c92-a6c4dae69d19",
    "_uuid": "8f2839f25d086af736a60e9eeb907d3b93b6e0e5",
    "execution": {
     "iopub.execute_input": "2022-02-16T11:25:38.102098Z",
     "iopub.status.busy": "2022-02-16T11:25:38.101075Z",
     "iopub.status.idle": "2022-02-16T11:25:40.993272Z",
     "shell.execute_reply": "2022-02-16T11:25:40.993958Z",
     "shell.execute_reply.started": "2022-02-15T14:50:18.301753Z"
    },
    "papermill": {
     "duration": 2.979062,
     "end_time": "2022-02-16T11:25:40.994211",
     "exception": false,
     "start_time": "2022-02-16T11:25:38.015149",
     "status": "completed"
    },
    "tags": []
   },
   "outputs": [],
   "source": [
    "import numpy as np # linear algebra\n",
    "import pandas as pd # data processing, CSV file I/O (e.g. pd.read_csv)\n",
    "import sys\n",
    "from sklearn.model_selection import train_test_split\n",
    "from sklearn.model_selection import KFold\n",
    "from tqdm.notebook import tqdm\n",
    "from catboost import CatBoostRegressor\n",
    "from sklearn.preprocessing import OneHotEncoder\n",
    "from sklearn.linear_model import LinearRegression\n",
    "import matplotlib.pyplot as plt\n",
    "import seaborn as sns\n",
    "from sklearn.feature_selection import f_classif\n",
    "from sklearn.metrics import mean_squared_error as RMSE\n",
    "from sklearn.metrics import r2_score\n",
    "\n",
    "from xgboost import XGBRegressor\n",
    "from sklearn.ensemble import RandomForestRegressor,ExtraTreesRegressor\n",
    "from sklearn.base import clone\n",
    "from sklearn.ensemble import StackingRegressor\n",
    "\n",
    "from hyperopt import tpe, hp, fmin, STATUS_OK,Trials"
   ]
  },
  {
   "cell_type": "code",
   "execution_count": 2,
   "metadata": {
    "_kg_hide-input": true,
    "execution": {
     "iopub.execute_input": "2022-02-16T11:25:41.165608Z",
     "iopub.status.busy": "2022-02-16T11:25:41.164591Z",
     "iopub.status.idle": "2022-02-16T11:25:41.171868Z",
     "shell.execute_reply": "2022-02-16T11:25:41.172325Z",
     "shell.execute_reply.started": "2022-02-15T14:50:21.945971Z"
    },
    "papermill": {
     "duration": 0.09452,
     "end_time": "2022-02-16T11:25:41.172493",
     "exception": false,
     "start_time": "2022-02-16T11:25:41.077973",
     "status": "completed"
    },
    "tags": []
   },
   "outputs": [
    {
     "name": "stdout",
     "output_type": "stream",
     "text": [
      "Python       : 3.7.6 | packaged by conda-forge | (default, Mar 23 2020, 23:03:20) \n",
      "Numpy        : 1.18.5\n"
     ]
    }
   ],
   "source": [
    "print('Python       :', sys.version.split('\\n')[0])\n",
    "print('Numpy        :', np.__version__)"
   ]
  },
  {
   "cell_type": "code",
   "execution_count": 3,
   "metadata": {
    "_kg_hide-input": true,
    "execution": {
     "iopub.execute_input": "2022-02-16T11:25:41.345046Z",
     "iopub.status.busy": "2022-02-16T11:25:41.344350Z",
     "iopub.status.idle": "2022-02-16T11:25:44.180422Z",
     "shell.execute_reply": "2022-02-16T11:25:44.179123Z",
     "shell.execute_reply.started": "2022-02-15T14:50:21.951568Z"
    },
    "papermill": {
     "duration": 2.924572,
     "end_time": "2022-02-16T11:25:44.180602",
     "exception": false,
     "start_time": "2022-02-16T11:25:41.256030",
     "status": "completed"
    },
    "tags": []
   },
   "outputs": [],
   "source": [
    "# зафиксируем версию пакетов, чтобы эксперименты были воспроизводимы:\n",
    "!pip freeze > requirements.txt"
   ]
  },
  {
   "cell_type": "code",
   "execution_count": 4,
   "metadata": {
    "execution": {
     "iopub.execute_input": "2022-02-16T11:25:44.350223Z",
     "iopub.status.busy": "2022-02-16T11:25:44.349588Z",
     "iopub.status.idle": "2022-02-16T11:25:44.352729Z",
     "shell.execute_reply": "2022-02-16T11:25:44.352072Z",
     "shell.execute_reply.started": "2022-02-15T14:50:24.200782Z"
    },
    "papermill": {
     "duration": 0.089732,
     "end_time": "2022-02-16T11:25:44.352845",
     "exception": false,
     "start_time": "2022-02-16T11:25:44.263113",
     "status": "completed"
    },
    "tags": []
   },
   "outputs": [],
   "source": [
    "# всегда фиксируйте RANDOM_SEED, чтобы ваши эксперименты были воспроизводимы!\n",
    "RANDOM_SEED = 42"
   ]
  },
  {
   "cell_type": "code",
   "execution_count": 5,
   "metadata": {
    "execution": {
     "iopub.execute_input": "2022-02-16T11:25:44.522610Z",
     "iopub.status.busy": "2022-02-16T11:25:44.521918Z",
     "iopub.status.idle": "2022-02-16T11:25:44.525593Z",
     "shell.execute_reply": "2022-02-16T11:25:44.524976Z",
     "shell.execute_reply.started": "2022-02-15T14:50:24.205575Z"
    },
    "papermill": {
     "duration": 0.091585,
     "end_time": "2022-02-16T11:25:44.525725",
     "exception": false,
     "start_time": "2022-02-16T11:25:44.434140",
     "status": "completed"
    },
    "tags": []
   },
   "outputs": [],
   "source": [
    "VERSION    = 16\n",
    "DIR_TRAIN  = '../input/parsing-all-moscow-auto-ru-09-09-2020/' # подключили к ноутбуку внешний датасет\n",
    "DIR_VAL   = '../input/sf-dst-car-price-prediction/'\n",
    "VAL_SIZE   = 0.20   # 20%"
   ]
  },
  {
   "cell_type": "markdown",
   "metadata": {
    "papermill": {
     "duration": 0.081964,
     "end_time": "2022-02-16T11:25:44.690612",
     "exception": false,
     "start_time": "2022-02-16T11:25:44.608648",
     "status": "completed"
    },
    "tags": []
   },
   "source": [
    "### Функции предобработки"
   ]
  },
  {
   "cell_type": "code",
   "execution_count": 6,
   "metadata": {
    "execution": {
     "iopub.execute_input": "2022-02-16T11:25:44.869064Z",
     "iopub.status.busy": "2022-02-16T11:25:44.863614Z",
     "iopub.status.idle": "2022-02-16T11:25:44.875352Z",
     "shell.execute_reply": "2022-02-16T11:25:44.874754Z",
     "shell.execute_reply.started": "2022-02-15T14:54:10.092007Z"
    },
    "papermill": {
     "duration": 0.10347,
     "end_time": "2022-02-16T11:25:44.875472",
     "exception": false,
     "start_time": "2022-02-16T11:25:44.772002",
     "status": "completed"
    },
    "tags": []
   },
   "outputs": [],
   "source": [
    "#Вычисление целевой метрики\n",
    "def mape(y_true, y_pred):\n",
    "    return np.mean(np.abs((y_pred-y_true)/y_true))\n",
    "\n",
    "#Функция первичного осмотра данных. Вход: data - исследуемый датасет, brief_descr - краткое название датасета. Выход: void \n",
    "def first_look(data, brief_descr):\n",
    "    print(brief_descr)\n",
    "    print(\"Размерность: {}\".format(data.shape))\n",
    "    n = 5\n",
    "    print(\"Первые {} строк\".format(n))\n",
    "    display(data.head(n))\n",
    "    print(\"Детальная информация: \")\n",
    "    data.info()\n",
    "    #Проверим на пропуски\n",
    "    for col in data.columns:\n",
    "        if data[col].isnull().any():\n",
    "            print(\"\\n Признак {} содержит пропуски.\".format(col))\n",
    "\n",
    "# Определение min и max для числовых значений. На вход подаем имя столбца, на выходе [min,max]\n",
    "def min_max(column):\n",
    "    IQR = data[column].quantile(0.75) - data[column].quantile(0.25)\n",
    "    minimum = data[column].quantile(0.25) - 1.5*IQR\n",
    "    maximum = data[column].quantile(0.75) + 1.5*IQR\n",
    "    return [minimum, maximum]\n",
    "\n",
    "#кросс-валидация модели estimator, с количеством разбиений n_splits\n",
    "def cv(estimator,n_splits):\n",
    "    skf = KFold(n_splits=n_splits, random_state=RANDOM_SEED)\n",
    "\n",
    "    for train_index, test_index in skf.split(X, y):\n",
    "        \n",
    "        X_train, X_test = X[X.index.isin(train_index)], X[X.index.isin(test_index)]\n",
    "        y_train, y_test = y[y.index.isin(train_index)], y[y.index.isin(test_index)]\n",
    "\n",
    "         # For training, fit() is used\n",
    "        estimator.fit(X_train, y_train)\n",
    "\n",
    "        y_pred = estimator.predict(X_test)\n",
    "        print(f\"Точность модели по метрике MAPE: {(mape(np.exp(y_test), np.exp(y_pred)))*100:0.2f}%\")\n",
    "    \n",
    "    return estimator"
   ]
  },
  {
   "cell_type": "markdown",
   "metadata": {
    "papermill": {
     "duration": 0.083791,
     "end_time": "2022-02-16T11:25:45.042642",
     "exception": false,
     "start_time": "2022-02-16T11:25:44.958851",
     "status": "completed"
    },
    "tags": []
   },
   "source": [
    "# 1. Сбор данных\n",
    "\n",
    "Сбор данных реализован с помощью библиотеки Selenium. Код, представленный ниже, полностью работоспособен, но из-за того, что на сбор потребуется длительный отрезок времени в качестве обучающих данных будет использован ранее выгруженный датасет parsing-all-moscow-auto-ru-09-09-2020."
   ]
  },
  {
   "cell_type": "code",
   "execution_count": 7,
   "metadata": {
    "execution": {
     "iopub.execute_input": "2022-02-16T11:25:45.220174Z",
     "iopub.status.busy": "2022-02-16T11:25:45.219158Z",
     "iopub.status.idle": "2022-02-16T11:25:45.222034Z",
     "shell.execute_reply": "2022-02-16T11:25:45.221385Z",
     "shell.execute_reply.started": "2022-02-15T14:50:24.243227Z"
    },
    "papermill": {
     "duration": 0.094658,
     "end_time": "2022-02-16T11:25:45.222157",
     "exception": false,
     "start_time": "2022-02-16T11:25:45.127499",
     "status": "completed"
    },
    "tags": []
   },
   "outputs": [],
   "source": [
    "# from selenium import webdriver\n",
    "# from selenium.webdriver.chrome.options import Options\n",
    "# from selenium.webdriver.common.by import By\n",
    "# import time\n",
    "# import requests as r\n",
    "# import wget\n",
    "# import gzip\n",
    "# \n",
    "# #Читаем файл robots.txt с сайта https://auto.ru/robots.txt\n",
    "# url = \"https://auto.ru/robots.txt\"\n",
    "# \n",
    "# response = r.get(url)\n",
    "# \n",
    "# #Получаем значение параметра Sitemap\n",
    "# url = response.text[response.text.find(\"Sitemap\"):][9:response.text[3625:].find(\"\\n\")]\n",
    "# \n",
    "# response = r.get(url)\n",
    "# \n",
    "# #Парсим полученный xml\n",
    "# root = ET.fromstring(response.text)\n",
    "# \n",
    "# #Ищем архив предложений автомобилей - архивы со строками \"offers_cars\", добаваляем их в массив \n",
    "# look_for_string = \"offers_cars\"\n",
    "# offers_arc = []\n",
    "# \n",
    "# for element in root:\n",
    "#     if look_for_string in element[1].text: offers_arc.append(element[1].text)\n",
    "#     \n",
    "# #Скачиваем архивы с объявлениями\n",
    "# for arc in offers_arc:\n",
    "#     wget.download(arc)\n",
    "# \n",
    "# #Создадим список ссылок на объявления\n",
    "# pages_url_list=[]\n",
    "# \n",
    "# #Открываем и читаем архивы\n",
    "# for arc in offers_arc:\n",
    "#     file_name = arc[arc.find(\"sitemap_offers_cars\"):]\n",
    "#     \n",
    "#     with gzip.open(file_name, 'rb') as f:\n",
    "#         file_content = f.read()\n",
    "#     \n",
    "#     #Файл внутри представляет собой XML. парсим его\n",
    "#     root = ET.fromstring(file_content)\n",
    "#     \n",
    "#     #Ищем строки, содержашие used - авто с пробегом и добавляем их в массив ссылок\n",
    "#     look_for_string = \"used\"\n",
    "#     for element in root:\n",
    "#         if look_for_string in element[0].text: pages_url_list.append(element[0].text)\n",
    "# \n",
    "# #cars = итоговый, спарсенных массив данных\n",
    "# cars = []\n",
    "# \n",
    "# #Запускаем Selenium\n",
    "# chrome_options = Options()\n",
    "# driver = webdriver.Chrome(executable_path=r\"chromedriver.exe\",options=chrome_options)\n",
    "# \n",
    "# #Открываем каждую ссылку, заносим данные в массив cars\n",
    "# for url in pages_url_list:\n",
    "#     driver.get(url)\n",
    "#     #Определяем бренд и модель\n",
    "#     elements = driver.find_elements(By.CLASS_NAME,'CardBreadcrumbs__itemText')\n",
    "#     brand = elements[3].text\n",
    "#     model_name = elements[4].text\n",
    "# \n",
    "#     #Определяем кузов\n",
    "#     element =  driver.find_elements(By.CLASS_NAME,'CardInfoRow_bodytype')\n",
    "#     bodyType = element[0].text.replace(\"\\n\",\" \")\n",
    "# \n",
    "#     #Определяем цвет\n",
    "#     element =  driver.find_elements(By.CLASS_NAME,'CardInfoRow_color')\n",
    "#     color = element[0].text.replace(\"\\n\",\" \").replace(\"Цвет \",\"\")\n",
    "# \n",
    "#     #Определяем параметры двигателя\n",
    "#     element =  driver.find_elements(By.CLASS_NAME,'CardInfoRow_engine')\n",
    "#     engine = element[0].text.replace(\"Двигатель\",\"\").split(\"/\")\n",
    "#     #Получаем значение лошадиных сил\n",
    "#     engineDisplacement = engine[0][1:].replace(\"л \",\"LTR\")\n",
    "#     #Мощность\n",
    "#     enginePower = engine[1][1:].replace(\"л.с. \", \"N12\")\n",
    "#     #Тип топлива\n",
    "#     fuelType = engine[2]\n",
    "# \n",
    "#     #Определяем пробег\n",
    "#     element =  driver.find_elements(By.CLASS_NAME,'CardInfoRow_kmAge')\n",
    "#     mileage = element[0].text.replace(\"Пробег\\n\",\"\").replace(\" км\",\"\").replace(\" \",\"\")\n",
    "# \n",
    "#     #Определяем год выпуска\n",
    "#     element =  driver.find_elements(By.CLASS_NAME,'CardInfoRow_year')\n",
    "#     productionDate = element[0].text.split(\"\\n\")[1]\n",
    "# \n",
    "#     #Определяем трансмиссию\n",
    "#     element = driver.find_elements(By.CLASS_NAME,'CardInfoRow_transmission')\n",
    "#     vehicleTransmission = element[0].text.split(\"\\n\")[1]\n",
    "# \n",
    "#     #Определяем владельца\n",
    "#     element = driver.find_elements(By.CLASS_NAME,'CardInfoRow_ownersCount')\n",
    "#     owners = element[0].text.split(\"\\n\")[1]\n",
    "# \n",
    "#     #Определяем ПТС\n",
    "#     element = driver.find_elements(By.CLASS_NAME,'CardInfoRow_pts')\n",
    "#     pts = element[0].text.split(\"\\n\")[1]\n",
    "# \n",
    "#     #Определяем привод\n",
    "#     element = driver.find_elements(By.CLASS_NAME,'CardInfoRow_drive')\n",
    "#     wd = element[0].text.split(\"\\n\")[1]\n",
    "# \n",
    "#     #Определяем руль\n",
    "#     element = driver.find_elements(By.CLASS_NAME,'CardInfoRow_wheel')\n",
    "#     weel = element[0].text.split(\"\\n\")[1]\n",
    "# \n",
    "#     #Определяем состояние\n",
    "#     element = driver.find_elements(By.CLASS_NAME,'CardInfoRow_state')\n",
    "#     state = element[0].text.split(\"\\n\")[1]\n",
    "# \n",
    "#     #Определяем цену\n",
    "#     element = driver.find_elements(By.CLASS_NAME,'OfferPriceCaption')\n",
    "#     price = element[0].text[:-2:].replace(\" \",\"\")\n",
    "# \n",
    "#     cars.append({\"brand\": brand, \"model_name\": model_name, \"bodyType\":bodyType, \"color\":color,\\\n",
    "#         \"engineDisplacement\":engineDisplacement,'enginePower':enginePower,\"fuelType\":fuelType,\\\n",
    "#           \"mileage\":mileage,\"productionDate\":productionDate,\"vehicleTransmission\":vehicleTransmission,\\\n",
    "#           \"owners\":owners,\"pts\":pts,\"wd\":wd,\"weel\":weel,\"state\":state,\"price\":price})\n",
    "# \n",
    "#     time.sleep(1)"
   ]
  },
  {
   "cell_type": "markdown",
   "metadata": {
    "papermill": {
     "duration": 0.082103,
     "end_time": "2022-02-16T11:25:45.386828",
     "exception": false,
     "start_time": "2022-02-16T11:25:45.304725",
     "status": "completed"
    },
    "tags": []
   },
   "source": [
    "#### 1.1. Загрузка датасета"
   ]
  },
  {
   "cell_type": "code",
   "execution_count": 8,
   "metadata": {
    "execution": {
     "iopub.execute_input": "2022-02-16T11:25:45.561459Z",
     "iopub.status.busy": "2022-02-16T11:25:45.556057Z",
     "iopub.status.idle": "2022-02-16T11:25:46.271177Z",
     "shell.execute_reply": "2022-02-16T11:25:46.270498Z",
     "shell.execute_reply.started": "2022-02-15T14:50:24.260157Z"
    },
    "papermill": {
     "duration": 0.802225,
     "end_time": "2022-02-16T11:25:46.271323",
     "exception": false,
     "start_time": "2022-02-16T11:25:45.469098",
     "status": "completed"
    },
    "tags": []
   },
   "outputs": [
    {
     "name": "stdout",
     "output_type": "stream",
     "text": [
      "parsing-all-moscow-auto-ru-09-09-2020  sf-dst-car-price-prediction\r\n"
     ]
    }
   ],
   "source": [
    "!ls '../input'"
   ]
  },
  {
   "cell_type": "code",
   "execution_count": 9,
   "metadata": {
    "_cell_guid": "79c7e3d0-c299-4dcb-8224-4455121ee9b0",
    "_uuid": "d629ff2d2480ee46fbb7e2d37f6b5fab8052498a",
    "execution": {
     "iopub.execute_input": "2022-02-16T11:25:46.453083Z",
     "iopub.status.busy": "2022-02-16T11:25:46.452342Z",
     "iopub.status.idle": "2022-02-16T11:25:55.627514Z",
     "shell.execute_reply": "2022-02-16T11:25:55.626891Z",
     "shell.execute_reply.started": "2022-02-15T14:50:24.546312Z"
    },
    "papermill": {
     "duration": 9.271955,
     "end_time": "2022-02-16T11:25:55.627680",
     "exception": false,
     "start_time": "2022-02-16T11:25:46.355725",
     "status": "completed"
    },
    "tags": []
   },
   "outputs": [],
   "source": [
    "train = pd.read_csv(DIR_TRAIN+'all_auto_ru_09_09_2020.csv') # датасет для обучения модели\n",
    "valid = pd.read_csv(DIR_VAL+'test.csv')\n",
    "sample_submission = pd.read_csv(DIR_VAL+'sample_submission.csv')"
   ]
  },
  {
   "cell_type": "markdown",
   "metadata": {
    "papermill": {
     "duration": 0.082695,
     "end_time": "2022-02-16T11:25:55.792703",
     "exception": false,
     "start_time": "2022-02-16T11:25:55.710008",
     "status": "completed"
    },
    "tags": []
   },
   "source": [
    "# 2. Предобработка"
   ]
  },
  {
   "cell_type": "markdown",
   "metadata": {
    "papermill": {
     "duration": 0.084138,
     "end_time": "2022-02-16T11:25:55.959054",
     "exception": false,
     "start_time": "2022-02-16T11:25:55.874916",
     "status": "completed"
    },
    "tags": []
   },
   "source": [
    "#### 2.1. Первичный осмотр данных"
   ]
  },
  {
   "cell_type": "code",
   "execution_count": 10,
   "metadata": {
    "execution": {
     "iopub.execute_input": "2022-02-16T11:25:56.206538Z",
     "iopub.status.busy": "2022-02-16T11:25:56.200530Z",
     "iopub.status.idle": "2022-02-16T11:25:56.238986Z",
     "shell.execute_reply": "2022-02-16T11:25:56.238427Z",
     "shell.execute_reply.started": "2022-02-15T14:50:36.106999Z"
    },
    "papermill": {
     "duration": 0.126776,
     "end_time": "2022-02-16T11:25:56.239143",
     "exception": false,
     "start_time": "2022-02-16T11:25:56.112367",
     "status": "completed"
    },
    "tags": []
   },
   "outputs": [
    {
     "name": "stdout",
     "output_type": "stream",
     "text": [
      "Образец данных на сабмишн\n",
      "Размерность: (34686, 2)\n",
      "Первые 5 строк\n"
     ]
    },
    {
     "data": {
      "text/html": [
       "<div>\n",
       "<style scoped>\n",
       "    .dataframe tbody tr th:only-of-type {\n",
       "        vertical-align: middle;\n",
       "    }\n",
       "\n",
       "    .dataframe tbody tr th {\n",
       "        vertical-align: top;\n",
       "    }\n",
       "\n",
       "    .dataframe thead th {\n",
       "        text-align: right;\n",
       "    }\n",
       "</style>\n",
       "<table border=\"1\" class=\"dataframe\">\n",
       "  <thead>\n",
       "    <tr style=\"text-align: right;\">\n",
       "      <th></th>\n",
       "      <th>sell_id</th>\n",
       "      <th>price</th>\n",
       "    </tr>\n",
       "  </thead>\n",
       "  <tbody>\n",
       "    <tr>\n",
       "      <th>0</th>\n",
       "      <td>1100575026</td>\n",
       "      <td>0</td>\n",
       "    </tr>\n",
       "    <tr>\n",
       "      <th>1</th>\n",
       "      <td>1100549428</td>\n",
       "      <td>0</td>\n",
       "    </tr>\n",
       "    <tr>\n",
       "      <th>2</th>\n",
       "      <td>1100658222</td>\n",
       "      <td>0</td>\n",
       "    </tr>\n",
       "    <tr>\n",
       "      <th>3</th>\n",
       "      <td>1100937408</td>\n",
       "      <td>0</td>\n",
       "    </tr>\n",
       "    <tr>\n",
       "      <th>4</th>\n",
       "      <td>1101037972</td>\n",
       "      <td>0</td>\n",
       "    </tr>\n",
       "  </tbody>\n",
       "</table>\n",
       "</div>"
      ],
      "text/plain": [
       "      sell_id  price\n",
       "0  1100575026      0\n",
       "1  1100549428      0\n",
       "2  1100658222      0\n",
       "3  1100937408      0\n",
       "4  1101037972      0"
      ]
     },
     "metadata": {},
     "output_type": "display_data"
    },
    {
     "name": "stdout",
     "output_type": "stream",
     "text": [
      "Детальная информация: \n",
      "<class 'pandas.core.frame.DataFrame'>\n",
      "RangeIndex: 34686 entries, 0 to 34685\n",
      "Data columns (total 2 columns):\n",
      " #   Column   Non-Null Count  Dtype\n",
      "---  ------   --------------  -----\n",
      " 0   sell_id  34686 non-null  int64\n",
      " 1   price    34686 non-null  int64\n",
      "dtypes: int64(2)\n",
      "memory usage: 542.1 KB\n"
     ]
    }
   ],
   "source": [
    "#Образец данных на сабмишн\n",
    "first_look(sample_submission,\"Образец данных на сабмишн\")"
   ]
  },
  {
   "cell_type": "code",
   "execution_count": 11,
   "metadata": {
    "execution": {
     "iopub.execute_input": "2022-02-16T11:25:56.413960Z",
     "iopub.status.busy": "2022-02-16T11:25:56.412980Z",
     "iopub.status.idle": "2022-02-16T11:25:56.800633Z",
     "shell.execute_reply": "2022-02-16T11:25:56.799625Z",
     "shell.execute_reply.started": "2022-02-15T14:50:36.142893Z"
    },
    "papermill": {
     "duration": 0.476203,
     "end_time": "2022-02-16T11:25:56.800820",
     "exception": false,
     "start_time": "2022-02-16T11:25:56.324617",
     "status": "completed"
    },
    "tags": []
   },
   "outputs": [
    {
     "name": "stdout",
     "output_type": "stream",
     "text": [
      "Обучающий датасет\n",
      "Размерность: (89378, 26)\n",
      "Первые 5 строк\n"
     ]
    },
    {
     "data": {
      "text/html": [
       "<div>\n",
       "<style scoped>\n",
       "    .dataframe tbody tr th:only-of-type {\n",
       "        vertical-align: middle;\n",
       "    }\n",
       "\n",
       "    .dataframe tbody tr th {\n",
       "        vertical-align: top;\n",
       "    }\n",
       "\n",
       "    .dataframe thead th {\n",
       "        text-align: right;\n",
       "    }\n",
       "</style>\n",
       "<table border=\"1\" class=\"dataframe\">\n",
       "  <thead>\n",
       "    <tr style=\"text-align: right;\">\n",
       "      <th></th>\n",
       "      <th>bodyType</th>\n",
       "      <th>brand</th>\n",
       "      <th>color</th>\n",
       "      <th>fuelType</th>\n",
       "      <th>modelDate</th>\n",
       "      <th>name</th>\n",
       "      <th>numberOfDoors</th>\n",
       "      <th>productionDate</th>\n",
       "      <th>vehicleConfiguration</th>\n",
       "      <th>vehicleTransmission</th>\n",
       "      <th>...</th>\n",
       "      <th>Руль</th>\n",
       "      <th>Состояние</th>\n",
       "      <th>Владельцы</th>\n",
       "      <th>ПТС</th>\n",
       "      <th>Таможня</th>\n",
       "      <th>Владение</th>\n",
       "      <th>price</th>\n",
       "      <th>start_date</th>\n",
       "      <th>hidden</th>\n",
       "      <th>model</th>\n",
       "    </tr>\n",
       "  </thead>\n",
       "  <tbody>\n",
       "    <tr>\n",
       "      <th>0</th>\n",
       "      <td>Седан</td>\n",
       "      <td>AUDI</td>\n",
       "      <td>040001</td>\n",
       "      <td>бензин</td>\n",
       "      <td>1990.0</td>\n",
       "      <td>2.8 MT (174 л.с.) 4WD</td>\n",
       "      <td>4.0</td>\n",
       "      <td>1991</td>\n",
       "      <td>SEDAN MECHANICAL 2.8</td>\n",
       "      <td>MECHANICAL</td>\n",
       "      <td>...</td>\n",
       "      <td>LEFT</td>\n",
       "      <td>NaN</td>\n",
       "      <td>3.0</td>\n",
       "      <td>ORIGINAL</td>\n",
       "      <td>True</td>\n",
       "      <td>NaN</td>\n",
       "      <td>200000.0</td>\n",
       "      <td>2019-10-03T08:09:11Z</td>\n",
       "      <td>NaN</td>\n",
       "      <td>100</td>\n",
       "    </tr>\n",
       "    <tr>\n",
       "      <th>1</th>\n",
       "      <td>Седан</td>\n",
       "      <td>AUDI</td>\n",
       "      <td>EE1D19</td>\n",
       "      <td>бензин</td>\n",
       "      <td>1982.0</td>\n",
       "      <td>1.8 MT (90 л.с.)</td>\n",
       "      <td>4.0</td>\n",
       "      <td>1986</td>\n",
       "      <td>SEDAN MECHANICAL 1.8</td>\n",
       "      <td>MECHANICAL</td>\n",
       "      <td>...</td>\n",
       "      <td>LEFT</td>\n",
       "      <td>NaN</td>\n",
       "      <td>3.0</td>\n",
       "      <td>ORIGINAL</td>\n",
       "      <td>True</td>\n",
       "      <td>NaN</td>\n",
       "      <td>60000.0</td>\n",
       "      <td>2020-09-06T06:49:40Z</td>\n",
       "      <td>NaN</td>\n",
       "      <td>100</td>\n",
       "    </tr>\n",
       "    <tr>\n",
       "      <th>2</th>\n",
       "      <td>Универсал 5 дв.</td>\n",
       "      <td>AUDI</td>\n",
       "      <td>0000CC</td>\n",
       "      <td>бензин</td>\n",
       "      <td>1988.0</td>\n",
       "      <td>2.3 MT (136 л.с.) 4WD</td>\n",
       "      <td>5.0</td>\n",
       "      <td>1989</td>\n",
       "      <td>WAGON_5_DOORS MECHANICAL 2.3</td>\n",
       "      <td>MECHANICAL</td>\n",
       "      <td>...</td>\n",
       "      <td>LEFT</td>\n",
       "      <td>NaN</td>\n",
       "      <td>3.0</td>\n",
       "      <td>ORIGINAL</td>\n",
       "      <td>True</td>\n",
       "      <td>NaN</td>\n",
       "      <td>99000.0</td>\n",
       "      <td>2020-09-02T14:04:21Z</td>\n",
       "      <td>NaN</td>\n",
       "      <td>100</td>\n",
       "    </tr>\n",
       "    <tr>\n",
       "      <th>3</th>\n",
       "      <td>Седан</td>\n",
       "      <td>AUDI</td>\n",
       "      <td>CACECB</td>\n",
       "      <td>бензин</td>\n",
       "      <td>1988.0</td>\n",
       "      <td>1.8 MT (90 л.с.)</td>\n",
       "      <td>4.0</td>\n",
       "      <td>1989</td>\n",
       "      <td>SEDAN MECHANICAL 1.8</td>\n",
       "      <td>MECHANICAL</td>\n",
       "      <td>...</td>\n",
       "      <td>LEFT</td>\n",
       "      <td>NaN</td>\n",
       "      <td>3.0</td>\n",
       "      <td>ORIGINAL</td>\n",
       "      <td>True</td>\n",
       "      <td>NaN</td>\n",
       "      <td>65000.0</td>\n",
       "      <td>2020-08-23T17:40:09Z</td>\n",
       "      <td>NaN</td>\n",
       "      <td>100</td>\n",
       "    </tr>\n",
       "    <tr>\n",
       "      <th>4</th>\n",
       "      <td>Седан</td>\n",
       "      <td>AUDI</td>\n",
       "      <td>040001</td>\n",
       "      <td>бензин</td>\n",
       "      <td>1990.0</td>\n",
       "      <td>2.0 MT (101 л.с.)</td>\n",
       "      <td>4.0</td>\n",
       "      <td>1991</td>\n",
       "      <td>SEDAN MECHANICAL 2.0</td>\n",
       "      <td>MECHANICAL</td>\n",
       "      <td>...</td>\n",
       "      <td>LEFT</td>\n",
       "      <td>NaN</td>\n",
       "      <td>3.0</td>\n",
       "      <td>DUPLICATE</td>\n",
       "      <td>True</td>\n",
       "      <td>NaN</td>\n",
       "      <td>100000.0</td>\n",
       "      <td>2020-09-08T09:22:07Z</td>\n",
       "      <td>NaN</td>\n",
       "      <td>100</td>\n",
       "    </tr>\n",
       "  </tbody>\n",
       "</table>\n",
       "<p>5 rows × 26 columns</p>\n",
       "</div>"
      ],
      "text/plain": [
       "          bodyType brand   color fuelType  modelDate                   name  \\\n",
       "0            Седан  AUDI  040001   бензин     1990.0  2.8 MT (174 л.с.) 4WD   \n",
       "1            Седан  AUDI  EE1D19   бензин     1982.0       1.8 MT (90 л.с.)   \n",
       "2  Универсал 5 дв.  AUDI  0000CC   бензин     1988.0  2.3 MT (136 л.с.) 4WD   \n",
       "3            Седан  AUDI  CACECB   бензин     1988.0       1.8 MT (90 л.с.)   \n",
       "4            Седан  AUDI  040001   бензин     1990.0      2.0 MT (101 л.с.)   \n",
       "\n",
       "   numberOfDoors  productionDate          vehicleConfiguration  \\\n",
       "0            4.0            1991          SEDAN MECHANICAL 2.8   \n",
       "1            4.0            1986          SEDAN MECHANICAL 1.8   \n",
       "2            5.0            1989  WAGON_5_DOORS MECHANICAL 2.3   \n",
       "3            4.0            1989          SEDAN MECHANICAL 1.8   \n",
       "4            4.0            1991          SEDAN MECHANICAL 2.0   \n",
       "\n",
       "  vehicleTransmission  ...  Руль  Состояние Владельцы        ПТС Таможня  \\\n",
       "0          MECHANICAL  ...  LEFT        NaN       3.0   ORIGINAL    True   \n",
       "1          MECHANICAL  ...  LEFT        NaN       3.0   ORIGINAL    True   \n",
       "2          MECHANICAL  ...  LEFT        NaN       3.0   ORIGINAL    True   \n",
       "3          MECHANICAL  ...  LEFT        NaN       3.0   ORIGINAL    True   \n",
       "4          MECHANICAL  ...  LEFT        NaN       3.0  DUPLICATE    True   \n",
       "\n",
       "  Владение     price            start_date  hidden model  \n",
       "0      NaN  200000.0  2019-10-03T08:09:11Z     NaN   100  \n",
       "1      NaN   60000.0  2020-09-06T06:49:40Z     NaN   100  \n",
       "2      NaN   99000.0  2020-09-02T14:04:21Z     NaN   100  \n",
       "3      NaN   65000.0  2020-08-23T17:40:09Z     NaN   100  \n",
       "4      NaN  100000.0  2020-09-08T09:22:07Z     NaN   100  \n",
       "\n",
       "[5 rows x 26 columns]"
      ]
     },
     "metadata": {},
     "output_type": "display_data"
    },
    {
     "name": "stdout",
     "output_type": "stream",
     "text": [
      "Детальная информация: \n",
      "<class 'pandas.core.frame.DataFrame'>\n",
      "RangeIndex: 89378 entries, 0 to 89377\n",
      "Data columns (total 26 columns):\n",
      " #   Column                Non-Null Count  Dtype  \n",
      "---  ------                --------------  -----  \n",
      " 0   bodyType              89377 non-null  object \n",
      " 1   brand                 89378 non-null  object \n",
      " 2   color                 89378 non-null  object \n",
      " 3   fuelType              89378 non-null  object \n",
      " 4   modelDate             89377 non-null  float64\n",
      " 5   name                  89377 non-null  object \n",
      " 6   numberOfDoors         89377 non-null  float64\n",
      " 7   productionDate        89378 non-null  int64  \n",
      " 8   vehicleConfiguration  89377 non-null  object \n",
      " 9   vehicleTransmission   89377 non-null  object \n",
      " 10  engineDisplacement    89377 non-null  object \n",
      " 11  enginePower           89377 non-null  float64\n",
      " 12  description           86124 non-null  object \n",
      " 13  mileage               89378 non-null  int64  \n",
      " 14  Комплектация          89378 non-null  object \n",
      " 15  Привод                89377 non-null  object \n",
      " 16  Руль                  89378 non-null  object \n",
      " 17  Состояние             0 non-null      float64\n",
      " 18  Владельцы             75790 non-null  float64\n",
      " 19  ПТС                   89017 non-null  object \n",
      " 20  Таможня               89378 non-null  bool   \n",
      " 21  Владение              29201 non-null  object \n",
      " 22  price                 88968 non-null  float64\n",
      " 23  start_date            89378 non-null  object \n",
      " 24  hidden                0 non-null      float64\n",
      " 25  model                 89378 non-null  object \n",
      "dtypes: bool(1), float64(7), int64(2), object(16)\n",
      "memory usage: 17.1+ MB\n",
      "\n",
      " Признак bodyType содержит пропуски.\n",
      "\n",
      " Признак modelDate содержит пропуски.\n",
      "\n",
      " Признак name содержит пропуски.\n",
      "\n",
      " Признак numberOfDoors содержит пропуски.\n",
      "\n",
      " Признак vehicleConfiguration содержит пропуски.\n",
      "\n",
      " Признак vehicleTransmission содержит пропуски.\n",
      "\n",
      " Признак engineDisplacement содержит пропуски.\n",
      "\n",
      " Признак enginePower содержит пропуски.\n",
      "\n",
      " Признак description содержит пропуски.\n",
      "\n",
      " Признак Привод содержит пропуски.\n",
      "\n",
      " Признак Состояние содержит пропуски.\n",
      "\n",
      " Признак Владельцы содержит пропуски.\n",
      "\n",
      " Признак ПТС содержит пропуски.\n",
      "\n",
      " Признак Владение содержит пропуски.\n",
      "\n",
      " Признак price содержит пропуски.\n",
      "\n",
      " Признак hidden содержит пропуски.\n"
     ]
    }
   ],
   "source": [
    "#Обучающий датасет\n",
    "first_look(train,\"Обучающий датасет\")"
   ]
  },
  {
   "cell_type": "code",
   "execution_count": 12,
   "metadata": {
    "execution": {
     "iopub.execute_input": "2022-02-16T11:25:56.982355Z",
     "iopub.status.busy": "2022-02-16T11:25:56.981499Z",
     "iopub.status.idle": "2022-02-16T11:25:57.054441Z",
     "shell.execute_reply": "2022-02-16T11:25:57.053737Z",
     "shell.execute_reply.started": "2022-02-15T14:50:36.327241Z"
    },
    "papermill": {
     "duration": 0.167178,
     "end_time": "2022-02-16T11:25:57.054615",
     "exception": false,
     "start_time": "2022-02-16T11:25:56.887437",
     "status": "completed"
    },
    "tags": []
   },
   "outputs": [],
   "source": [
    "#Признаки bodyType, engineDisplacement, enginePower, modelDate, numberOfDoors, vehicleTransmission, Привод содержат только по одному пропуску. Удалим эти строки.\n",
    "train.dropna(subset=['bodyType', 'enginePower', 'modelDate', 'numberOfDoors', 'vehicleTransmission', 'Привод'],inplace=True)"
   ]
  },
  {
   "cell_type": "code",
   "execution_count": 13,
   "metadata": {
    "execution": {
     "iopub.execute_input": "2022-02-16T11:25:57.238421Z",
     "iopub.status.busy": "2022-02-16T11:25:57.237774Z",
     "iopub.status.idle": "2022-02-16T11:25:57.269904Z",
     "shell.execute_reply": "2022-02-16T11:25:57.269181Z",
     "shell.execute_reply.started": "2022-02-15T14:50:36.379426Z"
    },
    "papermill": {
     "duration": 0.12721,
     "end_time": "2022-02-16T11:25:57.270055",
     "exception": false,
     "start_time": "2022-02-16T11:25:57.142845",
     "status": "completed"
    },
    "tags": []
   },
   "outputs": [],
   "source": [
    "#price - целевая переменная. Строки, в которых она пропущенная, ценности не имеют. Удаляем их.\n",
    "train.dropna(subset=['price'], inplace=True)"
   ]
  },
  {
   "cell_type": "code",
   "execution_count": 14,
   "metadata": {
    "execution": {
     "iopub.execute_input": "2022-02-16T11:25:57.475555Z",
     "iopub.status.busy": "2022-02-16T11:25:57.474808Z",
     "iopub.status.idle": "2022-02-16T11:25:57.690522Z",
     "shell.execute_reply": "2022-02-16T11:25:57.689858Z",
     "shell.execute_reply.started": "2022-02-15T14:50:36.416688Z"
    },
    "papermill": {
     "duration": 0.331998,
     "end_time": "2022-02-16T11:25:57.690690",
     "exception": false,
     "start_time": "2022-02-16T11:25:57.358692",
     "status": "completed"
    },
    "tags": []
   },
   "outputs": [
    {
     "name": "stdout",
     "output_type": "stream",
     "text": [
      "Валидационный датасет\n",
      "Размерность: (34686, 32)\n",
      "Первые 5 строк\n"
     ]
    },
    {
     "data": {
      "text/html": [
       "<div>\n",
       "<style scoped>\n",
       "    .dataframe tbody tr th:only-of-type {\n",
       "        vertical-align: middle;\n",
       "    }\n",
       "\n",
       "    .dataframe tbody tr th {\n",
       "        vertical-align: top;\n",
       "    }\n",
       "\n",
       "    .dataframe thead th {\n",
       "        text-align: right;\n",
       "    }\n",
       "</style>\n",
       "<table border=\"1\" class=\"dataframe\">\n",
       "  <thead>\n",
       "    <tr style=\"text-align: right;\">\n",
       "      <th></th>\n",
       "      <th>bodyType</th>\n",
       "      <th>brand</th>\n",
       "      <th>car_url</th>\n",
       "      <th>color</th>\n",
       "      <th>complectation_dict</th>\n",
       "      <th>description</th>\n",
       "      <th>engineDisplacement</th>\n",
       "      <th>enginePower</th>\n",
       "      <th>equipment_dict</th>\n",
       "      <th>fuelType</th>\n",
       "      <th>...</th>\n",
       "      <th>vehicleConfiguration</th>\n",
       "      <th>vehicleTransmission</th>\n",
       "      <th>vendor</th>\n",
       "      <th>Владельцы</th>\n",
       "      <th>Владение</th>\n",
       "      <th>ПТС</th>\n",
       "      <th>Привод</th>\n",
       "      <th>Руль</th>\n",
       "      <th>Состояние</th>\n",
       "      <th>Таможня</th>\n",
       "    </tr>\n",
       "  </thead>\n",
       "  <tbody>\n",
       "    <tr>\n",
       "      <th>0</th>\n",
       "      <td>лифтбек</td>\n",
       "      <td>SKODA</td>\n",
       "      <td>https://auto.ru/cars/used/sale/skoda/octavia/1...</td>\n",
       "      <td>синий</td>\n",
       "      <td>NaN</td>\n",
       "      <td>Все автомобили, представленные в продаже, прох...</td>\n",
       "      <td>1.2 LTR</td>\n",
       "      <td>105 N12</td>\n",
       "      <td>{\"engine-proof\":true,\"tinted-glass\":true,\"airb...</td>\n",
       "      <td>бензин</td>\n",
       "      <td>...</td>\n",
       "      <td>LIFTBACK ROBOT 1.2</td>\n",
       "      <td>роботизированная</td>\n",
       "      <td>EUROPEAN</td>\n",
       "      <td>3 или более</td>\n",
       "      <td>NaN</td>\n",
       "      <td>Оригинал</td>\n",
       "      <td>передний</td>\n",
       "      <td>Левый</td>\n",
       "      <td>Не требует ремонта</td>\n",
       "      <td>Растаможен</td>\n",
       "    </tr>\n",
       "    <tr>\n",
       "      <th>1</th>\n",
       "      <td>лифтбек</td>\n",
       "      <td>SKODA</td>\n",
       "      <td>https://auto.ru/cars/used/sale/skoda/octavia/1...</td>\n",
       "      <td>чёрный</td>\n",
       "      <td>NaN</td>\n",
       "      <td>ЛОТ: 01217195\\nАвтопрага Север\\nДанный автомоб...</td>\n",
       "      <td>1.6 LTR</td>\n",
       "      <td>110 N12</td>\n",
       "      <td>{\"cruise-control\":true,\"asr\":true,\"esp\":true,\"...</td>\n",
       "      <td>бензин</td>\n",
       "      <td>...</td>\n",
       "      <td>LIFTBACK MECHANICAL 1.6</td>\n",
       "      <td>механическая</td>\n",
       "      <td>EUROPEAN</td>\n",
       "      <td>1 владелец</td>\n",
       "      <td>NaN</td>\n",
       "      <td>Оригинал</td>\n",
       "      <td>передний</td>\n",
       "      <td>Левый</td>\n",
       "      <td>Не требует ремонта</td>\n",
       "      <td>Растаможен</td>\n",
       "    </tr>\n",
       "    <tr>\n",
       "      <th>2</th>\n",
       "      <td>лифтбек</td>\n",
       "      <td>SKODA</td>\n",
       "      <td>https://auto.ru/cars/used/sale/skoda/superb/11...</td>\n",
       "      <td>серый</td>\n",
       "      <td>{\"id\":\"20026336\",\"name\":\"Ambition\",\"available_...</td>\n",
       "      <td>Все автомобили, представленные в продаже, прох...</td>\n",
       "      <td>1.8 LTR</td>\n",
       "      <td>152 N12</td>\n",
       "      <td>{\"cruise-control\":true,\"tinted-glass\":true,\"es...</td>\n",
       "      <td>бензин</td>\n",
       "      <td>...</td>\n",
       "      <td>LIFTBACK ROBOT 1.8</td>\n",
       "      <td>роботизированная</td>\n",
       "      <td>EUROPEAN</td>\n",
       "      <td>1 владелец</td>\n",
       "      <td>NaN</td>\n",
       "      <td>Оригинал</td>\n",
       "      <td>передний</td>\n",
       "      <td>Левый</td>\n",
       "      <td>Не требует ремонта</td>\n",
       "      <td>Растаможен</td>\n",
       "    </tr>\n",
       "    <tr>\n",
       "      <th>3</th>\n",
       "      <td>лифтбек</td>\n",
       "      <td>SKODA</td>\n",
       "      <td>https://auto.ru/cars/used/sale/skoda/octavia/1...</td>\n",
       "      <td>коричневый</td>\n",
       "      <td>{\"id\":\"20803582\",\"name\":\"Ambition\",\"available_...</td>\n",
       "      <td>КОМПЛЕКТ ЗИМНЕЙ (ЛЕТНЕЙ) РЕЗИНЫ ПО СЕЗОНУ В ПО...</td>\n",
       "      <td>1.6 LTR</td>\n",
       "      <td>110 N12</td>\n",
       "      <td>{\"cruise-control\":true,\"roller-blind-for-rear-...</td>\n",
       "      <td>бензин</td>\n",
       "      <td>...</td>\n",
       "      <td>LIFTBACK AUTOMATIC 1.6</td>\n",
       "      <td>автоматическая</td>\n",
       "      <td>EUROPEAN</td>\n",
       "      <td>1 владелец</td>\n",
       "      <td>NaN</td>\n",
       "      <td>Оригинал</td>\n",
       "      <td>передний</td>\n",
       "      <td>Левый</td>\n",
       "      <td>Не требует ремонта</td>\n",
       "      <td>Растаможен</td>\n",
       "    </tr>\n",
       "    <tr>\n",
       "      <th>4</th>\n",
       "      <td>лифтбек</td>\n",
       "      <td>SKODA</td>\n",
       "      <td>https://auto.ru/cars/used/sale/skoda/octavia/1...</td>\n",
       "      <td>белый</td>\n",
       "      <td>NaN</td>\n",
       "      <td>ЛОТ: 01220889\\nАвтопрага Север\\n\\nВы можете по...</td>\n",
       "      <td>1.8 LTR</td>\n",
       "      <td>152 N12</td>\n",
       "      <td>{\"cruise-control\":true,\"asr\":true,\"esp\":true,\"...</td>\n",
       "      <td>бензин</td>\n",
       "      <td>...</td>\n",
       "      <td>LIFTBACK AUTOMATIC 1.8</td>\n",
       "      <td>автоматическая</td>\n",
       "      <td>EUROPEAN</td>\n",
       "      <td>1 владелец</td>\n",
       "      <td>NaN</td>\n",
       "      <td>Оригинал</td>\n",
       "      <td>передний</td>\n",
       "      <td>Левый</td>\n",
       "      <td>Не требует ремонта</td>\n",
       "      <td>Растаможен</td>\n",
       "    </tr>\n",
       "  </tbody>\n",
       "</table>\n",
       "<p>5 rows × 32 columns</p>\n",
       "</div>"
      ],
      "text/plain": [
       "  bodyType  brand                                            car_url  \\\n",
       "0  лифтбек  SKODA  https://auto.ru/cars/used/sale/skoda/octavia/1...   \n",
       "1  лифтбек  SKODA  https://auto.ru/cars/used/sale/skoda/octavia/1...   \n",
       "2  лифтбек  SKODA  https://auto.ru/cars/used/sale/skoda/superb/11...   \n",
       "3  лифтбек  SKODA  https://auto.ru/cars/used/sale/skoda/octavia/1...   \n",
       "4  лифтбек  SKODA  https://auto.ru/cars/used/sale/skoda/octavia/1...   \n",
       "\n",
       "        color                                 complectation_dict  \\\n",
       "0       синий                                                NaN   \n",
       "1      чёрный                                                NaN   \n",
       "2       серый  {\"id\":\"20026336\",\"name\":\"Ambition\",\"available_...   \n",
       "3  коричневый  {\"id\":\"20803582\",\"name\":\"Ambition\",\"available_...   \n",
       "4       белый                                                NaN   \n",
       "\n",
       "                                         description engineDisplacement  \\\n",
       "0  Все автомобили, представленные в продаже, прох...            1.2 LTR   \n",
       "1  ЛОТ: 01217195\\nАвтопрага Север\\nДанный автомоб...            1.6 LTR   \n",
       "2  Все автомобили, представленные в продаже, прох...            1.8 LTR   \n",
       "3  КОМПЛЕКТ ЗИМНЕЙ (ЛЕТНЕЙ) РЕЗИНЫ ПО СЕЗОНУ В ПО...            1.6 LTR   \n",
       "4  ЛОТ: 01220889\\nАвтопрага Север\\n\\nВы можете по...            1.8 LTR   \n",
       "\n",
       "  enginePower                                     equipment_dict fuelType  \\\n",
       "0     105 N12  {\"engine-proof\":true,\"tinted-glass\":true,\"airb...   бензин   \n",
       "1     110 N12  {\"cruise-control\":true,\"asr\":true,\"esp\":true,\"...   бензин   \n",
       "2     152 N12  {\"cruise-control\":true,\"tinted-glass\":true,\"es...   бензин   \n",
       "3     110 N12  {\"cruise-control\":true,\"roller-blind-for-rear-...   бензин   \n",
       "4     152 N12  {\"cruise-control\":true,\"asr\":true,\"esp\":true,\"...   бензин   \n",
       "\n",
       "   ...     vehicleConfiguration  vehicleTransmission    vendor    Владельцы  \\\n",
       "0  ...       LIFTBACK ROBOT 1.2     роботизированная  EUROPEAN  3 или более   \n",
       "1  ...  LIFTBACK MECHANICAL 1.6         механическая  EUROPEAN   1 владелец   \n",
       "2  ...       LIFTBACK ROBOT 1.8     роботизированная  EUROPEAN   1 владелец   \n",
       "3  ...   LIFTBACK AUTOMATIC 1.6       автоматическая  EUROPEAN   1 владелец   \n",
       "4  ...   LIFTBACK AUTOMATIC 1.8       автоматическая  EUROPEAN   1 владелец   \n",
       "\n",
       "  Владение       ПТС    Привод   Руль           Состояние     Таможня  \n",
       "0      NaN  Оригинал  передний  Левый  Не требует ремонта  Растаможен  \n",
       "1      NaN  Оригинал  передний  Левый  Не требует ремонта  Растаможен  \n",
       "2      NaN  Оригинал  передний  Левый  Не требует ремонта  Растаможен  \n",
       "3      NaN  Оригинал  передний  Левый  Не требует ремонта  Растаможен  \n",
       "4      NaN  Оригинал  передний  Левый  Не требует ремонта  Растаможен  \n",
       "\n",
       "[5 rows x 32 columns]"
      ]
     },
     "metadata": {},
     "output_type": "display_data"
    },
    {
     "name": "stdout",
     "output_type": "stream",
     "text": [
      "Детальная информация: \n",
      "<class 'pandas.core.frame.DataFrame'>\n",
      "RangeIndex: 34686 entries, 0 to 34685\n",
      "Data columns (total 32 columns):\n",
      " #   Column                Non-Null Count  Dtype \n",
      "---  ------                --------------  ----- \n",
      " 0   bodyType              34686 non-null  object\n",
      " 1   brand                 34686 non-null  object\n",
      " 2   car_url               34686 non-null  object\n",
      " 3   color                 34686 non-null  object\n",
      " 4   complectation_dict    6418 non-null   object\n",
      " 5   description           34686 non-null  object\n",
      " 6   engineDisplacement    34686 non-null  object\n",
      " 7   enginePower           34686 non-null  object\n",
      " 8   equipment_dict        24690 non-null  object\n",
      " 9   fuelType              34686 non-null  object\n",
      " 10  image                 34686 non-null  object\n",
      " 11  mileage               34686 non-null  int64 \n",
      " 12  modelDate             34686 non-null  int64 \n",
      " 13  model_info            34686 non-null  object\n",
      " 14  model_name            34686 non-null  object\n",
      " 15  name                  34686 non-null  object\n",
      " 16  numberOfDoors         34686 non-null  int64 \n",
      " 17  parsing_unixtime      34686 non-null  int64 \n",
      " 18  priceCurrency         34686 non-null  object\n",
      " 19  productionDate        34686 non-null  int64 \n",
      " 20  sell_id               34686 non-null  int64 \n",
      " 21  super_gen             34686 non-null  object\n",
      " 22  vehicleConfiguration  34686 non-null  object\n",
      " 23  vehicleTransmission   34686 non-null  object\n",
      " 24  vendor                34686 non-null  object\n",
      " 25  Владельцы             34686 non-null  object\n",
      " 26  Владение              11995 non-null  object\n",
      " 27  ПТС                   34685 non-null  object\n",
      " 28  Привод                34686 non-null  object\n",
      " 29  Руль                  34686 non-null  object\n",
      " 30  Состояние             34686 non-null  object\n",
      " 31  Таможня               34686 non-null  object\n",
      "dtypes: int64(6), object(26)\n",
      "memory usage: 8.5+ MB\n",
      "\n",
      " Признак complectation_dict содержит пропуски.\n",
      "\n",
      " Признак equipment_dict содержит пропуски.\n",
      "\n",
      " Признак Владение содержит пропуски.\n",
      "\n",
      " Признак ПТС содержит пропуски.\n"
     ]
    }
   ],
   "source": [
    "#Валидационный датасет\n",
    "first_look(valid,\"Валидационный датасет\")"
   ]
  },
  {
   "cell_type": "markdown",
   "metadata": {
    "papermill": {
     "duration": 0.086211,
     "end_time": "2022-02-16T11:25:57.863983",
     "exception": false,
     "start_time": "2022-02-16T11:25:57.777772",
     "status": "completed"
    },
    "tags": []
   },
   "source": [
    "Много признаков содержат пропуски. В дальнейшем необходимо будет определить важные признаки и заполнить в них пропуски."
   ]
  },
  {
   "cell_type": "code",
   "execution_count": 15,
   "metadata": {
    "execution": {
     "iopub.execute_input": "2022-02-16T11:25:58.050202Z",
     "iopub.status.busy": "2022-02-16T11:25:58.048885Z",
     "iopub.status.idle": "2022-02-16T11:25:58.082372Z",
     "shell.execute_reply": "2022-02-16T11:25:58.081735Z",
     "shell.execute_reply.started": "2022-02-15T14:50:36.546421Z"
    },
    "papermill": {
     "duration": 0.129155,
     "end_time": "2022-02-16T11:25:58.082494",
     "exception": false,
     "start_time": "2022-02-16T11:25:57.953339",
     "status": "completed"
    },
    "tags": []
   },
   "outputs": [],
   "source": [
    "#Признак наименования модели в обучающем и валидационном датасэте имеет разные названия: model - в обучающем, model_name - в валидационном. \n",
    "#Сделаем все как в валидационнм.\n",
    "\n",
    "train = train.rename(columns = {\"model\": \"model_name\"})"
   ]
  },
  {
   "cell_type": "code",
   "execution_count": 16,
   "metadata": {
    "execution": {
     "iopub.execute_input": "2022-02-16T11:25:58.268277Z",
     "iopub.status.busy": "2022-02-16T11:25:58.266113Z",
     "iopub.status.idle": "2022-02-16T11:25:58.339449Z",
     "shell.execute_reply": "2022-02-16T11:25:58.338753Z",
     "shell.execute_reply.started": "2022-02-15T14:50:36.572817Z"
    },
    "papermill": {
     "duration": 0.168287,
     "end_time": "2022-02-16T11:25:58.339583",
     "exception": false,
     "start_time": "2022-02-16T11:25:58.171296",
     "status": "completed"
    },
    "tags": []
   },
   "outputs": [],
   "source": [
    "#В валидационном датасете признак parsing_unixtime указан в виде unix-метки, переведем значение YYYY-mm-dd\n",
    "valid['parsing_unixtime'] = pd.to_datetime(valid['parsing_unixtime'],unit='s').dt.date.astype('str')"
   ]
  },
  {
   "cell_type": "code",
   "execution_count": 17,
   "metadata": {
    "execution": {
     "iopub.execute_input": "2022-02-16T11:25:58.527820Z",
     "iopub.status.busy": "2022-02-16T11:25:58.525162Z",
     "iopub.status.idle": "2022-02-16T11:25:58.800453Z",
     "shell.execute_reply": "2022-02-16T11:25:58.801113Z",
     "shell.execute_reply.started": "2022-02-15T14:50:36.634618Z"
    },
    "papermill": {
     "duration": 0.371956,
     "end_time": "2022-02-16T11:25:58.801295",
     "exception": false,
     "start_time": "2022-02-16T11:25:58.429339",
     "status": "completed"
    },
    "tags": []
   },
   "outputs": [],
   "source": [
    "# ВАЖНО! дря корректной обработки признаков объединяем трейн и валидация в один датасет\n",
    "train['sample'] = 1 # помечаем где у нас трейн\n",
    "train.reset_index(inplace=True,drop=True)\n",
    "\n",
    "valid['sample'] = 0  # помечаем где у нас валидация\n",
    "\n",
    "#Целевая переменная в обучающем датасете\n",
    "y = train['price']\n",
    "\n",
    "data = valid.append(train.drop(columns=['price']), sort=False).reset_index(drop=True) # объединяем"
   ]
  },
  {
   "cell_type": "code",
   "execution_count": 18,
   "metadata": {
    "execution": {
     "iopub.execute_input": "2022-02-16T11:25:58.985821Z",
     "iopub.status.busy": "2022-02-16T11:25:58.985141Z",
     "iopub.status.idle": "2022-02-16T11:25:59.439308Z",
     "shell.execute_reply": "2022-02-16T11:25:59.440158Z",
     "shell.execute_reply.started": "2022-02-15T14:50:36.872241Z"
    },
    "papermill": {
     "duration": 0.548604,
     "end_time": "2022-02-16T11:25:59.440409",
     "exception": false,
     "start_time": "2022-02-16T11:25:58.891805",
     "status": "completed"
    },
    "tags": []
   },
   "outputs": [
    {
     "name": "stdout",
     "output_type": "stream",
     "text": [
      "<class 'pandas.core.frame.DataFrame'>\n",
      "RangeIndex: 123653 entries, 0 to 123652\n",
      "Data columns (total 36 columns):\n",
      " #   Column                Non-Null Count   Dtype  \n",
      "---  ------                --------------   -----  \n",
      " 0   bodyType              123653 non-null  object \n",
      " 1   brand                 123653 non-null  object \n",
      " 2   car_url               34686 non-null   object \n",
      " 3   color                 123653 non-null  object \n",
      " 4   complectation_dict    6418 non-null    object \n",
      " 5   description           120419 non-null  object \n",
      " 6   engineDisplacement    123653 non-null  object \n",
      " 7   enginePower           123653 non-null  object \n",
      " 8   equipment_dict        24690 non-null   object \n",
      " 9   fuelType              123653 non-null  object \n",
      " 10  image                 34686 non-null   object \n",
      " 11  mileage               123653 non-null  int64  \n",
      " 12  modelDate             123653 non-null  float64\n",
      " 13  model_info            34686 non-null   object \n",
      " 14  model_name            123653 non-null  object \n",
      " 15  name                  123653 non-null  object \n",
      " 16  numberOfDoors         123653 non-null  float64\n",
      " 17  parsing_unixtime      34686 non-null   object \n",
      " 18  priceCurrency         34686 non-null   object \n",
      " 19  productionDate        123653 non-null  int64  \n",
      " 20  sell_id               34686 non-null   float64\n",
      " 21  super_gen             34686 non-null   object \n",
      " 22  vehicleConfiguration  123653 non-null  object \n",
      " 23  vehicleTransmission   123653 non-null  object \n",
      " 24  vendor                34686 non-null   object \n",
      " 25  Владельцы             110084 non-null  object \n",
      " 26  Владение              41040 non-null   object \n",
      " 27  ПТС                   123291 non-null  object \n",
      " 28  Привод                123653 non-null  object \n",
      " 29  Руль                  123653 non-null  object \n",
      " 30  Состояние             34686 non-null   object \n",
      " 31  Таможня               123653 non-null  object \n",
      " 32  sample                123653 non-null  int64  \n",
      " 33  Комплектация          88967 non-null   object \n",
      " 34  start_date            88967 non-null   object \n",
      " 35  hidden                0 non-null       float64\n",
      "dtypes: float64(4), int64(3), object(29)\n",
      "memory usage: 34.0+ MB\n"
     ]
    }
   ],
   "source": [
    "data.info()"
   ]
  },
  {
   "cell_type": "markdown",
   "metadata": {
    "papermill": {
     "duration": 0.090189,
     "end_time": "2022-02-16T11:25:59.621701",
     "exception": false,
     "start_time": "2022-02-16T11:25:59.531512",
     "status": "completed"
    },
    "tags": []
   },
   "source": [
    "#### 2.2. Краткое описание признаков"
   ]
  },
  {
   "cell_type": "markdown",
   "metadata": {
    "papermill": {
     "duration": 0.090608,
     "end_time": "2022-02-16T11:25:59.803189",
     "exception": false,
     "start_time": "2022-02-16T11:25:59.712581",
     "status": "completed"
    },
    "tags": []
   },
   "source": [
    "- bodyType - тип кузова\n",
    "- brand - марка авто\n",
    "- car_url - ссылка на объявление\n",
    "- color - цвет\n",
    "- complectation_dict - комплектация\n",
    "- description - описание и реклама\n",
    "- engineDisplacement - объем двигателя\n",
    "- enginePower - мощность двигателя \n",
    "- equipment_dict - словарь установленного оборудования\n",
    "- fuelType - тип топлива\n",
    "- image - ссылка на картинку авто\n",
    "- mileage - пробег\n",
    "- modelDate - год модели\n",
    "- model_info - словарь описания модели\n",
    "- model_name - имя модели\n",
    "- name - краткое описание двигателя и мощности\n",
    "- numberOfDoors - количество дверей\n",
    "- parsing_unixtime - время сбора данных\n",
    "- priceCurrency - валюта, в которой указывалась цена\n",
    "- productionDate - дата выпуска авто\n",
    "- sell_id - идентифиактор объявления\n",
    "- super_gen - описание характеристик авто\n",
    "- vehicleConfiguration - краткое описание привода, кузова и объема двигателя\n",
    "- vehicleTransmission - тип коробки передач \n",
    "- vendor - регион производства авто\n",
    "- Владельцы - количество владельцев \n",
    "- Владение - срок владения \n",
    "- ПТС - оригинал/дубликат\n",
    "- Привод - привод)\n",
    "- Руль - расположение рулевого колеса\n",
    "- Состояние - состояние авто на момент подачи объявления\n",
    "- Таможня - авто растаможено в РФ или нет\n",
    "- Комплектация - словарь с описанием комплектации\n",
    "- start_date - дата подачи объявления\n",
    "- hidden - пустой признак в тренировочном датасете"
   ]
  },
  {
   "cell_type": "markdown",
   "metadata": {
    "papermill": {
     "duration": 0.090113,
     "end_time": "2022-02-16T11:25:59.983126",
     "exception": false,
     "start_time": "2022-02-16T11:25:59.893013",
     "status": "completed"
    },
    "tags": []
   },
   "source": [
    "#### 2.3. Удаление неинформативных признаков.\n",
    "\n",
    "Часть признаков не несет никакой полезной информации или содержит дублирующую. Удаляем их. Также удаялем признаки с большим количеством пропусков."
   ]
  },
  {
   "cell_type": "code",
   "execution_count": 19,
   "metadata": {
    "execution": {
     "iopub.execute_input": "2022-02-16T11:26:00.167694Z",
     "iopub.status.busy": "2022-02-16T11:26:00.166984Z",
     "iopub.status.idle": "2022-02-16T11:26:00.198626Z",
     "shell.execute_reply": "2022-02-16T11:26:00.199195Z",
     "shell.execute_reply.started": "2022-02-15T14:50:37.11526Z"
    },
    "papermill": {
     "duration": 0.12602,
     "end_time": "2022-02-16T11:26:00.199396",
     "exception": false,
     "start_time": "2022-02-16T11:26:00.073376",
     "status": "completed"
    },
    "tags": []
   },
   "outputs": [],
   "source": [
    "data.drop(columns=['car_url','complectation_dict','description','equipment_dict','image','model_info','name','priceCurrency','sell_id','super_gen','vehicleConfiguration',\\\n",
    "                   'vendor','Комплектация','hidden','Владение','Состояние','Таможня','engineDisplacement','start_date'],inplace=True)"
   ]
  },
  {
   "cell_type": "code",
   "execution_count": 20,
   "metadata": {
    "execution": {
     "iopub.execute_input": "2022-02-16T11:26:00.383773Z",
     "iopub.status.busy": "2022-02-16T11:26:00.383026Z",
     "iopub.status.idle": "2022-02-16T11:26:00.700881Z",
     "shell.execute_reply": "2022-02-16T11:26:00.699970Z",
     "shell.execute_reply.started": "2022-02-15T14:50:37.149501Z"
    },
    "papermill": {
     "duration": 0.411074,
     "end_time": "2022-02-16T11:26:00.701079",
     "exception": false,
     "start_time": "2022-02-16T11:26:00.290005",
     "status": "completed"
    },
    "tags": []
   },
   "outputs": [
    {
     "name": "stdout",
     "output_type": "stream",
     "text": [
      "Объединненый датасет\n",
      "Размерность: (123653, 17)\n",
      "Первые 5 строк\n"
     ]
    },
    {
     "data": {
      "text/html": [
       "<div>\n",
       "<style scoped>\n",
       "    .dataframe tbody tr th:only-of-type {\n",
       "        vertical-align: middle;\n",
       "    }\n",
       "\n",
       "    .dataframe tbody tr th {\n",
       "        vertical-align: top;\n",
       "    }\n",
       "\n",
       "    .dataframe thead th {\n",
       "        text-align: right;\n",
       "    }\n",
       "</style>\n",
       "<table border=\"1\" class=\"dataframe\">\n",
       "  <thead>\n",
       "    <tr style=\"text-align: right;\">\n",
       "      <th></th>\n",
       "      <th>bodyType</th>\n",
       "      <th>brand</th>\n",
       "      <th>color</th>\n",
       "      <th>enginePower</th>\n",
       "      <th>fuelType</th>\n",
       "      <th>mileage</th>\n",
       "      <th>modelDate</th>\n",
       "      <th>model_name</th>\n",
       "      <th>numberOfDoors</th>\n",
       "      <th>parsing_unixtime</th>\n",
       "      <th>productionDate</th>\n",
       "      <th>vehicleTransmission</th>\n",
       "      <th>Владельцы</th>\n",
       "      <th>ПТС</th>\n",
       "      <th>Привод</th>\n",
       "      <th>Руль</th>\n",
       "      <th>sample</th>\n",
       "    </tr>\n",
       "  </thead>\n",
       "  <tbody>\n",
       "    <tr>\n",
       "      <th>0</th>\n",
       "      <td>лифтбек</td>\n",
       "      <td>SKODA</td>\n",
       "      <td>синий</td>\n",
       "      <td>105 N12</td>\n",
       "      <td>бензин</td>\n",
       "      <td>74000</td>\n",
       "      <td>2013.0</td>\n",
       "      <td>OCTAVIA</td>\n",
       "      <td>5.0</td>\n",
       "      <td>2020-10-20</td>\n",
       "      <td>2014</td>\n",
       "      <td>роботизированная</td>\n",
       "      <td>3 или более</td>\n",
       "      <td>Оригинал</td>\n",
       "      <td>передний</td>\n",
       "      <td>Левый</td>\n",
       "      <td>0</td>\n",
       "    </tr>\n",
       "    <tr>\n",
       "      <th>1</th>\n",
       "      <td>лифтбек</td>\n",
       "      <td>SKODA</td>\n",
       "      <td>чёрный</td>\n",
       "      <td>110 N12</td>\n",
       "      <td>бензин</td>\n",
       "      <td>60563</td>\n",
       "      <td>2017.0</td>\n",
       "      <td>OCTAVIA</td>\n",
       "      <td>5.0</td>\n",
       "      <td>2020-10-20</td>\n",
       "      <td>2017</td>\n",
       "      <td>механическая</td>\n",
       "      <td>1 владелец</td>\n",
       "      <td>Оригинал</td>\n",
       "      <td>передний</td>\n",
       "      <td>Левый</td>\n",
       "      <td>0</td>\n",
       "    </tr>\n",
       "    <tr>\n",
       "      <th>2</th>\n",
       "      <td>лифтбек</td>\n",
       "      <td>SKODA</td>\n",
       "      <td>серый</td>\n",
       "      <td>152 N12</td>\n",
       "      <td>бензин</td>\n",
       "      <td>88000</td>\n",
       "      <td>2013.0</td>\n",
       "      <td>SUPERB</td>\n",
       "      <td>5.0</td>\n",
       "      <td>2020-10-20</td>\n",
       "      <td>2014</td>\n",
       "      <td>роботизированная</td>\n",
       "      <td>1 владелец</td>\n",
       "      <td>Оригинал</td>\n",
       "      <td>передний</td>\n",
       "      <td>Левый</td>\n",
       "      <td>0</td>\n",
       "    </tr>\n",
       "    <tr>\n",
       "      <th>3</th>\n",
       "      <td>лифтбек</td>\n",
       "      <td>SKODA</td>\n",
       "      <td>коричневый</td>\n",
       "      <td>110 N12</td>\n",
       "      <td>бензин</td>\n",
       "      <td>95000</td>\n",
       "      <td>2013.0</td>\n",
       "      <td>OCTAVIA</td>\n",
       "      <td>5.0</td>\n",
       "      <td>2020-10-20</td>\n",
       "      <td>2014</td>\n",
       "      <td>автоматическая</td>\n",
       "      <td>1 владелец</td>\n",
       "      <td>Оригинал</td>\n",
       "      <td>передний</td>\n",
       "      <td>Левый</td>\n",
       "      <td>0</td>\n",
       "    </tr>\n",
       "    <tr>\n",
       "      <th>4</th>\n",
       "      <td>лифтбек</td>\n",
       "      <td>SKODA</td>\n",
       "      <td>белый</td>\n",
       "      <td>152 N12</td>\n",
       "      <td>бензин</td>\n",
       "      <td>58536</td>\n",
       "      <td>2008.0</td>\n",
       "      <td>OCTAVIA</td>\n",
       "      <td>5.0</td>\n",
       "      <td>2020-10-20</td>\n",
       "      <td>2012</td>\n",
       "      <td>автоматическая</td>\n",
       "      <td>1 владелец</td>\n",
       "      <td>Оригинал</td>\n",
       "      <td>передний</td>\n",
       "      <td>Левый</td>\n",
       "      <td>0</td>\n",
       "    </tr>\n",
       "  </tbody>\n",
       "</table>\n",
       "</div>"
      ],
      "text/plain": [
       "  bodyType  brand       color enginePower fuelType  mileage  modelDate  \\\n",
       "0  лифтбек  SKODA       синий     105 N12   бензин    74000     2013.0   \n",
       "1  лифтбек  SKODA      чёрный     110 N12   бензин    60563     2017.0   \n",
       "2  лифтбек  SKODA       серый     152 N12   бензин    88000     2013.0   \n",
       "3  лифтбек  SKODA  коричневый     110 N12   бензин    95000     2013.0   \n",
       "4  лифтбек  SKODA       белый     152 N12   бензин    58536     2008.0   \n",
       "\n",
       "  model_name  numberOfDoors parsing_unixtime  productionDate  \\\n",
       "0    OCTAVIA            5.0       2020-10-20            2014   \n",
       "1    OCTAVIA            5.0       2020-10-20            2017   \n",
       "2     SUPERB            5.0       2020-10-20            2014   \n",
       "3    OCTAVIA            5.0       2020-10-20            2014   \n",
       "4    OCTAVIA            5.0       2020-10-20            2012   \n",
       "\n",
       "  vehicleTransmission    Владельцы       ПТС    Привод   Руль  sample  \n",
       "0    роботизированная  3 или более  Оригинал  передний  Левый       0  \n",
       "1        механическая   1 владелец  Оригинал  передний  Левый       0  \n",
       "2    роботизированная   1 владелец  Оригинал  передний  Левый       0  \n",
       "3      автоматическая   1 владелец  Оригинал  передний  Левый       0  \n",
       "4      автоматическая   1 владелец  Оригинал  передний  Левый       0  "
      ]
     },
     "metadata": {},
     "output_type": "display_data"
    },
    {
     "name": "stdout",
     "output_type": "stream",
     "text": [
      "Детальная информация: \n",
      "<class 'pandas.core.frame.DataFrame'>\n",
      "RangeIndex: 123653 entries, 0 to 123652\n",
      "Data columns (total 17 columns):\n",
      " #   Column               Non-Null Count   Dtype  \n",
      "---  ------               --------------   -----  \n",
      " 0   bodyType             123653 non-null  object \n",
      " 1   brand                123653 non-null  object \n",
      " 2   color                123653 non-null  object \n",
      " 3   enginePower          123653 non-null  object \n",
      " 4   fuelType             123653 non-null  object \n",
      " 5   mileage              123653 non-null  int64  \n",
      " 6   modelDate            123653 non-null  float64\n",
      " 7   model_name           123653 non-null  object \n",
      " 8   numberOfDoors        123653 non-null  float64\n",
      " 9   parsing_unixtime     34686 non-null   object \n",
      " 10  productionDate       123653 non-null  int64  \n",
      " 11  vehicleTransmission  123653 non-null  object \n",
      " 12  Владельцы            110084 non-null  object \n",
      " 13  ПТС                  123291 non-null  object \n",
      " 14  Привод               123653 non-null  object \n",
      " 15  Руль                 123653 non-null  object \n",
      " 16  sample               123653 non-null  int64  \n",
      "dtypes: float64(2), int64(3), object(12)\n",
      "memory usage: 16.0+ MB\n",
      "\n",
      " Признак parsing_unixtime содержит пропуски.\n",
      "\n",
      " Признак Владельцы содержит пропуски.\n",
      "\n",
      " Признак ПТС содержит пропуски.\n"
     ]
    }
   ],
   "source": [
    "first_look(data,\"Объединненый датасет\")"
   ]
  },
  {
   "cell_type": "markdown",
   "metadata": {
    "papermill": {
     "duration": 0.091709,
     "end_time": "2022-02-16T11:26:00.884879",
     "exception": false,
     "start_time": "2022-02-16T11:26:00.793170",
     "status": "completed"
    },
    "tags": []
   },
   "source": [
    "#### 2.4. Заполнение пропусков\n",
    "\n",
    "Заполним пропуски в признаках Владельцы и ПТС значением NOINFO. Отсутствие данных о количестве владельцев и птс зачастую означает, что автомобиль проблемный. Отдельное значение по этим категориям (а не среднее или наиболее часто встречающееся) будет хорошим маркером."
   ]
  },
  {
   "cell_type": "code",
   "execution_count": 21,
   "metadata": {
    "execution": {
     "iopub.execute_input": "2022-02-16T11:26:01.212707Z",
     "iopub.status.busy": "2022-02-16T11:26:01.211941Z",
     "iopub.status.idle": "2022-02-16T11:26:01.222226Z",
     "shell.execute_reply": "2022-02-16T11:26:01.221516Z",
     "shell.execute_reply.started": "2022-02-15T14:50:37.2933Z"
    },
    "papermill": {
     "duration": 0.245002,
     "end_time": "2022-02-16T11:26:01.222374",
     "exception": false,
     "start_time": "2022-02-16T11:26:00.977372",
     "status": "completed"
    },
    "tags": []
   },
   "outputs": [],
   "source": [
    "data.fillna(\"NOINFO\",inplace=True)"
   ]
  },
  {
   "cell_type": "code",
   "execution_count": 22,
   "metadata": {
    "execution": {
     "iopub.execute_input": "2022-02-16T11:26:01.414232Z",
     "iopub.status.busy": "2022-02-16T11:26:01.413437Z",
     "iopub.status.idle": "2022-02-16T11:26:01.774209Z",
     "shell.execute_reply": "2022-02-16T11:26:01.772900Z",
     "shell.execute_reply.started": "2022-02-15T14:50:37.359739Z"
    },
    "papermill": {
     "duration": 0.45868,
     "end_time": "2022-02-16T11:26:01.774388",
     "exception": false,
     "start_time": "2022-02-16T11:26:01.315708",
     "status": "completed"
    },
    "tags": []
   },
   "outputs": [
    {
     "name": "stdout",
     "output_type": "stream",
     "text": [
      "Датасет без пропусков\n",
      "Размерность: (123653, 17)\n",
      "Первые 5 строк\n"
     ]
    },
    {
     "data": {
      "text/html": [
       "<div>\n",
       "<style scoped>\n",
       "    .dataframe tbody tr th:only-of-type {\n",
       "        vertical-align: middle;\n",
       "    }\n",
       "\n",
       "    .dataframe tbody tr th {\n",
       "        vertical-align: top;\n",
       "    }\n",
       "\n",
       "    .dataframe thead th {\n",
       "        text-align: right;\n",
       "    }\n",
       "</style>\n",
       "<table border=\"1\" class=\"dataframe\">\n",
       "  <thead>\n",
       "    <tr style=\"text-align: right;\">\n",
       "      <th></th>\n",
       "      <th>bodyType</th>\n",
       "      <th>brand</th>\n",
       "      <th>color</th>\n",
       "      <th>enginePower</th>\n",
       "      <th>fuelType</th>\n",
       "      <th>mileage</th>\n",
       "      <th>modelDate</th>\n",
       "      <th>model_name</th>\n",
       "      <th>numberOfDoors</th>\n",
       "      <th>parsing_unixtime</th>\n",
       "      <th>productionDate</th>\n",
       "      <th>vehicleTransmission</th>\n",
       "      <th>owners</th>\n",
       "      <th>pts</th>\n",
       "      <th>wd</th>\n",
       "      <th>wheel</th>\n",
       "      <th>sample</th>\n",
       "    </tr>\n",
       "  </thead>\n",
       "  <tbody>\n",
       "    <tr>\n",
       "      <th>0</th>\n",
       "      <td>лифтбек</td>\n",
       "      <td>SKODA</td>\n",
       "      <td>синий</td>\n",
       "      <td>105 N12</td>\n",
       "      <td>бензин</td>\n",
       "      <td>74000</td>\n",
       "      <td>2013.0</td>\n",
       "      <td>OCTAVIA</td>\n",
       "      <td>5.0</td>\n",
       "      <td>2020-10-20</td>\n",
       "      <td>2014</td>\n",
       "      <td>роботизированная</td>\n",
       "      <td>3 или более</td>\n",
       "      <td>Оригинал</td>\n",
       "      <td>передний</td>\n",
       "      <td>Левый</td>\n",
       "      <td>0</td>\n",
       "    </tr>\n",
       "    <tr>\n",
       "      <th>1</th>\n",
       "      <td>лифтбек</td>\n",
       "      <td>SKODA</td>\n",
       "      <td>чёрный</td>\n",
       "      <td>110 N12</td>\n",
       "      <td>бензин</td>\n",
       "      <td>60563</td>\n",
       "      <td>2017.0</td>\n",
       "      <td>OCTAVIA</td>\n",
       "      <td>5.0</td>\n",
       "      <td>2020-10-20</td>\n",
       "      <td>2017</td>\n",
       "      <td>механическая</td>\n",
       "      <td>1 владелец</td>\n",
       "      <td>Оригинал</td>\n",
       "      <td>передний</td>\n",
       "      <td>Левый</td>\n",
       "      <td>0</td>\n",
       "    </tr>\n",
       "    <tr>\n",
       "      <th>2</th>\n",
       "      <td>лифтбек</td>\n",
       "      <td>SKODA</td>\n",
       "      <td>серый</td>\n",
       "      <td>152 N12</td>\n",
       "      <td>бензин</td>\n",
       "      <td>88000</td>\n",
       "      <td>2013.0</td>\n",
       "      <td>SUPERB</td>\n",
       "      <td>5.0</td>\n",
       "      <td>2020-10-20</td>\n",
       "      <td>2014</td>\n",
       "      <td>роботизированная</td>\n",
       "      <td>1 владелец</td>\n",
       "      <td>Оригинал</td>\n",
       "      <td>передний</td>\n",
       "      <td>Левый</td>\n",
       "      <td>0</td>\n",
       "    </tr>\n",
       "    <tr>\n",
       "      <th>3</th>\n",
       "      <td>лифтбек</td>\n",
       "      <td>SKODA</td>\n",
       "      <td>коричневый</td>\n",
       "      <td>110 N12</td>\n",
       "      <td>бензин</td>\n",
       "      <td>95000</td>\n",
       "      <td>2013.0</td>\n",
       "      <td>OCTAVIA</td>\n",
       "      <td>5.0</td>\n",
       "      <td>2020-10-20</td>\n",
       "      <td>2014</td>\n",
       "      <td>автоматическая</td>\n",
       "      <td>1 владелец</td>\n",
       "      <td>Оригинал</td>\n",
       "      <td>передний</td>\n",
       "      <td>Левый</td>\n",
       "      <td>0</td>\n",
       "    </tr>\n",
       "    <tr>\n",
       "      <th>4</th>\n",
       "      <td>лифтбек</td>\n",
       "      <td>SKODA</td>\n",
       "      <td>белый</td>\n",
       "      <td>152 N12</td>\n",
       "      <td>бензин</td>\n",
       "      <td>58536</td>\n",
       "      <td>2008.0</td>\n",
       "      <td>OCTAVIA</td>\n",
       "      <td>5.0</td>\n",
       "      <td>2020-10-20</td>\n",
       "      <td>2012</td>\n",
       "      <td>автоматическая</td>\n",
       "      <td>1 владелец</td>\n",
       "      <td>Оригинал</td>\n",
       "      <td>передний</td>\n",
       "      <td>Левый</td>\n",
       "      <td>0</td>\n",
       "    </tr>\n",
       "  </tbody>\n",
       "</table>\n",
       "</div>"
      ],
      "text/plain": [
       "  bodyType  brand       color enginePower fuelType  mileage  modelDate  \\\n",
       "0  лифтбек  SKODA       синий     105 N12   бензин    74000     2013.0   \n",
       "1  лифтбек  SKODA      чёрный     110 N12   бензин    60563     2017.0   \n",
       "2  лифтбек  SKODA       серый     152 N12   бензин    88000     2013.0   \n",
       "3  лифтбек  SKODA  коричневый     110 N12   бензин    95000     2013.0   \n",
       "4  лифтбек  SKODA       белый     152 N12   бензин    58536     2008.0   \n",
       "\n",
       "  model_name  numberOfDoors parsing_unixtime  productionDate  \\\n",
       "0    OCTAVIA            5.0       2020-10-20            2014   \n",
       "1    OCTAVIA            5.0       2020-10-20            2017   \n",
       "2     SUPERB            5.0       2020-10-20            2014   \n",
       "3    OCTAVIA            5.0       2020-10-20            2014   \n",
       "4    OCTAVIA            5.0       2020-10-20            2012   \n",
       "\n",
       "  vehicleTransmission       owners       pts        wd  wheel  sample  \n",
       "0    роботизированная  3 или более  Оригинал  передний  Левый       0  \n",
       "1        механическая   1 владелец  Оригинал  передний  Левый       0  \n",
       "2    роботизированная   1 владелец  Оригинал  передний  Левый       0  \n",
       "3      автоматическая   1 владелец  Оригинал  передний  Левый       0  \n",
       "4      автоматическая   1 владелец  Оригинал  передний  Левый       0  "
      ]
     },
     "metadata": {},
     "output_type": "display_data"
    },
    {
     "name": "stdout",
     "output_type": "stream",
     "text": [
      "Детальная информация: \n",
      "<class 'pandas.core.frame.DataFrame'>\n",
      "RangeIndex: 123653 entries, 0 to 123652\n",
      "Data columns (total 17 columns):\n",
      " #   Column               Non-Null Count   Dtype  \n",
      "---  ------               --------------   -----  \n",
      " 0   bodyType             123653 non-null  object \n",
      " 1   brand                123653 non-null  object \n",
      " 2   color                123653 non-null  object \n",
      " 3   enginePower          123653 non-null  object \n",
      " 4   fuelType             123653 non-null  object \n",
      " 5   mileage              123653 non-null  int64  \n",
      " 6   modelDate            123653 non-null  float64\n",
      " 7   model_name           123653 non-null  object \n",
      " 8   numberOfDoors        123653 non-null  float64\n",
      " 9   parsing_unixtime     123653 non-null  object \n",
      " 10  productionDate       123653 non-null  int64  \n",
      " 11  vehicleTransmission  123653 non-null  object \n",
      " 12  owners               123653 non-null  object \n",
      " 13  pts                  123653 non-null  object \n",
      " 14  wd                   123653 non-null  object \n",
      " 15  wheel                123653 non-null  object \n",
      " 16  sample               123653 non-null  int64  \n",
      "dtypes: float64(2), int64(3), object(12)\n",
      "memory usage: 16.0+ MB\n"
     ]
    }
   ],
   "source": [
    "#Переименуем признаки, содержащие кириллицу и выведем информацию по получившемуся датасету\n",
    "data = data.rename(columns = {'Владельцы':'owners','ПТС':'pts','Привод':'wd','Руль':'wheel'})\n",
    "first_look(data,'Датасет без пропусков')"
   ]
  },
  {
   "cell_type": "markdown",
   "metadata": {
    "papermill": {
     "duration": 0.094716,
     "end_time": "2022-02-16T11:26:01.963798",
     "exception": false,
     "start_time": "2022-02-16T11:26:01.869082",
     "status": "completed"
    },
    "tags": []
   },
   "source": [
    "#### 2.5. Очистка данных\n",
    "Категориальные признаки: bodyType, brand, color, fuelType, model_name, vehicleTransmission, pts, wd.\n",
    "\n",
    "Бинарные признаки: wheel, customs.\n",
    "\n",
    "Количественные признаки: engineDisplacement, enginePower, mileage, modelDate, numberOfDoors, productionDate, owners."
   ]
  },
  {
   "cell_type": "code",
   "execution_count": 23,
   "metadata": {
    "execution": {
     "iopub.execute_input": "2022-02-16T11:26:02.158528Z",
     "iopub.status.busy": "2022-02-16T11:26:02.157841Z",
     "iopub.status.idle": "2022-02-16T11:26:02.161079Z",
     "shell.execute_reply": "2022-02-16T11:26:02.160490Z",
     "shell.execute_reply.started": "2022-02-15T14:50:37.548812Z"
    },
    "papermill": {
     "duration": 0.103325,
     "end_time": "2022-02-16T11:26:02.161212",
     "exception": false,
     "start_time": "2022-02-16T11:26:02.057887",
     "status": "completed"
    },
    "tags": []
   },
   "outputs": [],
   "source": [
    "#Бинарные категориальные переменные\n",
    "bin_cols = ['wheel']\n",
    "\n",
    "#Количественные переменные\n",
    "num_cols = ['enginePower', 'mileage', 'modelDate', 'numberOfDoors', 'productionDate', 'owners']\n",
    "\n",
    "#Категориальные переменные\n",
    "cat_cols = ['bodyType', 'brand', 'color', 'fuelType', 'model_name', 'vehicleTransmission', 'pts', 'wd']"
   ]
  },
  {
   "cell_type": "markdown",
   "metadata": {
    "papermill": {
     "duration": 0.091377,
     "end_time": "2022-02-16T11:26:02.344529",
     "exception": false,
     "start_time": "2022-02-16T11:26:02.253152",
     "status": "completed"
    },
    "tags": []
   },
   "source": [
    "##### 2.5.1. Бинарные переменные"
   ]
  },
  {
   "cell_type": "code",
   "execution_count": 24,
   "metadata": {
    "execution": {
     "iopub.execute_input": "2022-02-16T11:26:02.564717Z",
     "iopub.status.busy": "2022-02-16T11:26:02.551062Z",
     "iopub.status.idle": "2022-02-16T11:26:02.572635Z",
     "shell.execute_reply": "2022-02-16T11:26:02.571832Z",
     "shell.execute_reply.started": "2022-02-15T14:50:37.555994Z"
    },
    "papermill": {
     "duration": 0.136922,
     "end_time": "2022-02-16T11:26:02.572796",
     "exception": false,
     "start_time": "2022-02-16T11:26:02.435874",
     "status": "completed"
    },
    "tags": []
   },
   "outputs": [
    {
     "name": "stdout",
     "output_type": "stream",
     "text": [
      "wheel\n",
      "LEFT      87185\n",
      "Левый     33287\n",
      "RIGHT      1782\n",
      "Правый     1399\n",
      "Name: wheel, dtype: int64\n",
      "####################\n"
     ]
    }
   ],
   "source": [
    "#Посмотрим на значения в бинарных переменных\n",
    "for col in bin_cols:\n",
    "    print(col)\n",
    "    print(data[col].value_counts())\n",
    "    print(\"#\"*20)"
   ]
  },
  {
   "cell_type": "code",
   "execution_count": 25,
   "metadata": {
    "execution": {
     "iopub.execute_input": "2022-02-16T11:26:02.787144Z",
     "iopub.status.busy": "2022-02-16T11:26:02.780472Z",
     "iopub.status.idle": "2022-02-16T11:26:02.865921Z",
     "shell.execute_reply": "2022-02-16T11:26:02.865156Z",
     "shell.execute_reply.started": "2022-02-15T14:50:37.583505Z"
    },
    "papermill": {
     "duration": 0.199549,
     "end_time": "2022-02-16T11:26:02.866060",
     "exception": false,
     "start_time": "2022-02-16T11:26:02.666511",
     "status": "completed"
    },
    "tags": []
   },
   "outputs": [],
   "source": [
    "#Значения различаются, заменим значения на цифровые LEFT, Левый = 0, RIGHT, Правый = 1 (Можно было использовать LabelEncoder, но раз все равно будем заменять часть, пройдем сразу по всему признаку)\n",
    "data['wheel'].replace({\"LEFT\":0,\"Левый\":0,\"RIGHT\":1,\"Правый\":1},inplace=True)"
   ]
  },
  {
   "cell_type": "markdown",
   "metadata": {
    "execution": {
     "iopub.execute_input": "2022-02-11T16:23:48.551572Z",
     "iopub.status.busy": "2022-02-11T16:23:48.551145Z",
     "iopub.status.idle": "2022-02-11T16:23:48.682345Z",
     "shell.execute_reply": "2022-02-11T16:23:48.680735Z",
     "shell.execute_reply.started": "2022-02-11T16:23:48.551538Z"
    },
    "papermill": {
     "duration": 0.095884,
     "end_time": "2022-02-16T11:26:03.054757",
     "exception": false,
     "start_time": "2022-02-16T11:26:02.958873",
     "status": "completed"
    },
    "tags": []
   },
   "source": [
    "##### 2.5.2 Категориальные переменные"
   ]
  },
  {
   "cell_type": "code",
   "execution_count": 26,
   "metadata": {
    "execution": {
     "iopub.execute_input": "2022-02-16T11:26:03.258616Z",
     "iopub.status.busy": "2022-02-16T11:26:03.257686Z",
     "iopub.status.idle": "2022-02-16T11:26:03.341394Z",
     "shell.execute_reply": "2022-02-16T11:26:03.340606Z",
     "shell.execute_reply.started": "2022-02-15T14:50:37.638569Z"
    },
    "papermill": {
     "duration": 0.191758,
     "end_time": "2022-02-16T11:26:03.341538",
     "exception": false,
     "start_time": "2022-02-16T11:26:03.149780",
     "status": "completed"
    },
    "tags": []
   },
   "outputs": [
    {
     "name": "stdout",
     "output_type": "stream",
     "text": [
      "bodyType\n",
      "['лифтбек' 'внедорожник 5 дв.' 'хэтчбек 5 дв.' 'седан' 'компактвэн'\n",
      " 'универсал 5 дв.' 'пикап одинарная кабина' 'хэтчбек 3 дв.' 'купе'\n",
      " 'кабриолет' 'минивэн' 'пикап двойная кабина' 'внедорожник 3 дв.'\n",
      " 'родстер' 'микровэн' 'седан 2 дв.' 'купе-хардтоп' 'фастбек' 'тарга'\n",
      " 'внедорожник открытый' 'лимузин' 'пикап полуторная кабина'\n",
      " 'седан-хардтоп' 'фургон' 'Седан' 'Универсал 5 дв.'\n",
      " 'Хэтчбек 5 дв. Sportback' 'Хэтчбек 3 дв.' 'Хэтчбек 5 дв.' 'Кабриолет'\n",
      " 'Купе' 'Лифтбек Sportback' 'Лифтбек' 'Седан Long' 'Внедорожник 5 дв.'\n",
      " 'Кабриолет Roadster' 'Седан 2 дв.' 'Седан Gran Coupe' 'Компактвэн'\n",
      " 'Компактвэн Gran Tourer' 'Лифтбек Gran Turismo' 'Хэтчбек 3 дв. Compact'\n",
      " 'Лифтбек Gran Coupe' 'Купе-хардтоп' 'Родстер Roadster' 'Родстер'\n",
      " 'Внедорожник 5 дв. ESV' 'Минивэн' 'Пикап Двойная кабина'\n",
      " 'Внедорожник 3 дв.' 'Пикап Одинарная кабина' 'Тарга'\n",
      " 'Пикап Двойная кабина Crew Cab' 'Пикап Двойная кабина Double'\n",
      " 'Пикап Одинарная кабина Regular Cab' 'Внедорожник 5 дв. EXT' 'Седан SRT8'\n",
      " 'Минивэн SWB' 'Минивэн Grand' 'Компактвэн Grand'\n",
      " 'Универсал 5 дв. CrossTourer' 'Минивэн Long' 'Минивэн XL'\n",
      " 'Микровэн Coach' 'Хэтчбек 5 дв. Best' 'Хэтчбек 5 дв. SRT4' 'Купе SRT'\n",
      " 'Седан SRT' 'Пикап Полуторная кабина' 'Пикап Двойная кабина Quad Cab'\n",
      " 'Пикап Полуторная кабина Quad Cab' 'Пикап Двойная кабина Crew Cab TRX'\n",
      " 'Пикап Полуторная кабина Club Cab'\n",
      " 'Пикап Двойная кабина Raptor SuperCrew' 'Пикап Двойная кабина CrewCab'\n",
      " 'Пикап Двойная кабина Raptor CrewCab' 'Пикап Двойная кабина Super Crew'\n",
      " 'Пикап Полуторная кабина Raptor' 'Пикап Двойная кабина SuperCrew'\n",
      " 'Кабриолет StreetKa' 'Пикап Двойная кабина Double Cab'\n",
      " 'Пикап Полуторная кабина Rap Cab' 'Компактвэн LWB' 'Компактвэн SWB'\n",
      " 'Минивэн LWB' 'Фастбек' 'Седан Type-S' 'Микровэн'\n",
      " 'Универсал 5 дв. Shuttle' 'Родстер del Sol' 'Компактвэн Spike'\n",
      " 'Минивэн Spada' 'Седан Limousine' 'Внедорожник 5 дв. Grand'\n",
      " 'Хэтчбек 4 дв.' 'Седан SWB' 'Седан LWB' 'Внедорожник 5 дв. SRT'\n",
      " 'Внедорожник 5 дв. Trackhawk' 'Внедорожник 5 дв. SRT8'\n",
      " 'Внедорожник открытый' 'Хэтчбек 5 дв. GT Line' 'Хэтчбек 5 дв. X-Line'\n",
      " 'Хэтчбек 5 дв. EU' 'Внедорожник 5 дв. Prime' 'Внедорожник 5 дв. L'\n",
      " 'Минивэн Brawny' 'Универсал 5 дв. S-Familia' 'Кабриолет JCW'\n",
      " 'Кабриолет Cooper S' 'Хэтчбек 3 дв. Cooper S' 'Универсал 5 дв. JCW'\n",
      " 'Универсал 5 дв. Cooper S' 'Внедорожник 5 дв. Cooper S'\n",
      " 'Внедорожник 5 дв. JCW' 'Купе Cooper S' 'Хэтчбек 3 дв. JCW'\n",
      " 'Хэтчбек 5 дв. Cooper S' 'Универсал 5 дв. Plus' 'Купе Asti'\n",
      " 'Минивэн Caravan Elgrand' 'Компактвэн Joy' 'Универсал 5 дв. California'\n",
      " 'Седан Latio' 'Хэтчбек 3 дв. GTC' 'Универсал 5 дв. Country Tourer'\n",
      " 'Минивэн L' 'Тарга Targa' 'Купе RS' 'Седан Stepway'\n",
      " 'Хэтчбек 5 дв. Stepway' 'Компактвэн RX4' 'Компактвэн Conquest'\n",
      " 'Седан 120' 'Хэтчбек 5 дв. Scout' 'Универсал 5 дв. Scout'\n",
      " 'Универсал 5 дв. Spaceback' 'Внедорожник 5 дв. tS' 'Хэтчбек 5 дв. XV'\n",
      " 'Внедорожник 5 дв. XL-7' 'Универсал 5 дв. Gita' 'Седан US Market'\n",
      " 'Седан Japan Market' 'Седан Gracia' 'Универсал 5 дв. Gracia'\n",
      " 'Седан-хардтоп' 'Универсал 5 дв. Fielder' 'Седан Axio'\n",
      " 'Седан-хардтоп Ceres' 'Хэтчбек 5 дв. Runx' 'Лифтбек Liftback'\n",
      " 'Седан Premio' 'Седан T140' 'Минивэн Lucida' 'Минивэн Emina'\n",
      " 'Минивэн Regius' 'Пикап Двойная кабина Double cab' 'Внедорожник 3 дв. 78'\n",
      " 'Внедорожник 5 дв. 76' 'Пикап Одинарная кабина 79'\n",
      " 'Внедорожник 5 дв. Arctic Trucks' 'Компактвэн Noah'\n",
      " 'Универсал 5 дв. Blit' 'Универсал 5 дв. Qualis' 'Внедорожник 5 дв. Long'\n",
      " 'Пикап Полуторная кабина Long Bed' 'Пикап Двойная кабина CrewMax'\n",
      " 'Универсал 5 дв. Ardeo' 'Компактвэн Life' 'Компактвэн Maxi'\n",
      " 'Компактвэн Life Maxi' 'Компактвэн Alltrack' 'Универсал 5 дв. Alltrack'\n",
      " 'Хэтчбек 5 дв. Cross' 'Внедорожник 5 дв. Allspace' 'Компактвэн Cross'\n",
      " 'Фургон' 'Фургон Kasten' 'Универсал 5 дв. XC' 'Внедорожник 5 дв. 110'\n",
      " 'Внедорожник 3 дв. 90' 'Хэтчбек 5 дв. Long' 'Универсал 5 дв. All-Terrain'\n",
      " 'Внедорожник 5 дв. 4x4' 'Лимузин Pullman' 'Минивэн Extralong'\n",
      " 'Минивэн Marco Polo' 'Минивэн Extra Long' 'Минивэн L2' 'Минивэн L3'\n",
      " 'Минивэн L1' 'Пикап Двойная кабина Sports']\n",
      "object\n",
      "####################\n",
      "brand\n",
      "['SKODA' 'AUDI' 'HONDA' 'VOLVO' 'BMW' 'NISSAN' 'INFINITI' 'MERCEDES'\n",
      " 'TOYOTA' 'LEXUS' 'VOLKSWAGEN' 'MITSUBISHI' 'CADILLAC' 'CHERY' 'CHEVROLET'\n",
      " 'CHRYSLER' 'CITROEN' 'DAEWOO' 'DODGE' 'FORD' 'GEELY' 'HYUNDAI' 'JAGUAR'\n",
      " 'JEEP' 'KIA' 'MAZDA' 'MINI' 'OPEL' 'PEUGEOT' 'PORSCHE' 'RENAULT' 'SUBARU'\n",
      " 'SUZUKI' 'GREAT_WALL' 'LAND_ROVER' 'SSANG_YONG']\n",
      "object\n",
      "####################\n",
      "color\n",
      "['синий' 'чёрный' 'серый' 'коричневый' 'белый' 'пурпурный' 'бежевый'\n",
      " 'серебристый' 'красный' 'зелёный' 'жёлтый' 'голубой' 'оранжевый'\n",
      " 'фиолетовый' 'золотистый' 'розовый' '040001' 'EE1D19' '0000CC' 'CACECB'\n",
      " '007F00' 'FAFBFB' '97948F' '22A0F8' '660099' '200204' 'C49648' 'DEA522'\n",
      " '4A2197' 'FFD600' 'FF8649' 'FFC0CB']\n",
      "object\n",
      "####################\n",
      "fuelType\n",
      "['бензин' 'дизель' 'гибрид' 'электро' 'газ']\n",
      "object\n",
      "####################\n",
      "model_name\n",
      "['OCTAVIA' 'SUPERB' 'OCTAVIA_RS' ... 'REXTON' 'RODIUS' 'STAVIC']\n",
      "object\n",
      "####################\n",
      "vehicleTransmission\n",
      "['роботизированная' 'механическая' 'автоматическая' 'вариатор'\n",
      " 'MECHANICAL' 'AUTOMATIC' 'ROBOT' 'VARIATOR']\n",
      "object\n",
      "####################\n",
      "pts\n",
      "['Оригинал' 'Дубликат' 'NOINFO' 'ORIGINAL' 'DUPLICATE']\n",
      "object\n",
      "####################\n",
      "wd\n",
      "['передний' 'полный' 'задний']\n",
      "object\n",
      "####################\n"
     ]
    }
   ],
   "source": [
    "#Посмотрим на значения в категориальных переменных\n",
    "for col in cat_cols:\n",
    "    print(col)\n",
    "    print(data[col].unique())\n",
    "    print(data[col].dtypes)\n",
    "    print(\"#\"*20)"
   ]
  },
  {
   "cell_type": "markdown",
   "metadata": {
    "papermill": {
     "duration": 0.094828,
     "end_time": "2022-02-16T11:26:03.530443",
     "exception": false,
     "start_time": "2022-02-16T11:26:03.435615",
     "status": "completed"
    },
    "tags": []
   },
   "source": [
    "C признаком bodyType все плохо. Слишком много различающихся значений. Причем бОльшая часть различающихся пришло из обучающего датасета.\n",
    "\n",
    "Заменим длинные значения из обучающего датасэта на более короткие из валидационного. Например \"Пикап Двойная кабина Raptor CrewCab\" -> \"пикап двойная кабина\""
   ]
  },
  {
   "cell_type": "code",
   "execution_count": 27,
   "metadata": {
    "execution": {
     "iopub.execute_input": "2022-02-16T11:26:03.728014Z",
     "iopub.status.busy": "2022-02-16T11:26:03.726800Z",
     "iopub.status.idle": "2022-02-16T11:26:03.794050Z",
     "shell.execute_reply": "2022-02-16T11:26:03.794604Z",
     "shell.execute_reply.started": "2022-02-15T14:50:37.711474Z"
    },
    "papermill": {
     "duration": 0.170738,
     "end_time": "2022-02-16T11:26:03.794767",
     "exception": false,
     "start_time": "2022-02-16T11:26:03.624029",
     "status": "completed"
    },
    "tags": []
   },
   "outputs": [],
   "source": [
    "#получаем список \"правильных\" значений\n",
    "corr_body_list = data[data['sample'] == 0]['bodyType'].sort_values(ascending=False).unique()\n",
    "\n",
    "#value - проверяемое занчение Возвращает исправленное значение, если сопоставил его со списком, иначе оставляет как есть.\n",
    "def replace_long_value(value):\n",
    "    #проходим по списку \"правильных\" значений и ищем совпадение в проверяемой строке\n",
    "    for corr_val in corr_body_list:\n",
    "        if corr_val in value.lower(): return corr_val\n",
    "    #если ничего не нашли, возвращаем оригинал\n",
    "    return value.lower()"
   ]
  },
  {
   "cell_type": "code",
   "execution_count": 28,
   "metadata": {
    "execution": {
     "iopub.execute_input": "2022-02-16T11:26:03.995492Z",
     "iopub.status.busy": "2022-02-16T11:26:03.994371Z",
     "iopub.status.idle": "2022-02-16T11:26:04.490186Z",
     "shell.execute_reply": "2022-02-16T11:26:04.490744Z",
     "shell.execute_reply.started": "2022-02-15T14:50:37.75283Z"
    },
    "papermill": {
     "duration": 0.594678,
     "end_time": "2022-02-16T11:26:04.490896",
     "exception": false,
     "start_time": "2022-02-16T11:26:03.896218",
     "status": "completed"
    },
    "tags": []
   },
   "outputs": [],
   "source": [
    "data['bodyType'] = data['bodyType'].apply(replace_long_value)"
   ]
  },
  {
   "cell_type": "code",
   "execution_count": 29,
   "metadata": {
    "execution": {
     "iopub.execute_input": "2022-02-16T11:26:04.680350Z",
     "iopub.status.busy": "2022-02-16T11:26:04.679373Z",
     "iopub.status.idle": "2022-02-16T11:26:04.808704Z",
     "shell.execute_reply": "2022-02-16T11:26:04.809314Z",
     "shell.execute_reply.started": "2022-02-15T14:50:38.162387Z"
    },
    "papermill": {
     "duration": 0.226154,
     "end_time": "2022-02-16T11:26:04.809476",
     "exception": false,
     "start_time": "2022-02-16T11:26:04.583322",
     "status": "completed"
    },
    "tags": []
   },
   "outputs": [],
   "source": [
    "#в признаке color содержатся как русскоязычные наименования цветов, так и RGB. Приведем все к виду русскоязычных наименований.\n",
    "#создадим словарь\n",
    "color_dict = {'040001':\"чёрный\", 'EE1D19': 'красный', '0000CC':'синий', 'CACECB':'серебристый',\\\n",
    "              '007F00':'зелёный', 'FAFBFB':'белый', '97948F':'серый', '22A0F8':'голубой',\\\n",
    "              '660099':'пурпурный', '200204':'коричневый', 'C49648':'бежевый',\\\n",
    "              'DEA522':'золотистый','4A2197':'фиолетовый', 'FFD600':'жёлтый',\\\n",
    "              'FF8649':'оранжевый', 'FFC0CB':'розовый'}\n",
    "\n",
    "data['color'].replace(color_dict,inplace=True)"
   ]
  },
  {
   "cell_type": "code",
   "execution_count": 30,
   "metadata": {
    "execution": {
     "iopub.execute_input": "2022-02-16T11:26:05.001196Z",
     "iopub.status.busy": "2022-02-16T11:26:05.000122Z",
     "iopub.status.idle": "2022-02-16T11:26:05.074549Z",
     "shell.execute_reply": "2022-02-16T11:26:05.073992Z",
     "shell.execute_reply.started": "2022-02-15T14:50:38.240168Z"
    },
    "papermill": {
     "duration": 0.171734,
     "end_time": "2022-02-16T11:26:05.074748",
     "exception": false,
     "start_time": "2022-02-16T11:26:04.903014",
     "status": "completed"
    },
    "tags": []
   },
   "outputs": [],
   "source": [
    "#В признаке vehicleTransmission содержатся названия типов трансмиссий как на русском, так и на английском, приведем к русскому.\n",
    "trans_dict = {'MECHANICAL': 'механическая','AUTOMATIC':'автоматическая', 'ROBOT':'роботизированная', 'VARIATOR':'вариатор'}\n",
    "data['vehicleTransmission'].replace(trans_dict,inplace=True)\n",
    "\n",
    "#В признаке pts содержатся значения как на русском, так и на английском, приведем к русскому\n",
    "pts_dict = {'ORIGINAL':'Оригинал', 'DUPLICATE':'Дубликат'}\n",
    "data['pts'].replace(pts_dict,inplace=True)"
   ]
  },
  {
   "cell_type": "code",
   "execution_count": 31,
   "metadata": {
    "execution": {
     "iopub.execute_input": "2022-02-16T11:26:05.264046Z",
     "iopub.status.busy": "2022-02-16T11:26:05.263039Z",
     "iopub.status.idle": "2022-02-16T11:26:05.783123Z",
     "shell.execute_reply": "2022-02-16T11:26:05.782288Z",
     "shell.execute_reply.started": "2022-02-15T14:50:38.292471Z"
    },
    "papermill": {
     "duration": 0.616122,
     "end_time": "2022-02-16T11:26:05.783262",
     "exception": false,
     "start_time": "2022-02-16T11:26:05.167140",
     "status": "completed"
    },
    "tags": []
   },
   "outputs": [
    {
     "name": "stdout",
     "output_type": "stream",
     "text": [
      "Охват top-100 моделей от общего числа составляет: 0.69\n",
      "Охват top-110 моделей от общего числа составляет: 0.71\n",
      "Охват top-120 моделей от общего числа составляет: 0.73\n",
      "Охват top-130 моделей от общего числа составляет: 0.76\n",
      "Охват top-140 моделей от общего числа составляет: 0.77\n",
      "Охват top-150 моделей от общего числа составляет: 0.79\n",
      "Охват top-160 моделей от общего числа составляет: 0.8\n",
      "Охват top-170 моделей от общего числа составляет: 0.82\n",
      "Охват top-180 моделей от общего числа составляет: 0.83\n",
      "Охват top-190 моделей от общего числа составляет: 0.84\n",
      "Охват top-200 моделей от общего числа составляет: 0.85\n",
      "Охват top-210 моделей от общего числа составляет: 0.86\n",
      "Охват top-220 моделей от общего числа составляет: 0.87\n",
      "Охват top-230 моделей от общего числа составляет: 0.88\n",
      "Охват top-240 моделей от общего числа составляет: 0.89\n",
      "Охват top-250 моделей от общего числа составляет: 0.89\n"
     ]
    }
   ],
   "source": [
    "#Признак model_name содержит большое количество уникальный значений. Посмотрим, какой процент от общего числа записей приходится на топ-100, топ-110... моделей\n",
    "for top in range(100,260,10):\n",
    "    print(\"Охват top-{} моделей от общего числа составляет: {}\".format(top,\\\n",
    "                                                                       round(\\\n",
    "                                                                             sum(data['model_name'].value_counts()[:top])/data.shape[0],2)))\n"
   ]
  },
  {
   "cell_type": "markdown",
   "metadata": {
    "papermill": {
     "duration": 0.094422,
     "end_time": "2022-02-16T11:26:05.975647",
     "exception": false,
     "start_time": "2022-02-16T11:26:05.881225",
     "status": "completed"
    },
    "tags": []
   },
   "source": [
    "Топ-150 моделей охватывают почти 80% записей датасета. Заменим модели, не входящие в топ-150 на значение other.\n",
    "\n",
    "Топ-150 использовался при тестировании моделей, в финальный сабмишн были взяты уже все модели."
   ]
  },
  {
   "cell_type": "code",
   "execution_count": 32,
   "metadata": {
    "execution": {
     "iopub.execute_input": "2022-02-16T11:26:06.170459Z",
     "iopub.status.busy": "2022-02-16T11:26:06.169812Z",
     "iopub.status.idle": "2022-02-16T11:26:06.435734Z",
     "shell.execute_reply": "2022-02-16T11:26:06.434988Z",
     "shell.execute_reply.started": "2022-02-15T14:50:38.519183Z"
    },
    "papermill": {
     "duration": 0.365701,
     "end_time": "2022-02-16T11:26:06.435866",
     "exception": false,
     "start_time": "2022-02-16T11:26:06.070165",
     "status": "completed"
    },
    "tags": []
   },
   "outputs": [],
   "source": [
    "#получаем топ-50\n",
    "top_models = data['model_name'].value_counts().index.values.tolist()#[:150] топ-150 отключено для финальной попытки\n",
    "\n",
    "#заменим значения моделей, не входящие в топ-50\n",
    "data['model_name'] = data['model_name'].apply(lambda x: x if x in top_models else 'other')"
   ]
  },
  {
   "cell_type": "markdown",
   "metadata": {
    "papermill": {
     "duration": 0.106186,
     "end_time": "2022-02-16T11:26:06.661717",
     "exception": false,
     "start_time": "2022-02-16T11:26:06.555531",
     "status": "completed"
    },
    "tags": []
   },
   "source": [
    "Будем использовать One-Hot Encoding.\n",
    "\n",
    "Еще раз взглянем на количество уникальных значений в каждом из категориальных признаков. Если этих значений намного больше 20-30, потребуется дополнительная обработка."
   ]
  },
  {
   "cell_type": "code",
   "execution_count": 33,
   "metadata": {
    "execution": {
     "iopub.execute_input": "2022-02-16T11:26:06.882230Z",
     "iopub.status.busy": "2022-02-16T11:26:06.881295Z",
     "iopub.status.idle": "2022-02-16T11:26:06.965360Z",
     "shell.execute_reply": "2022-02-16T11:26:06.964676Z",
     "shell.execute_reply.started": "2022-02-15T14:50:38.902302Z"
    },
    "papermill": {
     "duration": 0.201309,
     "end_time": "2022-02-16T11:26:06.965479",
     "exception": false,
     "start_time": "2022-02-16T11:26:06.764170",
     "status": "completed"
    },
    "tags": []
   },
   "outputs": [
    {
     "name": "stdout",
     "output_type": "stream",
     "text": [
      "Признак bodyType: 25 уникальных значений \n",
      "Признак brand: 36 уникальных значений \n",
      "Признак color: 16 уникальных значений \n",
      "Признак fuelType: 5 уникальных значений \n",
      "Признак model_name: 1104 уникальных значений \n",
      "Признак vehicleTransmission: 4 уникальных значений \n",
      "Признак pts: 3 уникальных значений \n",
      "Признак wd: 3 уникальных значений \n"
     ]
    }
   ],
   "source": [
    "for col in cat_cols:\n",
    "    print(\"Признак {}: {} уникальных значений \".format(col,len(data[col].unique())))"
   ]
  },
  {
   "cell_type": "markdown",
   "metadata": {
    "papermill": {
     "duration": 0.09455,
     "end_time": "2022-02-16T11:26:07.156704",
     "exception": false,
     "start_time": "2022-02-16T11:26:07.062154",
     "status": "completed"
    },
    "tags": []
   },
   "source": [
    "Кроме признака model_name, остальные содержат приемлимое количество уникальных значений.\n",
    "\n",
    "Преобразуем категориальные признаки с помощью One-Hot Encoding."
   ]
  },
  {
   "cell_type": "code",
   "execution_count": 34,
   "metadata": {
    "execution": {
     "iopub.execute_input": "2022-02-16T11:26:07.361597Z",
     "iopub.status.busy": "2022-02-16T11:26:07.360667Z",
     "iopub.status.idle": "2022-02-16T11:26:09.474668Z",
     "shell.execute_reply": "2022-02-16T11:26:09.473963Z",
     "shell.execute_reply.started": "2022-02-15T14:50:39.009098Z"
    },
    "papermill": {
     "duration": 2.221328,
     "end_time": "2022-02-16T11:26:09.474808",
     "exception": false,
     "start_time": "2022-02-16T11:26:07.253480",
     "status": "completed"
    },
    "tags": []
   },
   "outputs": [],
   "source": [
    "for col in cat_cols:\n",
    "    df_dummies = pd.get_dummies(data[col])\n",
    "    data = pd.concat([data,df_dummies],axis=1)\n",
    "    \n",
    "#Удаляем из датасета категориальные признаки\n",
    "data.drop(columns=cat_cols,inplace=True)"
   ]
  },
  {
   "cell_type": "markdown",
   "metadata": {
    "papermill": {
     "duration": 0.094244,
     "end_time": "2022-02-16T11:26:09.664324",
     "exception": false,
     "start_time": "2022-02-16T11:26:09.570080",
     "status": "completed"
    },
    "tags": []
   },
   "source": [
    "##### 2.5.3 Числовые переменные"
   ]
  },
  {
   "cell_type": "code",
   "execution_count": 35,
   "metadata": {
    "execution": {
     "iopub.execute_input": "2022-02-16T11:26:09.884903Z",
     "iopub.status.busy": "2022-02-16T11:26:09.882412Z",
     "iopub.status.idle": "2022-02-16T11:26:09.918901Z",
     "shell.execute_reply": "2022-02-16T11:26:09.918069Z",
     "shell.execute_reply.started": "2022-02-15T14:50:40.033422Z"
    },
    "papermill": {
     "duration": 0.155043,
     "end_time": "2022-02-16T11:26:09.919034",
     "exception": false,
     "start_time": "2022-02-16T11:26:09.763991",
     "status": "completed"
    },
    "tags": []
   },
   "outputs": [
    {
     "name": "stdout",
     "output_type": "stream",
     "text": [
      "enginePower\n",
      "['105 N12' '110 N12' '152 N12' '200 N12' '102 N12' '150 N12' '90 N12'\n",
      " '180 N12' '220 N12' '122 N12' '70 N12' '140 N12' '125 N12' '54 N12'\n",
      " '86 N12' '75 N12' '64 N12' '95 N12' '260 N12' '170 N12' '80 N12' '68 N12'\n",
      " '160 N12' '115 N12' '280 N12' '53 N12' '60 N12' '143 N12' '42 N12'\n",
      " '101 N12' '58 N12' '193 N12' '79 N12' '30 N12' '100 N12' '50 N12'\n",
      " '163 N12' '225 N12' '420 N12' '211 N12' '245 N12' '560 N12' '500 N12'\n",
      " '249 N12' '450 N12' '605 N12' '250 N12' '354 N12' '120 N12' '290 N12'\n",
      " '230 N12' '350 N12' '204 N12' '255 N12' '340 N12' '177 N12' '272 N12'\n",
      " '372 N12' '210 N12' '130 N12' '300 N12' '190 N12' '239 N12' '435 N12'\n",
      " '333 N12' '271 N12' '326 N12' '238 N12' '310 N12' '233 N12' '252 N12'\n",
      " '133 N12' '460 N12' '520 N12' '400 N12' '525 N12' '367 N12' '265 N12'\n",
      " '550 N12' '580 N12' '88 N12' '165 N12' '430 N12' '335 N12' '174 N12'\n",
      " '224 N12' '136 N12' '256 N12' '338 N12' '112 N12' '218 N12' '360 N12'\n",
      " '93 N12' '182 N12' '113 N12' '240 N12' '270 N12' '137 N12' '155 N12'\n",
      " '61 N12' '254 N12' '116 N12' '71 N12' '285 N12' '408 N12' '166 N12'\n",
      " '156 N12' '257 N12' '201 N12' '162 N12' '194 N12' '142 N12' '154 N12'\n",
      " '147 N12' '281 N12' '243 N12' '118 N12' '128 N12' '91 N12' '83 N12'\n",
      " '205 N12' '247 N12' '188 N12' '295 N12' '275 N12' '78 N12' '109 N12'\n",
      " '94 N12' '185 N12' '258 N12' '145 N12' '132 N12' '135 N12' '52 N12'\n",
      " '66 N12' '124 N12' '98 N12' '215 N12' '158 N12' '99 N12' '103 N12'\n",
      " '131 N12' '126 N12' '235 N12' '181 N12' '315 N12' '203 N12' '231 N12'\n",
      " '82 N12' '304 N12' '175 N12' '320 N12' '213 N12' '144 N12' '146 N12'\n",
      " '151 N12' '111 N12' '286 N12' '306 N12' '107 N12' '184 N12' '313 N12'\n",
      " '264 N12' '575 N12' '407 N12' '192 N12' '129 N12' '555 N12' '625 N12'\n",
      " '329 N12' '370 N12' '381 N12' '269 N12' '600 N12' '510 N12' '544 N12'\n",
      " '462 N12' '355 N12' '507 N12' '609 N12' '431 N12' '530 N12' '387 N12'\n",
      " '610 N12' '197 N12' '343 N12' '445 N12' '171 N12' '51 N12' '46 N12'\n",
      " '347 N12' '321 N12' '167 N12' '141 N12' '169 N12' '405 N12' '117 N12'\n",
      " '114 N12' '173 N12' '234 N12' '540 N12' '106 N12' '49 N12' '248 N12'\n",
      " '317 N12' '309 N12' '97 N12' '121 N12' '268 N12' '149 N12' '87 N12'\n",
      " '85 N12' '65 N12' '67 N12' '127 N12' '485 N12' '186 N12' '222 N12'\n",
      " '307 N12' '262 N12' '302 N12' '284 N12' '325 N12' '168 N12' '221 N12'\n",
      " '330 N12' '283 N12' '328 N12' '303 N12' '278 N12' '388 N12' '571 N12'\n",
      " '585 N12' '612 N12' '401 N12' '279 N12' '455 N12' '382 N12' '557 N12'\n",
      " '517 N12' '394 N12' '422 N12' '292 N12' '469 N12' '522 N12' '296 N12'\n",
      " '639 N12' '390 N12' '476 N12' '630 N12' '402 N12' '487 N12' '558 N12'\n",
      " '421 N12' '316 N12' '514 N12' '457 N12' '626 N12' '242 N12' '38 N12'\n",
      " '32 N12' '223 N12' '72 N12' '305 N12' '183 N12' '273 N12' '159 N12'\n",
      " '76 N12' '148 N12' '179 N12' '73 N12' '277 N12' '282 N12' '178 N12'\n",
      " '288 N12' '199 N12' '266 N12' '92 N12' '74 N12' '324 N12' '232 N12'\n",
      " '157 N12' '69 N12' '212 N12' '276 N12' '202 N12' '77 N12' '164 N12'\n",
      " '96 N12' '84 N12' '228 N12' '108 N12' '208 N12' '263 N12' '294 N12'\n",
      " '318 N12' '380 N12' '219 N12' '214 N12' '383 N12' '241 N12' '57 N12'\n",
      " '55 N12' '104 N12' '48 N12' '40 N12' '44 N12' '227 N12' '139 N12'\n",
      " '209 N12' '195 N12' '189 N12' '480 N12' '591 N12' '301 N12' 174.0 90.0\n",
      " 136.0 101.0 133.0 150.0 115.0 137.0 112.0 230.0 70.0 88.0 100.0 75.0\n",
      " 165.0 182.0 170.0 113.0 80.0 54.0 60.0 71.0 122.0 125.0 61.0 102.0 190.0\n",
      " 180.0 160.0 105.0 140.0 110.0 250.0 200.0 130.0 120.0 225.0 163.0 211.0\n",
      " 249.0 255.0 143.0 220.0 239.0 265.0 116.0 193.0 177.0 240.0 245.0 204.0\n",
      " 340.0 300.0 233.0 310.0 210.0 218.0 290.0 333.0 335.0 224.0 350.0 155.0\n",
      " 254.0 338.0 435.0 372.0 460.0 275.0 500.0 260.0 450.0 420.0 280.0 326.0\n",
      " 285.0 408.0 271.0 272.0 270.0 238.0 252.0 610.0 525.0 430.0 367.0 605.0\n",
      " 560.0 580.0 256.0 354.0 571.0 360.0 520.0 400.0 156.0 306.0 320.0 184.0\n",
      " 129.0 258.0 231.0 118.0 286.0 192.0 98.0 234.0 171.0 46.0 51.0 407.0\n",
      " 530.0 235.0 381.0 462.0 197.0 109.0 313.0 609.0 544.0 445.0 329.0 188.0\n",
      " 370.0 410.0 431.0 343.0 507.0 600.0 625.0 510.0 355.0 269.0 264.0 347.0\n",
      " 555.0 575.0 321.0 276.0 226.0 175.0 203.0 311.0 215.0 322.0 309.0 185.0\n",
      " 564.0 330.0 304.0 409.0 426.0 349.0 299.0 158.0 305.0 135.0 324.0 318.0\n",
      " 325.0 314.0 94.0 126.0 119.0 83.0 117.0 68.0 52.0 132.0 106.0 147.0 139.0\n",
      " 152.0 141.0 295.0 72.0 84.0 86.0 162.0 161.0 455.0 589.0 405.0 312.0\n",
      " 279.0 172.0 167.0 466.0 495.0 513.0 282.0 437.0 213.0 365.0 124.0 145.0\n",
      " 131.0 301.0 323.0 294.0 149.0 345.0 121.0 315.0 403.0 288.0 67.0 63.0\n",
      " 359.0 273.0 396.0 425.0 253.0 164.0 237.0 228.0 154.0 257.0 214.0 287.0\n",
      " 248.0 223.0 189.0 283.0 95.0 82.0 114.0 138.0 127.0 207.0 178.0 92.0\n",
      " 128.0 69.0 38.0 85.0 107.0 142.0 148.0 64.0 41.0 173.0 251.0 166.0 144.0\n",
      " 380.0 717.0 492.0 205.0 103.0 395.0 702.0 470.0 99.0 123.0 208.0 212.0\n",
      " 242.0 411.0 375.0 385.0 96.0 58.0 111.0 181.0 199.0 40.0 20.0 421.0 317.0\n",
      " 526.0 662.0 412.0 87.0 66.0 157.0 201.0 281.0 53.0 44.0 91.0 186.0 194.0\n",
      " 78.0 50.0 65.0 284.0 243.0 247.0 93.0 97.0 56.0 334.0 373.0 81.0 77.0\n",
      " 179.0 146.0 198.0 222.0 302.0 307.0 328.0 303.0 278.0 221.0 168.0 262.0\n",
      " 550.0 196.0 298.0 416.0 268.0 363.0 468.0 352.0 241.0 202.0 169.0 274.0\n",
      " 187.0 266.0 159.0 62.0 73.0 424.0 108.0 195.0 261.0 277.0 296.0 219.0\n",
      " 292.0 263.0 394.0 388.0 383.0 477.0 104.0 244.0 153.0 48.0 227.0 209.0\n",
      " 79.0 49.0 540.0 485.0 45.0 55.0 89.0 480.0 475.0 608.0 382.0 440.0 570.0\n",
      " 521.0 761.0 680.0 76.0 17.0 11.0 42.0 30.0 74.0 151.0 232.0 183.0 236.0\n",
      " 57.0 134.0 565.0 339.0 390.0 476.0 557.0 639.0 585.0 457.0 487.0 517.0\n",
      " 612.0 402.0 514.0 401.0 422.0 700.0 800.0 558.0 469.0 630.0 32.0 316.0\n",
      " 626.0 591.0]\n",
      "object\n",
      "####################\n",
      "mileage\n",
      "[ 74000  60563  88000 ... 262800 106124 191768]\n",
      "int64\n",
      "####################\n",
      "modelDate\n",
      "[2013. 2017. 2008. 2009. 2016. 2012. 2015. 2010. 2006. 2000. 2007. 1994.\n",
      " 2004. 1999. 2005. 1976. 2001. 1969. 1996. 1998. 1989. 1934. 2014. 2011.\n",
      " 2018. 1986. 1997. 1990. 2019. 2002. 1991. 1987. 1980. 1982. 1938. 1988.\n",
      " 2003. 1983. 1978. 1979. 1984. 1992. 1995. 1993. 1985. 1974. 1966. 1977.\n",
      " 1981. 1972. 1968. 1975. 1949. 1937. 1936. 1973. 1959. 1958. 2020. 1965.\n",
      " 1971. 1904. 1963. 1955. 1951. 1960. 1956. 1970. 1964. 1957. 1927. 1908.\n",
      " 1932. 1935. 1967. 1948. 1950. 1961.]\n",
      "float64\n",
      "####################\n",
      "numberOfDoors\n",
      "[5. 4. 2. 3. 0.]\n",
      "float64\n",
      "####################\n",
      "productionDate\n",
      "[2014 2017 2012 2011 2019 2018 2010 2020 2016 2013 2006 2007 2015 2005\n",
      " 2008 2009 1997 2004 2002 1987 2003 2001 1976 2000 1998 1995 1999 1993\n",
      " 1939 1996 1984 1990 1991 1992 1989 1982 1985 1994 1938 1981 1988 1983\n",
      " 1980 1986 1978 1970 1979 1977 1972 1975 1969 1950 1953 1949 1937 1959\n",
      " 1968 1936 1904 1974 1967 1961 1960 1965 1963 1957 1952 1973 1948 1955\n",
      " 1964 1971 1931 1927 1923 1924 1932 1951 1954 1966]\n",
      "int64\n",
      "####################\n",
      "owners\n",
      "['3 или более' '1\\xa0владелец' '2\\xa0владельца' 3.0 1.0 2.0 'NOINFO']\n",
      "object\n",
      "####################\n"
     ]
    }
   ],
   "source": [
    "#Посмотрим на значения в числовых переменных\n",
    "for col in num_cols:\n",
    "    print(col)\n",
    "    print(data[col].unique())\n",
    "    print(data[col].dtypes)\n",
    "    print(\"#\"*20)"
   ]
  },
  {
   "cell_type": "code",
   "execution_count": 36,
   "metadata": {
    "execution": {
     "iopub.execute_input": "2022-02-16T11:26:10.139741Z",
     "iopub.status.busy": "2022-02-16T11:26:10.129282Z",
     "iopub.status.idle": "2022-02-16T11:26:10.435996Z",
     "shell.execute_reply": "2022-02-16T11:26:10.435139Z",
     "shell.execute_reply.started": "2022-02-15T14:50:40.068419Z"
    },
    "papermill": {
     "duration": 0.423266,
     "end_time": "2022-02-16T11:26:10.436164",
     "exception": false,
     "start_time": "2022-02-16T11:26:10.012898",
     "status": "completed"
    },
    "tags": []
   },
   "outputs": [],
   "source": [
    "#В признаке enginePower уберем значение N12, которое по всей видимости является заменой л.с.\n",
    "data['enginePower'] = pd.to_numeric(data['enginePower'].replace(regex=[' N12'], value=''))\n",
    "\n",
    "#В признаке owners заменим текстовые значения на числовые, NOINFO = 4\n",
    "data['owners'].replace({'3 или более':3.0,'1\\xa0владелец':1.0,'2\\xa0владельца':2,'NOINFO':4},inplace=True)"
   ]
  },
  {
   "cell_type": "markdown",
   "metadata": {
    "papermill": {
     "duration": 0.097442,
     "end_time": "2022-02-16T11:26:10.629562",
     "exception": false,
     "start_time": "2022-02-16T11:26:10.532120",
     "status": "completed"
    },
    "tags": []
   },
   "source": [
    "# 3. Разведывательный анализ\n"
   ]
  },
  {
   "cell_type": "markdown",
   "metadata": {
    "papermill": {
     "duration": 0.093535,
     "end_time": "2022-02-16T11:26:10.817821",
     "exception": false,
     "start_time": "2022-02-16T11:26:10.724286",
     "status": "completed"
    },
    "tags": []
   },
   "source": [
    "#### 3.1. Feature engineering\n",
    "\n",
    "Создадим дополнительные количетвенные признаки.\n",
    "\n",
    "- mileage_per_year - пробег авто в год\n",
    "\n",
    "- age_years - возраст авто"
   ]
  },
  {
   "cell_type": "code",
   "execution_count": 37,
   "metadata": {
    "execution": {
     "iopub.execute_input": "2022-02-16T11:26:11.015920Z",
     "iopub.status.busy": "2022-02-16T11:26:11.015188Z",
     "iopub.status.idle": "2022-02-16T11:26:11.018661Z",
     "shell.execute_reply": "2022-02-16T11:26:11.018121Z",
     "shell.execute_reply.started": "2022-02-15T14:50:40.276325Z"
    },
    "papermill": {
     "duration": 0.106484,
     "end_time": "2022-02-16T11:26:11.018831",
     "exception": false,
     "start_time": "2022-02-16T11:26:10.912347",
     "status": "completed"
    },
    "tags": []
   },
   "outputs": [],
   "source": [
    "#К сожалению, не дало результата\n",
    "#data['mileage_per_year'] =  (data.mileage+1) / data.productionDate\n",
    "data['age_year'] = 2022 - data.productionDate\n",
    "\n",
    "num_cols.extend(['age_year'])"
   ]
  },
  {
   "cell_type": "markdown",
   "metadata": {
    "papermill": {
     "duration": 0.094964,
     "end_time": "2022-02-16T11:26:11.209649",
     "exception": false,
     "start_time": "2022-02-16T11:26:11.114685",
     "status": "completed"
    },
    "tags": []
   },
   "source": [
    "Создадим дополнительные бинарные признаки.\n",
    "\n",
    "- isnew - 1, если пробег автомобиля 0"
   ]
  },
  {
   "cell_type": "code",
   "execution_count": 38,
   "metadata": {
    "execution": {
     "iopub.execute_input": "2022-02-16T11:26:11.409619Z",
     "iopub.status.busy": "2022-02-16T11:26:11.408983Z",
     "iopub.status.idle": "2022-02-16T11:26:11.498140Z",
     "shell.execute_reply": "2022-02-16T11:26:11.498631Z",
     "shell.execute_reply.started": "2022-02-15T14:50:40.285431Z"
    },
    "papermill": {
     "duration": 0.192104,
     "end_time": "2022-02-16T11:26:11.498784",
     "exception": false,
     "start_time": "2022-02-16T11:26:11.306680",
     "status": "completed"
    },
    "tags": []
   },
   "outputs": [],
   "source": [
    "data['isnew'] = data.mileage.apply(lambda x: 1 if x == 0 else 0)"
   ]
  },
  {
   "cell_type": "markdown",
   "metadata": {
    "papermill": {
     "duration": 0.09342,
     "end_time": "2022-02-16T11:26:11.686080",
     "exception": false,
     "start_time": "2022-02-16T11:26:11.592660",
     "status": "completed"
    },
    "tags": []
   },
   "source": [
    "#### 3.2. Визуализация\n",
    "\n",
    "Построим графики распределения количественных переменных."
   ]
  },
  {
   "cell_type": "code",
   "execution_count": 39,
   "metadata": {
    "execution": {
     "iopub.execute_input": "2022-02-16T11:26:11.877712Z",
     "iopub.status.busy": "2022-02-16T11:26:11.877077Z",
     "iopub.status.idle": "2022-02-16T11:26:13.829546Z",
     "shell.execute_reply": "2022-02-16T11:26:13.830072Z",
     "shell.execute_reply.started": "2022-02-15T14:50:40.342652Z"
    },
    "papermill": {
     "duration": 2.049595,
     "end_time": "2022-02-16T11:26:13.830259",
     "exception": false,
     "start_time": "2022-02-16T11:26:11.780664",
     "status": "completed"
    },
    "tags": []
   },
   "outputs": [
    {
     "data": {
      "image/png": "[encoded data removed]",
      "text/plain": [
       "<Figure size 432x288 with 1 Axes>"
      ]
     },
     "metadata": {
      "needs_background": "light"
     },
     "output_type": "display_data"
    },
    {
     "data": {
      "image/png": "[encoded data removed]",
      "text/plain": [
       "<Figure size 432x288 with 1 Axes>"
      ]
     },
     "metadata": {
      "needs_background": "light"
     },
     "output_type": "display_data"
    },
    {
     "data": {
      "image/png": "[encoded data removed]",
      "text/plain": [
       "<Figure size 432x288 with 1 Axes>"
      ]
     },
     "metadata": {
      "needs_background": "light"
     },
     "output_type": "display_data"
    },
    {
     "data": {
      "image/png": "[encoded data removed]",
      "text/plain": [
       "<Figure size 432x288 with 1 Axes>"
      ]
     },
     "metadata": {
      "needs_background": "light"
     },
     "output_type": "display_data"
    },
    {
     "data": {
      "image/png": "[encoded data removed]",
      "text/plain": [
       "<Figure size 432x288 with 1 Axes>"
      ]
     },
     "metadata": {
      "needs_background": "light"
     },
     "output_type": "display_data"
    },
    {
     "data": {
      "image/png": "[encoded data removed]",
      "text/plain": [
       "<Figure size 432x288 with 1 Axes>"
      ]
     },
     "metadata": {
      "needs_background": "light"
     },
     "output_type": "display_data"
    },
    {
     "data": {
      "image/png": "[encoded data removed]",
      "text/plain": [
       "<Figure size 432x288 with 1 Axes>"
      ]
     },
     "metadata": {
      "needs_background": "light"
     },
     "output_type": "display_data"
    }
   ],
   "source": [
    "for i in num_cols:\n",
    "    plt.figure()\n",
    "    sns.distplot(data[i].dropna(), kde = False, rug=False)\n",
    "    plt.title(i)\n",
    "    plt.show()"
   ]
  },
  {
   "cell_type": "markdown",
   "metadata": {
    "papermill": {
     "duration": 0.099425,
     "end_time": "2022-02-16T11:26:14.028767",
     "exception": false,
     "start_time": "2022-02-16T11:26:13.929342",
     "status": "completed"
    },
    "tags": []
   },
   "source": [
    "Признаки enginePower, mileage имеют правый хвост; признаки modelDate, productionDate - с левым хвостом. Прологарифмируем эти признаки.\n",
    "Признаки numberOfDoors и owners логарифмировать не имеет смысла.\n",
    "\n"
   ]
  },
  {
   "cell_type": "code",
   "execution_count": 40,
   "metadata": {
    "execution": {
     "iopub.execute_input": "2022-02-16T11:26:14.245124Z",
     "iopub.status.busy": "2022-02-16T11:26:14.244421Z",
     "iopub.status.idle": "2022-02-16T11:26:17.227356Z",
     "shell.execute_reply": "2022-02-16T11:26:17.227851Z",
     "shell.execute_reply.started": "2022-02-15T14:50:41.842019Z"
    },
    "papermill": {
     "duration": 3.096264,
     "end_time": "2022-02-16T11:26:17.228025",
     "exception": false,
     "start_time": "2022-02-16T11:26:14.131761",
     "status": "completed"
    },
    "tags": []
   },
   "outputs": [
    {
     "data": {
      "image/png": "[encoded data removed]",
      "text/plain": [
       "<Figure size 432x288 with 1 Axes>"
      ]
     },
     "metadata": {
      "needs_background": "light"
     },
     "output_type": "display_data"
    },
    {
     "data": {
      "image/png": "[encoded data removed]",
      "text/plain": [
       "<Figure size 432x288 with 1 Axes>"
      ]
     },
     "metadata": {
      "needs_background": "light"
     },
     "output_type": "display_data"
    },
    {
     "data": {
      "image/png": "[encoded data removed]",
      "text/plain": [
       "<Figure size 432x288 with 1 Axes>"
      ]
     },
     "metadata": {
      "needs_background": "light"
     },
     "output_type": "display_data"
    },
    {
     "data": {
      "image/png": "[encoded data removed]",
      "text/plain": [
       "<Figure size 432x288 with 1 Axes>"
      ]
     },
     "metadata": {
      "needs_background": "light"
     },
     "output_type": "display_data"
    },
    {
     "data": {
      "image/png": "[encoded data removed]",
      "text/plain": [
       "<Figure size 432x288 with 1 Axes>"
      ]
     },
     "metadata": {
      "needs_background": "light"
     },
     "output_type": "display_data"
    }
   ],
   "source": [
    "#Логирифмируем переменные и строим новые графики\n",
    "for i in num_cols:\n",
    "    if i in ['numberOfDoors','owners']: continue\n",
    "        \n",
    "    data[i] = data[i].apply(lambda x: np.log(abs(x)+1))\n",
    "    plt.figure()\n",
    "    sns.distplot(data[i][data[i] > 0], kde = False, rug=False)\n",
    "    plt.title(i)\n",
    "    plt.show()"
   ]
  },
  {
   "cell_type": "markdown",
   "metadata": {
    "papermill": {
     "duration": 0.102465,
     "end_time": "2022-02-16T11:26:17.433788",
     "exception": false,
     "start_time": "2022-02-16T11:26:17.331323",
     "status": "completed"
    },
    "tags": []
   },
   "source": [
    "Матрица корреляций.\n",
    "\n",
    "Построим матрицу корреляций между количественными признаками"
   ]
  },
  {
   "cell_type": "code",
   "execution_count": 41,
   "metadata": {
    "execution": {
     "iopub.execute_input": "2022-02-16T11:26:17.640900Z",
     "iopub.status.busy": "2022-02-16T11:26:17.640297Z",
     "iopub.status.idle": "2022-02-16T11:26:17.912307Z",
     "shell.execute_reply": "2022-02-16T11:26:17.911603Z",
     "shell.execute_reply.started": "2022-02-15T14:50:43.967117Z"
    },
    "papermill": {
     "duration": 0.376708,
     "end_time": "2022-02-16T11:26:17.912441",
     "exception": false,
     "start_time": "2022-02-16T11:26:17.535733",
     "status": "completed"
    },
    "tags": []
   },
   "outputs": [
    {
     "data": {
      "text/plain": [
       "<matplotlib.axes._subplots.AxesSubplot at 0x7f86604d2410>"
      ]
     },
     "execution_count": 41,
     "metadata": {},
     "output_type": "execute_result"
    },
    {
     "data": {
      "image/png": "[encoded data removed]",
      "text/plain": [
       "<Figure size 432x288 with 2 Axes>"
      ]
     },
     "metadata": {
      "needs_background": "light"
     },
     "output_type": "display_data"
    }
   ],
   "source": [
    "sns.heatmap(data[num_cols].corr().abs(), vmin=0, vmax=1)"
   ]
  },
  {
   "cell_type": "markdown",
   "metadata": {
    "papermill": {
     "duration": 0.106288,
     "end_time": "2022-02-16T11:26:18.124413",
     "exception": false,
     "start_time": "2022-02-16T11:26:18.018125",
     "status": "completed"
    },
    "tags": []
   },
   "source": [
    "Высокая корелляция наблюдается между modelDate и productionDate. Что логично. В идеале один из признаков необходимо удалить, т.к. сильная корреляция может отрицательно сказаться, но в ходе тестов, было выявлено, что удаление одного из признаков снижает значение целевей метрики.\n",
    "\n",
    "Средняя корреляция наблюдается между mileage и productionDate, mileage и owners. Данные взаимосвязи вполне естественны. Чем больше возраст авто, тем больше у него пробег и количество владельцев."
   ]
  },
  {
   "cell_type": "code",
   "execution_count": 42,
   "metadata": {
    "execution": {
     "iopub.execute_input": "2022-02-16T11:26:18.343219Z",
     "iopub.status.busy": "2022-02-16T11:26:18.342293Z",
     "iopub.status.idle": "2022-02-16T11:26:18.346052Z",
     "shell.execute_reply": "2022-02-16T11:26:18.345470Z",
     "shell.execute_reply.started": "2022-02-15T14:50:44.171309Z"
    },
    "papermill": {
     "duration": 0.116591,
     "end_time": "2022-02-16T11:26:18.346187",
     "exception": false,
     "start_time": "2022-02-16T11:26:18.229596",
     "status": "completed"
    },
    "tags": []
   },
   "outputs": [],
   "source": [
    "#Удаление признака отрицательно сказалось на целевой переменной\n",
    "#data.drop(columns=['productionDate'],inplace=True)\n",
    "#num_cols.remove('productionDate')"
   ]
  },
  {
   "cell_type": "markdown",
   "metadata": {
    "papermill": {
     "duration": 0.103862,
     "end_time": "2022-02-16T11:26:18.556445",
     "exception": false,
     "start_time": "2022-02-16T11:26:18.452583",
     "status": "completed"
    },
    "tags": []
   },
   "source": [
    "Значимость количественных переменных\n",
    "\n",
    "Оценим значимость количественных переменных с помощью f_classif."
   ]
  },
  {
   "cell_type": "code",
   "execution_count": 43,
   "metadata": {
    "execution": {
     "iopub.execute_input": "2022-02-16T11:26:18.770490Z",
     "iopub.status.busy": "2022-02-16T11:26:18.769886Z",
     "iopub.status.idle": "2022-02-16T11:26:21.697363Z",
     "shell.execute_reply": "2022-02-16T11:26:21.696813Z",
     "shell.execute_reply.started": "2022-02-15T14:50:44.175764Z"
    },
    "papermill": {
     "duration": 3.037795,
     "end_time": "2022-02-16T11:26:21.697479",
     "exception": false,
     "start_time": "2022-02-16T11:26:18.659684",
     "status": "completed"
    },
    "tags": []
   },
   "outputs": [
    {
     "data": {
      "text/plain": [
       "numberOfDoors      1.945743\n",
       "owners             9.017836\n",
       "enginePower       11.964146\n",
       "productionDate    16.417788\n",
       "modelDate         16.604874\n",
       "age_year          34.522461\n",
       "mileage           87.711088\n",
       "dtype: float64"
      ]
     },
     "metadata": {},
     "output_type": "display_data"
    },
    {
     "data": {
      "image/png": "[encoded data removed]",
      "text/plain": [
       "<Figure size 432x288 with 1 Axes>"
      ]
     },
     "metadata": {
      "needs_background": "light"
     },
     "output_type": "display_data"
    }
   ],
   "source": [
    "imp_num = pd.Series(f_classif(data[data['sample'] == 1][num_cols], y)[0], index = num_cols)\n",
    "imp_num.sort_values(inplace = True)\n",
    "imp_num.plot(kind = 'barh')\n",
    "display(imp_num)"
   ]
  },
  {
   "cell_type": "markdown",
   "metadata": {
    "papermill": {
     "duration": 0.103697,
     "end_time": "2022-02-16T11:26:21.906965",
     "exception": false,
     "start_time": "2022-02-16T11:26:21.803268",
     "status": "completed"
    },
    "tags": []
   },
   "source": [
    "Судя по отчету, количество дверей слабо влияет на итоговую цену. Можно будет попробовать убрать малозначимый признак при поиске оптимального набора в финальный датасет."
   ]
  },
  {
   "cell_type": "code",
   "execution_count": 44,
   "metadata": {
    "execution": {
     "iopub.execute_input": "2022-02-16T11:26:22.131604Z",
     "iopub.status.busy": "2022-02-16T11:26:22.130933Z",
     "iopub.status.idle": "2022-02-16T11:26:22.407046Z",
     "shell.execute_reply": "2022-02-16T11:26:22.406426Z",
     "shell.execute_reply.started": "2022-02-15T14:50:47.183637Z"
    },
    "papermill": {
     "duration": 0.392418,
     "end_time": "2022-02-16T11:26:22.407197",
     "exception": false,
     "start_time": "2022-02-16T11:26:22.014779",
     "status": "completed"
    },
    "tags": []
   },
   "outputs": [],
   "source": [
    "data.drop(columns=['numberOfDoors'],inplace=True)\n",
    "num_cols.remove('numberOfDoors')"
   ]
  },
  {
   "cell_type": "markdown",
   "metadata": {
    "papermill": {
     "duration": 0.108713,
     "end_time": "2022-02-16T11:26:22.626229",
     "exception": false,
     "start_time": "2022-02-16T11:26:22.517516",
     "status": "completed"
    },
    "tags": []
   },
   "source": [
    "#### 3.3. Поиск и устранение выбросов\n",
    "\n",
    "Для начала построим боксплоты."
   ]
  },
  {
   "cell_type": "code",
   "execution_count": 45,
   "metadata": {
    "execution": {
     "iopub.execute_input": "2022-02-16T11:26:22.855204Z",
     "iopub.status.busy": "2022-02-16T11:26:22.854462Z",
     "iopub.status.idle": "2022-02-16T11:26:23.819030Z",
     "shell.execute_reply": "2022-02-16T11:26:23.818451Z",
     "shell.execute_reply.started": "2022-02-15T14:50:47.295909Z"
    },
    "papermill": {
     "duration": 1.084096,
     "end_time": "2022-02-16T11:26:23.819155",
     "exception": false,
     "start_time": "2022-02-16T11:26:22.735059",
     "status": "completed"
    },
    "tags": []
   },
   "outputs": [
    {
     "data": {
      "image/png": "[encoded data removed]",
      "text/plain": [
       "<Figure size 432x288 with 1 Axes>"
      ]
     },
     "metadata": {
      "needs_background": "light"
     },
     "output_type": "display_data"
    },
    {
     "data": {
      "image/png": "[encoded data removed]",
      "text/plain": [
       "<Figure size 432x288 with 1 Axes>"
      ]
     },
     "metadata": {
      "needs_background": "light"
     },
     "output_type": "display_data"
    },
    {
     "data": {
      "image/png": "[encoded data removed]",
      "text/plain": [
       "<Figure size 432x288 with 1 Axes>"
      ]
     },
     "metadata": {
      "needs_background": "light"
     },
     "output_type": "display_data"
    },
    {
     "data": {
      "image/png": "[encoded data removed]",
      "text/plain": [
       "<Figure size 432x288 with 1 Axes>"
      ]
     },
     "metadata": {
      "needs_background": "light"
     },
     "output_type": "display_data"
    },
    {
     "data": {
      "image/png": "[encoded data removed]",
      "text/plain": [
       "<Figure size 432x288 with 1 Axes>"
      ]
     },
     "metadata": {
      "needs_background": "light"
     },
     "output_type": "display_data"
    },
    {
     "data": {
      "image/png": "[encoded data removed]",
      "text/plain": [
       "<Figure size 432x288 with 1 Axes>"
      ]
     },
     "metadata": {
      "needs_background": "light"
     },
     "output_type": "display_data"
    }
   ],
   "source": [
    "for i in num_cols:\n",
    "    data[[i]].boxplot()\n",
    "    plt.show()"
   ]
  },
  {
   "cell_type": "markdown",
   "metadata": {
    "papermill": {
     "duration": 0.110953,
     "end_time": "2022-02-16T11:26:24.039306",
     "exception": false,
     "start_time": "2022-02-16T11:26:23.928353",
     "status": "completed"
    },
    "tags": []
   },
   "source": [
    "Кроме признака owners, все остальные признаки содержат аномалии.\n",
    "\n",
    "Заменим вылеты в признаках 'age_year','mileage','enginePower' на пограничные значения 1,5 IQR."
   ]
  },
  {
   "cell_type": "code",
   "execution_count": 46,
   "metadata": {
    "execution": {
     "iopub.execute_input": "2022-02-16T11:26:24.264964Z",
     "iopub.status.busy": "2022-02-16T11:26:24.264071Z",
     "iopub.status.idle": "2022-02-16T11:26:24.572491Z",
     "shell.execute_reply": "2022-02-16T11:26:24.571746Z",
     "shell.execute_reply.started": "2022-02-15T14:50:48.064167Z"
    },
    "papermill": {
     "duration": 0.42262,
     "end_time": "2022-02-16T11:26:24.572662",
     "exception": false,
     "start_time": "2022-02-16T11:26:24.150042",
     "status": "completed"
    },
    "tags": []
   },
   "outputs": [],
   "source": [
    "for col in ['age_year','mileage','enginePower']:\n",
    "    #Получаем минимальные и максимальные значения 1,5*IQR\n",
    "    minimum,maximum = min_max(col)\n",
    "    \n",
    "    data[col] = data[col].apply(lambda x: minimum if x < minimum else maximum if x > maximum else x)"
   ]
  },
  {
   "cell_type": "markdown",
   "metadata": {
    "execution": {
     "iopub.execute_input": "2022-02-14T15:04:30.495878Z",
     "iopub.status.busy": "2022-02-14T15:04:30.495491Z",
     "iopub.status.idle": "2022-02-14T15:04:30.503204Z",
     "shell.execute_reply": "2022-02-14T15:04:30.501899Z",
     "shell.execute_reply.started": "2022-02-14T15:04:30.495842Z"
    },
    "papermill": {
     "duration": 0.110512,
     "end_time": "2022-02-16T11:26:24.792876",
     "exception": false,
     "start_time": "2022-02-16T11:26:24.682364",
     "status": "completed"
    },
    "tags": []
   },
   "source": [
    "Перекодируем признак 'modelDate' в ординальный с разбиением по квартилям 20%, 40%, 60% и 80%."
   ]
  },
  {
   "cell_type": "code",
   "execution_count": 47,
   "metadata": {
    "execution": {
     "iopub.execute_input": "2022-02-16T11:26:25.015480Z",
     "iopub.status.busy": "2022-02-16T11:26:25.014836Z",
     "iopub.status.idle": "2022-02-16T11:26:25.232605Z",
     "shell.execute_reply": "2022-02-16T11:26:25.233195Z",
     "shell.execute_reply.started": "2022-02-15T14:50:48.25238Z"
    },
    "papermill": {
     "duration": 0.330777,
     "end_time": "2022-02-16T11:26:25.233390",
     "exception": false,
     "start_time": "2022-02-16T11:26:24.902613",
     "status": "completed"
    },
    "tags": []
   },
   "outputs": [],
   "source": [
    "quantiles = []\n",
    "for q in [0.2,0.4,0.6,0.8]:\n",
    "    quantiles.append(data['modelDate'].quantile(q))\n",
    "    \n",
    "data['modelDate'] = data['modelDate'].apply(lambda x: 0 if x <= quantiles[0] else 1 if quantiles[0] < x <= quantiles[1] else \n",
    "                                                       2 if quantiles[1] < x <= quantiles[2] else 3 if quantiles[2] < x <= quantiles[3] else 4)"
   ]
  },
  {
   "cell_type": "markdown",
   "metadata": {
    "papermill": {
     "duration": 0.109083,
     "end_time": "2022-02-16T11:26:25.453298",
     "exception": false,
     "start_time": "2022-02-16T11:26:25.344215",
     "status": "completed"
    },
    "tags": []
   },
   "source": [
    "Посмотрим на результат"
   ]
  },
  {
   "cell_type": "code",
   "execution_count": 48,
   "metadata": {
    "execution": {
     "iopub.execute_input": "2022-02-16T11:26:25.676044Z",
     "iopub.status.busy": "2022-02-16T11:26:25.675407Z",
     "iopub.status.idle": "2022-02-16T11:26:26.440687Z",
     "shell.execute_reply": "2022-02-16T11:26:26.439412Z",
     "shell.execute_reply.started": "2022-02-15T14:50:48.383504Z"
    },
    "papermill": {
     "duration": 0.878165,
     "end_time": "2022-02-16T11:26:26.440870",
     "exception": false,
     "start_time": "2022-02-16T11:26:25.562705",
     "status": "completed"
    },
    "tags": []
   },
   "outputs": [
    {
     "data": {
      "image/png": "[encoded data removed]",
      "text/plain": [
       "<Figure size 432x288 with 1 Axes>"
      ]
     },
     "metadata": {
      "needs_background": "light"
     },
     "output_type": "display_data"
    },
    {
     "data": {
      "image/png": "[encoded data removed]",
      "text/plain": [
       "<Figure size 432x288 with 1 Axes>"
      ]
     },
     "metadata": {
      "needs_background": "light"
     },
     "output_type": "display_data"
    },
    {
     "data": {
      "image/png": "[encoded data removed]",
      "text/plain": [
       "<Figure size 432x288 with 1 Axes>"
      ]
     },
     "metadata": {
      "needs_background": "light"
     },
     "output_type": "display_data"
    },
    {
     "data": {
      "image/png": "[encoded data removed]",
      "text/plain": [
       "<Figure size 432x288 with 1 Axes>"
      ]
     },
     "metadata": {
      "needs_background": "light"
     },
     "output_type": "display_data"
    },
    {
     "data": {
      "image/png": "[encoded data removed]",
      "text/plain": [
       "<Figure size 432x288 with 1 Axes>"
      ]
     },
     "metadata": {
      "needs_background": "light"
     },
     "output_type": "display_data"
    },
    {
     "data": {
      "image/png": "[encoded data removed]",
      "text/plain": [
       "<Figure size 432x288 with 1 Axes>"
      ]
     },
     "metadata": {
      "needs_background": "light"
     },
     "output_type": "display_data"
    }
   ],
   "source": [
    "for i in num_cols:\n",
    "    data[[i]].boxplot()\n",
    "    plt.show()"
   ]
  },
  {
   "cell_type": "markdown",
   "metadata": {
    "papermill": {
     "duration": 0.112823,
     "end_time": "2022-02-16T11:26:26.668156",
     "exception": false,
     "start_time": "2022-02-16T11:26:26.555333",
     "status": "completed"
    },
    "tags": []
   },
   "source": [
    "#### 3.4. Целевая переменная"
   ]
  },
  {
   "cell_type": "markdown",
   "metadata": {
    "papermill": {
     "duration": 0.111939,
     "end_time": "2022-02-16T11:26:26.892557",
     "exception": false,
     "start_time": "2022-02-16T11:26:26.780618",
     "status": "completed"
    },
    "tags": []
   },
   "source": [
    "\n",
    "Обучающий и валидационный датасет собирались в разное время, соотственно цены на авто должны были измениться. Нет ничего стабильней в мире, чем швейцраский франк. Конвертируем стоимость автомобилей в CHF.\n",
    "\n",
    "Посмотрим даты сбора данных в валидационном датасете."
   ]
  },
  {
   "cell_type": "code",
   "execution_count": 49,
   "metadata": {
    "execution": {
     "iopub.execute_input": "2022-02-16T11:26:27.127625Z",
     "iopub.status.busy": "2022-02-16T11:26:27.126983Z",
     "iopub.status.idle": "2022-02-16T11:26:27.132958Z",
     "shell.execute_reply": "2022-02-16T11:26:27.132307Z",
     "shell.execute_reply.started": "2022-02-15T14:50:49.022832Z"
    },
    "papermill": {
     "duration": 0.127037,
     "end_time": "2022-02-16T11:26:27.133079",
     "exception": false,
     "start_time": "2022-02-16T11:26:27.006042",
     "status": "completed"
    },
    "tags": []
   },
   "outputs": [
    {
     "data": {
      "text/plain": [
       "array(['2020-10-20', '2020-10-19', '2020-10-21', '2020-10-24',\n",
       "       '2020-10-25', '2020-10-26'], dtype=object)"
      ]
     },
     "execution_count": 49,
     "metadata": {},
     "output_type": "execute_result"
    }
   ],
   "source": [
    "valid['parsing_unixtime'].unique()"
   ]
  },
  {
   "cell_type": "markdown",
   "metadata": {
    "papermill": {
     "duration": 0.112287,
     "end_time": "2022-02-16T11:26:27.358410",
     "exception": false,
     "start_time": "2022-02-16T11:26:27.246123",
     "status": "completed"
    },
    "tags": []
   },
   "source": [
    "В обучающем датасете отсутствует метка времени парсинга, но в имени датасета присутствует дата, ее и возьмем 2020-09-09. \n",
    "Составим словарь соответствия даты к курсу CHF."
   ]
  },
  {
   "cell_type": "code",
   "execution_count": 50,
   "metadata": {
    "execution": {
     "iopub.execute_input": "2022-02-16T11:26:27.615264Z",
     "iopub.status.busy": "2022-02-16T11:26:27.610379Z",
     "iopub.status.idle": "2022-02-16T11:26:27.903224Z",
     "shell.execute_reply": "2022-02-16T11:26:27.902602Z",
     "shell.execute_reply.started": "2022-02-15T14:50:49.034089Z"
    },
    "papermill": {
     "duration": 0.431202,
     "end_time": "2022-02-16T11:26:27.903372",
     "exception": false,
     "start_time": "2022-02-16T11:26:27.472170",
     "status": "completed"
    },
    "tags": []
   },
   "outputs": [],
   "source": [
    "exch_rate = {'2020-10-20': 1/85.3121,'2020-10-19': 1/85.2163, '2020-10-21': 1/85.5455, '2020-10-24': 1/84.4936, '2020-10-25':1/84.4936, \\\n",
    "            '2020-10-26': 1/84.4936, 'NOINFO': 1/82.8041}\n",
    "\n",
    "data['exch_rate'] = data.parsing_unixtime.apply(lambda x: exch_rate[x])\n",
    "\n",
    "#Удаляем признак 'parsing_unixtime'. Более он не требуется.\n",
    "data.drop(columns=['parsing_unixtime'],inplace=True)"
   ]
  },
  {
   "cell_type": "markdown",
   "metadata": {
    "papermill": {
     "duration": 0.117223,
     "end_time": "2022-02-16T11:26:28.137822",
     "exception": false,
     "start_time": "2022-02-16T11:26:28.020599",
     "status": "completed"
    },
    "tags": []
   },
   "source": [
    "Выразим целевую переменную в швейцарских франках, а в сабмишене будем производить обратное преобразование."
   ]
  },
  {
   "cell_type": "code",
   "execution_count": 51,
   "metadata": {
    "execution": {
     "iopub.execute_input": "2022-02-16T11:26:28.370290Z",
     "iopub.status.busy": "2022-02-16T11:26:28.369604Z",
     "iopub.status.idle": "2022-02-16T11:26:28.831789Z",
     "shell.execute_reply": "2022-02-16T11:26:28.832349Z",
     "shell.execute_reply.started": "2022-02-15T14:50:49.184054Z"
    },
    "papermill": {
     "duration": 0.580709,
     "end_time": "2022-02-16T11:26:28.832528",
     "exception": false,
     "start_time": "2022-02-16T11:26:28.251819",
     "status": "completed"
    },
    "tags": []
   },
   "outputs": [],
   "source": [
    "y = y*data.query('sample == 1').copy().reset_index()['exch_rate']"
   ]
  },
  {
   "cell_type": "markdown",
   "metadata": {
    "execution": {
     "iopub.execute_input": "2022-02-12T18:33:54.957491Z",
     "iopub.status.busy": "2022-02-12T18:33:54.957096Z",
     "iopub.status.idle": "2022-02-12T18:33:54.965797Z",
     "shell.execute_reply": "2022-02-12T18:33:54.964569Z",
     "shell.execute_reply.started": "2022-02-12T18:33:54.957456Z"
    },
    "papermill": {
     "duration": 0.113839,
     "end_time": "2022-02-16T11:26:29.059293",
     "exception": false,
     "start_time": "2022-02-16T11:26:28.945454",
     "status": "completed"
    },
    "tags": []
   },
   "source": [
    "Попробуем взять таргет в логорифм - это позволит уменьшить влияние выбросов на обучение модели."
   ]
  },
  {
   "cell_type": "code",
   "execution_count": 52,
   "metadata": {
    "execution": {
     "iopub.execute_input": "2022-02-16T11:26:29.293348Z",
     "iopub.status.busy": "2022-02-16T11:26:29.292657Z",
     "iopub.status.idle": "2022-02-16T11:26:29.299139Z",
     "shell.execute_reply": "2022-02-16T11:26:29.299773Z",
     "shell.execute_reply.started": "2022-02-15T14:50:49.46545Z"
    },
    "papermill": {
     "duration": 0.124627,
     "end_time": "2022-02-16T11:26:29.299932",
     "exception": false,
     "start_time": "2022-02-16T11:26:29.175305",
     "status": "completed"
    },
    "tags": []
   },
   "outputs": [],
   "source": [
    "y = np.log(y)"
   ]
  },
  {
   "cell_type": "code",
   "execution_count": 53,
   "metadata": {
    "execution": {
     "iopub.execute_input": "2022-02-16T11:26:29.534075Z",
     "iopub.status.busy": "2022-02-16T11:26:29.533369Z",
     "iopub.status.idle": "2022-02-16T11:26:32.017793Z",
     "shell.execute_reply": "2022-02-16T11:26:32.018301Z",
     "shell.execute_reply.started": "2022-02-15T14:50:49.475027Z"
    },
    "papermill": {
     "duration": 2.604132,
     "end_time": "2022-02-16T11:26:32.018508",
     "exception": false,
     "start_time": "2022-02-16T11:26:29.414376",
     "status": "completed"
    },
    "tags": []
   },
   "outputs": [],
   "source": [
    "#Разделяем данные после EDA\n",
    "X = data.query('sample == 1').drop(['sample','exch_rate'], axis=1)\n",
    "X = pd.DataFrame(X.to_numpy())\n",
    "\n",
    "X_sub = data.query('sample == 0').drop(['sample','exch_rate'], axis=1)\n",
    "X_sub = pd.DataFrame(X_sub.to_numpy())\n",
    "\n",
    "X_train, X_test, y_train, y_test = train_test_split(X, y, test_size=VAL_SIZE, shuffle=True, random_state=RANDOM_SEED)"
   ]
  },
  {
   "cell_type": "markdown",
   "metadata": {
    "papermill": {
     "duration": 0.11417,
     "end_time": "2022-02-16T11:26:32.247221",
     "exception": false,
     "start_time": "2022-02-16T11:26:32.133051",
     "status": "completed"
    },
    "tags": []
   },
   "source": [
    "# 4. Построение моделей"
   ]
  },
  {
   "cell_type": "markdown",
   "metadata": {
    "papermill": {
     "duration": 0.113401,
     "end_time": "2022-02-16T11:26:32.474324",
     "exception": false,
     "start_time": "2022-02-16T11:26:32.360923",
     "status": "completed"
    },
    "tags": []
   },
   "source": [
    "## 4.1. Model 1: Наивная модель.\n",
    "\n",
    "Создадим наивную модель на базе линейной регрессии."
   ]
  },
  {
   "cell_type": "code",
   "execution_count": 54,
   "metadata": {
    "execution": {
     "iopub.execute_input": "2022-02-16T11:26:32.706120Z",
     "iopub.status.busy": "2022-02-16T11:26:32.705410Z",
     "iopub.status.idle": "2022-02-16T11:26:42.495402Z",
     "shell.execute_reply": "2022-02-16T11:26:42.496185Z",
     "shell.execute_reply.started": "2022-02-15T14:50:50.763591Z"
    },
    "papermill": {
     "duration": 9.908157,
     "end_time": "2022-02-16T11:26:42.496356",
     "exception": false,
     "start_time": "2022-02-16T11:26:32.588199",
     "status": "completed"
    },
    "tags": []
   },
   "outputs": [
    {
     "name": "stdout",
     "output_type": "stream",
     "text": [
      "Точность наивной модели по метрике MAPE: 5809455.00%\n"
     ]
    }
   ],
   "source": [
    "model1 = LinearRegression()\n",
    "model1.fit(X_train,y_train)\n",
    "\n",
    "#Предсказываем значения\n",
    "y_predict = model1.predict(X_test)\n",
    "\n",
    "#оцениваем точность\n",
    "print(f\"Точность наивной модели по метрике MAPE: {(mape(y_test, y_predict))*100:0.2f}%\")"
   ]
  },
  {
   "cell_type": "markdown",
   "metadata": {
    "papermill": {
     "duration": 0.115599,
     "end_time": "2022-02-16T11:26:42.729291",
     "exception": false,
     "start_time": "2022-02-16T11:26:42.613692",
     "status": "completed"
    },
    "tags": []
   },
   "source": [
    "## 4.2. Model 2 : CatBoost\n",
    "![](https://pbs.twimg.com/media/DP-jUCyXcAArRTo.png:large)   \n",
    "\n",
    "Для начала опробуем модель CatBoost"
   ]
  },
  {
   "cell_type": "code",
   "execution_count": 55,
   "metadata": {
    "execution": {
     "iopub.execute_input": "2022-02-16T11:26:42.966424Z",
     "iopub.status.busy": "2022-02-16T11:26:42.965501Z",
     "iopub.status.idle": "2022-02-16T11:26:42.968394Z",
     "shell.execute_reply": "2022-02-16T11:26:42.969508Z"
    },
    "papermill": {
     "duration": 0.124829,
     "end_time": "2022-02-16T11:26:42.969695",
     "exception": false,
     "start_time": "2022-02-16T11:26:42.844866",
     "status": "completed"
    },
    "tags": []
   },
   "outputs": [],
   "source": [
    "# model2 = CatBoostRegressor(iterations = 5000,\n",
    "#                           random_seed = RANDOM_SEED,\n",
    "#                           eval_metric='MAPE',\n",
    "#                           custom_metric=['R2', 'MAE'],\n",
    "#                           silent=True,\n",
    "#                          )\n",
    "# model2.fit(X_train, y_train,\n",
    "#          #cat_features=cat_features_ids,\n",
    "#          eval_set=(X_test, y_test),\n",
    "#          verbose_eval=0,\n",
    "#          use_best_model=True,\n",
    "#          #plot=True\n",
    "#          )\n",
    "# \n",
    "# #model2.save_model('catboost_single_model_2_baseline.model')\n",
    "# \n",
    "# y_predict = model2.predict(X_test)\n",
    "# \n",
    "# final_model = model2\n",
    "# \n",
    "# print(f\"Точность модели по метрике MAPE: {(mape(np.exp(y_test), np.exp(y_predict)))*100:0.2f}%\")"
   ]
  },
  {
   "cell_type": "markdown",
   "metadata": {
    "papermill": {
     "duration": 0.11497,
     "end_time": "2022-02-16T11:26:43.199664",
     "exception": false,
     "start_time": "2022-02-16T11:26:43.084694",
     "status": "completed"
    },
    "tags": []
   },
   "source": [
    "Output: Точность модели по метрике MAPE: 12.36%. \n",
    "\n",
    "Показатель на лидерборде при этом 13.41835."
   ]
  },
  {
   "cell_type": "markdown",
   "metadata": {
    "papermill": {
     "duration": 0.113265,
     "end_time": "2022-02-16T11:26:43.427185",
     "exception": false,
     "start_time": "2022-02-16T11:26:43.313920",
     "status": "completed"
    },
    "tags": []
   },
   "source": [
    "Далее будет использована библиотека lazypredict, которая в качестве целевых метрик выдает только коэффициент детерминации (r2) и среднеквадратичную ошибкку (RMSE). Вычислим RMSE и R2 для CatBoost, чтобы можно было сравнить с остальными моделями."
   ]
  },
  {
   "cell_type": "code",
   "execution_count": 56,
   "metadata": {
    "execution": {
     "iopub.execute_input": "2022-02-16T11:26:43.664393Z",
     "iopub.status.busy": "2022-02-16T11:26:43.663781Z",
     "iopub.status.idle": "2022-02-16T11:26:43.666539Z",
     "shell.execute_reply": "2022-02-16T11:26:43.665946Z"
    },
    "papermill": {
     "duration": 0.122703,
     "end_time": "2022-02-16T11:26:43.666684",
     "exception": false,
     "start_time": "2022-02-16T11:26:43.543981",
     "status": "completed"
    },
    "tags": []
   },
   "outputs": [],
   "source": [
    "#print(f\"Точность модели по метрике RMSE: {(RMSE(y_test, y_predict,squared=False)):0.2f}\")\n",
    "#print(f\"Точность модели по метрике R2: {(r2_score(y_test, y_predict)):0.2f}\")"
   ]
  },
  {
   "cell_type": "markdown",
   "metadata": {
    "papermill": {
     "duration": 0.114659,
     "end_time": "2022-02-16T11:26:43.896977",
     "exception": false,
     "start_time": "2022-02-16T11:26:43.782318",
     "status": "completed"
    },
    "tags": []
   },
   "source": [
    "Точность модели по метрике RMSE: 0.19.\n",
    "\n",
    "Точность модели по метрике R2: 0.97.\n",
    "\n",
    "Попробуем использовать кросс-валидацию"
   ]
  },
  {
   "cell_type": "code",
   "execution_count": 57,
   "metadata": {
    "execution": {
     "iopub.execute_input": "2022-02-16T11:26:44.133374Z",
     "iopub.status.busy": "2022-02-16T11:26:44.132749Z",
     "iopub.status.idle": "2022-02-16T11:26:44.136111Z",
     "shell.execute_reply": "2022-02-16T11:26:44.136694Z"
    },
    "papermill": {
     "duration": 0.124876,
     "end_time": "2022-02-16T11:26:44.136871",
     "exception": false,
     "start_time": "2022-02-16T11:26:44.011995",
     "status": "completed"
    },
    "tags": []
   },
   "outputs": [],
   "source": [
    "# model21 = CatBoostRegressor(iterations = 5000,\n",
    "#                           random_seed = RANDOM_SEED,\n",
    "#                           eval_metric='MAPE',\n",
    "#                           custom_metric=['R2', 'MAE'],\n",
    "#                           silent=True,\n",
    "#                          )\n",
    "# \n",
    "# final_model = cv(model21,4)\n",
    "# \n",
    "# y_pred = final_model.predict(X_test)\n",
    "# \n",
    "# print(f\"Точность модели по метрике MAPE: {(mape(np.exp(y_test), np.exp(y_pred)))*100:0.2f}%\")"
   ]
  },
  {
   "cell_type": "markdown",
   "metadata": {
    "papermill": {
     "duration": 0.11488,
     "end_time": "2022-02-16T11:26:44.366835",
     "exception": false,
     "start_time": "2022-02-16T11:26:44.251955",
     "status": "completed"
    },
    "tags": []
   },
   "source": [
    "Output: Точность модели по метрике MAPE: 14.23%\n",
    "\n",
    "На лидерборде результат: 16.03162.\n",
    "\n",
    "Странно, но кросс-валидация отрицательно сказалась на работе модели."
   ]
  },
  {
   "cell_type": "markdown",
   "metadata": {
    "papermill": {
     "duration": 0.113226,
     "end_time": "2022-02-16T11:26:44.593891",
     "exception": false,
     "start_time": "2022-02-16T11:26:44.480665",
     "status": "completed"
    },
    "tags": []
   },
   "source": [
    "## 4.3. Оценка моделей с Lazypredict\n",
    "\n",
    "Воспользуемся библиотекой Lazypredict для оценки эффективности различных моделей. \n",
    "\n",
    "Из-за ограничений моей учетной записи на kaggle, не удалось подключить библиотеку непосредственно в ноутбук. Оценка была выполнена на скаченном датасете на домашнем ПК. Ниже представлен код запуска и вывод."
   ]
  },
  {
   "cell_type": "code",
   "execution_count": 58,
   "metadata": {
    "execution": {
     "iopub.execute_input": "2022-02-16T11:26:44.826403Z",
     "iopub.status.busy": "2022-02-16T11:26:44.825794Z",
     "iopub.status.idle": "2022-02-16T11:26:44.828731Z",
     "shell.execute_reply": "2022-02-16T11:26:44.829343Z"
    },
    "papermill": {
     "duration": 0.121273,
     "end_time": "2022-02-16T11:26:44.829497",
     "exception": false,
     "start_time": "2022-02-16T11:26:44.708224",
     "status": "completed"
    },
    "tags": []
   },
   "outputs": [],
   "source": [
    "# reg = LazyRegressor(verbose=0,\n",
    "#                     ignore_warnings=False,\n",
    "#                     custom_metric=None)\n",
    "# models, predictions = reg.fit(X_train, X_test, y_train, y_test)\n",
    "# models"
   ]
  },
  {
   "cell_type": "markdown",
   "metadata": {
    "papermill": {
     "duration": 0.116502,
     "end_time": "2022-02-16T11:26:45.061473",
     "exception": false,
     "start_time": "2022-02-16T11:26:44.944971",
     "status": "completed"
    },
    "tags": []
   },
   "source": [
    "![](https://i.ibb.co/DkR6cMF/2022-02-13-17-30-25.png)"
   ]
  },
  {
   "cell_type": "markdown",
   "metadata": {
    "papermill": {
     "duration": 0.117095,
     "end_time": "2022-02-16T11:26:45.296606",
     "exception": false,
     "start_time": "2022-02-16T11:26:45.179511",
     "status": "completed"
    },
    "tags": []
   },
   "source": [
    "Значения метрик R2 и RMSE у тройки лидеров хуже, чем у catboost. Также, стоит отметить, что XGBoost быстрее модели случайного леса и экстремальных деревьев в 9 и 12 раз соотвественно, в случае кросс-валидации работа последних может быть очень затянутой."
   ]
  },
  {
   "cell_type": "markdown",
   "metadata": {
    "papermill": {
     "duration": 0.117011,
     "end_time": "2022-02-16T11:26:45.529137",
     "exception": false,
     "start_time": "2022-02-16T11:26:45.412126",
     "status": "completed"
    },
    "tags": []
   },
   "source": [
    "## 4.4. Model 3: XGBoost\n",
    "\n",
    "![](https://upload.wikimedia.org/wikipedia/commons/6/69/XGBoost_logo.png)\n",
    "\n",
    "Для начала попробуем обучить модель XGBoost с дефолтными параметрами."
   ]
  },
  {
   "cell_type": "code",
   "execution_count": 59,
   "metadata": {
    "execution": {
     "iopub.execute_input": "2022-02-16T11:26:45.761997Z",
     "iopub.status.busy": "2022-02-16T11:26:45.761320Z",
     "iopub.status.idle": "2022-02-16T11:26:45.765015Z",
     "shell.execute_reply": "2022-02-16T11:26:45.765548Z",
     "shell.execute_reply.started": "2022-02-15T10:17:36.773672Z"
    },
    "papermill": {
     "duration": 0.121739,
     "end_time": "2022-02-16T11:26:45.765743",
     "exception": false,
     "start_time": "2022-02-16T11:26:45.644004",
     "status": "completed"
    },
    "tags": []
   },
   "outputs": [],
   "source": [
    "# model3 = XGBRegressor()\n",
    "# \n",
    "# model3.fit(X_train,y_train)\n",
    "# y_pred = model3.predict(X_test)\n",
    "# \n",
    "# print(f\"Точность модели XGBoost по метрике MAPE: {(mape(np.exp(y_test), np.exp(y_pred)))*100:0.2f}%\")\n",
    "# \n",
    "# final_model = model3"
   ]
  },
  {
   "cell_type": "markdown",
   "metadata": {
    "papermill": {
     "duration": 0.113437,
     "end_time": "2022-02-16T11:26:45.994318",
     "exception": false,
     "start_time": "2022-02-16T11:26:45.880881",
     "status": "completed"
    },
    "tags": []
   },
   "source": [
    "Output: Точность модели XGBoost по метрике MAPE: 14.28%. \n",
    "\n",
    "Показатель на лидерборде при этом 15.48219.\n",
    "\n",
    "Попробуем подобрать гиперпараметры и использовать KFold."
   ]
  },
  {
   "cell_type": "code",
   "execution_count": 60,
   "metadata": {
    "execution": {
     "iopub.execute_input": "2022-02-16T11:26:46.228454Z",
     "iopub.status.busy": "2022-02-16T11:26:46.227810Z",
     "iopub.status.idle": "2022-02-16T11:26:46.231961Z",
     "shell.execute_reply": "2022-02-16T11:26:46.232539Z"
    },
    "papermill": {
     "duration": 0.123868,
     "end_time": "2022-02-16T11:26:46.232721",
     "exception": false,
     "start_time": "2022-02-16T11:26:46.108853",
     "status": "completed"
    },
    "tags": []
   },
   "outputs": [],
   "source": [
    "# model31 = XGBRegressor(\n",
    "#      objective='reg:squarederror', \n",
    "#      colsample_bytree=0.5,               \n",
    "#      learning_rate=0.05, \n",
    "#      max_depth=12, \n",
    "#      alpha=1,                   \n",
    "#      n_estimators=1000,\n",
    "#      n_jobs=-1,\n",
    "#  )\n",
    "# \n",
    "# final_model = cv(model31,4)\n",
    "# \n",
    "# y_pred = final_model.predict(X_test)\n",
    "# \n",
    "# print(f\"Итоговая точность модели по метрике MAPE: {(mape(np.exp(y_test), np.exp(y_pred)))*100:0.2f}%\")"
   ]
  },
  {
   "cell_type": "markdown",
   "metadata": {
    "papermill": {
     "duration": 0.114024,
     "end_time": "2022-02-16T11:26:46.461760",
     "exception": false,
     "start_time": "2022-02-16T11:26:46.347736",
     "status": "completed"
    },
    "tags": []
   },
   "source": [
    "Output: Итоговая точность модели по метрике MAPE: 12.22%. \n",
    "\n",
    "Однако на лидерборде 15.19604.\n",
    "\n",
    "С кросс-валидацией лучшение есть, но незначительное."
   ]
  },
  {
   "cell_type": "markdown",
   "metadata": {
    "papermill": {
     "duration": 0.116397,
     "end_time": "2022-02-16T11:26:46.696390",
     "exception": false,
     "start_time": "2022-02-16T11:26:46.579993",
     "status": "completed"
    },
    "tags": []
   },
   "source": [
    "## 4.5. Model 4: RandomForestRegression\n",
    "\n",
    "<img src=\"https://laurelindon.com/wp-content/uploads/2010/03/drunken_forest.jpg\" width=\"512\" height=\"384\" />\n",
    "\n",
    "Для начала попробуем обучить модель RandomForestRegression с дефолтными параметрами."
   ]
  },
  {
   "cell_type": "code",
   "execution_count": 61,
   "metadata": {
    "execution": {
     "iopub.execute_input": "2022-02-16T11:26:46.941523Z",
     "iopub.status.busy": "2022-02-16T11:26:46.940898Z",
     "iopub.status.idle": "2022-02-16T11:26:46.944037Z",
     "shell.execute_reply": "2022-02-16T11:26:46.944664Z",
     "shell.execute_reply.started": "2022-02-15T10:17:36.796724Z"
    },
    "papermill": {
     "duration": 0.123972,
     "end_time": "2022-02-16T11:26:46.944851",
     "exception": false,
     "start_time": "2022-02-16T11:26:46.820879",
     "status": "completed"
    },
    "tags": []
   },
   "outputs": [],
   "source": [
    "# model4 = RandomForestRegressor(random_state=RANDOM_SEED)\n",
    "# \n",
    "# model4.fit(X_train,y_train)\n",
    "# y_pred = model4.predict(X_test)\n",
    "# \n",
    "# print(f\"Точность модели по метрике MAPE: {(mape(np.exp(y_test), np.exp(y_pred)))*100:0.2f}%\")\n",
    "# \n",
    "# final_model = model4"
   ]
  },
  {
   "cell_type": "markdown",
   "metadata": {
    "papermill": {
     "duration": 0.118195,
     "end_time": "2022-02-16T11:26:47.179837",
     "exception": false,
     "start_time": "2022-02-16T11:26:47.061642",
     "status": "completed"
    },
    "tags": []
   },
   "source": [
    "Output: Точность модели по метрике MAPE: 13.19%. \n",
    "\n",
    "На лидерборде 12.25614. Пока это лучший результат.\n",
    "\n",
    "Подберем гиперпараметры."
   ]
  },
  {
   "cell_type": "code",
   "execution_count": 62,
   "metadata": {
    "execution": {
     "iopub.execute_input": "2022-02-16T11:26:47.416032Z",
     "iopub.status.busy": "2022-02-16T11:26:47.415397Z",
     "iopub.status.idle": "2022-02-16T11:26:47.419414Z",
     "shell.execute_reply": "2022-02-16T11:26:47.420058Z",
     "shell.execute_reply.started": "2022-02-15T10:17:36.808332Z"
    },
    "papermill": {
     "duration": 0.124225,
     "end_time": "2022-02-16T11:26:47.420212",
     "exception": false,
     "start_time": "2022-02-16T11:26:47.295987",
     "status": "completed"
    },
    "tags": []
   },
   "outputs": [],
   "source": [
    "# hp.uniform('n_estimators',100,500),\n",
    "# hp.choice(\"n_estimators\", [int(x) for x in np.linspace(200, 1000, num = 17)])\n",
    "# \n",
    "# def objective(params):\n",
    "#     model=RandomForestRegressor(\n",
    "#          n_estimators=int(params['n_estimators']),\n",
    "#          max_depth=int(params['max_depth']),\n",
    "#          min_samples_leaf=int(params['min_samples_leaf']),\n",
    "#          min_samples_split=int(params['min_samples_split']),\n",
    "#          bootstrap=params['bootstrap'],\n",
    "#          max_features=params['max_features'],\n",
    "#          random_state=RANDOM_SEED,\n",
    "#          n_jobs=-1\n",
    "#      )\n",
    "#     model.fit(X_train, y_train)\n",
    "#     pred=model.predict(X_test)\n",
    "#     score=mape(y_test,pred)\n",
    "#     return score\n",
    "# \n",
    "# def optimize(trial):\n",
    "#      params={\n",
    "#          'n_estimators': hp.uniform('n_estimators',100,500),\n",
    "#          'max_features': hp.choice(\"max_features\", ['auto', 'sqrt']),\n",
    "#          'max_depth': hp.uniform('max_depth',5,15),\n",
    "#          'min_samples_split': hp.uniform('min_samples_split',2,10),\n",
    "#          'min_samples_leaf': hp.uniform('min_samples_leaf',1,5),\n",
    "#          'bootstrap': hp.choice(\"bootstrap\", [True, False])\n",
    "#      }\n",
    "#      best=fmin(fn=objective, space=params, algo=tpe.suggest, trials=trial, max_evals=100, rstate=np.random.default_rng(RANDOM_SEED))\n",
    "#      return best\n",
    "# \n",
    "# trial=Trials()\n",
    "# best=optimize(trial)\n",
    "# print(best)"
   ]
  },
  {
   "cell_type": "markdown",
   "metadata": {
    "papermill": {
     "duration": 0.114999,
     "end_time": "2022-02-16T11:26:47.650995",
     "exception": false,
     "start_time": "2022-02-16T11:26:47.535996",
     "status": "completed"
    },
    "tags": []
   },
   "source": [
    "Output: 100%|████████████████████████████████████████████| 100/100 [2:16:34<00:00, 81.94s/trial, best loss: 0.0163716985739689]\n",
    "\n",
    "{'bootstrap': 0, 'max_depth': 14.756826015952033, 'max_features': 0, 'min_samples_leaf': 2.46040557321712, 'min_samples_split': 4.8077965788461565, 'n_estimators': 361.0998089579501}\n",
    "\n",
    "Создадим модель с подобранными гиперпараметрами и используем K-Fold."
   ]
  },
  {
   "cell_type": "code",
   "execution_count": 63,
   "metadata": {
    "execution": {
     "iopub.execute_input": "2022-02-16T11:26:47.913997Z",
     "iopub.status.busy": "2022-02-16T11:26:47.913313Z",
     "iopub.status.idle": "2022-02-16T11:26:47.916527Z",
     "shell.execute_reply": "2022-02-16T11:26:47.917106Z",
     "shell.execute_reply.started": "2022-02-15T10:17:36.820425Z"
    },
    "papermill": {
     "duration": 0.131364,
     "end_time": "2022-02-16T11:26:47.917282",
     "exception": false,
     "start_time": "2022-02-16T11:26:47.785918",
     "status": "completed"
    },
    "tags": []
   },
   "outputs": [],
   "source": [
    "#model41 = RandomForestRegressor(random_state=RANDOM_SEED, bootstrap=0,max_depth=15,max_features='auto',min_samples_leaf=2,min_samples_split=5,n_estimators=360)\n",
    "\n",
    "#final_model = cv(model41,4)\n",
    "\n",
    "#y_pred = final_model.predict(X_test)\n",
    "\n",
    "#print(f\"Итоговая точность модели по метрике MAPE: {(mape(np.exp(y_test), np.exp(y_pred)))*100:0.2f}%\")"
   ]
  },
  {
   "cell_type": "markdown",
   "metadata": {
    "papermill": {
     "duration": 0.117291,
     "end_time": "2022-02-16T11:26:48.150663",
     "exception": false,
     "start_time": "2022-02-16T11:26:48.033372",
     "status": "completed"
    },
    "tags": []
   },
   "source": [
    "Output: Итоговая точность модели по метрике MAPE: 15.62%. \n",
    "\n",
    "На лидерборде 19.4497. \n",
    "\n",
    "Подбор гиперпараметров не принес положительного результата."
   ]
  },
  {
   "cell_type": "markdown",
   "metadata": {
    "papermill": {
     "duration": 0.114144,
     "end_time": "2022-02-16T11:26:48.380101",
     "exception": false,
     "start_time": "2022-02-16T11:26:48.265957",
     "status": "completed"
    },
    "tags": []
   },
   "source": [
    "## 4.6. Model 5: ExtraTreesRegression\n",
    "\n",
    "<img src=\"https://image.krasview.ru/video/eef6f024b3fc5ed/_.jpg\" width=\"640\" />\n",
    "\n",
    "Для начала попробуем обучить модель ExtraTreesRegression с дефолтными параметрами."
   ]
  },
  {
   "cell_type": "code",
   "execution_count": 64,
   "metadata": {
    "execution": {
     "iopub.execute_input": "2022-02-16T11:26:48.612405Z",
     "iopub.status.busy": "2022-02-16T11:26:48.611761Z",
     "iopub.status.idle": "2022-02-16T11:26:48.614837Z",
     "shell.execute_reply": "2022-02-16T11:26:48.615416Z",
     "shell.execute_reply.started": "2022-02-15T10:17:36.836797Z"
    },
    "papermill": {
     "duration": 0.121487,
     "end_time": "2022-02-16T11:26:48.615556",
     "exception": false,
     "start_time": "2022-02-16T11:26:48.494069",
     "status": "completed"
    },
    "tags": []
   },
   "outputs": [],
   "source": [
    "# model5 = ExtraTreesRegressor(random_state=RANDOM_SEED)\n",
    "# \n",
    "# model5.fit(X_train,y_train)\n",
    "# y_pred = model5.predict(X_test)\n",
    "# \n",
    "# print(f\"Точность модели по метрике MAPE: {(mape(np.exp(y_test), np.exp(y_pred)))*100:0.2f}%\")\n",
    "# \n",
    "# final_model = model5"
   ]
  },
  {
   "cell_type": "markdown",
   "metadata": {
    "papermill": {
     "duration": 0.115348,
     "end_time": "2022-02-16T11:26:48.845876",
     "exception": false,
     "start_time": "2022-02-16T11:26:48.730528",
     "status": "completed"
    },
    "tags": []
   },
   "source": [
    "Output: Точность модели по метрике MAPE: 13.24%. \n",
    "\n",
    "На лидерборде 11.69909. Пока это лучший результат.\n",
    "\n",
    "Попробуем подобрать гиперпараметры."
   ]
  },
  {
   "cell_type": "code",
   "execution_count": 65,
   "metadata": {
    "execution": {
     "iopub.execute_input": "2022-02-16T11:26:49.142419Z",
     "iopub.status.busy": "2022-02-16T11:26:49.141765Z",
     "iopub.status.idle": "2022-02-16T11:26:49.146160Z",
     "shell.execute_reply": "2022-02-16T11:26:49.146761Z",
     "shell.execute_reply.started": "2022-02-15T10:17:36.846904Z"
    },
    "papermill": {
     "duration": 0.125013,
     "end_time": "2022-02-16T11:26:49.146929",
     "exception": false,
     "start_time": "2022-02-16T11:26:49.021916",
     "status": "completed"
    },
    "tags": []
   },
   "outputs": [],
   "source": [
    "#hp.uniform('n_estimators',100,500),\n",
    "#hp.choice(\"n_estimators\", [int(x) for x in np.linspace(200, 1000, num = 17)])\n",
    "#\n",
    "#def objective(params):\n",
    "#    model=ExtraTreesRegressor(\n",
    "#         n_estimators=int(params['n_estimators']),\n",
    "#         max_depth=int(params['max_depth']),\n",
    "#         min_samples_leaf=int(params['min_samples_leaf']),\n",
    "#         min_samples_split=int(params['min_samples_split']),\n",
    "#         bootstrap=params['bootstrap'],\n",
    "#         max_features=params['max_features'],\n",
    "#         random_state=RANDOM_SEED,\n",
    "#         n_jobs=-1\n",
    "#     )\n",
    "#    model.fit(X_train, y_train)\n",
    "#    pred=model.predict(X_test)\n",
    "#    score=mape(y_test,pred)\n",
    "#    return score\n",
    "#\n",
    "#def optimize(trial):\n",
    "#    params={\n",
    "#        'n_estimators': hp.uniform('n_estimators',100,500),\n",
    "#        'max_features': hp.choice(\"max_features\", ['auto', 'sqrt']),\n",
    "#        'max_depth': hp.uniform('max_depth',5,15),\n",
    "#        'min_samples_split': hp.uniform('min_samples_split',2,10),\n",
    "#        'min_samples_leaf': hp.uniform('min_samples_leaf',1,5),\n",
    "#        'bootstrap': hp.choice(\"bootstrap\", [True, False])\n",
    "#    }\n",
    "#    best=fmin(fn=objective, space=params, algo=tpe.suggest, trials=trial, max_evals=100, rstate=np.random.default_rng(RANDOM_SEED))\n",
    "#    return best\n",
    "#\n",
    "#trial=Trials()\n",
    "#best=optimize(trial\n",
    "#print(best)"
   ]
  },
  {
   "cell_type": "markdown",
   "metadata": {
    "papermill": {
     "duration": 0.118418,
     "end_time": "2022-02-16T11:26:49.381140",
     "exception": false,
     "start_time": "2022-02-16T11:26:49.262722",
     "status": "completed"
    },
    "tags": []
   },
   "source": [
    "Output: 100%|██████████████████████████████████████████| 100/100 [4:24:39<00:00, 158.79s/trial, best loss: 0.01633630205242726]\n",
    "\n",
    "{'bootstrap': 1, 'max_depth': 14.960153651721988, 'max_features': 0, 'min_samples_leaf': 1.820758255341878, 'min_samples_split': 4.778706012598982, 'n_estimators': 345.1454162622641}\n",
    "\n",
    "Создадим модель ExtraTreesRegressor с подобранными гиперпараметрами и используем K-Fold."
   ]
  },
  {
   "cell_type": "code",
   "execution_count": 66,
   "metadata": {
    "execution": {
     "iopub.execute_input": "2022-02-16T11:26:49.618255Z",
     "iopub.status.busy": "2022-02-16T11:26:49.617506Z",
     "iopub.status.idle": "2022-02-16T11:26:49.620444Z",
     "shell.execute_reply": "2022-02-16T11:26:49.619938Z",
     "shell.execute_reply.started": "2022-02-15T10:17:36.859632Z"
    },
    "papermill": {
     "duration": 0.123454,
     "end_time": "2022-02-16T11:26:49.620590",
     "exception": false,
     "start_time": "2022-02-16T11:26:49.497136",
     "status": "completed"
    },
    "tags": []
   },
   "outputs": [],
   "source": [
    "# model51 = ExtraTreesRegressor(random_state=RANDOM_SEED, bootstrap=1,max_depth=15,max_features='auto',min_samples_leaf=2,min_samples_split=5,n_estimators=350)\n",
    "# \n",
    "# final_model = cv(model51,4)\n",
    "# \n",
    "# y_pred = final_model.predict(X_test)\n",
    "# \n",
    "# print(f\"Итоговая точность модели по метрике MAPE: {(mape(np.exp(y_test), np.exp(y_pred)))*100:0.2f}%\")"
   ]
  },
  {
   "cell_type": "markdown",
   "metadata": {
    "papermill": {
     "duration": 0.120422,
     "end_time": "2022-02-16T11:26:49.862742",
     "exception": false,
     "start_time": "2022-02-16T11:26:49.742320",
     "status": "completed"
    },
    "tags": []
   },
   "source": [
    "Output: Итоговая точность модели по метрике MAPE: 14.62%. \n",
    "\n",
    "На лидерборде 17.03249.\n",
    "\n",
    "Полученные гиперпаметры не улучшили работу модели. Вероятно, дело в параметре максимальной глубины."
   ]
  },
  {
   "cell_type": "markdown",
   "metadata": {
    "papermill": {
     "duration": 0.120627,
     "end_time": "2022-02-16T11:26:50.098654",
     "exception": false,
     "start_time": "2022-02-16T11:26:49.978027",
     "status": "completed"
    },
    "tags": []
   },
   "source": [
    "## 4.7. Model 6: Стекинг\n",
    "\n",
    "<img src=\"https://www.rightthisminute.com/sites/default/files/styles/blog_detail_page_hero/public/posts/thumbails/husky_biscuits.jpg\" width=\"640\" />"
   ]
  },
  {
   "cell_type": "markdown",
   "metadata": {
    "papermill": {
     "duration": 0.116131,
     "end_time": "2022-02-16T11:26:50.331847",
     "exception": false,
     "start_time": "2022-02-16T11:26:50.215716",
     "status": "completed"
    },
    "tags": []
   },
   "source": [
    "Лучше всего проявили себя две модели: RandomForestRegression и ExtraTreesRegression с параметрами по умолчанию.\n",
    "\n",
    "Попробуем стекинг этих моделей с для улучшения целевой метрики, обобщающей моделью будет линейная регрессия."
   ]
  },
  {
   "cell_type": "code",
   "execution_count": 67,
   "metadata": {
    "execution": {
     "iopub.execute_input": "2022-02-16T11:26:50.566629Z",
     "iopub.status.busy": "2022-02-16T11:26:50.565958Z",
     "iopub.status.idle": "2022-02-16T11:26:50.570792Z",
     "shell.execute_reply": "2022-02-16T11:26:50.570178Z",
     "shell.execute_reply.started": "2022-02-15T11:10:29.300985Z"
    },
    "papermill": {
     "duration": 0.123049,
     "end_time": "2022-02-16T11:26:50.570923",
     "exception": false,
     "start_time": "2022-02-16T11:26:50.447874",
     "status": "completed"
    },
    "tags": []
   },
   "outputs": [],
   "source": [
    "# models_6 = (\n",
    "#           ('RandForRegr',RandomForestRegressor(random_state=RANDOM_SEED)),\\\n",
    "#           ('ExtrTreeRegr',ExtraTreesRegressor(random_state=RANDOM_SEED))\\\n",
    "# )\n",
    "# meta_model6 = LinearRegression()\n",
    "# \n",
    "# model61 = StackingRegressor(estimators=models_6, final_estimator=meta_model6)\n",
    "# \n",
    "# model61.fit(X_train,y_train)\n",
    "# \n",
    "# y_pred = model61.predict(X_test)\n",
    "# \n",
    "# final_model = model61\n",
    "# \n",
    "# print(f\"Итоговая точность модели по метрике MAPE: {(mape(np.exp(y_test), np.exp(y_pred)))*100:0.2f}%\")"
   ]
  },
  {
   "cell_type": "markdown",
   "metadata": {
    "papermill": {
     "duration": 0.11702,
     "end_time": "2022-02-16T11:26:50.805070",
     "exception": false,
     "start_time": "2022-02-16T11:26:50.688050",
     "status": "completed"
    },
    "tags": []
   },
   "source": [
    "Output: Итоговая точность модели по метрике MAPE: 12.86%\n",
    "\n",
    "На лидерборде 11.52073.\n",
    "\n",
    "Стекинг 2 моделей дал наилучший результат."
   ]
  },
  {
   "cell_type": "markdown",
   "metadata": {
    "papermill": {
     "duration": 0.116536,
     "end_time": "2022-02-16T11:26:51.037439",
     "exception": false,
     "start_time": "2022-02-16T11:26:50.920903",
     "status": "completed"
    },
    "tags": []
   },
   "source": [
    "## 4.8. Final Model.\n",
    "\n",
    "Лучшим алгоритмом стал стекинг из моделей случайного леса и экстремальных деревьев с обобщающей моделью линейной регрессии.\n",
    "\n",
    "В ходе разведывательного анализа было принято решение об ограничении количества моделей для включения в итоговый датасет. Вошло топ-150 моделей.\n",
    "\n",
    "> \n",
    "> top_models = data['model_name'].value_counts().index.values.tolist()[:150]\n",
    "> \n",
    "\n",
    "Для финальной попытки возьмем датасет без этого ограничения (все модели). Это значительно увеличит время обучение модели, но должно принести более высокий результат."
   ]
  },
  {
   "cell_type": "code",
   "execution_count": 68,
   "metadata": {
    "execution": {
     "iopub.execute_input": "2022-02-16T11:26:51.281158Z",
     "iopub.status.busy": "2022-02-16T11:26:51.280438Z",
     "iopub.status.idle": "2022-02-16T11:49:48.807455Z",
     "shell.execute_reply": "2022-02-16T11:49:48.808026Z"
    },
    "papermill": {
     "duration": 1377.653349,
     "end_time": "2022-02-16T11:49:48.808220",
     "exception": false,
     "start_time": "2022-02-16T11:26:51.154871",
     "status": "completed"
    },
    "tags": []
   },
   "outputs": [
    {
     "name": "stdout",
     "output_type": "stream",
     "text": [
      "Итоговая точность модели по метрике MAPE: 12.79%\n"
     ]
    }
   ],
   "source": [
    "models_7 = (\n",
    "          ('RandForRegr',RandomForestRegressor(random_state=RANDOM_SEED)),\\\n",
    "          ('ExtrTreeRegr',ExtraTreesRegressor(random_state=RANDOM_SEED))\\\n",
    ")\n",
    "meta_model7 = LinearRegression()\n",
    "\n",
    "model71 = StackingRegressor(estimators=models_7, final_estimator=meta_model7, n_jobs=2, cv=4)\n",
    "\n",
    "model71.fit(X_train,y_train)\n",
    "\n",
    "y_pred = model71.predict(X_test)\n",
    "\n",
    "final_model = model71\n",
    "\n",
    "print(f\"Итоговая точность модели по метрике MAPE: {(mape(np.exp(y_test), np.exp(y_pred)))*100:0.2f}%\")"
   ]
  },
  {
   "cell_type": "markdown",
   "metadata": {
    "papermill": {
     "duration": 0.116092,
     "end_time": "2022-02-16T11:49:49.043501",
     "exception": false,
     "start_time": "2022-02-16T11:49:48.927409",
     "status": "completed"
    },
    "tags": []
   },
   "source": [
    "Output: Итоговая точность модели по метрике MAPE: 12.79%\n",
    "\n",
    "Лидерборд: 11.43028\n",
    "\n",
    "Результат 11.434028 - лучший, которого удалось достичь."
   ]
  },
  {
   "cell_type": "markdown",
   "metadata": {
    "papermill": {
     "duration": 0.116199,
     "end_time": "2022-02-16T11:49:49.277733",
     "exception": false,
     "start_time": "2022-02-16T11:49:49.161534",
     "status": "completed"
    },
    "tags": []
   },
   "source": [
    "# Submission"
   ]
  },
  {
   "cell_type": "code",
   "execution_count": 69,
   "metadata": {
    "execution": {
     "iopub.execute_input": "2022-02-16T11:49:49.516313Z",
     "iopub.status.busy": "2022-02-16T11:49:49.515690Z",
     "iopub.status.idle": "2022-02-16T11:49:53.976762Z",
     "shell.execute_reply": "2022-02-16T11:49:53.976105Z"
    },
    "papermill": {
     "duration": 4.582214,
     "end_time": "2022-02-16T11:49:53.976913",
     "exception": false,
     "start_time": "2022-02-16T11:49:49.394699",
     "status": "completed"
    },
    "tags": []
   },
   "outputs": [],
   "source": [
    "#Записываем значения для сабмишена\n",
    "y_valid = np.exp(final_model.predict(X_sub))\n",
    "#Преобразуем обратно CHF->RUB\n",
    "y_valid = y_valid/data.query('sample == 0')['exch_rate']\n",
    "\n",
    "predict_submission = y_valid"
   ]
  },
  {
   "cell_type": "code",
   "execution_count": 70,
   "metadata": {
    "execution": {
     "iopub.execute_input": "2022-02-16T11:49:54.218769Z",
     "iopub.status.busy": "2022-02-16T11:49:54.217893Z",
     "iopub.status.idle": "2022-02-16T11:49:54.832884Z",
     "shell.execute_reply": "2022-02-16T11:49:54.833424Z"
    },
    "papermill": {
     "duration": 0.738533,
     "end_time": "2022-02-16T11:49:54.833627",
     "exception": false,
     "start_time": "2022-02-16T11:49:54.095094",
     "status": "completed"
    },
    "tags": []
   },
   "outputs": [
    {
     "data": {
      "text/html": [
       "<div>\n",
       "<style scoped>\n",
       "    .dataframe tbody tr th:only-of-type {\n",
       "        vertical-align: middle;\n",
       "    }\n",
       "\n",
       "    .dataframe tbody tr th {\n",
       "        vertical-align: top;\n",
       "    }\n",
       "\n",
       "    .dataframe thead th {\n",
       "        text-align: right;\n",
       "    }\n",
       "</style>\n",
       "<table border=\"1\" class=\"dataframe\">\n",
       "  <thead>\n",
       "    <tr style=\"text-align: right;\">\n",
       "      <th></th>\n",
       "      <th>sell_id</th>\n",
       "      <th>price</th>\n",
       "    </tr>\n",
       "  </thead>\n",
       "  <tbody>\n",
       "    <tr>\n",
       "      <th>0</th>\n",
       "      <td>1100575026</td>\n",
       "      <td>5.786743e+05</td>\n",
       "    </tr>\n",
       "    <tr>\n",
       "      <th>1</th>\n",
       "      <td>1100549428</td>\n",
       "      <td>9.333151e+05</td>\n",
       "    </tr>\n",
       "    <tr>\n",
       "      <th>2</th>\n",
       "      <td>1100658222</td>\n",
       "      <td>8.991723e+05</td>\n",
       "    </tr>\n",
       "    <tr>\n",
       "      <th>3</th>\n",
       "      <td>1100937408</td>\n",
       "      <td>6.971999e+05</td>\n",
       "    </tr>\n",
       "    <tr>\n",
       "      <th>4</th>\n",
       "      <td>1101037972</td>\n",
       "      <td>6.640893e+05</td>\n",
       "    </tr>\n",
       "    <tr>\n",
       "      <th>5</th>\n",
       "      <td>1100912634</td>\n",
       "      <td>6.937853e+05</td>\n",
       "    </tr>\n",
       "    <tr>\n",
       "      <th>6</th>\n",
       "      <td>1101228730</td>\n",
       "      <td>6.047455e+05</td>\n",
       "    </tr>\n",
       "    <tr>\n",
       "      <th>7</th>\n",
       "      <td>1100165896</td>\n",
       "      <td>3.868159e+05</td>\n",
       "    </tr>\n",
       "    <tr>\n",
       "      <th>8</th>\n",
       "      <td>1100768262</td>\n",
       "      <td>1.603346e+06</td>\n",
       "    </tr>\n",
       "    <tr>\n",
       "      <th>9</th>\n",
       "      <td>1101218501</td>\n",
       "      <td>7.052756e+05</td>\n",
       "    </tr>\n",
       "  </tbody>\n",
       "</table>\n",
       "</div>"
      ],
      "text/plain": [
       "      sell_id         price\n",
       "0  1100575026  5.786743e+05\n",
       "1  1100549428  9.333151e+05\n",
       "2  1100658222  8.991723e+05\n",
       "3  1100937408  6.971999e+05\n",
       "4  1101037972  6.640893e+05\n",
       "5  1100912634  6.937853e+05\n",
       "6  1101228730  6.047455e+05\n",
       "7  1100165896  3.868159e+05\n",
       "8  1100768262  1.603346e+06\n",
       "9  1101218501  7.052756e+05"
      ]
     },
     "execution_count": 70,
     "metadata": {},
     "output_type": "execute_result"
    }
   ],
   "source": [
    "sample_submission['price'] = predict_submission\n",
    "#sample_submission.to_csv(f'submission_2_v{VERSION}.csv', index=False)\n",
    "sample_submission.to_csv('submission.csv', index=False)\n",
    "sample_submission.head(10)"
   ]
  },
  {
   "cell_type": "markdown",
   "metadata": {
    "papermill": {
     "duration": 0.116622,
     "end_time": "2022-02-16T11:49:55.068625",
     "exception": false,
     "start_time": "2022-02-16T11:49:54.952003",
     "status": "completed"
    },
    "tags": []
   },
   "source": [
    "# Заключение\n",
    "\n",
    "В ходе выполнения задания была создана модель предсказания стоимости автомобиля по его характеристикам.\n",
    "\n",
    "Лучшим из рассмотренных себя проявил стекинг-алгоритм моделей случайного леса и экстремальных деревьев с обобщающей моделью линейной регрессии.\n",
    "\n",
    "При наличии бОльшего запаса времени интересно было бы попробовать в стекинге классификаторы (с таргетом ценовой категории \"дешевый\", \"средний\", ... , \"эксклюзив\"), а также кластеризацию."
   ]
  }
 ],
 "metadata": {
  "kernelspec": {
   "display_name": "Python 3",
   "language": "python",
   "name": "python3"
  },
  "language_info": {
   "codemirror_mode": {
    "name": "ipython",
    "version": 3
   },
   "file_extension": ".py",
   "mimetype": "text/x-python",
   "name": "python",
   "nbconvert_exporter": "python",
   "pygments_lexer": "ipython3",
   "version": "3.7.6"
  },
  "papermill": {
   "duration": 1462.513226,
   "end_time": "2022-02-16T11:49:55.495765",
   "environment_variables": {},
   "exception": null,
   "input_path": "__notebook__.ipynb",
   "output_path": "__notebook__.ipynb",
   "parameters": {},
   "start_time": "2022-02-16T11:25:32.982539",
   "version": "2.1.0"
  }
 },
 "nbformat": 4,
 "nbformat_minor": 4
}

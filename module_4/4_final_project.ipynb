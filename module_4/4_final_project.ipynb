{
 "cells": [
  {
   "cell_type": "markdown",
   "id": "830c42fa",
   "metadata": {},
   "source": [
    "<a id='8'></a> \n",
    "# Описание проекта \"Авиарейсы без потерь\".\n",
    "\n",
    "## Цель проекта.\n",
    "\n",
    "Определение убыточных авиарейсов из города Анапы на основе датасета полетов за 2017 год.\n",
    "\n",
    "## Задачи проекта.\n",
    "\n",
    "Для достижения поставленной цели необходимым видится решение следующих задач:\n",
    "\n",
    "<a href='#1'>Введение.\n",
    "\n",
    "<a href='#2'>2. Первичный осмотр данных.\n",
    "\n",
    "<a href='#3'>3. Анализ рисков дополнительных расходов.\n",
    "    \n",
    "<a href='#4'>4. Определение расходов.\n",
    "    \n",
    "<a href='#5'>5. Определение малоприбыльных рейсов.\n",
    "\n",
    "<a href='#6'>Вывод.\n"
   ]
  },
  {
   "cell_type": "markdown",
   "id": "ce9be21d",
   "metadata": {},
   "source": [
    "<a id='1'></a> \n",
    "### Введение\n",
    "\n",
    "В качестве метрики, по которой будем судить о малоприбыльности будем считать рентабельность продаж - отношение чистой прибыли к выручке.\n",
    "\n",
    "Установим порог рентабельности довольно высоким - 40%, ввиду того, что у нас отсутствуют данные о себестоимости лизинга, расходов на аэронавигацию и административный персонал. Все вышеперечисленные данные являются коммерческой тайной и не попадают в открытый доступ.\n",
    "\n",
    "Чистая прибыль представляет собой выручку - расходы."
   ]
  },
  {
   "cell_type": "markdown",
   "id": "33b052fb",
   "metadata": {},
   "source": [
    "#### Загрузка билиотек и установка форматов."
   ]
  },
  {
   "cell_type": "code",
   "execution_count": 1,
   "id": "f3cb8b36",
   "metadata": {},
   "outputs": [],
   "source": [
    "import pandas as pd\n",
    "import numpy as np\n",
    "import matplotlib.pyplot as plt\n",
    "import seaborn as sns\n",
    "pd.options.display.float_format ='{:,.2f}'.format\n",
    "import warnings\n",
    "warnings.simplefilter('ignore')\n",
    "\n",
    "# Добавим метод чтобы красиво отобржать текст\n",
    "from IPython.display import Markdown, display\n",
    "\n",
    "def printmd(string):\n",
    "    display(Markdown(string))"
   ]
  },
  {
   "cell_type": "markdown",
   "id": "6c5de053",
   "metadata": {},
   "source": [
    "#### Загрузка датасета."
   ]
  },
  {
   "cell_type": "code",
   "execution_count": 2,
   "id": "2e52029e",
   "metadata": {},
   "outputs": [],
   "source": [
    "#Загружаем датасет\n",
    "#data = pd.read_csv(r'C:\\Users\\lsdes\\YandexDisk\\SkillFactory\\module_4\\final_proj\\result.csv')\n",
    "data = pd.read_csv(r'C:\\Users\\Alex\\YandexDisk\\SkillFactory\\module_4\\final_proj\\result.csv')"
   ]
  },
  {
   "cell_type": "markdown",
   "id": "588cc4a0",
   "metadata": {},
   "source": [
    "#### Преобразование столбцов с датой."
   ]
  },
  {
   "cell_type": "code",
   "execution_count": 3,
   "id": "ca1f8eba",
   "metadata": {},
   "outputs": [],
   "source": [
    "#Преобразование столбцов с датой из str в datetime\n",
    "datetime_col = ['scheduled_departure','actual_departure']\n",
    "for col in datetime_col:\n",
    "    data[col] = pd.to_datetime(data[col])"
   ]
  },
  {
   "cell_type": "markdown",
   "id": "20c62296",
   "metadata": {},
   "source": [
    "#### Преобразование времени полета в количество часов."
   ]
  },
  {
   "cell_type": "code",
   "execution_count": 4,
   "id": "3c479589",
   "metadata": {},
   "outputs": [],
   "source": [
    "#Преобразуем значение параметра flight_time - \n",
    "#в челочисленный, содержащий количество часов, округленное в бОльшую сторону\n",
    "def flight_time_conv(flight_time):\n",
    "    #разделим строку по пробелам. 6 - элемент часы, 8 - элемент минуты.\n",
    "    time = flight_time.split(' ')\n",
    "    \n",
    "    #Если есть хотя бы 1 минута, округляем в большую сторону\n",
    "    if int(time[8])>0: return int(time[6]) + 1\n",
    "    else: return int(time[6])\n",
    "\n",
    "#Время полета в часах сохраним в столбце flight_time_hours\n",
    "data['flight_time_hours'] = data['flight_time'].apply(flight_time_conv)"
   ]
  },
  {
   "cell_type": "markdown",
   "id": "4eab944f",
   "metadata": {},
   "source": [
    "<a id='2'></a> \n",
    "### 2. Первичный осмотр данных."
   ]
  },
  {
   "cell_type": "code",
   "execution_count": 5,
   "id": "2c8fc227",
   "metadata": {
    "scrolled": true
   },
   "outputs": [
    {
     "data": {
      "text/html": [
       "<div>\n",
       "<style scoped>\n",
       "    .dataframe tbody tr th:only-of-type {\n",
       "        vertical-align: middle;\n",
       "    }\n",
       "\n",
       "    .dataframe tbody tr th {\n",
       "        vertical-align: top;\n",
       "    }\n",
       "\n",
       "    .dataframe thead th {\n",
       "        text-align: right;\n",
       "    }\n",
       "</style>\n",
       "<table border=\"1\" class=\"dataframe\">\n",
       "  <thead>\n",
       "    <tr style=\"text-align: right;\">\n",
       "      <th></th>\n",
       "      <th>flight_id</th>\n",
       "      <th>flight_no</th>\n",
       "      <th>scheduled_departure</th>\n",
       "      <th>actual_departure</th>\n",
       "      <th>flight_time</th>\n",
       "      <th>departure_city</th>\n",
       "      <th>arrival_city</th>\n",
       "      <th>distance</th>\n",
       "      <th>model</th>\n",
       "      <th>sold_seat_eco</th>\n",
       "      <th>sold_seat_bus</th>\n",
       "      <th>total_amount</th>\n",
       "      <th>flight_time_hours</th>\n",
       "    </tr>\n",
       "  </thead>\n",
       "  <tbody>\n",
       "    <tr>\n",
       "      <th>0</th>\n",
       "      <td>41246</td>\n",
       "      <td>PG0251</td>\n",
       "      <td>2017-01-31 15:05:00+00:00</td>\n",
       "      <td>2017-01-31 15:08:00+00:00</td>\n",
       "      <td>0 years 0 mons 0 days 1 hours 40 mins 0.00 secs</td>\n",
       "      <td>Moscow</td>\n",
       "      <td>Anapa</td>\n",
       "      <td>1,219.06</td>\n",
       "      <td>Boeing 737-300</td>\n",
       "      <td>102</td>\n",
       "      <td>11</td>\n",
       "      <td>1,654,200.00</td>\n",
       "      <td>2</td>\n",
       "    </tr>\n",
       "    <tr>\n",
       "      <th>1</th>\n",
       "      <td>41250</td>\n",
       "      <td>PG0251</td>\n",
       "      <td>2017-02-05 15:05:00+00:00</td>\n",
       "      <td>2017-02-05 15:13:00+00:00</td>\n",
       "      <td>0 years 0 mons 0 days 1 hours 43 mins 0.00 secs</td>\n",
       "      <td>Moscow</td>\n",
       "      <td>Anapa</td>\n",
       "      <td>1,219.06</td>\n",
       "      <td>Boeing 737-300</td>\n",
       "      <td>105</td>\n",
       "      <td>10</td>\n",
       "      <td>1,654,200.00</td>\n",
       "      <td>2</td>\n",
       "    </tr>\n",
       "    <tr>\n",
       "      <th>2</th>\n",
       "      <td>41253</td>\n",
       "      <td>PG0251</td>\n",
       "      <td>2017-02-01 15:05:00+00:00</td>\n",
       "      <td>2017-02-01 15:09:00+00:00</td>\n",
       "      <td>0 years 0 mons 0 days 1 hours 40 mins 0.00 secs</td>\n",
       "      <td>Moscow</td>\n",
       "      <td>Anapa</td>\n",
       "      <td>1,219.06</td>\n",
       "      <td>Boeing 737-300</td>\n",
       "      <td>103</td>\n",
       "      <td>12</td>\n",
       "      <td>1,703,000.00</td>\n",
       "      <td>2</td>\n",
       "    </tr>\n",
       "    <tr>\n",
       "      <th>3</th>\n",
       "      <td>41258</td>\n",
       "      <td>PG0251</td>\n",
       "      <td>2017-02-04 15:05:00+00:00</td>\n",
       "      <td>2017-02-04 15:12:00+00:00</td>\n",
       "      <td>0 years 0 mons 0 days 1 hours 40 mins 0.00 secs</td>\n",
       "      <td>Moscow</td>\n",
       "      <td>Anapa</td>\n",
       "      <td>1,219.06</td>\n",
       "      <td>Boeing 737-300</td>\n",
       "      <td>97</td>\n",
       "      <td>10</td>\n",
       "      <td>1,555,400.00</td>\n",
       "      <td>2</td>\n",
       "    </tr>\n",
       "    <tr>\n",
       "      <th>4</th>\n",
       "      <td>41259</td>\n",
       "      <td>PG0251</td>\n",
       "      <td>2017-02-03 15:05:00+00:00</td>\n",
       "      <td>2017-02-03 15:09:00+00:00</td>\n",
       "      <td>0 years 0 mons 0 days 1 hours 40 mins 0.00 secs</td>\n",
       "      <td>Moscow</td>\n",
       "      <td>Anapa</td>\n",
       "      <td>1,219.06</td>\n",
       "      <td>Boeing 737-300</td>\n",
       "      <td>102</td>\n",
       "      <td>10</td>\n",
       "      <td>1,617,600.00</td>\n",
       "      <td>2</td>\n",
       "    </tr>\n",
       "  </tbody>\n",
       "</table>\n",
       "</div>"
      ],
      "text/plain": [
       "   flight_id flight_no       scheduled_departure          actual_departure  \\\n",
       "0      41246    PG0251 2017-01-31 15:05:00+00:00 2017-01-31 15:08:00+00:00   \n",
       "1      41250    PG0251 2017-02-05 15:05:00+00:00 2017-02-05 15:13:00+00:00   \n",
       "2      41253    PG0251 2017-02-01 15:05:00+00:00 2017-02-01 15:09:00+00:00   \n",
       "3      41258    PG0251 2017-02-04 15:05:00+00:00 2017-02-04 15:12:00+00:00   \n",
       "4      41259    PG0251 2017-02-03 15:05:00+00:00 2017-02-03 15:09:00+00:00   \n",
       "\n",
       "                                       flight_time departure_city  \\\n",
       "0  0 years 0 mons 0 days 1 hours 40 mins 0.00 secs         Moscow   \n",
       "1  0 years 0 mons 0 days 1 hours 43 mins 0.00 secs         Moscow   \n",
       "2  0 years 0 mons 0 days 1 hours 40 mins 0.00 secs         Moscow   \n",
       "3  0 years 0 mons 0 days 1 hours 40 mins 0.00 secs         Moscow   \n",
       "4  0 years 0 mons 0 days 1 hours 40 mins 0.00 secs         Moscow   \n",
       "\n",
       "  arrival_city  distance           model  sold_seat_eco  sold_seat_bus  \\\n",
       "0        Anapa  1,219.06  Boeing 737-300            102             11   \n",
       "1        Anapa  1,219.06  Boeing 737-300            105             10   \n",
       "2        Anapa  1,219.06  Boeing 737-300            103             12   \n",
       "3        Anapa  1,219.06  Boeing 737-300             97             10   \n",
       "4        Anapa  1,219.06  Boeing 737-300            102             10   \n",
       "\n",
       "   total_amount  flight_time_hours  \n",
       "0  1,654,200.00                  2  \n",
       "1  1,654,200.00                  2  \n",
       "2  1,703,000.00                  2  \n",
       "3  1,555,400.00                  2  \n",
       "4  1,617,600.00                  2  "
      ]
     },
     "execution_count": 5,
     "metadata": {},
     "output_type": "execute_result"
    }
   ],
   "source": [
    "data.head()"
   ]
  },
  {
   "cell_type": "code",
   "execution_count": 6,
   "id": "751a8044",
   "metadata": {},
   "outputs": [
    {
     "name": "stdout",
     "output_type": "stream",
     "text": [
      "<class 'pandas.core.frame.DataFrame'>\n",
      "RangeIndex: 236 entries, 0 to 235\n",
      "Data columns (total 13 columns):\n",
      " #   Column               Non-Null Count  Dtype              \n",
      "---  ------               --------------  -----              \n",
      " 0   flight_id            236 non-null    int64              \n",
      " 1   flight_no            236 non-null    object             \n",
      " 2   scheduled_departure  236 non-null    datetime64[ns, UTC]\n",
      " 3   actual_departure     236 non-null    datetime64[ns, UTC]\n",
      " 4   flight_time          236 non-null    object             \n",
      " 5   departure_city       236 non-null    object             \n",
      " 6   arrival_city         236 non-null    object             \n",
      " 7   distance             236 non-null    float64            \n",
      " 8   model                236 non-null    object             \n",
      " 9   sold_seat_eco        236 non-null    int64              \n",
      " 10  sold_seat_bus        236 non-null    int64              \n",
      " 11  total_amount         236 non-null    float64            \n",
      " 12  flight_time_hours    236 non-null    int64              \n",
      "dtypes: datetime64[ns, UTC](2), float64(2), int64(4), object(5)\n",
      "memory usage: 24.1+ KB\n"
     ]
    }
   ],
   "source": [
    "data.info()"
   ]
  },
  {
   "cell_type": "markdown",
   "id": "766da74e",
   "metadata": {},
   "source": [
    "В датасете содержится 236 записей об авиарейсах из/в Анапу. Пропусков нет.\n",
    "6 столбцов содержат числовые данные, 5 - строковые или иные, 2 - дата_время."
   ]
  },
  {
   "cell_type": "markdown",
   "id": "48db5467",
   "metadata": {},
   "source": [
    "<a id='3'></a> \n",
    "### 3. Анализ рисков дополнительных расходов.\n",
    "\n",
    "К рискам дополнительных расходов можно отнести задержку вылета и риск недостаточного спроса. "
   ]
  },
  {
   "cell_type": "markdown",
   "id": "f85fdef1",
   "metadata": {},
   "source": [
    "#### 3.1. Задержки вылета.\n",
    "\n",
    "При задержке вылета более 4 часа (240 минут) перевозчик обязан предоставить пассажирам горячее питание, кроме того, дополнительное время нахождения борта повлечет расходы на обслуживание аэропорта."
   ]
  },
  {
   "cell_type": "code",
   "execution_count": 7,
   "id": "40c6ea2a",
   "metadata": {},
   "outputs": [],
   "source": [
    "data['delay_preiod'] = round((data.actual_departure - data.scheduled_departure).dt.total_seconds()/60,0)"
   ]
  },
  {
   "cell_type": "markdown",
   "id": "1de70fb7",
   "metadata": {},
   "source": [
    "Определим, какое количество рейсов задержалось на срок более 4 часов (240 минут). Данные рейсы могли стать источником дополнительных расходов."
   ]
  },
  {
   "cell_type": "code",
   "execution_count": 8,
   "id": "2c8822d8",
   "metadata": {},
   "outputs": [
    {
     "data": {
      "text/plain": [
       "0"
      ]
     },
     "execution_count": 8,
     "metadata": {},
     "output_type": "execute_result"
    }
   ],
   "source": [
    "data[data['delay_preiod'] > 240]['flight_id'].count()"
   ]
  },
  {
   "cell_type": "markdown",
   "id": "a66365dc",
   "metadata": {},
   "source": [
    "Рейсов с задержкой более 4 часов в датасете нет. Рисков, связанных с дополнительными расходами из-за задержки рейсов нет. "
   ]
  },
  {
   "cell_type": "markdown",
   "id": "d6e9b2cd",
   "metadata": {},
   "source": [
    "<a id='4'></a> \n",
    "### 4. Определение расходов."
   ]
  },
  {
   "cell_type": "markdown",
   "id": "d3dd401a",
   "metadata": {},
   "source": [
    "Общая сумма расходов будет складываться из:\n",
    "- Стоимость топлива\n",
    "- Расходы на обслуживание аэропорта\n",
    "- Заработная плата экипажа"
   ]
  },
  {
   "cell_type": "markdown",
   "id": "803d655e",
   "metadata": {},
   "source": [
    "#### Стоимость топлива.\n",
    "Расход топлива зависит от модели воздушного судна. Определим, какие модели летали из/в Анапу."
   ]
  },
  {
   "cell_type": "code",
   "execution_count": 9,
   "id": "1317a3e6",
   "metadata": {},
   "outputs": [
    {
     "data": {
      "text/plain": [
       "array(['Boeing 737-300', 'Sukhoi Superjet-100'], dtype=object)"
      ]
     },
     "execution_count": 9,
     "metadata": {},
     "output_type": "execute_result"
    }
   ],
   "source": [
    "data['model'].unique()"
   ]
  },
  {
   "cell_type": "markdown",
   "id": "dc87ce04",
   "metadata": {},
   "source": [
    "В датасете представлено две модели.\n",
    "По данным Wiki (https://en.wikipedia.org/wiki/Fuel_economy_in_aircraft) расход топлива для Boeing 737-300 составляет 3.49 кг/км, а для Sukhoi Superjet-100 - 2.81 кг/км.\n",
    "Внесем эти значения в параметр fuel_consumption."
   ]
  },
  {
   "cell_type": "code",
   "execution_count": 10,
   "id": "d253c68b",
   "metadata": {},
   "outputs": [],
   "source": [
    "data['fuel_consumption'] = data['model'].apply(lambda x: 3.49 if x == 'Boeing 737-300' else 2.81)"
   ]
  },
  {
   "cell_type": "markdown",
   "id": "34385ab4",
   "metadata": {},
   "source": [
    "\n",
    "Поскольку направление рейсов разное, будем использовать цену аваиционного керосина при заправке в городе Анапа. Стоимость возьмем из данных Ростата за август 2017 года (https://favt.gov.ru/public/materials/a/1/f/1/6/a1f1621a3625b71cc32d275d5b7f8b0b.pdf) ~ 42 т.р. за тонну.\n",
    "\n",
    "Итоговые расходы на топливо получим по формуле: (дистанция / расход) * стоиомость."
   ]
  },
  {
   "cell_type": "code",
   "execution_count": 11,
   "id": "83850836",
   "metadata": {},
   "outputs": [],
   "source": [
    "data['fuel_cost'] = (data['distance'] / data['fuel_consumption']/1000) * 42000"
   ]
  },
  {
   "cell_type": "markdown",
   "id": "e40226ab",
   "metadata": {},
   "source": [
    "#### Обслуживание аэропорта.\n",
    "\n",
    "По данным из нескольких источников, стоимость обслуживания борта в аэропорту зависит от города. Итоговая сумма варьируется от 40 до 100 т.р. Возьмем среднее значение 70 т.р. + противооблединительная обработка 1300$ или 90 т.р.\n",
    "Отдельно считаем обслуживание пассажиров в аэропорту. Расходы на пассажира эконом класса в среднем составляют 1000 р. на человека (прохождение регистрации, досмотра, подача трапа и т.д.), бизнес - 12000 р. на человека (VIP-зал, приоритетное обслуживание и т.п.).\n",
    "Итоговую сумму сбора аэропорта внесем в столбец 'airport_service_cost'"
   ]
  },
  {
   "cell_type": "code",
   "execution_count": 12,
   "id": "a6ed4b7d",
   "metadata": {},
   "outputs": [],
   "source": [
    "data['airport_service_cost'] = data['sold_seat_eco']*1000 + data['sold_seat_bus']*12000 + 70000 + 90000"
   ]
  },
  {
   "cell_type": "markdown",
   "id": "4829845d",
   "metadata": {},
   "source": [
    "#### Оплата услуг экипажа\n",
    "\n",
    "В экипаж входят пилоты и борт-проводники. На всех современных авиалайнерах присутствуют по 2 пилота. Количество борт-проводников зависит от типа самолета. Для присутсвующих в датасете Boeing 737-300 - это 5 человек, для Sukhoi Superjet-100 - 4.\n",
    "Средняя заработная плата пилота 250 т.р. на руки при 160 часах в месяц.\n",
    "Средняя заработная плата борт-проводника 140 т.р. на руки при 160 часах в месяц.\n",
    "\n",
    "Напишем функцию для подсчета стоимости расходов на экипаж в зависимости от модели самолета и времени полета."
   ]
  },
  {
   "cell_type": "code",
   "execution_count": 13,
   "id": "bcfe0fea",
   "metadata": {},
   "outputs": [],
   "source": [
    "def crew_cost(airplane_model, flight_time):\n",
    "    \"\"\"Подсчет расходов на оплату экипажа. Вход: airplane_model - модель самолета, flight_time - время полета. \n",
    "       Выход - стоимость в рублях\"\"\"\n",
    "    \n",
    "    #steward_num - количество борт-проводников\n",
    "    steward_num = 0\n",
    "    if airplane_model == 'Boeing 737-300': steward_num = 5\n",
    "    elif airplane_model == 'Sukhoi Superjet-100': steward_num = 4\n",
    "            \n",
    "    pilot_num = 2\n",
    "    \n",
    "    #pilot_salary - зарплата пилота на руки\n",
    "    #steward_salary - зарплата борт-проводника на руки\n",
    "    pilot_salary = 250000\n",
    "    steward_salary = 140000\n",
    "    \n",
    "    #work_hours_month - количество рабочих часов в месяц\n",
    "    work_hours_month = 160\n",
    "    \n",
    "    #общая стоимость всех рахсодов на содержание экипажа. \n",
    "    #(Месячные расходы на экипаж с учетом налогов / количество рабочих часов ) * время полета+2часа \n",
    "                                                                        #на подгтовку рейса и постпосадочные процедуры.\n",
    "    month_crew_cost = ((pilot_salary*pilot_num + steward_salary*steward_num)/(0.87*0.74))/work_hours_month*(flight_time+2)\n",
    "    \n",
    "    return(month_crew_cost)\n",
    "    \n"
   ]
  },
  {
   "cell_type": "markdown",
   "id": "3f03fa71",
   "metadata": {},
   "source": [
    "Вычислим затраты на экипаж и поместим значение в столбец crew_cost."
   ]
  },
  {
   "cell_type": "code",
   "execution_count": 14,
   "id": "7e137b0f",
   "metadata": {},
   "outputs": [],
   "source": [
    "data['crew_cost'] = data.apply(lambda x: crew_cost(x.model,x.flight_time_hours), axis=1)"
   ]
  },
  {
   "cell_type": "markdown",
   "id": "4f1a01f2",
   "metadata": {},
   "source": [
    "<a id='5'></a> \n",
    "### 5. Определение малоприбыльных рейсов.\n",
    "\n",
    "Вычислим рентабельность продаж. Полученные значения запишем в столбец profit_margin."
   ]
  },
  {
   "cell_type": "code",
   "execution_count": 15,
   "id": "00b499d9",
   "metadata": {},
   "outputs": [],
   "source": [
    "data['profit_margin'] = (data['total_amount'] - data['fuel_cost'] - data['airport_service_cost'] - data['crew_cost'])\\\n",
    "    / data['total_amount']"
   ]
  },
  {
   "cell_type": "markdown",
   "id": "8f23e636",
   "metadata": {},
   "source": [
    "Изначально было решено использовать значение 40%, как порог убыточности. Определим ID рейсов, рентабельность продаж которых менее 40%."
   ]
  },
  {
   "cell_type": "code",
   "execution_count": 16,
   "id": "135ee7d5",
   "metadata": {
    "scrolled": false
   },
   "outputs": [
    {
     "data": {
      "text/html": [
       "<div>\n",
       "<style scoped>\n",
       "    .dataframe tbody tr th:only-of-type {\n",
       "        vertical-align: middle;\n",
       "    }\n",
       "\n",
       "    .dataframe tbody tr th {\n",
       "        vertical-align: top;\n",
       "    }\n",
       "\n",
       "    .dataframe thead th {\n",
       "        text-align: right;\n",
       "    }\n",
       "</style>\n",
       "<table border=\"1\" class=\"dataframe\">\n",
       "  <thead>\n",
       "    <tr style=\"text-align: right;\">\n",
       "      <th></th>\n",
       "      <th>flight_id</th>\n",
       "      <th>departure_city</th>\n",
       "      <th>arrival_city</th>\n",
       "      <th>scheduled_departure</th>\n",
       "    </tr>\n",
       "  </thead>\n",
       "  <tbody>\n",
       "    <tr>\n",
       "      <th>122</th>\n",
       "      <td>136609</td>\n",
       "      <td>Anapa</td>\n",
       "      <td>Belgorod</td>\n",
       "      <td>2017-01-08 09:25:00+00:00</td>\n",
       "    </tr>\n",
       "    <tr>\n",
       "      <th>124</th>\n",
       "      <td>136620</td>\n",
       "      <td>Anapa</td>\n",
       "      <td>Belgorod</td>\n",
       "      <td>2017-02-17 09:25:00+00:00</td>\n",
       "    </tr>\n",
       "    <tr>\n",
       "      <th>127</th>\n",
       "      <td>136642</td>\n",
       "      <td>Anapa</td>\n",
       "      <td>Belgorod</td>\n",
       "      <td>2017-01-30 09:25:00+00:00</td>\n",
       "    </tr>\n",
       "    <tr>\n",
       "      <th>128</th>\n",
       "      <td>136645</td>\n",
       "      <td>Anapa</td>\n",
       "      <td>Belgorod</td>\n",
       "      <td>2017-01-05 09:25:00+00:00</td>\n",
       "    </tr>\n",
       "    <tr>\n",
       "      <th>136</th>\n",
       "      <td>136678</td>\n",
       "      <td>Anapa</td>\n",
       "      <td>Belgorod</td>\n",
       "      <td>2017-01-28 09:25:00+00:00</td>\n",
       "    </tr>\n",
       "    <tr>\n",
       "      <th>146</th>\n",
       "      <td>136767</td>\n",
       "      <td>Anapa</td>\n",
       "      <td>Belgorod</td>\n",
       "      <td>2017-01-23 09:25:00+00:00</td>\n",
       "    </tr>\n",
       "    <tr>\n",
       "      <th>152</th>\n",
       "      <td>136807</td>\n",
       "      <td>Anapa</td>\n",
       "      <td>Belgorod</td>\n",
       "      <td>2017-02-23 09:25:00+00:00</td>\n",
       "    </tr>\n",
       "    <tr>\n",
       "      <th>155</th>\n",
       "      <td>136823</td>\n",
       "      <td>Anapa</td>\n",
       "      <td>Belgorod</td>\n",
       "      <td>2017-02-05 09:25:00+00:00</td>\n",
       "    </tr>\n",
       "    <tr>\n",
       "      <th>159</th>\n",
       "      <td>136844</td>\n",
       "      <td>Anapa</td>\n",
       "      <td>Belgorod</td>\n",
       "      <td>2017-02-28 09:25:00+00:00</td>\n",
       "    </tr>\n",
       "    <tr>\n",
       "      <th>166</th>\n",
       "      <td>136887</td>\n",
       "      <td>Anapa</td>\n",
       "      <td>Belgorod</td>\n",
       "      <td>2017-01-20 09:25:00+00:00</td>\n",
       "    </tr>\n",
       "    <tr>\n",
       "      <th>167</th>\n",
       "      <td>136888</td>\n",
       "      <td>Anapa</td>\n",
       "      <td>Belgorod</td>\n",
       "      <td>2017-02-14 09:25:00+00:00</td>\n",
       "    </tr>\n",
       "    <tr>\n",
       "      <th>170</th>\n",
       "      <td>136922</td>\n",
       "      <td>Anapa</td>\n",
       "      <td>Belgorod</td>\n",
       "      <td>2017-02-11 09:25:00+00:00</td>\n",
       "    </tr>\n",
       "    <tr>\n",
       "      <th>172</th>\n",
       "      <td>136936</td>\n",
       "      <td>Anapa</td>\n",
       "      <td>Belgorod</td>\n",
       "      <td>2017-01-02 09:25:00+00:00</td>\n",
       "    </tr>\n",
       "    <tr>\n",
       "      <th>173</th>\n",
       "      <td>136937</td>\n",
       "      <td>Anapa</td>\n",
       "      <td>Belgorod</td>\n",
       "      <td>2017-01-03 09:25:00+00:00</td>\n",
       "    </tr>\n",
       "    <tr>\n",
       "      <th>181</th>\n",
       "      <td>202546</td>\n",
       "      <td>Belgorod</td>\n",
       "      <td>Anapa</td>\n",
       "      <td>2017-02-20 10:00:00+00:00</td>\n",
       "    </tr>\n",
       "    <tr>\n",
       "      <th>196</th>\n",
       "      <td>202640</td>\n",
       "      <td>Belgorod</td>\n",
       "      <td>Anapa</td>\n",
       "      <td>2017-01-08 10:00:00+00:00</td>\n",
       "    </tr>\n",
       "  </tbody>\n",
       "</table>\n",
       "</div>"
      ],
      "text/plain": [
       "     flight_id departure_city arrival_city       scheduled_departure\n",
       "122     136609          Anapa     Belgorod 2017-01-08 09:25:00+00:00\n",
       "124     136620          Anapa     Belgorod 2017-02-17 09:25:00+00:00\n",
       "127     136642          Anapa     Belgorod 2017-01-30 09:25:00+00:00\n",
       "128     136645          Anapa     Belgorod 2017-01-05 09:25:00+00:00\n",
       "136     136678          Anapa     Belgorod 2017-01-28 09:25:00+00:00\n",
       "146     136767          Anapa     Belgorod 2017-01-23 09:25:00+00:00\n",
       "152     136807          Anapa     Belgorod 2017-02-23 09:25:00+00:00\n",
       "155     136823          Anapa     Belgorod 2017-02-05 09:25:00+00:00\n",
       "159     136844          Anapa     Belgorod 2017-02-28 09:25:00+00:00\n",
       "166     136887          Anapa     Belgorod 2017-01-20 09:25:00+00:00\n",
       "167     136888          Anapa     Belgorod 2017-02-14 09:25:00+00:00\n",
       "170     136922          Anapa     Belgorod 2017-02-11 09:25:00+00:00\n",
       "172     136936          Anapa     Belgorod 2017-01-02 09:25:00+00:00\n",
       "173     136937          Anapa     Belgorod 2017-01-03 09:25:00+00:00\n",
       "181     202546       Belgorod        Anapa 2017-02-20 10:00:00+00:00\n",
       "196     202640       Belgorod        Anapa 2017-01-08 10:00:00+00:00"
      ]
     },
     "metadata": {},
     "output_type": "display_data"
    },
    {
     "name": "stdout",
     "output_type": "stream",
     "text": [
      "Итого убыточных рейсов: 16\n"
     ]
    }
   ],
   "source": [
    "display(data[data.profit_margin < 0.4][['flight_id','departure_city','arrival_city','scheduled_departure']])\n",
    "print(\"Итого убыточных рейсов:\", data[data.profit_margin < 0.4]['flight_id'].count())"
   ]
  },
  {
   "cell_type": "markdown",
   "id": "f28796d8",
   "metadata": {},
   "source": [
    "Убыточные рейсы были только из/в город Белгород.\n",
    "Определим количество убыточных рейсов относительного общего числа рейсов и отдельно по белогородскому направлению."
   ]
  },
  {
   "cell_type": "code",
   "execution_count": 17,
   "id": "06dffb18",
   "metadata": {},
   "outputs": [],
   "source": [
    "data['profit'] = data.profit_margin.apply(lambda x: 0 if x < 0.4 else 1)"
   ]
  },
  {
   "cell_type": "code",
   "execution_count": 18,
   "id": "b3e9aa25",
   "metadata": {},
   "outputs": [
    {
     "data": {
      "text/markdown": [
       "### Общее распределение убыточных и прибыльных рейсов."
      ],
      "text/plain": [
       "<IPython.core.display.Markdown object>"
      ]
     },
     "metadata": {},
     "output_type": "display_data"
    },
    {
     "data": {
      "image/png": "[encoded data removed]",
      "text/plain": [
       "<Figure size 432x360 with 1 Axes>"
      ]
     },
     "metadata": {
      "needs_background": "light"
     },
     "output_type": "display_data"
    },
    {
     "name": "stdout",
     "output_type": "stream",
     "text": [
      "Процент убыточных рейсов относительно общего числа: 7 %\n"
     ]
    }
   ],
   "source": [
    "printmd('### ' + str('Общее распределение убыточных и прибыльных рейсов.'))\n",
    "fig, ax = plt.subplots(figsize=(6, 5))\n",
    "pp = sns.countplot(data.loc[:, 'profit'], ax=ax)\n",
    "pp.axes.set_xticks([0,1])\n",
    "pp.axes.set_xticklabels(['Убыточные','Прибыльные'])\n",
    "plt.xlabel('')\n",
    "plt.ylabel('Количество шт.')\n",
    "plt.show()\n",
    "print('Процент убыточных рейсов относительно общего числа:',\\\n",
    "      round(data.groupby(['profit'])['flight_id'].count()[0]/data.groupby(['profit'])['flight_id'].count()[1]*100),\"%\")"
   ]
  },
  {
   "cell_type": "code",
   "execution_count": 19,
   "id": "69d7cb4e",
   "metadata": {},
   "outputs": [],
   "source": [
    "data_belgorod = data[(data.departure_city == 'Belgorod') | (data.arrival_city == 'Belgorod')].copy()"
   ]
  },
  {
   "cell_type": "code",
   "execution_count": 20,
   "id": "53f4019d",
   "metadata": {},
   "outputs": [
    {
     "data": {
      "text/markdown": [
       "### Распределение убыточных и прибыльных рейсов по направлению в Белгород."
      ],
      "text/plain": [
       "<IPython.core.display.Markdown object>"
      ]
     },
     "metadata": {},
     "output_type": "display_data"
    },
    {
     "data": {
      "image/png": "[encoded data removed]",
      "text/plain": [
       "<Figure size 432x360 with 1 Axes>"
      ]
     },
     "metadata": {
      "needs_background": "light"
     },
     "output_type": "display_data"
    },
    {
     "name": "stdout",
     "output_type": "stream",
     "text": [
      "Процент убыточных рейсов по белогородскому направлению: 16 %\n"
     ]
    }
   ],
   "source": [
    "printmd('### ' + str('Распределение убыточных и прибыльных рейсов по направлению в Белгород.'))\n",
    "fig, ax = plt.subplots(figsize=(6, 5))\n",
    "pp = sns.countplot(data_belgorod.loc[:, 'profit'], ax=ax)\n",
    "pp.axes.set_xticks([0,1])\n",
    "pp.axes.set_xticklabels(['Убыточные','Прибыльные'])\n",
    "plt.xlabel('')\n",
    "plt.ylabel('Количество шт.')\n",
    "plt.show()\n",
    "print('Процент убыточных рейсов по белогородскому направлению:',\\\n",
    "      round(data_belgorod.groupby(['profit'])['flight_id'].count()[0]/\\\n",
    "            data_belgorod.groupby(['profit'])['flight_id'].count()[1]*100),\"%\")"
   ]
  },
  {
   "cell_type": "markdown",
   "id": "2273a238",
   "metadata": {},
   "source": [
    "<a id='6'></a> \n",
    "### Вывод.\n",
    "\n",
    "Вычислив сумму доходов и расходов, связанных с авиарейсами, удалось определить, какие рейсы в 2017 году были малоприбыльными. Убыточным оказалось направление в город Белгород. 16 процентов рейсов по данному направлению не принесли должного уровня прибыли.\n",
    "Список убыточных рейсов еще раз продублирован ниже."
   ]
  },
  {
   "cell_type": "code",
   "execution_count": 21,
   "id": "46d929ae",
   "metadata": {},
   "outputs": [
    {
     "data": {
      "text/html": [
       "<div>\n",
       "<style scoped>\n",
       "    .dataframe tbody tr th:only-of-type {\n",
       "        vertical-align: middle;\n",
       "    }\n",
       "\n",
       "    .dataframe tbody tr th {\n",
       "        vertical-align: top;\n",
       "    }\n",
       "\n",
       "    .dataframe thead th {\n",
       "        text-align: right;\n",
       "    }\n",
       "</style>\n",
       "<table border=\"1\" class=\"dataframe\">\n",
       "  <thead>\n",
       "    <tr style=\"text-align: right;\">\n",
       "      <th></th>\n",
       "      <th>flight_id</th>\n",
       "      <th>flight_no</th>\n",
       "      <th>departure_city</th>\n",
       "      <th>arrival_city</th>\n",
       "      <th>scheduled_departure</th>\n",
       "    </tr>\n",
       "  </thead>\n",
       "  <tbody>\n",
       "    <tr>\n",
       "      <th>122</th>\n",
       "      <td>136609</td>\n",
       "      <td>PG0480</td>\n",
       "      <td>Anapa</td>\n",
       "      <td>Belgorod</td>\n",
       "      <td>2017-01-08 09:25:00+00:00</td>\n",
       "    </tr>\n",
       "    <tr>\n",
       "      <th>124</th>\n",
       "      <td>136620</td>\n",
       "      <td>PG0480</td>\n",
       "      <td>Anapa</td>\n",
       "      <td>Belgorod</td>\n",
       "      <td>2017-02-17 09:25:00+00:00</td>\n",
       "    </tr>\n",
       "    <tr>\n",
       "      <th>127</th>\n",
       "      <td>136642</td>\n",
       "      <td>PG0480</td>\n",
       "      <td>Anapa</td>\n",
       "      <td>Belgorod</td>\n",
       "      <td>2017-01-30 09:25:00+00:00</td>\n",
       "    </tr>\n",
       "    <tr>\n",
       "      <th>128</th>\n",
       "      <td>136645</td>\n",
       "      <td>PG0480</td>\n",
       "      <td>Anapa</td>\n",
       "      <td>Belgorod</td>\n",
       "      <td>2017-01-05 09:25:00+00:00</td>\n",
       "    </tr>\n",
       "    <tr>\n",
       "      <th>136</th>\n",
       "      <td>136678</td>\n",
       "      <td>PG0480</td>\n",
       "      <td>Anapa</td>\n",
       "      <td>Belgorod</td>\n",
       "      <td>2017-01-28 09:25:00+00:00</td>\n",
       "    </tr>\n",
       "    <tr>\n",
       "      <th>146</th>\n",
       "      <td>136767</td>\n",
       "      <td>PG0480</td>\n",
       "      <td>Anapa</td>\n",
       "      <td>Belgorod</td>\n",
       "      <td>2017-01-23 09:25:00+00:00</td>\n",
       "    </tr>\n",
       "    <tr>\n",
       "      <th>152</th>\n",
       "      <td>136807</td>\n",
       "      <td>PG0480</td>\n",
       "      <td>Anapa</td>\n",
       "      <td>Belgorod</td>\n",
       "      <td>2017-02-23 09:25:00+00:00</td>\n",
       "    </tr>\n",
       "    <tr>\n",
       "      <th>155</th>\n",
       "      <td>136823</td>\n",
       "      <td>PG0480</td>\n",
       "      <td>Anapa</td>\n",
       "      <td>Belgorod</td>\n",
       "      <td>2017-02-05 09:25:00+00:00</td>\n",
       "    </tr>\n",
       "    <tr>\n",
       "      <th>159</th>\n",
       "      <td>136844</td>\n",
       "      <td>PG0480</td>\n",
       "      <td>Anapa</td>\n",
       "      <td>Belgorod</td>\n",
       "      <td>2017-02-28 09:25:00+00:00</td>\n",
       "    </tr>\n",
       "    <tr>\n",
       "      <th>166</th>\n",
       "      <td>136887</td>\n",
       "      <td>PG0480</td>\n",
       "      <td>Anapa</td>\n",
       "      <td>Belgorod</td>\n",
       "      <td>2017-01-20 09:25:00+00:00</td>\n",
       "    </tr>\n",
       "    <tr>\n",
       "      <th>167</th>\n",
       "      <td>136888</td>\n",
       "      <td>PG0480</td>\n",
       "      <td>Anapa</td>\n",
       "      <td>Belgorod</td>\n",
       "      <td>2017-02-14 09:25:00+00:00</td>\n",
       "    </tr>\n",
       "    <tr>\n",
       "      <th>170</th>\n",
       "      <td>136922</td>\n",
       "      <td>PG0480</td>\n",
       "      <td>Anapa</td>\n",
       "      <td>Belgorod</td>\n",
       "      <td>2017-02-11 09:25:00+00:00</td>\n",
       "    </tr>\n",
       "    <tr>\n",
       "      <th>172</th>\n",
       "      <td>136936</td>\n",
       "      <td>PG0480</td>\n",
       "      <td>Anapa</td>\n",
       "      <td>Belgorod</td>\n",
       "      <td>2017-01-02 09:25:00+00:00</td>\n",
       "    </tr>\n",
       "    <tr>\n",
       "      <th>173</th>\n",
       "      <td>136937</td>\n",
       "      <td>PG0480</td>\n",
       "      <td>Anapa</td>\n",
       "      <td>Belgorod</td>\n",
       "      <td>2017-01-03 09:25:00+00:00</td>\n",
       "    </tr>\n",
       "    <tr>\n",
       "      <th>181</th>\n",
       "      <td>202546</td>\n",
       "      <td>PG0481</td>\n",
       "      <td>Belgorod</td>\n",
       "      <td>Anapa</td>\n",
       "      <td>2017-02-20 10:00:00+00:00</td>\n",
       "    </tr>\n",
       "    <tr>\n",
       "      <th>196</th>\n",
       "      <td>202640</td>\n",
       "      <td>PG0481</td>\n",
       "      <td>Belgorod</td>\n",
       "      <td>Anapa</td>\n",
       "      <td>2017-01-08 10:00:00+00:00</td>\n",
       "    </tr>\n",
       "  </tbody>\n",
       "</table>\n",
       "</div>"
      ],
      "text/plain": [
       "     flight_id flight_no departure_city arrival_city       scheduled_departure\n",
       "122     136609    PG0480          Anapa     Belgorod 2017-01-08 09:25:00+00:00\n",
       "124     136620    PG0480          Anapa     Belgorod 2017-02-17 09:25:00+00:00\n",
       "127     136642    PG0480          Anapa     Belgorod 2017-01-30 09:25:00+00:00\n",
       "128     136645    PG0480          Anapa     Belgorod 2017-01-05 09:25:00+00:00\n",
       "136     136678    PG0480          Anapa     Belgorod 2017-01-28 09:25:00+00:00\n",
       "146     136767    PG0480          Anapa     Belgorod 2017-01-23 09:25:00+00:00\n",
       "152     136807    PG0480          Anapa     Belgorod 2017-02-23 09:25:00+00:00\n",
       "155     136823    PG0480          Anapa     Belgorod 2017-02-05 09:25:00+00:00\n",
       "159     136844    PG0480          Anapa     Belgorod 2017-02-28 09:25:00+00:00\n",
       "166     136887    PG0480          Anapa     Belgorod 2017-01-20 09:25:00+00:00\n",
       "167     136888    PG0480          Anapa     Belgorod 2017-02-14 09:25:00+00:00\n",
       "170     136922    PG0480          Anapa     Belgorod 2017-02-11 09:25:00+00:00\n",
       "172     136936    PG0480          Anapa     Belgorod 2017-01-02 09:25:00+00:00\n",
       "173     136937    PG0480          Anapa     Belgorod 2017-01-03 09:25:00+00:00\n",
       "181     202546    PG0481       Belgorod        Anapa 2017-02-20 10:00:00+00:00\n",
       "196     202640    PG0481       Belgorod        Anapa 2017-01-08 10:00:00+00:00"
      ]
     },
     "execution_count": 21,
     "metadata": {},
     "output_type": "execute_result"
    }
   ],
   "source": [
    "data[data.profit_margin < 0.4][['flight_id','flight_no','departure_city','arrival_city','scheduled_departure']]"
   ]
  },
  {
   "cell_type": "code",
   "execution_count": null,
   "id": "497ccec3",
   "metadata": {},
   "outputs": [],
   "source": []
  }
 ],
 "metadata": {
  "kernelspec": {
   "display_name": "Python 3",
   "language": "python",
   "name": "python3"
  },
  "language_info": {
   "codemirror_mode": {
    "name": "ipython",
    "version": 3
   },
   "file_extension": ".py",
   "mimetype": "text/x-python",
   "name": "python",
   "nbconvert_exporter": "python",
   "pygments_lexer": "ipython3",
   "version": "3.8.8"
  }
 },
 "nbformat": 4,
 "nbformat_minor": 5
}
